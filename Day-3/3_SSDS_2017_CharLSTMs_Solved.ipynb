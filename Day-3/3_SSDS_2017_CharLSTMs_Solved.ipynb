{
 "cells": [
  {
   "cell_type": "markdown",
   "metadata": {},
   "source": [
    "# Data Science Summer School - Split '17"
   ]
  },
  {
   "cell_type": "markdown",
   "metadata": {},
   "source": [
    "# 3. Character-wise language modeling with multi-layer LSTMs\n",
    "\n",
    "This hands-on session is based on two tutorial notebooks [*Intro to Recurrent Networks (Character-wise RNN)*](https://github.com/udacity/deep-learning/tree/master/intro-to-rnns) and [*Tensorboard*](https://github.com/udacity/deep-learning/tree/master/tensorboard) from Udacity's [Deep Learning Nanodegree Foundation](https://www.udacity.com/course/deep-learning-nanodegree-foundation--nd101) program.\n",
    "\n",
    "This notebook implements a multi-layer LSTMs network for training/sampling from character-level language models. The model takes a text file as input and trains the network that learns to predict the next character in a sequence. The network can then be used to generate text character by character that will look like the original training data. This network is based on Andrej Karpathy's [post on RNNs](http://karpathy.github.io/2015/05/21/rnn-effectiveness/), which became standard example for explaining peculiarities behind RNN models.\n",
    "\n",
    "In this session we will train our model on Donald Trump's tweets."
   ]
  },
  {
   "cell_type": "code",
   "execution_count": 1,
   "metadata": {
    "collapsed": true
   },
   "outputs": [],
   "source": [
    "import time\n",
    "from collections import namedtuple\n",
    "\n",
    "import numpy as np\n",
    "import tensorflow as tf\n",
    "tf.logging.set_verbosity(tf.logging.ERROR)"
   ]
  },
  {
   "cell_type": "code",
   "execution_count": 2,
   "metadata": {
    "collapsed": true
   },
   "outputs": [],
   "source": [
    "%load_ext autoreload\n",
    "%autoreload 2\n",
    "#from utils import show_graph"
   ]
  },
  {
   "cell_type": "markdown",
   "metadata": {
    "collapsed": true
   },
   "source": [
    "## 3.1 Data preparation"
   ]
  },
  {
   "cell_type": "markdown",
   "metadata": {},
   "source": [
    "### Loading and encoding text\n",
    "We have already prepared a text file with concatenated Donald Trump's tweets obtained from the [Trump Twitter Archive](http://www.trumptwitterarchive.com/). The text file is located in `PATH-TO-REPOSITORY/Day-3/assets/data/trump_tweets_ascii.txt`. First, we will load the text file, and encode its characters as integers."
   ]
  },
  {
   "cell_type": "code",
   "execution_count": 3,
   "metadata": {},
   "outputs": [
    {
     "name": "stdout",
     "output_type": "stream",
     "text": [
      "Text size: 2167951\n",
      "Vocabulary size: 92\n",
      "*******************************\n",
      "Number of tweets: 20629\n",
      "Median size of a tweet: 117.0\n"
     ]
    }
   ],
   "source": [
    "with open('assets/data/trump_tweets_ascii.txt', 'r') as f:\n",
    "    text=f.read()\n",
    "\n",
    "#get set of characters contained in the loaded text file\n",
    "vocab = sorted(set(text))\n",
    "\n",
    "#encoding characters as integers\n",
    "vocab_to_int = {c: i for i, c in enumerate(vocab)}\n",
    "encoded_chars = np.array([vocab_to_int[c] for c in text], dtype=np.int32)\n",
    "\n",
    "#make dict for decoding intergers to corresponding characters\n",
    "int_to_vocab = dict(enumerate(vocab))\n",
    "\n",
    "\n",
    "print('Text size: {}'.format(len(encoded_chars)))\n",
    "print('Vocabulary size: {}'.format(len(vocab)))\n",
    "print('*******************************')\n",
    "print('Number of tweets: {}'.format(len(text.split('\\n'))))\n",
    "print('Median size of a tweet: {}'.format(np.percentile([len(t) for t in text.split('\\n')], 50)))\n"
   ]
  },
  {
   "cell_type": "markdown",
   "metadata": {},
   "source": [
    "In the above output, we can see that the provided text file `trump_tweets_ascii.txt` contains in total 2 167 951 characters, as well as that, our character-wise model will try to 'choose' between 92 unique characters (*vocabulary size*) while predicting next character based on the previously seen text."
   ]
  },
  {
   "cell_type": "markdown",
   "metadata": {},
   "source": [
    "Now, we can see first 300 characters of the provided text:"
   ]
  },
  {
   "cell_type": "code",
   "execution_count": 4,
   "metadata": {},
   "outputs": [
    {
     "data": {
      "text/plain": [
       "'We are building our future with American hands American labor American iron aluminum and steel. Happy #LaborDay! https://t.co/lyvtNfQ5IO\\nThe United States is considering in addition to other options stopping all trade with any country doing business with North Korea.\\nI will be meeting General Kelly '"
      ]
     },
     "execution_count": 4,
     "metadata": {},
     "output_type": "execute_result"
    }
   ],
   "source": [
    "text[:300]"
   ]
  },
  {
   "cell_type": "markdown",
   "metadata": {},
   "source": [
    "See how they are encoded as integers:"
   ]
  },
  {
   "cell_type": "code",
   "execution_count": 5,
   "metadata": {},
   "outputs": [
    {
     "data": {
      "text/plain": [
       "array([53, 66,  1, 62, 79, 66,  1, 63, 82, 70, 73, 65, 70, 75, 68,  1, 76,\n",
       "       82, 79,  1, 67, 82, 81, 82, 79, 66,  1, 84, 70, 81, 69,  1, 31, 74,\n",
       "       66, 79, 70, 64, 62, 75,  1, 69, 62, 75, 65, 80,  1, 31, 74, 66, 79,\n",
       "       70, 64, 62, 75,  1, 73, 62, 63, 76, 79,  1, 31, 74, 66, 79, 70, 64,\n",
       "       62, 75,  1, 70, 79, 76, 75,  1, 62, 73, 82, 74, 70, 75, 82, 74,  1,\n",
       "       62, 75, 65,  1, 80, 81, 66, 66, 73, 14,  1, 38, 62, 77, 77, 86,  1,\n",
       "        4, 42, 62, 63, 76, 79, 34, 62, 86,  2,  1, 69, 81, 81, 77, 80, 26,\n",
       "       15, 15, 81, 14, 64, 76, 15, 73, 86, 83, 81, 44, 67, 47, 21, 39, 45,\n",
       "        0, 50, 69, 66,  1, 51, 75, 70, 81, 66, 65,  1, 49, 81, 62, 81, 66,\n",
       "       80,  1, 70, 80,  1, 64, 76, 75, 80, 70, 65, 66, 79, 70, 75, 68,  1,\n",
       "       70, 75,  1, 62, 65, 65, 70, 81, 70, 76, 75,  1, 81, 76,  1, 76, 81,\n",
       "       69, 66, 79,  1, 76, 77, 81, 70, 76, 75, 80,  1, 80, 81, 76, 77, 77,\n",
       "       70, 75, 68,  1, 62, 73, 73,  1, 81, 79, 62, 65, 66,  1, 84, 70, 81,\n",
       "       69,  1, 62, 75, 86,  1, 64, 76, 82, 75, 81, 79, 86,  1, 65, 76, 70,\n",
       "       75, 68,  1, 63, 82, 80, 70, 75, 66, 80, 80,  1, 84, 70, 81, 69,  1,\n",
       "       44, 76, 79, 81, 69,  1, 41, 76, 79, 66, 62, 14,  0, 39,  1, 84, 70,\n",
       "       73, 73,  1, 63, 66,  1, 74, 66, 66, 81, 70, 75, 68,  1, 37, 66, 75,\n",
       "       66, 79, 62, 73,  1, 41, 66, 73, 73, 86,  1], dtype=int32)"
      ]
     },
     "execution_count": 5,
     "metadata": {},
     "output_type": "execute_result"
    }
   ],
   "source": [
    "encoded_chars[:300]"
   ]
  },
  {
   "cell_type": "markdown",
   "metadata": {},
   "source": [
    "And finally, we check the use of our decoding dict `int_to_vocab` to decode the first 300 encoded characters (which we will be using later while sampling new text from the learned model):"
   ]
  },
  {
   "cell_type": "code",
   "execution_count": 6,
   "metadata": {},
   "outputs": [
    {
     "data": {
      "text/plain": [
       "'We are building our future with American hands American labor American iron aluminum and steel. Happy #LaborDay! https://t.co/lyvtNfQ5IO\\nThe United States is considering in addition to other options stopping all trade with any country doing business with North Korea.\\nI will be meeting General Kelly '"
      ]
     },
     "execution_count": 6,
     "metadata": {},
     "output_type": "execute_result"
    }
   ],
   "source": [
    "''.join([int_to_vocab[ec] for ec in encoded_chars[:300]])"
   ]
  },
  {
   "cell_type": "markdown",
   "metadata": {},
   "source": [
    "### Making training and validation mini-batches\n",
    "\n",
    "Neural networks are trained by approximating the gradient of loss function with respect to the neuron-weights, by looking at only a small subset of the data, also known as a mini-batch. Here is where we'll make our mini-batches for training and validation. Now we need to split up the data into batches, and into training and validation sets. \n",
    "\n",
    "For the test we will observe how the network generates new text, thus we will not be using test set. We will feed a character into the network and sample a next one from the distribution over characters likely to come next. We feed the sampled character right back to get another next character. Repeating this process character by character will generate new text, hopefully indistinguishable from [Donald Trump's](https://twitter.com/realdonaldtrump/status/881281755017355264) Twitter [tweets](https://twitter.com/realdonaldtrump/status/869858333477523458).\n"
   ]
  },
  {
   "cell_type": "code",
   "execution_count": 7,
   "metadata": {
    "collapsed": true
   },
   "outputs": [],
   "source": [
    "def split_data(arr, batch_size, num_steps, split_frac=0.9):\n",
    "    \"\"\" \n",
    "    Split data into training and validation sets, inputs and targets for each set.\n",
    "    \n",
    "    Arguments\n",
    "    ---------\n",
    "    arr: Array of encoded characters as integers \n",
    "    batch_size: Number of sequences per batch\n",
    "    num_steps: Number of sequence steps per batch to keep in the input and pass to the network, max_time\n",
    "    split_frac: Fraction of batches to keep in the training set\n",
    "    \n",
    "    \n",
    "    Returns train_x, train_y, val_x, val_y\n",
    "    \"\"\"\n",
    "    \n",
    "    slice_size = batch_size * num_steps\n",
    "    n_batches = int(len(arr) / slice_size)\n",
    "    \n",
    "    # Drop the last few characters to make only full batches\n",
    "    x = arr[: n_batches*slice_size]\n",
    "    \n",
    "    # The targets are the same as the inputs, except shifted one character over.\n",
    "    # number of batches covers full size of arr (no characters dropped)\n",
    "    if(len(arr) == n_batches*slice_size):\n",
    "        #for the last target character use first input character\n",
    "        y = np.roll(x, -1)\n",
    "    else:\n",
    "        #for the last target characher use first dropped character\n",
    "        y = arr[1: n_batches*slice_size + 1]\n",
    "    \n",
    "    # Split the data into batch_size slices, then stack them into a 2D matrix \n",
    "    x = np.stack(np.split(x, batch_size))\n",
    "    y = np.stack(np.split(y, batch_size))\n",
    "    # faster alternative\n",
    "    #x = x.reshape((batch_size, -1))\n",
    "    #y = y.reshape((batch_size, -1))\n",
    "    \n",
    "    # Now x and y are arrays with dimensions batch_size x n_batches*num_steps\n",
    "    \n",
    "    # Split into training and validation sets, keep the virst split_frac batches for training\n",
    "    split_idx = int(n_batches*split_frac)\n",
    "    train_x, train_y= x[:, :split_idx*num_steps], y[:, :split_idx*num_steps]\n",
    "    val_x, val_y = x[:, split_idx*num_steps:], y[:, split_idx*num_steps:]\n",
    "    \n",
    "    return train_x, train_y, val_x, val_y"
   ]
  },
  {
   "cell_type": "code",
   "execution_count": 8,
   "metadata": {
    "scrolled": true
   },
   "outputs": [
    {
     "name": "stdout",
     "output_type": "stream",
     "text": [
      "[ 0,  1,  2,  3,  4,  5,  6,  7,  8,  9, 10, 11, 12, 13, 14, 15, 16, 17, 18, 19, 20, 21, 22, 23, 24,\n",
      " 25, 26, 27, 28, 29, 30, 31, 32, 33, 34, 35, 36, 37, 38, 39, 40, 41, 42, 43, 44, 45, 46, 47, 48, 49,\n",
      " 50, 51, 52, 53, 54, 55, 56, 57, 58, 59, 60, 61, 62]\n"
     ]
    }
   ],
   "source": [
    "# example test array\n",
    "example_arr = np.arange(63)\n",
    "print(np.array2string(example_arr, max_line_width=100, separator=', '))"
   ]
  },
  {
   "cell_type": "code",
   "execution_count": 9,
   "metadata": {
    "collapsed": true
   },
   "outputs": [],
   "source": [
    "batch_size = 5 #use 5 sequences in a batch\n",
    "num_steps = 3 #'size' of sequence in a batch, max_time\n",
    "#n_batches = len(arr)/(batch_size*num_steps) = 100/(5*5) = 4\n",
    "\n",
    "split_frac=0.9 # TRAIN= int(0.9 * n_batches) = 3, VAL= n_batches - TRAIN = 1"
   ]
  },
  {
   "cell_type": "code",
   "execution_count": 10,
   "metadata": {
    "collapsed": true
   },
   "outputs": [],
   "source": [
    "train_x, train_y, val_x, val_y = split_data(example_arr, batch_size, num_steps, split_frac)"
   ]
  },
  {
   "cell_type": "code",
   "execution_count": 11,
   "metadata": {},
   "outputs": [
    {
     "data": {
      "text/plain": [
       "array([[ 0,  1,  2,  3,  4,  5,  6,  7,  8],\n",
       "       [12, 13, 14, 15, 16, 17, 18, 19, 20],\n",
       "       [24, 25, 26, 27, 28, 29, 30, 31, 32],\n",
       "       [36, 37, 38, 39, 40, 41, 42, 43, 44],\n",
       "       [48, 49, 50, 51, 52, 53, 54, 55, 56]])"
      ]
     },
     "execution_count": 11,
     "metadata": {},
     "output_type": "execute_result"
    }
   ],
   "source": [
    "train_x"
   ]
  },
  {
   "cell_type": "code",
   "execution_count": 12,
   "metadata": {},
   "outputs": [
    {
     "data": {
      "text/plain": [
       "array([[ 1,  2,  3,  4,  5,  6,  7,  8,  9],\n",
       "       [13, 14, 15, 16, 17, 18, 19, 20, 21],\n",
       "       [25, 26, 27, 28, 29, 30, 31, 32, 33],\n",
       "       [37, 38, 39, 40, 41, 42, 43, 44, 45],\n",
       "       [49, 50, 51, 52, 53, 54, 55, 56, 57]])"
      ]
     },
     "execution_count": 12,
     "metadata": {},
     "output_type": "execute_result"
    }
   ],
   "source": [
    "train_y"
   ]
  },
  {
   "cell_type": "markdown",
   "metadata": {},
   "source": [
    "Next, we will create a generator function to get batches from the arrays made by `split_data`. This will provide us with the functionality to iterate over batches, which we can feed to our network model. The arrays are of dimension (`batch_size, n_batches*num_steps`). Each batch is a sliding window on these arrays with size `batch_size X num_steps`."
   ]
  },
  {
   "cell_type": "code",
   "execution_count": 13,
   "metadata": {
    "collapsed": true
   },
   "outputs": [],
   "source": [
    "def get_batch(arrs, num_steps):\n",
    "    batch_size, slice_size = arrs[0].shape\n",
    "    \n",
    "    n_batches = int(slice_size/num_steps)\n",
    "    for b in range(n_batches):\n",
    "        yield [x[:, b*num_steps: (b+1)*num_steps] for x in arrs]"
   ]
  },
  {
   "cell_type": "code",
   "execution_count": 14,
   "metadata": {
    "collapsed": true
   },
   "outputs": [],
   "source": [
    "train_batches = get_batch([train_x, train_y], num_steps)"
   ]
  },
  {
   "cell_type": "markdown",
   "metadata": {},
   "source": [
    "Now, we will test getting the first batch:"
   ]
  },
  {
   "cell_type": "code",
   "execution_count": 15,
   "metadata": {
    "collapsed": true
   },
   "outputs": [],
   "source": [
    "train_batch_x, train_batch_y = next(train_batches)"
   ]
  },
  {
   "cell_type": "code",
   "execution_count": 16,
   "metadata": {},
   "outputs": [
    {
     "data": {
      "text/plain": [
       "array([[ 0,  1,  2],\n",
       "       [12, 13, 14],\n",
       "       [24, 25, 26],\n",
       "       [36, 37, 38],\n",
       "       [48, 49, 50]])"
      ]
     },
     "execution_count": 16,
     "metadata": {},
     "output_type": "execute_result"
    }
   ],
   "source": [
    "train_batch_x"
   ]
  },
  {
   "cell_type": "code",
   "execution_count": 17,
   "metadata": {},
   "outputs": [
    {
     "data": {
      "text/plain": [
       "array([[ 1,  2,  3],\n",
       "       [13, 14, 15],\n",
       "       [25, 26, 27],\n",
       "       [37, 38, 39],\n",
       "       [49, 50, 51]])"
      ]
     },
     "execution_count": 17,
     "metadata": {},
     "output_type": "execute_result"
    }
   ],
   "source": [
    "train_batch_y"
   ]
  },
  {
   "cell_type": "code",
   "execution_count": 18,
   "metadata": {
    "collapsed": true
   },
   "outputs": [],
   "source": [
    "train_batch_x, train_batch_y = next(train_batches)"
   ]
  },
  {
   "cell_type": "markdown",
   "metadata": {},
   "source": [
    "Next, we can get the second one:"
   ]
  },
  {
   "cell_type": "code",
   "execution_count": 19,
   "metadata": {},
   "outputs": [
    {
     "data": {
      "text/plain": [
       "array([[ 3,  4,  5],\n",
       "       [15, 16, 17],\n",
       "       [27, 28, 29],\n",
       "       [39, 40, 41],\n",
       "       [51, 52, 53]])"
      ]
     },
     "execution_count": 19,
     "metadata": {},
     "output_type": "execute_result"
    }
   ],
   "source": [
    "train_batch_x"
   ]
  },
  {
   "cell_type": "code",
   "execution_count": 20,
   "metadata": {},
   "outputs": [
    {
     "data": {
      "text/plain": [
       "array([[ 4,  5,  6],\n",
       "       [16, 17, 18],\n",
       "       [28, 29, 30],\n",
       "       [40, 41, 42],\n",
       "       [52, 53, 54]])"
      ]
     },
     "execution_count": 20,
     "metadata": {},
     "output_type": "execute_result"
    }
   ],
   "source": [
    "train_batch_y"
   ]
  },
  {
   "cell_type": "code",
   "execution_count": 21,
   "metadata": {},
   "outputs": [
    {
     "data": {
      "text/plain": [
       "'(batch_size, num_steps) = (5, 3)'"
      ]
     },
     "execution_count": 21,
     "metadata": {},
     "output_type": "execute_result"
    }
   ],
   "source": [
    "'(batch_size, num_steps) = {}'.format(train_batch_x.shape)"
   ]
  },
  {
   "cell_type": "markdown",
   "metadata": {},
   "source": [
    "However, we will be iterating over batches using the 'for loop':"
   ]
  },
  {
   "cell_type": "code",
   "execution_count": 22,
   "metadata": {},
   "outputs": [
    {
     "name": "stdout",
     "output_type": "stream",
     "text": [
      "TRAIN BATCHES\n",
      "\n",
      "Batch 1:\n",
      "[[[ 0  1  2]\n",
      "  [12 13 14]\n",
      "  [24 25 26]\n",
      "  [36 37 38]\n",
      "  [48 49 50]]\n",
      "\n",
      " [[ 1  2  3]\n",
      "  [13 14 15]\n",
      "  [25 26 27]\n",
      "  [37 38 39]\n",
      "  [49 50 51]]]\n",
      "\n",
      "Batch 2:\n",
      "[[[ 3  4  5]\n",
      "  [15 16 17]\n",
      "  [27 28 29]\n",
      "  [39 40 41]\n",
      "  [51 52 53]]\n",
      "\n",
      " [[ 4  5  6]\n",
      "  [16 17 18]\n",
      "  [28 29 30]\n",
      "  [40 41 42]\n",
      "  [52 53 54]]]\n",
      "\n",
      "Batch 3:\n",
      "[[[ 6  7  8]\n",
      "  [18 19 20]\n",
      "  [30 31 32]\n",
      "  [42 43 44]\n",
      "  [54 55 56]]\n",
      "\n",
      " [[ 7  8  9]\n",
      "  [19 20 21]\n",
      "  [31 32 33]\n",
      "  [43 44 45]\n",
      "  [55 56 57]]]\n"
     ]
    }
   ],
   "source": [
    "print(\"TRAIN BATCHES\")\n",
    "for b, (x, y) in enumerate(get_batch([train_x, train_y], num_steps), 1):\n",
    "    print('\\nBatch {}:'.format(b))\n",
    "    print(np.stack([x,y]))"
   ]
  },
  {
   "cell_type": "code",
   "execution_count": 23,
   "metadata": {},
   "outputs": [
    {
     "name": "stdout",
     "output_type": "stream",
     "text": [
      "VAL BATCHES\n",
      "\n",
      "Batch 1:\n",
      "[[[ 9 10 11]\n",
      "  [21 22 23]\n",
      "  [33 34 35]\n",
      "  [45 46 47]\n",
      "  [57 58 59]]\n",
      "\n",
      " [[10 11 12]\n",
      "  [22 23 24]\n",
      "  [34 35 36]\n",
      "  [46 47 48]\n",
      "  [58 59 60]]]\n"
     ]
    }
   ],
   "source": [
    "print(\"VAL BATCHES\")\n",
    "for b, (x, y) in enumerate(get_batch([val_x, val_y], num_steps), 1):\n",
    "    print('\\nBatch {}:'.format(b))\n",
    "    print(np.stack([x,y]))"
   ]
  },
  {
   "cell_type": "markdown",
   "metadata": {},
   "source": [
    "## 3.2 Building the model\n",
    "\n",
    "After having our data prepared and convenience functions `split_data` and `get_batch` for handling the data during the training of our model, we can finally start building the model using the TensorFlow library. We will break the model building into five parts:\n",
    "* building input placeholders for x, y and dropout \n",
    "* building multi-layer RNN with stacked LSTM cells\n",
    "* building softmax output layer\n",
    "* computation for training loss\n",
    "* building the optimizer for the model parameters\n",
    "\n",
    "\n",
    "\n"
   ]
  },
  {
   "cell_type": "markdown",
   "metadata": {},
   "source": [
    "### Inputs\n",
    "First, we will create our input placeholders for Tensorflow computational graph of the model. As we are building supervised learning model, we need to declare placeholders for inputs (x) and targets (y). We also need to one-hot encode the input and target tokens, remember we're getting them as encoded characters. Here, we will also declare scalar placeholder for output keep probablity of LSTM cells called `keep_prob`.  "
   ]
  },
  {
   "cell_type": "code",
   "execution_count": 24,
   "metadata": {
    "collapsed": true
   },
   "outputs": [],
   "source": [
    "def build_inputs(batch_size, num_steps, num_classes):\n",
    "    ''' Define placeholders for inputs, targets, and dropout \n",
    "    \n",
    "        Arguments\n",
    "        ---------\n",
    "        batch_size: Batch size, number of sequences per batch\n",
    "        num_steps: Number of sequence steps in a batch\n",
    "        \n",
    "    '''\n",
    "    # Declare placeholders we'll feed into the graph\n",
    "    \n",
    "     #Declare placeholder for inputs (x) and one hot encode inputs\n",
    "    inputs = tf.placeholder(tf.int32, [batch_size, num_steps], name='inputs')\n",
    "    x_one_hot = tf.one_hot(inputs, num_classes, name='x_one_hot')\n",
    "    \n",
    "    #Declare placeholder for targets (y) and one hot encode targets\n",
    "    targets = tf.placeholder(tf.int32, [batch_size, num_steps], name='targets')\n",
    "    y_one_hot = tf.one_hot(targets, num_classes, name='y_one_hot')\n",
    "    \n",
    "    # Keep probability placeholder for drop out layers\n",
    "    keep_prob = tf.placeholder(tf.float32, name='keep_prob')\n",
    "    \n",
    "    return inputs, x_one_hot, targets, y_one_hot, keep_prob"
   ]
  },
  {
   "cell_type": "markdown",
   "metadata": {},
   "source": [
    "### Multi-layer LSTM Cell\n",
    "We first implement `build_cell` function where we create the LSTM cell we will use in the hidden layer. We will use this cell as a building block for the multi layer RNN. Afterwards, we implement the `build_lstm` function to create multiple LSTM cells stacked on each other using build_cell function. We can stack up the LSTM cells into layers with tf.contrib.rnn.MultiRNNCell. Finally, we create an initial state of all zeros for the MultiRNNCell."
   ]
  },
  {
   "cell_type": "code",
   "execution_count": 25,
   "metadata": {
    "collapsed": true
   },
   "outputs": [],
   "source": [
    "def build_cell(lstm_size, keep_prob):\n",
    "    # Use a basic LSTM cell\n",
    "    lstm = tf.contrib.rnn.BasicLSTMCell(lstm_size)\n",
    "\n",
    "    # Add dropout to the cell\n",
    "    drop = tf.contrib.rnn.DropoutWrapper(lstm, output_keep_prob=keep_prob)\n",
    "    return drop"
   ]
  },
  {
   "cell_type": "code",
   "execution_count": 26,
   "metadata": {
    "collapsed": true
   },
   "outputs": [],
   "source": [
    "def build_lstm(lstm_size, num_layers, batch_size, keep_prob):\n",
    "    ''' Build LSTM cell.\n",
    "    \n",
    "        Arguments\n",
    "        ---------\n",
    "        keep_prob: Scalar tensor (tf.placeholder) for the dropout keep probability\n",
    "        lstm_size: Size of the hidden layers in the LSTM cells\n",
    "        num_layers: Number of LSTM layers\n",
    "        batch_size: Batch size\n",
    "\n",
    "    '''\n",
    "    \n",
    "    # Stack up multiple LSTM layers, for deep learning\n",
    "    cell = tf.contrib.rnn.MultiRNNCell([build_cell(lstm_size, keep_prob) for _ in range(num_layers)])\n",
    "    \n",
    "    initial_state = cell.zero_state(batch_size, tf.float32)\n",
    "    \n",
    "    return cell, initial_state"
   ]
  },
  {
   "cell_type": "markdown",
   "metadata": {},
   "source": [
    "### RNN Output\n",
    "Here we'll create the output layer. We need to connect the output of the RNN cells to a full connected layer with a softmax output. The softmax output gives us a probability distribution we can use to predict the next character. The output 3D tensor with size $(batch\\_size \\times num\\_steps \\times lstm\\_size)$ has to be reshaped to $((batch\\_size * num\\_steps) \\times  lstm\\_size)$, so we can do the matrix multiplication with the softmax weights.\n"
   ]
  },
  {
   "cell_type": "code",
   "execution_count": 27,
   "metadata": {
    "collapsed": true
   },
   "outputs": [],
   "source": [
    "def build_output(lstm_output, in_size, out_size):\n",
    "    ''' Build a softmax layer, return the softmax output and logits.\n",
    "    \n",
    "        Arguments\n",
    "        ---------\n",
    "        \n",
    "        x: Input tensor\n",
    "        in_size: Size of the input tensor, for example, size of the LSTM cells\n",
    "        out_size: Size of this softmax layer\n",
    "    \n",
    "    '''\n",
    "\n",
    "    # Reshape output so it's a bunch of rows, one row for each step for each sequence.\n",
    "    # That is, the shape should be batch_size*num_steps rows by lstm_size columns\n",
    "    seq_output = tf.concat(lstm_output, axis=1)\n",
    "    x = tf.reshape(seq_output, [-1, in_size])\n",
    "    \n",
    "    # Connect the RNN outputs to a softmax layer\n",
    "    with tf.variable_scope('softmax'):\n",
    "        softmax_w = tf.Variable(tf.truncated_normal((in_size, out_size), stddev=0.1))\n",
    "        softmax_b = tf.Variable(tf.zeros(out_size))\n",
    "        \n",
    "        # Tensorboard\n",
    "        tf.summary.histogram('h_softmax_w', softmax_w)\n",
    "        tf.summary.histogram('h_softmax_b', softmax_b)\n",
    "    \n",
    "    # Since output is a bunch of rows of RNN cell outputs, logits will be a bunch\n",
    "    # of rows of logit outputs, one for each step and sequence\n",
    "    logits = tf.matmul(x, softmax_w) + softmax_b\n",
    "    \n",
    "    # Use softmax to get the probabilities for predicted characters\n",
    "    out = tf.nn.softmax(logits, name='predictions')\n",
    "    \n",
    "    # Tensorboard\n",
    "    tf.summary.histogram('h_predictions', out)\n",
    "    \n",
    "    return out, logits"
   ]
  },
  {
   "cell_type": "markdown",
   "metadata": {},
   "source": [
    "### Training loss\n",
    "\n",
    "Next up is the training loss. We get the logits and targets and calculate the softmax cross-entropy loss. First, reshape the one-hot targets so it's a 2D tensor with size $((batch\\_size * num\\_steps) \\times  num\\_classes)$, which match logits. Remember that we reshaped the LSTM outputs and ran them through a fully connected layer with num\\_classes units. Then we run the logits and targets through `tf.nn.softmax_cross_entropy_with_logits` and find the mean to get the loss."
   ]
  },
  {
   "cell_type": "code",
   "execution_count": 28,
   "metadata": {
    "collapsed": true
   },
   "outputs": [],
   "source": [
    "def build_loss(logits, y_one_hot, lstm_size):\n",
    "    ''' Calculate the loss from the logits and the targets.\n",
    "    \n",
    "        Arguments\n",
    "        ---------\n",
    "        logits: Logits from final fully connected layer\n",
    "        t\n",
    "        lstm_size: Number of LSTM hidden units\n",
    "        num_classes: Number of classes in targets\n",
    "        \n",
    "    '''\n",
    "    \n",
    "    # reshape one-hot encoded targets to match logits, one row per batch_size per step\n",
    "    y_reshaped = tf.reshape(y_one_hot, logits.get_shape())\n",
    "    \n",
    "    # Softmax cross entropy loss\n",
    "    loss = tf.nn.softmax_cross_entropy_with_logits(logits=logits, labels=y_reshaped)\n",
    "    loss = tf.reduce_mean(loss)\n",
    "    \n",
    "    # Tensorboard\n",
    "    tf.summary.scalar('s_cost', loss)\n",
    "    \n",
    "    return loss"
   ]
  },
  {
   "cell_type": "markdown",
   "metadata": {},
   "source": [
    "### Optimizer\n",
    "\n",
    "Here we build the optimizer. Normal RNNs have have issues gradients exploding and disappearing. LSTMs fix the disappearance problem, but the gradients can still grow without bound. To fix this, we can clip the gradients above some threshold. That is, if a gradient is larger than that threshold, we set it to the threshold. This will ensure the gradients never grow overly large. Then we use an AdamOptimizer for the learning step."
   ]
  },
  {
   "cell_type": "code",
   "execution_count": 29,
   "metadata": {
    "collapsed": true
   },
   "outputs": [],
   "source": [
    "def build_optimizer(loss, learning_rate, grad_clip):\n",
    "    ''' Build optmizer for training, using gradient clipping.\n",
    "    \n",
    "        Arguments:\n",
    "        loss: Network loss\n",
    "        learning_rate: Learning rate for optimizer\n",
    "    \n",
    "    '''\n",
    "    \n",
    "    # Optimizer for training, using gradient clipping to control exploding gradients\n",
    "    tvars = tf.trainable_variables()\n",
    "    grads, _ = tf.clip_by_global_norm(tf.gradients(loss, tvars), grad_clip)\n",
    "    train_op = tf.train.AdamOptimizer(learning_rate)\n",
    "    optimizer = train_op.apply_gradients(zip(grads, tvars))\n",
    "    \n",
    "    return optimizer"
   ]
  },
  {
   "cell_type": "markdown",
   "metadata": {},
   "source": [
    "### Build the network\n",
    "\n",
    "Now we can put all the pieces together and build a class for the network. To actually run data through the LSTM cells, we will use [`tf.nn.dynamic_rnn`](https://www.tensorflow.org/versions/r1.0/api_docs/python/tf/nn/dynamic_rnn). This function will pass the hidden and cell states across LSTM cells appropriately for us. It returns the outputs for each LSTM cell at each step for each sequence in the mini-batch. It also gives us the final LSTM state. We want to save this state as `final_state` so we can pass it to the first LSTM cell in the the next mini-batch run. For `tf.nn.dynamic_rnn`, we pass in the cell and initial state we get from `build_lstm`, as well as our input sequences."
   ]
  },
  {
   "cell_type": "code",
   "execution_count": 30,
   "metadata": {
    "collapsed": true
   },
   "outputs": [],
   "source": [
    "class CharRNN:\n",
    "    \n",
    "    def __init__(self, num_classes, batch_size=64, num_steps=50, \n",
    "                       lstm_size=128, num_layers=2, learning_rate=0.001, \n",
    "                       grad_clip=5, sampling=False):\n",
    "    \n",
    "        # When we're using this network for sampling later, we'll be passing in\n",
    "        # one character at a time, so providing an option for that\n",
    "        if sampling == True:\n",
    "            batch_size, num_steps = 1, 1\n",
    "        else:\n",
    "            batch_size, num_steps = batch_size, num_steps\n",
    "\n",
    "        tf.reset_default_graph()\n",
    "        \n",
    "        # Build the input placeholder tensors, and one-hot encode the input and target tokens\n",
    "        self.inputs, x_one_hot, self.targets, y_one_hot, self.keep_prob = \\\n",
    "        build_inputs(batch_size, num_steps, num_classes)\n",
    "        \n",
    "        # Build the LSTM cell\n",
    "        cell, self.initial_state = build_lstm(lstm_size, num_layers, batch_size, self.keep_prob)\n",
    " \n",
    "        # Run each sequence step through the RNN and collect the outputs\n",
    "        outputs, state = tf.nn.dynamic_rnn(cell, x_one_hot, initial_state=self.initial_state)\n",
    "        \n",
    "        self.final_state = state\n",
    "        \n",
    "        # Get softmax predictions and logits\n",
    "        self.prediction, self.logits = build_output(outputs, lstm_size, num_classes)\n",
    "        \n",
    "        # Loss and optimizer (with gradient clipping)\n",
    "        self.loss = build_loss(self.logits, y_one_hot, lstm_size)\n",
    "        self.optimizer = build_optimizer(self.loss, learning_rate, grad_clip)\n",
    "        \n",
    "        self.summary_merged = tf.summary.merge_all()"
   ]
  },
  {
   "cell_type": "markdown",
   "metadata": {},
   "source": [
    "### Hyperparameters\n",
    "\n",
    "Here we declare the hyperparameters for the network. \n",
    "\n",
    "* `batch_size` - Number of sequences running through the network in one pass.\n",
    "* `num_steps` - Number of characters in the sequence the network is trained on. Larger is better typically, the network will learn more long range dependencies. But it takes longer to train. 100 is typically a good number here.\n",
    "* `lstm_size` - The number of units in the hidden layers.\n",
    "* `num_layers` - Number of hidden LSTM layers to use\n",
    "* `learning_rate` - Learning rate for training\n",
    "* `keep_prob` - The dropout keep probability when training. If you're network is overfitting, try decreasing this.\n",
    "\n",
    "Here's some good advice from Andrej Karpathy on training the network [https://github.com/karpathy/char-rnn#tips-and-tricks](https://github.com/karpathy/char-rnn#tips-and-tricks).\n",
    "\n"
   ]
  },
  {
   "cell_type": "code",
   "execution_count": 31,
   "metadata": {
    "collapsed": true
   },
   "outputs": [],
   "source": [
    "batch_size = 100        # Sequences per batch\n",
    "num_steps = 100         # Number of sequence steps per batch\n",
    "lstm_size = 512         # Size of hidden layers in LSTMs\n",
    "num_layers = 2          # Number of LSTM layers\n",
    "learning_rate = 0.001   # Learning rate\n",
    "keep_prob = 0.5         # Dropout keep probability"
   ]
  },
  {
   "cell_type": "markdown",
   "metadata": {},
   "source": [
    "### Number of parameters"
   ]
  },
  {
   "cell_type": "markdown",
   "metadata": {},
   "source": [
    "LATM cell: $4 \\times \\big[N_{units} \\times (N_{inputs}+1) + N_{units}^{2}\\big]; N_{units}=lstm\\_size, N_{inputs}=len(vocab)$"
   ]
  },
  {
   "cell_type": "code",
   "execution_count": 32,
   "metadata": {},
   "outputs": [
    {
     "name": "stdout",
     "output_type": "stream",
     "text": [
      "lstm_size = 512\n",
      "input size = 92\n"
     ]
    }
   ],
   "source": [
    "print(\"lstm_size = {}\".format(lstm_size))\n",
    "print(\"input size = {}\".format(len(vocab)))"
   ]
  },
  {
   "cell_type": "code",
   "execution_count": 33,
   "metadata": {},
   "outputs": [],
   "source": [
    "model = CharRNN(len(vocab), batch_size=batch_size, num_steps=num_steps,\n",
    "                lstm_size=lstm_size, num_layers=num_layers, \n",
    "                learning_rate=learning_rate)"
   ]
  },
  {
   "cell_type": "code",
   "execution_count": 34,
   "metadata": {},
   "outputs": [
    {
     "data": {
      "text/plain": [
       "[<tf.Variable 'rnn/multi_rnn_cell/cell_0/basic_lstm_cell/kernel:0' shape=(604, 2048) dtype=float32_ref>,\n",
       " <tf.Variable 'rnn/multi_rnn_cell/cell_0/basic_lstm_cell/bias:0' shape=(2048,) dtype=float32_ref>,\n",
       " <tf.Variable 'rnn/multi_rnn_cell/cell_1/basic_lstm_cell/kernel:0' shape=(1024, 2048) dtype=float32_ref>,\n",
       " <tf.Variable 'rnn/multi_rnn_cell/cell_1/basic_lstm_cell/bias:0' shape=(2048,) dtype=float32_ref>,\n",
       " <tf.Variable 'softmax/Variable:0' shape=(512, 92) dtype=float32_ref>,\n",
       " <tf.Variable 'softmax/Variable_1:0' shape=(92,) dtype=float32_ref>]"
      ]
     },
     "execution_count": 34,
     "metadata": {},
     "output_type": "execute_result"
    }
   ],
   "source": [
    "tf.trainable_variables()"
   ]
  },
  {
   "cell_type": "markdown",
   "metadata": {},
   "source": [
    "### Write out the graph for TensorBoard"
   ]
  },
  {
   "cell_type": "code",
   "execution_count": 35,
   "metadata": {
    "collapsed": true
   },
   "outputs": [],
   "source": [
    "model = CharRNN(len(vocab), batch_size=batch_size, num_steps=num_steps,\n",
    "                lstm_size=lstm_size, num_layers=num_layers, \n",
    "                learning_rate=learning_rate)\n",
    "\n",
    "with tf.Session() as sess:\n",
    "    sess.run(tf.global_variables_initializer())\n",
    "    \n",
    "    file_writer = tf.summary.FileWriter('assets/logs/1', sess.graph)\n",
    "    \n",
    "    file_writer.close()\n",
    "\n",
    "#run tensorboard from command line by issuing command (e.g. from root repository directory):\n",
    "#tensorboard --logdir=Day-3/assets/logs/"
   ]
  },
  {
   "cell_type": "markdown",
   "metadata": {},
   "source": [
    "### Run nodes in the graph"
   ]
  },
  {
   "cell_type": "code",
   "execution_count": 36,
   "metadata": {},
   "outputs": [],
   "source": [
    "train_x, train_y, val_x, val_y = split_data(encoded_chars, batch_size, num_steps)\n",
    "\n",
    "model = CharRNN(len(vocab), batch_size=batch_size, num_steps=num_steps,\n",
    "                lstm_size=lstm_size, num_layers=num_layers, \n",
    "                learning_rate=learning_rate)\n",
    "\n",
    "\n",
    "with tf.Session() as sess:\n",
    "    sess.run(tf.global_variables_initializer())\n",
    "    \n",
    "    file_writer = tf.summary.FileWriter('assets/logs/2', sess.graph)\n",
    "    \n",
    "    new_state = sess.run(model.initial_state)\n",
    "    x, y = next(get_batch([train_x, train_y], num_steps))\n",
    "    \n",
    "    feed = {model.inputs: x,\n",
    "        model.targets: y,\n",
    "        model.keep_prob: 0.5,\n",
    "        model.initial_state: new_state}\n",
    "    \n",
    "    summary, batch_loss, new_state = sess.run([model.summary_merged, model.loss, model.final_state], feed_dict=feed)\n",
    "    \n",
    "    file_writer.add_summary(summary, 0)\n",
    "    \n",
    "    file_writer.close()"
   ]
  },
  {
   "cell_type": "code",
   "execution_count": 37,
   "metadata": {},
   "outputs": [
    {
     "data": {
      "text/plain": [
       "4.5195522"
      ]
     },
     "execution_count": 37,
     "metadata": {},
     "output_type": "execute_result"
    }
   ],
   "source": [
    "batch_loss"
   ]
  },
  {
   "cell_type": "code",
   "execution_count": 38,
   "metadata": {},
   "outputs": [
    {
     "data": {
      "text/plain": [
       "'Number of layers : 2'"
      ]
     },
     "execution_count": 38,
     "metadata": {},
     "output_type": "execute_result"
    }
   ],
   "source": [
    "'Number of layers : {}'.format(len(new_state))"
   ]
  },
  {
   "cell_type": "code",
   "execution_count": 39,
   "metadata": {},
   "outputs": [
    {
     "data": {
      "text/plain": [
       "(tensorflow.python.ops.rnn_cell_impl.LSTMStateTuple,\n",
       " tensorflow.python.ops.rnn_cell_impl.LSTMStateTuple)"
      ]
     },
     "execution_count": 39,
     "metadata": {},
     "output_type": "execute_result"
    }
   ],
   "source": [
    "type(new_state[0]), type(new_state[1])"
   ]
  },
  {
   "cell_type": "code",
   "execution_count": 40,
   "metadata": {},
   "outputs": [
    {
     "data": {
      "text/plain": [
       "((100, 512), (100, 512))"
      ]
     },
     "execution_count": 40,
     "metadata": {},
     "output_type": "execute_result"
    }
   ],
   "source": [
    "new_state[1].c.shape, new_state[1].h.shape"
   ]
  },
  {
   "cell_type": "markdown",
   "metadata": {},
   "source": [
    "## 3.3 Training model\n",
    "\n",
    "This is typical training code, passing inputs and targets into the network, then running the optimizer. Here we also get back the final LSTM state for the mini-batch. Then, we pass that state back into the network so the next batch can continue the state from the previous batch. And every so often (set by `save_every_n`) we calculate the validation loss and save a checkpoint."
   ]
  },
  {
   "cell_type": "code",
   "execution_count": 41,
   "metadata": {},
   "outputs": [
    {
     "name": "stdout",
     "output_type": "stream",
     "text": [
      "Epoch 1/1  Iteration 1/194 Training loss: 1.4525 3.8374 sec/batch\n",
      "Epoch 1/1  Iteration 2/194 Training loss: 1.3918 3.3975 sec/batch\n",
      "Epoch 1/1  Iteration 3/194 Training loss: 1.4020 3.4241 sec/batch\n",
      "Epoch 1/1  Iteration 4/194 Training loss: 1.3904 3.2976 sec/batch\n",
      "Epoch 1/1  Iteration 5/194 Training loss: 1.3775 3.2635 sec/batch\n",
      "Epoch 1/1  Iteration 6/194 Training loss: 1.3779 3.8269 sec/batch\n",
      "Epoch 1/1  Iteration 7/194 Training loss: 1.3753 3.6497 sec/batch\n",
      "Epoch 1/1  Iteration 8/194 Training loss: 1.3775 3.8245 sec/batch\n",
      "Epoch 1/1  Iteration 9/194 Training loss: 1.3767 4.1228 sec/batch\n",
      "Epoch 1/1  Iteration 10/194 Training loss: 1.3754 4.2724 sec/batch\n",
      "Epoch 1/1  Iteration 11/194 Training loss: 1.3710 4.1800 sec/batch\n",
      "Epoch 1/1  Iteration 12/194 Training loss: 1.3699 4.3923 sec/batch\n",
      "Epoch 1/1  Iteration 13/194 Training loss: 1.3733 4.7221 sec/batch\n",
      "Epoch 1/1  Iteration 14/194 Training loss: 1.3726 4.3953 sec/batch\n",
      "Epoch 1/1  Iteration 15/194 Training loss: 1.3707 4.2723 sec/batch\n",
      "Epoch 1/1  Iteration 16/194 Training loss: 1.3728 4.3208 sec/batch\n",
      "Epoch 1/1  Iteration 17/194 Training loss: 1.3719 4.2614 sec/batch\n",
      "Epoch 1/1  Iteration 18/194 Training loss: 1.3720 4.2926 sec/batch\n",
      "Epoch 1/1  Iteration 19/194 Training loss: 1.3721 4.0849 sec/batch\n",
      "Epoch 1/1  Iteration 20/194 Training loss: 1.3715 4.0285 sec/batch\n",
      "Epoch 1/1  Iteration 21/194 Training loss: 1.3695 4.2113 sec/batch\n",
      "Epoch 1/1  Iteration 22/194 Training loss: 1.3680 4.0770 sec/batch\n",
      "Epoch 1/1  Iteration 23/194 Training loss: 1.3676 4.3921 sec/batch\n",
      "Epoch 1/1  Iteration 24/194 Training loss: 1.3667 4.6476 sec/batch\n",
      "Epoch 1/1  Iteration 25/194 Training loss: 1.3665 4.7274 sec/batch\n",
      "Epoch 1/1  Iteration 26/194 Training loss: 1.3665 4.8861 sec/batch\n",
      "Epoch 1/1  Iteration 27/194 Training loss: 1.3675 5.1976 sec/batch\n",
      "Epoch 1/1  Iteration 28/194 Training loss: 1.3684 5.3319 sec/batch\n",
      "Epoch 1/1  Iteration 29/194 Training loss: 1.3678 5.5614 sec/batch\n",
      "Epoch 1/1  Iteration 30/194 Training loss: 1.3671 5.9325 sec/batch\n",
      "Epoch 1/1  Iteration 31/194 Training loss: 1.3667 6.1634 sec/batch\n",
      "Epoch 1/1  Iteration 32/194 Training loss: 1.3685 5.9025 sec/batch\n",
      "Epoch 1/1  Iteration 33/194 Training loss: 1.3685 6.1507 sec/batch\n",
      "Epoch 1/1  Iteration 34/194 Training loss: 1.3692 5.5739 sec/batch\n",
      "Epoch 1/1  Iteration 35/194 Training loss: 1.3699 5.4829 sec/batch\n",
      "Epoch 1/1  Iteration 36/194 Training loss: 1.3712 5.3303 sec/batch\n",
      "Epoch 1/1  Iteration 37/194 Training loss: 1.3718 5.3692 sec/batch\n",
      "Epoch 1/1  Iteration 38/194 Training loss: 1.3711 5.6492 sec/batch\n",
      "Epoch 1/1  Iteration 39/194 Training loss: 1.3711 5.9441 sec/batch\n",
      "Epoch 1/1  Iteration 40/194 Training loss: 1.3707 5.8987 sec/batch\n",
      "Epoch 1/1  Iteration 41/194 Training loss: 1.3708 5.8689 sec/batch\n",
      "Epoch 1/1  Iteration 42/194 Training loss: 1.3699 5.5989 sec/batch\n",
      "Epoch 1/1  Iteration 43/194 Training loss: 1.3697 5.3177 sec/batch\n",
      "Epoch 1/1  Iteration 44/194 Training loss: 1.3693 5.6820 sec/batch\n",
      "Epoch 1/1  Iteration 45/194 Training loss: 1.3691 5.8671 sec/batch\n",
      "Epoch 1/1  Iteration 46/194 Training loss: 1.3684 5.9496 sec/batch\n",
      "Epoch 1/1  Iteration 47/194 Training loss: 1.3684 6.4088 sec/batch\n",
      "Epoch 1/1  Iteration 48/194 Training loss: 1.3683 6.1198 sec/batch\n",
      "Epoch 1/1  Iteration 49/194 Training loss: 1.3682 5.5090 sec/batch\n",
      "Epoch 1/1  Iteration 50/194 Training loss: 1.3678 4.8714 sec/batch\n",
      "Epoch 1/1  Iteration 51/194 Training loss: 1.3678 5.2527 sec/batch\n",
      "Epoch 1/1  Iteration 52/194 Training loss: 1.3687 5.3440 sec/batch\n",
      "Epoch 1/1  Iteration 53/194 Training loss: 1.3686 5.3836 sec/batch\n",
      "Epoch 1/1  Iteration 54/194 Training loss: 1.3683 6.6330 sec/batch\n",
      "Epoch 1/1  Iteration 55/194 Training loss: 1.3682 5.5920 sec/batch\n",
      "Epoch 1/1  Iteration 56/194 Training loss: 1.3689 6.1499 sec/batch\n",
      "Epoch 1/1  Iteration 57/194 Training loss: 1.3686 6.0787 sec/batch\n",
      "Epoch 1/1  Iteration 58/194 Training loss: 1.3678 5.5277 sec/batch\n",
      "Epoch 1/1  Iteration 59/194 Training loss: 1.3673 5.1641 sec/batch\n",
      "Epoch 1/1  Iteration 60/194 Training loss: 1.3674 4.9257 sec/batch\n",
      "Epoch 1/1  Iteration 61/194 Training loss: 1.3674 5.0968 sec/batch\n",
      "Epoch 1/1  Iteration 62/194 Training loss: 1.3674 5.2971 sec/batch\n",
      "Epoch 1/1  Iteration 63/194 Training loss: 1.3680 5.3864 sec/batch\n",
      "Epoch 1/1  Iteration 64/194 Training loss: 1.3675 5.4486 sec/batch\n",
      "Epoch 1/1  Iteration 65/194 Training loss: 1.3673 5.3551 sec/batch\n",
      "Epoch 1/1  Iteration 66/194 Training loss: 1.3675 5.3556 sec/batch\n",
      "Epoch 1/1  Iteration 67/194 Training loss: 1.3678 5.6845 sec/batch\n",
      "Epoch 1/1  Iteration 68/194 Training loss: 1.3676 6.3658 sec/batch\n",
      "Epoch 1/1  Iteration 69/194 Training loss: 1.3677 6.6889 sec/batch\n",
      "Epoch 1/1  Iteration 70/194 Training loss: 1.3678 6.2790 sec/batch\n",
      "Epoch 1/1  Iteration 71/194 Training loss: 1.3681 6.2604 sec/batch\n",
      "Epoch 1/1  Iteration 72/194 Training loss: 1.3674 6.9004 sec/batch\n",
      "Epoch 1/1  Iteration 73/194 Training loss: 1.3676 7.3055 sec/batch\n",
      "Epoch 1/1  Iteration 74/194 Training loss: 1.3675 5.2076 sec/batch\n",
      "Epoch 1/1  Iteration 75/194 Training loss: 1.3679 4.9399 sec/batch\n",
      "Epoch 1/1  Iteration 76/194 Training loss: 1.3677 5.0472 sec/batch\n",
      "Epoch 1/1  Iteration 77/194 Training loss: 1.3681 5.5247 sec/batch\n",
      "Epoch 1/1  Iteration 78/194 Training loss: 1.3686 5.6338 sec/batch\n",
      "Epoch 1/1  Iteration 79/194 Training loss: 1.3689 5.2579 sec/batch\n",
      "Epoch 1/1  Iteration 80/194 Training loss: 1.3683 5.4831 sec/batch\n",
      "Epoch 1/1  Iteration 81/194 Training loss: 1.3677 5.9177 sec/batch\n",
      "Epoch 1/1  Iteration 82/194 Training loss: 1.3678 5.6450 sec/batch\n",
      "Epoch 1/1  Iteration 83/194 Training loss: 1.3679 5.8687 sec/batch\n",
      "Epoch 1/1  Iteration 84/194 Training loss: 1.3673 5.9726 sec/batch\n",
      "Epoch 1/1  Iteration 85/194 Training loss: 1.3679 5.3044 sec/batch\n",
      "Epoch 1/1  Iteration 86/194 Training loss: 1.3678 5.1426 sec/batch\n",
      "Epoch 1/1  Iteration 87/194 Training loss: 1.3681 5.2457 sec/batch\n",
      "Epoch 1/1  Iteration 88/194 Training loss: 1.3683 5.5151 sec/batch\n",
      "Epoch 1/1  Iteration 89/194 Training loss: 1.3679 5.6594 sec/batch\n",
      "Epoch 1/1  Iteration 90/194 Training loss: 1.3677 5.3865 sec/batch\n",
      "Epoch 1/1  Iteration 91/194 Training loss: 1.3678 5.3577 sec/batch\n",
      "Epoch 1/1  Iteration 92/194 Training loss: 1.3673 5.7487 sec/batch\n",
      "Epoch 1/1  Iteration 93/194 Training loss: 1.3671 5.5919 sec/batch\n",
      "Epoch 1/1  Iteration 94/194 Training loss: 1.3669 5.3066 sec/batch\n",
      "Epoch 1/1  Iteration 95/194 Training loss: 1.3666 5.1694 sec/batch\n",
      "Epoch 1/1  Iteration 96/194 Training loss: 1.3663 5.1630 sec/batch\n",
      "Epoch 1/1  Iteration 97/194 Training loss: 1.3662 5.3311 sec/batch\n",
      "Epoch 1/1  Iteration 98/194 Training loss: 1.3659 5.5210 sec/batch\n",
      "Epoch 1/1  Iteration 99/194 Training loss: 1.3663 5.3470 sec/batch\n",
      "Epoch 1/1  Iteration 100/194 Training loss: 1.3660 5.7642 sec/batch\n",
      "Epoch 1/1  Iteration 101/194 Training loss: 1.3660 6.4104 sec/batch\n",
      "Epoch 1/1  Iteration 102/194 Training loss: 1.3657 5.1316 sec/batch\n",
      "Epoch 1/1  Iteration 103/194 Training loss: 1.3658 5.9302 sec/batch\n",
      "Epoch 1/1  Iteration 104/194 Training loss: 1.3659 5.9712 sec/batch\n",
      "Epoch 1/1  Iteration 105/194 Training loss: 1.3660 6.5008 sec/batch\n",
      "Epoch 1/1  Iteration 106/194 Training loss: 1.3661 7.7545 sec/batch\n",
      "Epoch 1/1  Iteration 107/194 Training loss: 1.3660 6.2595 sec/batch\n",
      "Epoch 1/1  Iteration 108/194 Training loss: 1.3657 5.0165 sec/batch\n",
      "Epoch 1/1  Iteration 109/194 Training loss: 1.3659 4.9520 sec/batch\n",
      "Epoch 1/1  Iteration 110/194 Training loss: 1.3658 5.0204 sec/batch\n",
      "Epoch 1/1  Iteration 111/194 Training loss: 1.3660 5.2070 sec/batch\n",
      "Epoch 1/1  Iteration 112/194 Training loss: 1.3662 5.1327 sec/batch\n",
      "Epoch 1/1  Iteration 113/194 Training loss: 1.3664 5.0245 sec/batch\n",
      "Epoch 1/1  Iteration 114/194 Training loss: 1.3661 4.9447 sec/batch\n",
      "Epoch 1/1  Iteration 115/194 Training loss: 1.3661 5.1871 sec/batch\n",
      "Epoch 1/1  Iteration 116/194 Training loss: 1.3661 5.1738 sec/batch\n",
      "Epoch 1/1  Iteration 117/194 Training loss: 1.3659 5.1451 sec/batch\n",
      "Epoch 1/1  Iteration 118/194 Training loss: 1.3657 5.0519 sec/batch\n",
      "Epoch 1/1  Iteration 119/194 Training loss: 1.3658 4.9605 sec/batch\n",
      "Epoch 1/1  Iteration 120/194 Training loss: 1.3657 4.9545 sec/batch\n",
      "Epoch 1/1  Iteration 121/194 Training loss: 1.3655 4.9555 sec/batch\n",
      "Epoch 1/1  Iteration 122/194 Training loss: 1.3653 4.9307 sec/batch\n",
      "Epoch 1/1  Iteration 123/194 Training loss: 1.3651 4.9435 sec/batch\n"
     ]
    },
    {
     "name": "stdout",
     "output_type": "stream",
     "text": [
      "Epoch 1/1  Iteration 124/194 Training loss: 1.3653 4.9670 sec/batch\n",
      "Epoch 1/1  Iteration 125/194 Training loss: 1.3653 5.2259 sec/batch\n",
      "Epoch 1/1  Iteration 126/194 Training loss: 1.3653 5.0187 sec/batch\n",
      "Epoch 1/1  Iteration 127/194 Training loss: 1.3653 4.9575 sec/batch\n",
      "Epoch 1/1  Iteration 128/194 Training loss: 1.3652 4.9274 sec/batch\n",
      "Epoch 1/1  Iteration 129/194 Training loss: 1.3654 5.2300 sec/batch\n",
      "Epoch 1/1  Iteration 130/194 Training loss: 1.3655 6.1638 sec/batch\n",
      "Epoch 1/1  Iteration 131/194 Training loss: 1.3656 5.7031 sec/batch\n",
      "Epoch 1/1  Iteration 132/194 Training loss: 1.3658 5.2177 sec/batch\n",
      "Epoch 1/1  Iteration 133/194 Training loss: 1.3662 5.2397 sec/batch\n",
      "Epoch 1/1  Iteration 134/194 Training loss: 1.3663 4.9468 sec/batch\n",
      "Epoch 1/1  Iteration 135/194 Training loss: 1.3665 4.8977 sec/batch\n",
      "Epoch 1/1  Iteration 136/194 Training loss: 1.3663 5.0583 sec/batch\n",
      "Epoch 1/1  Iteration 137/194 Training loss: 1.3661 5.1973 sec/batch\n",
      "Epoch 1/1  Iteration 138/194 Training loss: 1.3659 5.2307 sec/batch\n",
      "Epoch 1/1  Iteration 139/194 Training loss: 1.3659 5.2819 sec/batch\n",
      "Epoch 1/1  Iteration 140/194 Training loss: 1.3658 5.2272 sec/batch\n",
      "Epoch 1/1  Iteration 141/194 Training loss: 1.3658 4.9441 sec/batch\n",
      "Epoch 1/1  Iteration 142/194 Training loss: 1.3661 4.9578 sec/batch\n",
      "Epoch 1/1  Iteration 143/194 Training loss: 1.3666 5.2427 sec/batch\n",
      "Epoch 1/1  Iteration 144/194 Training loss: 1.3667 5.0026 sec/batch\n",
      "Epoch 1/1  Iteration 145/194 Training loss: 1.3667 4.9260 sec/batch\n",
      "Epoch 1/1  Iteration 146/194 Training loss: 1.3666 4.9550 sec/batch\n",
      "Epoch 1/1  Iteration 147/194 Training loss: 1.3667 5.1570 sec/batch\n",
      "Epoch 1/1  Iteration 148/194 Training loss: 1.3667 5.2109 sec/batch\n",
      "Epoch 1/1  Iteration 149/194 Training loss: 1.3667 4.9548 sec/batch\n",
      "Epoch 1/1  Iteration 150/194 Training loss: 1.3666 4.9299 sec/batch\n",
      "Epoch 1/1  Iteration 151/194 Training loss: 1.3668 5.2007 sec/batch\n",
      "Epoch 1/1  Iteration 152/194 Training loss: 1.3668 5.2066 sec/batch\n",
      "Epoch 1/1  Iteration 153/194 Training loss: 1.3664 5.4465 sec/batch\n",
      "Epoch 1/1  Iteration 154/194 Training loss: 1.3664 5.4887 sec/batch\n",
      "Epoch 1/1  Iteration 155/194 Training loss: 1.3664 5.3374 sec/batch\n",
      "Epoch 1/1  Iteration 156/194 Training loss: 1.3664 4.9706 sec/batch\n",
      "Epoch 1/1  Iteration 157/194 Training loss: 1.3664 4.9584 sec/batch\n",
      "Epoch 1/1  Iteration 158/194 Training loss: 1.3663 4.9477 sec/batch\n",
      "Epoch 1/1  Iteration 159/194 Training loss: 1.3665 5.3198 sec/batch\n",
      "Epoch 1/1  Iteration 160/194 Training loss: 1.3664 5.1211 sec/batch\n",
      "Epoch 1/1  Iteration 161/194 Training loss: 1.3664 4.9229 sec/batch\n",
      "Epoch 1/1  Iteration 162/194 Training loss: 1.3665 5.2965 sec/batch\n",
      "Epoch 1/1  Iteration 163/194 Training loss: 1.3667 5.0266 sec/batch\n",
      "Epoch 1/1  Iteration 164/194 Training loss: 1.3666 4.8976 sec/batch\n",
      "Epoch 1/1  Iteration 165/194 Training loss: 1.3666 4.9882 sec/batch\n",
      "Epoch 1/1  Iteration 166/194 Training loss: 1.3667 4.9702 sec/batch\n",
      "Epoch 1/1  Iteration 167/194 Training loss: 1.3665 4.8192 sec/batch\n",
      "Epoch 1/1  Iteration 168/194 Training loss: 1.3666 4.7135 sec/batch\n",
      "Epoch 1/1  Iteration 169/194 Training loss: 1.3667 4.6904 sec/batch\n",
      "Epoch 1/1  Iteration 170/194 Training loss: 1.3665 4.6754 sec/batch\n",
      "Epoch 1/1  Iteration 171/194 Training loss: 1.3665 4.9608 sec/batch\n",
      "Epoch 1/1  Iteration 172/194 Training loss: 1.3662 4.9822 sec/batch\n",
      "Epoch 1/1  Iteration 173/194 Training loss: 1.3664 4.7329 sec/batch\n",
      "Epoch 1/1  Iteration 174/194 Training loss: 1.3664 4.7614 sec/batch\n",
      "Epoch 1/1  Iteration 175/194 Training loss: 1.3664 4.7576 sec/batch\n",
      "Epoch 1/1  Iteration 176/194 Training loss: 1.3664 4.7172 sec/batch\n",
      "Epoch 1/1  Iteration 177/194 Training loss: 1.3664 4.9192 sec/batch\n",
      "Epoch 1/1  Iteration 178/194 Training loss: 1.3663 4.8579 sec/batch\n",
      "Epoch 1/1  Iteration 179/194 Training loss: 1.3665 5.0380 sec/batch\n",
      "Epoch 1/1  Iteration 180/194 Training loss: 1.3665 4.9900 sec/batch\n",
      "Epoch 1/1  Iteration 181/194 Training loss: 1.3665 4.9903 sec/batch\n",
      "Epoch 1/1  Iteration 182/194 Training loss: 1.3663 4.7809 sec/batch\n",
      "Epoch 1/1  Iteration 183/194 Training loss: 1.3662 4.7895 sec/batch\n",
      "Epoch 1/1  Iteration 184/194 Training loss: 1.3665 4.9520 sec/batch\n",
      "Epoch 1/1  Iteration 185/194 Training loss: 1.3666 4.9932 sec/batch\n",
      "Epoch 1/1  Iteration 186/194 Training loss: 1.3663 5.3846 sec/batch\n",
      "Epoch 1/1  Iteration 187/194 Training loss: 1.3665 5.6799 sec/batch\n",
      "Epoch 1/1  Iteration 188/194 Training loss: 1.3663 5.6014 sec/batch\n",
      "Epoch 1/1  Iteration 189/194 Training loss: 1.3664 5.6497 sec/batch\n",
      "Epoch 1/1  Iteration 190/194 Training loss: 1.3666 5.5379 sec/batch\n",
      "Epoch 1/1  Iteration 191/194 Training loss: 1.3665 5.1483 sec/batch\n",
      "Epoch 1/1  Iteration 192/194 Training loss: 1.3665 6.0517 sec/batch\n",
      "Epoch 1/1  Iteration 193/194 Training loss: 1.3665 5.6058 sec/batch\n",
      "Epoch 1/1  Iteration 194/194 Training loss: 1.3664 4.9289 sec/batch\n",
      "Validation loss: 1.22892 Saving checkpoint!\n"
     ]
    }
   ],
   "source": [
    "epochs = 1 #20\n",
    "save_every_n = 200\n",
    "train_x, train_y, val_x, val_y = split_data(encoded_chars, batch_size, num_steps)\n",
    "\n",
    "\n",
    "model = CharRNN(len(vocab), batch_size=batch_size, num_steps=num_steps,\n",
    "                lstm_size=lstm_size, num_layers=num_layers, \n",
    "                learning_rate=learning_rate)\n",
    "\n",
    "saver = tf.train.Saver(max_to_keep=100)\n",
    "\n",
    "with tf.Session() as sess:\n",
    "    sess.run(tf.global_variables_initializer())\n",
    "    train_writer = tf.summary.FileWriter('assets/logs/3/train', sess.graph)\n",
    "    test_writer = tf.summary.FileWriter('assets/logs/3/test')\n",
    "    \n",
    "    #############################################################\n",
    "    # Use the line below to load a checkpoint and resume training\n",
    "    # Plase download provided checkpoint files from the link\n",
    "    # https://www.dropbox.com/s/3p9l3s8nzzkg1en/trump_i4320_l512.ckpt.zip?dl=0#\n",
    "    # and place them in assets/checkpoints/ssds direcory in the repositoy\n",
    "    saver.restore(sess, 'assets/checkpoints/ssds/trump_i4320_l512.ckpt')\n",
    "    #############################################################\n",
    "    \n",
    "    n_batches = int(train_x.shape[1]/num_steps)\n",
    "    iterations = n_batches * epochs\n",
    "    for e in range(epochs):\n",
    "        \n",
    "        # Train network\n",
    "        new_state = sess.run(model.initial_state)\n",
    "        loss = 0\n",
    "        for b, (x, y) in enumerate(get_batch([train_x, train_y], num_steps), 1):\n",
    "            iteration = e*n_batches + b\n",
    "            start = time.time()\n",
    "            feed = {model.inputs: x,\n",
    "                    model.targets: y,\n",
    "                    model.keep_prob: 0.5,\n",
    "                    model.initial_state: new_state}\n",
    "            summary, batch_loss, new_state, _ = sess.run([model.summary_merged, model.loss, model.final_state, model.optimizer], \n",
    "                                                 feed_dict=feed)\n",
    "            loss += batch_loss\n",
    "            end = time.time()\n",
    "            print('Epoch {}/{} '.format(e+1, epochs),\n",
    "                  'Iteration {}/{}'.format(iteration, iterations),\n",
    "                  'Training loss: {:.4f}'.format(loss/b),\n",
    "                  '{:.4f} sec/batch'.format((end-start)))\n",
    "            \n",
    "            train_writer.add_summary(summary, iteration)\n",
    "        \n",
    "            if (iteration%save_every_n == 0) or (iteration == iterations):\n",
    "                # Check performance, notice dropout has been set to 1\n",
    "                val_loss = []\n",
    "                new_state = sess.run(model.initial_state)\n",
    "                for x, y in get_batch([val_x, val_y], num_steps):\n",
    "                    feed = {model.inputs: x,\n",
    "                            model.targets: y,\n",
    "                            model.keep_prob: 1.,\n",
    "                            model.initial_state: new_state}\n",
    "                    summary, batch_loss, new_state = sess.run([model.summary_merged, model.loss, model.final_state], feed_dict=feed)\n",
    "                    val_loss.append(batch_loss)\n",
    "                \n",
    "                test_writer.add_summary(summary, iteration)\n",
    "\n",
    "                print('Validation loss:', np.mean(val_loss),\n",
    "                      'Saving checkpoint!')\n",
    "                saver.save(sess, \"assets/checkpoints/trump/trump_new_i{}_l{}_{:.3f}.ckpt\".format(iteration, lstm_size, np.mean(val_loss)))"
   ]
  },
  {
   "cell_type": "markdown",
   "metadata": {},
   "source": [
    "### Saved checkpoints\n",
    "\n",
    "Read up on saving and loading checkpoints here: https://www.tensorflow.org/programmers_guide/variables"
   ]
  },
  {
   "cell_type": "code",
   "execution_count": 42,
   "metadata": {},
   "outputs": [
    {
     "data": {
      "text/plain": [
       "model_checkpoint_path: \"assets/checkpoints/trump/trump_new_i194_l512_1.229.ckpt\"\n",
       "all_model_checkpoint_paths: \"assets/checkpoints/trump/trump_new_i194_l512_1.229.ckpt\""
      ]
     },
     "execution_count": 42,
     "metadata": {},
     "output_type": "execute_result"
    }
   ],
   "source": [
    "tf.train.get_checkpoint_state('assets/checkpoints/trump')"
   ]
  },
  {
   "cell_type": "markdown",
   "metadata": {},
   "source": [
    "## 3.4 Testing model - sampling from the model"
   ]
  },
  {
   "cell_type": "code",
   "execution_count": 43,
   "metadata": {
    "collapsed": true
   },
   "outputs": [],
   "source": [
    "from IPython.core.display import display, HTML"
   ]
  },
  {
   "cell_type": "code",
   "execution_count": 44,
   "metadata": {
    "collapsed": true
   },
   "outputs": [],
   "source": [
    "def pick_top_n(preds, vocab_size, top_n=5):\n",
    "    p = np.squeeze(preds)\n",
    "    p[np.argsort(p)[:-top_n]] = 0\n",
    "    p = p / np.sum(p)\n",
    "    c = np.random.choice(vocab_size, 1, p=p)[0]\n",
    "    return c"
   ]
  },
  {
   "cell_type": "code",
   "execution_count": 45,
   "metadata": {
    "collapsed": true
   },
   "outputs": [],
   "source": [
    "def sample_model(checkpoint, n_samples, lstm_size, vocab_size, num_layers=2, prime=\"The \"):\n",
    "    samples = [c for c in prime]\n",
    "    model = CharRNN(len(vocab), lstm_size=lstm_size, num_layers=num_layers, sampling=True)\n",
    "    saver = tf.train.Saver()\n",
    "    \n",
    "    states = []\n",
    "    with tf.Session() as sess:\n",
    "        saver.restore(sess, checkpoint)\n",
    "        new_state = sess.run(model.initial_state)\n",
    "         \n",
    "        for c in prime:\n",
    "            x = np.zeros((1, 1))\n",
    "            x[0,0] = vocab_to_int[c]\n",
    "            feed = {model.inputs: x,\n",
    "                    model.keep_prob: 1.,\n",
    "                    model.initial_state: new_state}\n",
    "            preds, new_state = sess.run([model.prediction, model.final_state], \n",
    "                                         feed_dict=feed)\n",
    "      \n",
    "            states.append(new_state)\n",
    "    \n",
    "        c = pick_top_n(preds, len(vocab))\n",
    "        samples.append(int_to_vocab[c])\n",
    "        states.append(new_state)\n",
    "\n",
    "        for i in range(n_samples):\n",
    "            x[0,0] = c\n",
    "            feed = {model.inputs: x,\n",
    "                    model.keep_prob: 1.,\n",
    "                    model.initial_state: new_state}\n",
    "            preds, new_state = sess.run([model.prediction, model.final_state], \n",
    "                                         feed_dict=feed)\n",
    "\n",
    "            c = pick_top_n(preds, len(vocab))\n",
    "            samples.append(int_to_vocab[c])\n",
    "            states.append(new_state)\n",
    "        \n",
    "    return (''.join(samples), states)"
   ]
  },
  {
   "cell_type": "code",
   "execution_count": 47,
   "metadata": {},
   "outputs": [
    {
     "name": "stdout",
     "output_type": "stream",
     "text": [
      "ObamaCare will be a great president!\n",
      "What will should have been a friend of the more play to hear and how a great problem who is a bottrest fact. That's a true good l\n"
     ]
    }
   ],
   "source": [
    "checkpoint = tf.train.latest_checkpoint('assets/checkpoints/trump')\n",
    "samp, _ = sample_model(checkpoint, 160, lstm_size, len(vocab), prime=\"Obama\")\n",
    "print(samp)\n"
   ]
  },
  {
   "cell_type": "markdown",
   "metadata": {},
   "source": [
    "Plase download provided checkpoint files from the Dropbox shared link\n",
    "[https://www.dropbox.com/s/3p9l3s8nzzkg1en/trump_i4320_l512.ckpt.zip?dl=0#](https://www.dropbox.com/s/3p9l3s8nzzkg1en/trump_i4320_l512.ckpt.zip?dl=0#)\n",
    " and place them in `assets/checkpoints/ssds` direcory in the repositoy."
   ]
  },
  {
   "cell_type": "code",
   "execution_count": 48,
   "metadata": {},
   "outputs": [
    {
     "name": "stdout",
     "output_type": "stream",
     "text": [
      "Obama (cont) http://t.co/IYYYB70k\n",
      "The polls are gassing about me and a great job in China to be the stupid campaign and there is a tax seasing their country. Will be this more. They are not being a sense for a charator!\n",
      "I hope @MittRomney was great filst and a great correct of our great call the failing @newsmax as @CNN to me!\n",
      "The @Macys is terrific. I will give a crazy the man and will another still and allow their. Send its careful in the road.\n",
      "The @BarackObama still have the real place and telling an extates and money. They have never been better than you can do.\n",
      "If you lest the possible- that they defind my comments in anywhine will be said that they are going to get them interest our country. We have no sees it was broken back to them and being sport.\n",
      "If you're designed and is not only saying what the place of the press with me and see the false points in the saming way to be a good thought to make a great tax country.\n",
      "Interesting and totally support. See you at @BarackObama we have an ac\n"
     ]
    }
   ],
   "source": [
    "checkpoint = 'assets/checkpoints/ssds/trump_i4320_l512.ckpt'\n",
    "samp, _ = sample_model(checkpoint, 1000, lstm_size, len(vocab), prime=\"Obama (\")\n",
    "print(samp)"
   ]
  },
  {
   "cell_type": "code",
   "execution_count": 49,
   "metadata": {},
   "outputs": [
    {
     "name": "stdout",
     "output_type": "stream",
     "text": [
      "Obama (aIHKKaCy`bEerBBEEEEbBBeblhlMnM8n)nMGnccHnr jVylq)FttlfAFSbGlhenbMnaQ5Bes m[FMnksq1FF5nA55nsc nggtngngylhesem{LNFFEKbMWFAns{S`ns]g ngim\\Fna3ZeuqNFEAAAbObs3bFnbubr1eurXlnggblncrEr pneplF6bscHnernGrrvvvtlh[ngnwEpnpllwFvAAnc 8InWTlnc `UaQQ[[}*bbTlh\\Qq[[]q]FFntls9nF639QF635nb6bnerF6q1zb9FH9BnbbBbnenabMlhbnat`AIF bFlEemLWEAAAbs ZFeHFleAAISOS5FFbFFnb79EbMP@r)zm|bsenbmlhcvlevenFnauWFFFbeFAbTneWFS@ujeniMTm|@{j 2bT1kTRp\\nbr9eseublCFbr9lNPMccngr7wRS`252ngbM \\ngichhleenWFlnbFbTnrGnseMlUpllFlCFneObBS9NabGenerTneru bMNaucc@Gana]s`S{WHT@plC\n",
      "AIKgtgatcflwwnggptpTlnwFrbr3ObFFeuub61bBTlnFrt 3zTbRFFntbMna~q51bFlnFEbTngnbt hbrne~=tt ng@JncihTniHF bnrUvhbnalHLKHttepLCQAAIFS315FbFFFFFEnAIF9Uq511bM9no)FMna5zs5ksnscneuururn6bFFFdnT@q\\GBlh\\hVnauj{S]F@uFNeeZTmccHnaQq)[eupTm]ng@nhchneum`Mnggnwtm]ns`snsem{blhbnalFvrtq9FFF5FF5Ns9neub69eem`nclgenerWvTnwHlwtlnvLT@wMvt\"A+sgngggnchr 8nFKbMbRFbm`abMneursckTm[u]bMbFebMnabmlCcflvab69Vb9ehqllFemGAabscnetccorr955552s bncfnrttl\n",
      "VaQat%}&t~==AObFFbMnaQ5gsg lh$icHLe eom|T u jgeb\n"
     ]
    }
   ],
   "source": [
    "checkpoint = 'assets/checkpoints/ssds/trump_i4320_l512.ckpt'\n",
    "samp, _ = sample_model(checkpoint, 1000, lstm_size, len(vocab), num_layers=1, prime=\"Obama (\")\n",
    "print(samp)"
   ]
  },
  {
   "cell_type": "code",
   "execution_count": 50,
   "metadata": {
    "scrolled": true
   },
   "outputs": [
    {
     "name": "stdout",
     "output_type": "stream",
     "text": [
      "Obama (cont) http://t.co/THa770x0\n",
      "\"Donald Trump Tops Prime Military All Stars and Failing Tower Along Collection http://t.co/22raax5c   They are all control the bank tal is so many sides?\n",
      "Trump Intelnational Holly of the Deboce should have a great present that he has been destroyed by the border will defeat them!\n",
      "@TeleballGroups http://t.co/narccirc\n",
      "@JandyMinsher  The Apprentice and the world will be a great time for a great campaign from my office. True!\n",
      "I will beat Moring South Carolina to me in the polls to the media is never talking about the U to be talented about the birthday to the U.S. in the server- and his people are not a begon.\n",
      "Well weak in Charlottesville for an highly and want to both a golf course in New York. It is too bad!\n",
      "I will be at @ApprenticeNBC tonight at 9pm. #Trump2016#MakeAmericaGreatAgain https://t.co/A5arI5rnrt\n",
      "Thank you to the U.S.A. Startes to be interested. Will be amazing! #Irainahttpses at 11:30pm. https://t.co/ta5crca7Yn\n",
      "I will be interviewed on @foxandfriends\n"
     ]
    }
   ],
   "source": [
    "checkpoint = 'assets/checkpoints/ssds/trump_i4320_l512.ckpt'\n",
    "samp, _ = sample_model(checkpoint, 1000, lstm_size, len(vocab), num_layers=2, prime=\"Obama (\")\n",
    "print(samp)"
   ]
  },
  {
   "cell_type": "markdown",
   "metadata": {},
   "source": [
    "## 3.5 Visualization of memory cell activations"
   ]
  },
  {
   "cell_type": "code",
   "execution_count": 51,
   "metadata": {
    "collapsed": true
   },
   "outputs": [],
   "source": [
    "from IPython.core.display import display, HTML\n",
    "from utils import save_lstm_vis, make_colored_text"
   ]
  },
  {
   "cell_type": "code",
   "execution_count": 52,
   "metadata": {},
   "outputs": [
    {
     "name": "stdout",
     "output_type": "stream",
     "text": [
      "Obama (cont) http://t.co/20cYYB04\n",
      "\"The post is the people in America. The rollaut against me whith I want to total can work and a the first policies!\n",
      "\"If you don't have to get it that we are that well.\" - @BarackObama should be better!\n",
      "If you win friends in a landslide in the support of our country in the winner. Stay taxes at the U.S. is not too smart!... http://t.co/YxxxBxc6\n",
      "Travel who would be a still better and with military should be a successful coupt of a big spok why they are not ban and tough and say they are sell or instincts.\n",
      "@AmericanReasher @MissUniverse @TrumpChicago @TrumpDoral on the @Newsmax_Media by Thank you from the @BarackObama.\n",
      "I am spending the poll numbers will be a great comments of cast in the signature country.\n",
      "In that I will be interviewed by @SeanHannity tonight at 10pmE on Fox &amp; Friends at 1:30pmE on @CNBC. Thank you fer your focus on the biggest crowd!\n",
      "I am starting to be passionation on my so much things work as they content to ach time if we will be a total\n"
     ]
    }
   ],
   "source": [
    "checkpoint = 'assets/checkpoints/ssds/trump_i4320_l512.ckpt'\n",
    "samp, states = sample_model(checkpoint, 1000, lstm_size, len(vocab), prime=\"Obama (\")\n",
    "print(samp)"
   ]
  },
  {
   "cell_type": "code",
   "execution_count": 53,
   "metadata": {},
   "outputs": [
    {
     "data": {
      "text/html": [
       "<span style=\"white-space: per-line; font-family: Courier, Monaco, mono space\"><span style=\"background-color:#fddbc7\">O</span><span style=\"background-color:#f7f7f7\">b</span><span style=\"background-color:#fddbc7\">a</span><span style=\"background-color:#fddbc7\">m</span><span style=\"background-color:#fddbc7\">a</span><span style=\"background-color:#fddbc7\"> </span><span style=\"background-color:#92c5de\">(</span><span style=\"background-color:#92c5de\">c</span><span style=\"background-color:#f7f7f7\">o</span><span style=\"background-color:#f4a582\">n</span><span style=\"background-color:#f7f7f7\">t</span><span style=\"background-color:#92c5de\">)</span><span style=\"background-color:#d1e5f0\"> </span><span style=\"background-color:#f4a582\">h</span><span style=\"background-color:#f4a582\">t</span><span style=\"background-color:#d6604d\">t</span><span style=\"background-color:#d6604d\">p</span><span style=\"background-color:#d1e5f0\">:</span><span style=\"background-color:#92c5de\">/</span><span style=\"background-color:#92c5de\">/</span><span style=\"background-color:#92c5de\">t</span><span style=\"background-color:#92c5de\">.</span><span style=\"background-color:#d1e5f0\">c</span><span style=\"background-color:#fddbc7\">o</span><span style=\"background-color:#fddbc7\">/</span><span style=\"background-color:#fddbc7\">2</span><span style=\"background-color:#fddbc7\">0</span><span style=\"background-color:#fddbc7\">c</span><span style=\"background-color:#fddbc7\">Y</span><span style=\"background-color:#fddbc7\">Y</span><span style=\"background-color:#fddbc7\">B</span><span style=\"background-color:#fddbc7\">0</span><span style=\"background-color:#fddbc7\">4</span><span style=\"background-color:#fddbc7\"><br></span><span style=\"background-color:#f7f7f7\">\"</span><span style=\"background-color:#f7f7f7\">T</span><span style=\"background-color:#d6604d\">h</span><span style=\"background-color:#d6604d\">e</span><span style=\"background-color:#fddbc7\"> </span><span style=\"background-color:#f7f7f7\">p</span><span style=\"background-color:#f4a582\">o</span><span style=\"background-color:#f4a582\">s</span><span style=\"background-color:#fddbc7\">t</span><span style=\"background-color:#f7f7f7\"> </span><span style=\"background-color:#f7f7f7\">i</span><span style=\"background-color:#d1e5f0\">s</span><span style=\"background-color:#d1e5f0\"> </span><span style=\"background-color:#f7f7f7\">t</span><span style=\"background-color:#f4a582\">h</span><span style=\"background-color:#d6604d\">e</span><span style=\"background-color:#f4a582\"> </span><span style=\"background-color:#f7f7f7\">p</span><span style=\"background-color:#f4a582\">e</span><span style=\"background-color:#f4a582\">o</span><span style=\"background-color:#fddbc7\">p</span><span style=\"background-color:#d1e5f0\">l</span><span style=\"background-color:#f7f7f7\">e</span><span style=\"background-color:#f7f7f7\"> </span><span style=\"background-color:#f7f7f7\">i</span><span style=\"background-color:#d1e5f0\">n</span><span style=\"background-color:#f7f7f7\"> </span><span style=\"background-color:#f7f7f7\">A</span><span style=\"background-color:#f7f7f7\">m</span><span style=\"background-color:#fddbc7\">e</span><span style=\"background-color:#f7f7f7\">r</span><span style=\"background-color:#fddbc7\">i</span><span style=\"background-color:#f7f7f7\">c</span><span style=\"background-color:#f4a582\">a</span><span style=\"background-color:#f4a582\">.</span><span style=\"background-color:#d1e5f0\"> </span><span style=\"background-color:#f7f7f7\">T</span><span style=\"background-color:#d6604d\">h</span><span style=\"background-color:#d6604d\">e</span><span style=\"background-color:#f7f7f7\"> </span><span style=\"background-color:#d1e5f0\">r</span><span style=\"background-color:#d6604d\">o</span><span style=\"background-color:#d6604d\">l</span><span style=\"background-color:#fddbc7\">l</span><span style=\"background-color:#d1e5f0\">a</span><span style=\"background-color:#d1e5f0\">u</span><span style=\"background-color:#92c5de\">t</span><span style=\"background-color:#fddbc7\"> </span><span style=\"background-color:#d1e5f0\">a</span><span style=\"background-color:#fddbc7\">g</span><span style=\"background-color:#f4a582\">a</span><span style=\"background-color:#f7f7f7\">i</span><span style=\"background-color:#d1e5f0\">n</span><span style=\"background-color:#d1e5f0\">s</span><span style=\"background-color:#fddbc7\">t</span><span style=\"background-color:#f4a582\"> </span><span style=\"background-color:#fddbc7\">m</span><span style=\"background-color:#f4a582\">e</span><span style=\"background-color:#d1e5f0\"> </span><span style=\"background-color:#d1e5f0\">w</span><span style=\"background-color:#f4a582\">h</span><span style=\"background-color:#d6604d\">i</span><span style=\"background-color:#d6604d\">t</span><span style=\"background-color:#d6604d\">h</span><span style=\"background-color:#f4a582\"> </span><span style=\"background-color:#f7f7f7\">I</span><span style=\"background-color:#f7f7f7\"> </span><span style=\"background-color:#f7f7f7\">w</span><span style=\"background-color:#d6604d\">a</span><span style=\"background-color:#fddbc7\">n</span><span style=\"background-color:#f7f7f7\">t</span><span style=\"background-color:#d1e5f0\"> </span><span style=\"background-color:#92c5de\">t</span><span style=\"background-color:#f7f7f7\">o</span><span style=\"background-color:#f4a582\"> </span><span style=\"background-color:#f7f7f7\">t</span><span style=\"background-color:#fddbc7\">o</span><span style=\"background-color:#fddbc7\">t</span><span style=\"background-color:#d6604d\">a</span><span style=\"background-color:#d1e5f0\">l</span><span style=\"background-color:#d1e5f0\"> </span><span style=\"background-color:#d1e5f0\">c</span><span style=\"background-color:#f7f7f7\">a</span><span style=\"background-color:#fddbc7\">n</span><span style=\"background-color:#d1e5f0\"> </span><span style=\"background-color:#f7f7f7\">w</span><span style=\"background-color:#d6604d\">o</span><span style=\"background-color:#d6604d\">r</span><span style=\"background-color:#fddbc7\">k</span><span style=\"background-color:#92c5de\"> </span><span style=\"background-color:#d1e5f0\">a</span><span style=\"background-color:#f7f7f7\">n</span><span style=\"background-color:#f7f7f7\">d</span><span style=\"background-color:#d6604d\"> </span><span style=\"background-color:#f7f7f7\">a</span><span style=\"background-color:#f7f7f7\"> </span><span style=\"background-color:#f7f7f7\">t</span><span style=\"background-color:#f4a582\">h</span><span style=\"background-color:#d6604d\">e</span><span style=\"background-color:#f4a582\"> </span><span style=\"background-color:#f7f7f7\">f</span><span style=\"background-color:#d6604d\">i</span><span style=\"background-color:#f4a582\">r</span><span style=\"background-color:#fddbc7\">s</span><span style=\"background-color:#fddbc7\">t</span><span style=\"background-color:#d1e5f0\"> </span><span style=\"background-color:#d1e5f0\">p</span><span style=\"background-color:#fddbc7\">o</span><span style=\"background-color:#fddbc7\">l</span><span style=\"background-color:#f7f7f7\">i</span><span style=\"background-color:#f7f7f7\">c</span><span style=\"background-color:#d1e5f0\">i</span><span style=\"background-color:#d1e5f0\">e</span><span style=\"background-color:#d1e5f0\">s</span><span style=\"background-color:#f7f7f7\">!</span><span style=\"background-color:#f7f7f7\"><br></span><span style=\"background-color:#f7f7f7\">\"</span><span style=\"background-color:#d1e5f0\">I</span><span style=\"background-color:#f7f7f7\">f</span><span style=\"background-color:#fddbc7\"> </span><span style=\"background-color:#f7f7f7\">y</span><span style=\"background-color:#d1e5f0\">o</span><span style=\"background-color:#f4a582\">u</span><span style=\"background-color:#f4a582\"> </span><span style=\"background-color:#f7f7f7\">d</span><span style=\"background-color:#f4a582\">o</span><span style=\"background-color:#f4a582\">n</span><span style=\"background-color:#d1e5f0\">'</span><span style=\"background-color:#92c5de\">t</span><span style=\"background-color:#f7f7f7\"> </span><span style=\"background-color:#d1e5f0\">h</span><span style=\"background-color:#f4a582\">a</span><span style=\"background-color:#f7f7f7\">v</span><span style=\"background-color:#d1e5f0\">e</span><span style=\"background-color:#f7f7f7\"> </span><span style=\"background-color:#f7f7f7\">t</span><span style=\"background-color:#f7f7f7\">o</span><span style=\"background-color:#f4a582\"> </span><span style=\"background-color:#f7f7f7\">g</span><span style=\"background-color:#fddbc7\">e</span><span style=\"background-color:#fddbc7\">t</span><span style=\"background-color:#d1e5f0\"> </span><span style=\"background-color:#f7f7f7\">i</span><span style=\"background-color:#d1e5f0\">t</span><span style=\"background-color:#d1e5f0\"> </span><span style=\"background-color:#d1e5f0\">t</span><span style=\"background-color:#fddbc7\">h</span><span style=\"background-color:#f4a582\">a</span><span style=\"background-color:#fddbc7\">t</span><span style=\"background-color:#f7f7f7\"> </span><span style=\"background-color:#f7f7f7\">w</span><span style=\"background-color:#d6604d\">e</span><span style=\"background-color:#fddbc7\"> </span><span style=\"background-color:#fddbc7\">a</span><span style=\"background-color:#d1e5f0\">r</span><span style=\"background-color:#f7f7f7\">e</span><span style=\"background-color:#f7f7f7\"> </span><span style=\"background-color:#f7f7f7\">t</span><span style=\"background-color:#f4a582\">h</span><span style=\"background-color:#d6604d\">a</span><span style=\"background-color:#fddbc7\">t</span><span style=\"background-color:#f4a582\"> </span><span style=\"background-color:#fddbc7\">w</span><span style=\"background-color:#d6604d\">e</span><span style=\"background-color:#f4a582\">l</span><span style=\"background-color:#fddbc7\">l</span><span style=\"background-color:#f7f7f7\">.</span><span style=\"background-color:#f7f7f7\">\"</span><span style=\"background-color:#fddbc7\"> </span><span style=\"background-color:#fddbc7\">-</span><span style=\"background-color:#f7f7f7\"> </span><span style=\"background-color:#d1e5f0\">@</span><span style=\"background-color:#d1e5f0\">B</span><span style=\"background-color:#d6604d\">a</span><span style=\"background-color:#fddbc7\">r</span><span style=\"background-color:#fddbc7\">a</span><span style=\"background-color:#fddbc7\">c</span><span style=\"background-color:#f4a582\">k</span><span style=\"background-color:#d6604d\">O</span><span style=\"background-color:#d6604d\">b</span><span style=\"background-color:#d6604d\">a</span><span style=\"background-color:#f4a582\">m</span><span style=\"background-color:#d6604d\">a</span><span style=\"background-color:#f4a582\"> </span><span style=\"background-color:#fddbc7\">s</span><span style=\"background-color:#f4a582\">h</span><span style=\"background-color:#f4a582\">o</span><span style=\"background-color:#fddbc7\">u</span><span style=\"background-color:#d1e5f0\">l</span><span style=\"background-color:#f7f7f7\">d</span><span style=\"background-color:#f4a582\"> </span><span style=\"background-color:#f7f7f7\">b</span><span style=\"background-color:#d1e5f0\">e</span><span style=\"background-color:#f7f7f7\"> </span><span style=\"background-color:#f7f7f7\">b</span><span style=\"background-color:#f7f7f7\">e</span><span style=\"background-color:#f7f7f7\">t</span><span style=\"background-color:#f4a582\">t</span><span style=\"background-color:#fddbc7\">e</span><span style=\"background-color:#f4a582\">r</span><span style=\"background-color:#d6604d\">!</span><span style=\"background-color:#f7f7f7\"><br></span><span style=\"background-color:#f7f7f7\">I</span><span style=\"background-color:#f7f7f7\">f</span><span style=\"background-color:#fddbc7\"> </span><span style=\"background-color:#f7f7f7\">y</span><span style=\"background-color:#d1e5f0\">o</span><span style=\"background-color:#f4a582\">u</span><span style=\"background-color:#f4a582\"> </span><span style=\"background-color:#f7f7f7\">w</span><span style=\"background-color:#d6604d\">i</span><span style=\"background-color:#fddbc7\">n</span><span style=\"background-color:#fddbc7\"> </span><span style=\"background-color:#f7f7f7\">f</span><span style=\"background-color:#d6604d\">r</span><span style=\"background-color:#f4a582\">i</span><span style=\"background-color:#fddbc7\">e</span><span style=\"background-color:#f4a582\">n</span><span style=\"background-color:#fddbc7\">d</span><span style=\"background-color:#f7f7f7\">s</span><span style=\"background-color:#f7f7f7\"> </span><span style=\"background-color:#f7f7f7\">i</span><span style=\"background-color:#d1e5f0\">n</span><span style=\"background-color:#d1e5f0\"> </span><span style=\"background-color:#f7f7f7\">a</span><span style=\"background-color:#f7f7f7\"> </span><span style=\"background-color:#f7f7f7\">l</span><span style=\"background-color:#f4a582\">a</span><span style=\"background-color:#fddbc7\">n</span><span style=\"background-color:#d1e5f0\">d</span><span style=\"background-color:#f7f7f7\">s</span><span style=\"background-color:#f4a582\">l</span><span style=\"background-color:#f4a582\">i</span><span style=\"background-color:#fddbc7\">d</span><span style=\"background-color:#f4a582\">e</span><span style=\"background-color:#d1e5f0\"> </span><span style=\"background-color:#d1e5f0\">i</span><span style=\"background-color:#d1e5f0\">n</span><span style=\"background-color:#d1e5f0\"> </span><span style=\"background-color:#f7f7f7\">t</span><span style=\"background-color:#f4a582\">h</span><span style=\"background-color:#f4a582\">e</span><span style=\"background-color:#fddbc7\"> </span><span style=\"background-color:#d1e5f0\">s</span><span style=\"background-color:#fddbc7\">u</span><span style=\"background-color:#fddbc7\">p</span><span style=\"background-color:#fddbc7\">p</span><span style=\"background-color:#d1e5f0\">o</span><span style=\"background-color:#f7f7f7\">r</span><span style=\"background-color:#f4a582\">t</span><span style=\"background-color:#d1e5f0\"> </span><span style=\"background-color:#d1e5f0\">o</span><span style=\"background-color:#f4a582\">f</span><span style=\"background-color:#f4a582\"> </span><span style=\"background-color:#d1e5f0\">o</span><span style=\"background-color:#fddbc7\">u</span><span style=\"background-color:#f7f7f7\">r</span><span style=\"background-color:#f7f7f7\"> </span><span style=\"background-color:#fddbc7\">c</span><span style=\"background-color:#d6604d\">o</span><span style=\"background-color:#d6604d\">u</span><span style=\"background-color:#f4a582\">n</span><span style=\"background-color:#fddbc7\">t</span><span style=\"background-color:#f7f7f7\">r</span><span style=\"background-color:#d1e5f0\">y</span><span style=\"background-color:#92c5de\"> </span><span style=\"background-color:#92c5de\">i</span><span style=\"background-color:#92c5de\">n</span><span style=\"background-color:#d1e5f0\"> </span><span style=\"background-color:#f7f7f7\">t</span><span style=\"background-color:#f4a582\">h</span><span style=\"background-color:#f4a582\">e</span><span style=\"background-color:#f7f7f7\"> </span><span style=\"background-color:#d1e5f0\">w</span><span style=\"background-color:#f4a582\">i</span><span style=\"background-color:#f4a582\">n</span><span style=\"background-color:#fddbc7\">n</span><span style=\"background-color:#f7f7f7\">e</span><span style=\"background-color:#d1e5f0\">r</span><span style=\"background-color:#92c5de\">.</span><span style=\"background-color:#92c5de\"> </span><span style=\"background-color:#f7f7f7\">S</span><span style=\"background-color:#f4a582\">t</span><span style=\"background-color:#d6604d\">a</span><span style=\"background-color:#f7f7f7\">y</span><span style=\"background-color:#f7f7f7\"> </span><span style=\"background-color:#d1e5f0\">t</span><span style=\"background-color:#f4a582\">a</span><span style=\"background-color:#fddbc7\">x</span><span style=\"background-color:#f4a582\">e</span><span style=\"background-color:#d1e5f0\">s</span><span style=\"background-color:#f7f7f7\"> </span><span style=\"background-color:#f7f7f7\">a</span><span style=\"background-color:#f7f7f7\">t</span><span style=\"background-color:#f4a582\"> </span><span style=\"background-color:#f7f7f7\">t</span><span style=\"background-color:#f4a582\">h</span><span style=\"background-color:#f4a582\">e</span><span style=\"background-color:#fddbc7\"> </span><span style=\"background-color:#d1e5f0\">U</span><span style=\"background-color:#d1e5f0\">.</span><span style=\"background-color:#92c5de\">S</span><span style=\"background-color:#d1e5f0\">.</span><span style=\"background-color:#f7f7f7\"> </span><span style=\"background-color:#d1e5f0\">i</span><span style=\"background-color:#92c5de\">s</span><span style=\"background-color:#d1e5f0\"> </span><span style=\"background-color:#d1e5f0\">n</span><span style=\"background-color:#d1e5f0\">o</span><span style=\"background-color:#fddbc7\">t</span><span style=\"background-color:#f4a582\"> </span><span style=\"background-color:#d1e5f0\">t</span><span style=\"background-color:#fddbc7\">o</span><span style=\"background-color:#f4a582\">o</span><span style=\"background-color:#d6604d\"> </span><span style=\"background-color:#f7f7f7\">s</span><span style=\"background-color:#f7f7f7\">m</span><span style=\"background-color:#f4a582\">a</span><span style=\"background-color:#fddbc7\">r</span><span style=\"background-color:#f4a582\">t</span><span style=\"background-color:#d1e5f0\">!</span><span style=\"background-color:#f7f7f7\">.</span><span style=\"background-color:#fddbc7\">.</span><span style=\"background-color:#f7f7f7\">.</span><span style=\"background-color:#f7f7f7\"> </span><span style=\"background-color:#fddbc7\">h</span><span style=\"background-color:#d6604d\">t</span><span style=\"background-color:#d6604d\">t</span><span style=\"background-color:#f4a582\">p</span><span style=\"background-color:#d1e5f0\">:</span><span style=\"background-color:#92c5de\">/</span><span style=\"background-color:#92c5de\">/</span><span style=\"background-color:#92c5de\">t</span><span style=\"background-color:#92c5de\">.</span><span style=\"background-color:#d1e5f0\">c</span><span style=\"background-color:#fddbc7\">o</span><span style=\"background-color:#f4a582\">/</span><span style=\"background-color:#fddbc7\">Y</span><span style=\"background-color:#fddbc7\">x</span><span style=\"background-color:#fddbc7\">x</span><span style=\"background-color:#fddbc7\">x</span><span style=\"background-color:#fddbc7\">B</span><span style=\"background-color:#fddbc7\">x</span><span style=\"background-color:#fddbc7\">c</span><span style=\"background-color:#fddbc7\">6</span><span style=\"background-color:#fddbc7\"><br></span><span style=\"background-color:#f7f7f7\">T</span><span style=\"background-color:#d6604d\">r</span><span style=\"background-color:#d6604d\">a</span><span style=\"background-color:#f4a582\">v</span><span style=\"background-color:#f4a582\">e</span><span style=\"background-color:#d1e5f0\">l</span><span style=\"background-color:#f7f7f7\"> </span><span style=\"background-color:#d1e5f0\">w</span><span style=\"background-color:#d6604d\">h</span><span style=\"background-color:#d6604d\">o</span><span style=\"background-color:#d6604d\"> </span><span style=\"background-color:#f7f7f7\">w</span><span style=\"background-color:#d6604d\">o</span><span style=\"background-color:#d6604d\">u</span><span style=\"background-color:#f4a582\">l</span><span style=\"background-color:#fddbc7\">d</span><span style=\"background-color:#f4a582\"> </span><span style=\"background-color:#f7f7f7\">b</span><span style=\"background-color:#d1e5f0\">e</span><span style=\"background-color:#f7f7f7\"> </span><span style=\"background-color:#f7f7f7\">a</span><span style=\"background-color:#f7f7f7\"> </span><span style=\"background-color:#f7f7f7\">s</span><span style=\"background-color:#f7f7f7\">t</span><span style=\"background-color:#d6604d\">i</span><span style=\"background-color:#fddbc7\">l</span><span style=\"background-color:#f4a582\">l</span><span style=\"background-color:#f7f7f7\"> </span><span style=\"background-color:#d1e5f0\">b</span><span style=\"background-color:#f7f7f7\">e</span><span style=\"background-color:#f7f7f7\">t</span><span style=\"background-color:#f7f7f7\">t</span><span style=\"background-color:#d1e5f0\">e</span><span style=\"background-color:#f7f7f7\">r</span><span style=\"background-color:#f4a582\"> </span><span style=\"background-color:#d1e5f0\">a</span><span style=\"background-color:#d1e5f0\">n</span><span style=\"background-color:#f7f7f7\">d</span><span style=\"background-color:#d6604d\"> </span><span style=\"background-color:#f7f7f7\">w</span><span style=\"background-color:#d6604d\">i</span><span style=\"background-color:#f4a582\">t</span><span style=\"background-color:#f4a582\">h</span><span style=\"background-color:#f7f7f7\"> </span><span style=\"background-color:#f7f7f7\">m</span><span style=\"background-color:#f7f7f7\">i</span><span style=\"background-color:#92c5de\">l</span><span style=\"background-color:#fddbc7\">i</span><span style=\"background-color:#fddbc7\">t</span><span style=\"background-color:#fddbc7\">a</span><span style=\"background-color:#d1e5f0\">r</span><span style=\"background-color:#92c5de\">y</span><span style=\"background-color:#92c5de\"> </span><span style=\"background-color:#92c5de\">s</span><span style=\"background-color:#d1e5f0\">h</span><span style=\"background-color:#f4a582\">o</span><span style=\"background-color:#f4a582\">u</span><span style=\"background-color:#d1e5f0\">l</span><span style=\"background-color:#f7f7f7\">d</span><span style=\"background-color:#f4a582\"> </span><span style=\"background-color:#f7f7f7\">b</span><span style=\"background-color:#d1e5f0\">e</span><span style=\"background-color:#f7f7f7\"> </span><span style=\"background-color:#f7f7f7\">a</span><span style=\"background-color:#f7f7f7\"> </span><span style=\"background-color:#f7f7f7\">s</span><span style=\"background-color:#f7f7f7\">u</span><span style=\"background-color:#fddbc7\">c</span><span style=\"background-color:#f4a582\">c</span><span style=\"background-color:#d1e5f0\">e</span><span style=\"background-color:#92c5de\">s</span><span style=\"background-color:#92c5de\">s</span><span style=\"background-color:#d1e5f0\">f</span><span style=\"background-color:#f4a582\">u</span><span style=\"background-color:#f7f7f7\">l</span><span style=\"background-color:#f7f7f7\"> </span><span style=\"background-color:#f7f7f7\">c</span><span style=\"background-color:#f4a582\">o</span><span style=\"background-color:#f4a582\">u</span><span style=\"background-color:#fddbc7\">p</span><span style=\"background-color:#f7f7f7\">t</span><span style=\"background-color:#fddbc7\"> </span><span style=\"background-color:#f7f7f7\">o</span><span style=\"background-color:#f4a582\">f</span><span style=\"background-color:#f4a582\"> </span><span style=\"background-color:#f7f7f7\">a</span><span style=\"background-color:#f7f7f7\"> </span><span style=\"background-color:#f7f7f7\">b</span><span style=\"background-color:#f4a582\">i</span><span style=\"background-color:#f4a582\">g</span><span style=\"background-color:#f4a582\"> </span><span style=\"background-color:#fddbc7\">s</span><span style=\"background-color:#fddbc7\">p</span><span style=\"background-color:#d6604d\">o</span><span style=\"background-color:#f4a582\">k</span><span style=\"background-color:#f7f7f7\"> </span><span style=\"background-color:#f7f7f7\">w</span><span style=\"background-color:#d6604d\">h</span><span style=\"background-color:#d6604d\">y</span><span style=\"background-color:#f4a582\"> </span><span style=\"background-color:#fddbc7\">t</span><span style=\"background-color:#d6604d\">h</span><span style=\"background-color:#f4a582\">e</span><span style=\"background-color:#fddbc7\">y</span><span style=\"background-color:#f7f7f7\"> </span><span style=\"background-color:#f7f7f7\">a</span><span style=\"background-color:#f7f7f7\">r</span><span style=\"background-color:#fddbc7\">e</span><span style=\"background-color:#f7f7f7\"> </span><span style=\"background-color:#f7f7f7\">n</span><span style=\"background-color:#d1e5f0\">o</span><span style=\"background-color:#fddbc7\">t</span><span style=\"background-color:#f4a582\"> </span><span style=\"background-color:#f7f7f7\">b</span><span style=\"background-color:#d1e5f0\">a</span><span style=\"background-color:#f7f7f7\">n</span><span style=\"background-color:#f7f7f7\"> </span><span style=\"background-color:#f7f7f7\">a</span><span style=\"background-color:#f7f7f7\">n</span><span style=\"background-color:#d1e5f0\">d</span><span style=\"background-color:#d6604d\"> </span><span style=\"background-color:#fddbc7\">t</span><span style=\"background-color:#d6604d\">o</span><span style=\"background-color:#f4a582\">u</span><span style=\"background-color:#fddbc7\">g</span><span style=\"background-color:#f4a582\">h</span><span style=\"background-color:#f7f7f7\"> </span><span style=\"background-color:#f7f7f7\">a</span><span style=\"background-color:#f7f7f7\">n</span><span style=\"background-color:#f7f7f7\">d</span><span style=\"background-color:#d6604d\"> </span><span style=\"background-color:#f7f7f7\">s</span><span style=\"background-color:#fddbc7\">a</span><span style=\"background-color:#f7f7f7\">y</span><span style=\"background-color:#fddbc7\"> </span><span style=\"background-color:#f7f7f7\">t</span><span style=\"background-color:#f4a582\">h</span><span style=\"background-color:#f4a582\">e</span><span style=\"background-color:#d1e5f0\">y</span><span style=\"background-color:#d1e5f0\"> </span><span style=\"background-color:#f7f7f7\">a</span><span style=\"background-color:#f7f7f7\">r</span><span style=\"background-color:#f7f7f7\">e</span><span style=\"background-color:#f7f7f7\"> </span><span style=\"background-color:#f7f7f7\">s</span><span style=\"background-color:#f7f7f7\">e</span><span style=\"background-color:#f7f7f7\">l</span><span style=\"background-color:#fddbc7\">l</span><span style=\"background-color:#fddbc7\"> </span><span style=\"background-color:#f7f7f7\">o</span><span style=\"background-color:#fddbc7\">r</span><span style=\"background-color:#f4a582\"> </span><span style=\"background-color:#d1e5f0\">i</span><span style=\"background-color:#92c5de\">n</span><span style=\"background-color:#d1e5f0\">s</span><span style=\"background-color:#f7f7f7\">t</span><span style=\"background-color:#f4a582\">i</span><span style=\"background-color:#fddbc7\">n</span><span style=\"background-color:#f7f7f7\">c</span><span style=\"background-color:#f7f7f7\">t</span><span style=\"background-color:#92c5de\">s</span><span style=\"background-color:#d1e5f0\">.</span><span style=\"background-color:#d1e5f0\"><br></span><span style=\"background-color:#f7f7f7\">@</span><span style=\"background-color:#f7f7f7\">A</span><span style=\"background-color:#fddbc7\">m</span><span style=\"background-color:#fddbc7\">e</span><span style=\"background-color:#d1e5f0\">r</span><span style=\"background-color:#f4a582\">i</span><span style=\"background-color:#f7f7f7\">c</span><span style=\"background-color:#fddbc7\">a</span><span style=\"background-color:#d1e5f0\">n</span><span style=\"background-color:#d1e5f0\">R</span><span style=\"background-color:#fddbc7\">e</span><span style=\"background-color:#d1e5f0\">a</span><span style=\"background-color:#f7f7f7\">s</span><span style=\"background-color:#f7f7f7\">h</span><span style=\"background-color:#f4a582\">e</span><span style=\"background-color:#f7f7f7\">r</span><span style=\"background-color:#f7f7f7\"> </span><span style=\"background-color:#d1e5f0\">@</span><span style=\"background-color:#d1e5f0\">M</span><span style=\"background-color:#f4a582\">i</span><span style=\"background-color:#d1e5f0\">s</span><span style=\"background-color:#d1e5f0\">s</span><span style=\"background-color:#f7f7f7\">U</span><span style=\"background-color:#d1e5f0\">n</span><span style=\"background-color:#92c5de\">i</span><span style=\"background-color:#92c5de\">v</span><span style=\"background-color:#92c5de\">e</span><span style=\"background-color:#92c5de\">r</span><span style=\"background-color:#d1e5f0\">s</span><span style=\"background-color:#d1e5f0\">e</span><span style=\"background-color:#92c5de\"> </span><span style=\"background-color:#92c5de\">@</span><span style=\"background-color:#92c5de\">T</span><span style=\"background-color:#f7f7f7\">r</span><span style=\"background-color:#f4a582\">u</span><span style=\"background-color:#d6604d\">m</span><span style=\"background-color:#d6604d\">p</span><span style=\"background-color:#fddbc7\">C</span><span style=\"background-color:#f4a582\">h</span><span style=\"background-color:#d6604d\">i</span><span style=\"background-color:#d6604d\">c</span><span style=\"background-color:#d6604d\">a</span><span style=\"background-color:#d6604d\">g</span><span style=\"background-color:#f4a582\">o</span><span style=\"background-color:#f7f7f7\"> </span><span style=\"background-color:#d1e5f0\">@</span><span style=\"background-color:#d1e5f0\">T</span><span style=\"background-color:#f4a582\">r</span><span style=\"background-color:#d6604d\">u</span><span style=\"background-color:#d6604d\">m</span><span style=\"background-color:#d6604d\">p</span><span style=\"background-color:#fddbc7\">D</span><span style=\"background-color:#f4a582\">o</span><span style=\"background-color:#d6604d\">r</span><span style=\"background-color:#f4a582\">a</span><span style=\"background-color:#fddbc7\">l</span><span style=\"background-color:#f7f7f7\"> </span><span style=\"background-color:#92c5de\">o</span><span style=\"background-color:#fddbc7\">n</span><span style=\"background-color:#d1e5f0\"> </span><span style=\"background-color:#92c5de\">t</span><span style=\"background-color:#d1e5f0\">h</span><span style=\"background-color:#d1e5f0\">e</span><span style=\"background-color:#f7f7f7\"> </span><span style=\"background-color:#d1e5f0\">@</span><span style=\"background-color:#d1e5f0\">N</span><span style=\"background-color:#d1e5f0\">e</span><span style=\"background-color:#d1e5f0\">w</span><span style=\"background-color:#d1e5f0\">s</span><span style=\"background-color:#d1e5f0\">m</span><span style=\"background-color:#d1e5f0\">a</span><span style=\"background-color:#f7f7f7\">x</span><span style=\"background-color:#f7f7f7\">_</span><span style=\"background-color:#92c5de\">M</span><span style=\"background-color:#f7f7f7\">e</span><span style=\"background-color:#92c5de\">d</span><span style=\"background-color:#92c5de\">i</span><span style=\"background-color:#92c5de\">a</span><span style=\"background-color:#92c5de\"> </span><span style=\"background-color:#92c5de\">b</span><span style=\"background-color:#92c5de\">y</span><span style=\"background-color:#92c5de\"> </span><span style=\"background-color:#d1e5f0\">T</span><span style=\"background-color:#f4a582\">h</span><span style=\"background-color:#d6604d\">a</span><span style=\"background-color:#fddbc7\">n</span><span style=\"background-color:#d1e5f0\">k</span><span style=\"background-color:#f7f7f7\"> </span><span style=\"background-color:#d1e5f0\">y</span><span style=\"background-color:#f7f7f7\">o</span><span style=\"background-color:#f4a582\">u</span><span style=\"background-color:#f4a582\"> </span><span style=\"background-color:#fddbc7\">f</span><span style=\"background-color:#f4a582\">r</span><span style=\"background-color:#f4a582\">o</span><span style=\"background-color:#f4a582\">m</span><span style=\"background-color:#d6604d\"> </span><span style=\"background-color:#d1e5f0\">t</span><span style=\"background-color:#f7f7f7\">h</span><span style=\"background-color:#f7f7f7\">e</span><span style=\"background-color:#f7f7f7\"> </span><span style=\"background-color:#d1e5f0\">@</span><span style=\"background-color:#d1e5f0\">B</span><span style=\"background-color:#f4a582\">a</span><span style=\"background-color:#fddbc7\">r</span><span style=\"background-color:#fddbc7\">a</span><span style=\"background-color:#fddbc7\">c</span><span style=\"background-color:#f4a582\">k</span><span style=\"background-color:#f4a582\">O</span><span style=\"background-color:#d6604d\">b</span><span style=\"background-color:#d6604d\">a</span><span style=\"background-color:#f4a582\">m</span><span style=\"background-color:#d6604d\">a</span><span style=\"background-color:#f4a582\">.</span><span style=\"background-color:#d1e5f0\"><br></span><span style=\"background-color:#f7f7f7\">I</span><span style=\"background-color:#f7f7f7\"> </span><span style=\"background-color:#f7f7f7\">a</span><span style=\"background-color:#f7f7f7\">m</span><span style=\"background-color:#d1e5f0\"> </span><span style=\"background-color:#f7f7f7\">s</span><span style=\"background-color:#f7f7f7\">p</span><span style=\"background-color:#f4a582\">e</span><span style=\"background-color:#f4a582\">n</span><span style=\"background-color:#fddbc7\">d</span><span style=\"background-color:#fddbc7\">i</span><span style=\"background-color:#f7f7f7\">n</span><span style=\"background-color:#d1e5f0\">g</span><span style=\"background-color:#fddbc7\"> </span><span style=\"background-color:#f7f7f7\">t</span><span style=\"background-color:#f4a582\">h</span><span style=\"background-color:#f4a582\">e</span><span style=\"background-color:#fddbc7\"> </span><span style=\"background-color:#d1e5f0\">p</span><span style=\"background-color:#fddbc7\">o</span><span style=\"background-color:#f4a582\">l</span><span style=\"background-color:#f7f7f7\">l</span><span style=\"background-color:#d1e5f0\"> </span><span style=\"background-color:#d1e5f0\">n</span><span style=\"background-color:#f7f7f7\">u</span><span style=\"background-color:#f7f7f7\">m</span><span style=\"background-color:#92c5de\">b</span><span style=\"background-color:#92c5de\">e</span><span style=\"background-color:#d1e5f0\">r</span><span style=\"background-color:#d1e5f0\">s</span><span style=\"background-color:#f7f7f7\"> </span><span style=\"background-color:#d1e5f0\">w</span><span style=\"background-color:#d6604d\">i</span><span style=\"background-color:#f4a582\">l</span><span style=\"background-color:#fddbc7\">l</span><span style=\"background-color:#fddbc7\"> </span><span style=\"background-color:#d1e5f0\">b</span><span style=\"background-color:#d1e5f0\">e</span><span style=\"background-color:#d1e5f0\"> </span><span style=\"background-color:#f7f7f7\">a</span><span style=\"background-color:#f7f7f7\"> </span><span style=\"background-color:#d1e5f0\">g</span><span style=\"background-color:#f4a582\">r</span><span style=\"background-color:#f4a582\">e</span><span style=\"background-color:#fddbc7\">a</span><span style=\"background-color:#fddbc7\">t</span><span style=\"background-color:#d1e5f0\"> </span><span style=\"background-color:#92c5de\">c</span><span style=\"background-color:#f7f7f7\">o</span><span style=\"background-color:#fddbc7\">m</span><span style=\"background-color:#f7f7f7\">m</span><span style=\"background-color:#92c5de\">e</span><span style=\"background-color:#f7f7f7\">n</span><span style=\"background-color:#f7f7f7\">t</span><span style=\"background-color:#f7f7f7\">s</span><span style=\"background-color:#f7f7f7\"> </span><span style=\"background-color:#f7f7f7\">o</span><span style=\"background-color:#fddbc7\">f</span><span style=\"background-color:#f4a582\"> </span><span style=\"background-color:#d1e5f0\">c</span><span style=\"background-color:#f7f7f7\">a</span><span style=\"background-color:#fddbc7\">s</span><span style=\"background-color:#fddbc7\">t</span><span style=\"background-color:#d1e5f0\"> </span><span style=\"background-color:#d1e5f0\">i</span><span style=\"background-color:#d1e5f0\">n</span><span style=\"background-color:#d1e5f0\"> </span><span style=\"background-color:#f7f7f7\">t</span><span style=\"background-color:#f4a582\">h</span><span style=\"background-color:#f4a582\">e</span><span style=\"background-color:#fddbc7\"> </span><span style=\"background-color:#d1e5f0\">s</span><span style=\"background-color:#fddbc7\">i</span><span style=\"background-color:#f7f7f7\">g</span><span style=\"background-color:#f4a582\">n</span><span style=\"background-color:#f7f7f7\">a</span><span style=\"background-color:#d1e5f0\">t</span><span style=\"background-color:#92c5de\">u</span><span style=\"background-color:#92c5de\">r</span><span style=\"background-color:#f4a582\">e</span><span style=\"background-color:#92c5de\"> </span><span style=\"background-color:#92c5de\">c</span><span style=\"background-color:#d1e5f0\">o</span><span style=\"background-color:#f7f7f7\">u</span><span style=\"background-color:#d1e5f0\">n</span><span style=\"background-color:#f7f7f7\">t</span><span style=\"background-color:#f7f7f7\">r</span><span style=\"background-color:#d1e5f0\">y</span><span style=\"background-color:#92c5de\">.</span><span style=\"background-color:#92c5de\"><br></span><span style=\"background-color:#f7f7f7\">I</span><span style=\"background-color:#f7f7f7\">n</span><span style=\"background-color:#f7f7f7\"> </span><span style=\"background-color:#f7f7f7\">t</span><span style=\"background-color:#f4a582\">h</span><span style=\"background-color:#f4a582\">a</span><span style=\"background-color:#f7f7f7\">t</span><span style=\"background-color:#f7f7f7\"> </span><span style=\"background-color:#f7f7f7\">I</span><span style=\"background-color:#f7f7f7\"> </span><span style=\"background-color:#f7f7f7\">w</span><span style=\"background-color:#d6604d\">i</span><span style=\"background-color:#fddbc7\">l</span><span style=\"background-color:#f7f7f7\">l</span><span style=\"background-color:#f7f7f7\"> </span><span style=\"background-color:#f7f7f7\">b</span><span style=\"background-color:#d1e5f0\">e</span><span style=\"background-color:#f7f7f7\"> </span><span style=\"background-color:#f7f7f7\">i</span><span style=\"background-color:#d1e5f0\">n</span><span style=\"background-color:#d1e5f0\">t</span><span style=\"background-color:#92c5de\">e</span><span style=\"background-color:#d1e5f0\">r</span><span style=\"background-color:#f4a582\">v</span><span style=\"background-color:#d6604d\">i</span><span style=\"background-color:#f4a582\">e</span><span style=\"background-color:#f4a582\">w</span><span style=\"background-color:#f7f7f7\">e</span><span style=\"background-color:#f7f7f7\">d</span><span style=\"background-color:#fddbc7\"> </span><span style=\"background-color:#d1e5f0\">b</span><span style=\"background-color:#92c5de\">y</span><span style=\"background-color:#d1e5f0\"> </span><span style=\"background-color:#f7f7f7\">@</span><span style=\"background-color:#d1e5f0\">S</span><span style=\"background-color:#fddbc7\">e</span><span style=\"background-color:#f7f7f7\">a</span><span style=\"background-color:#fddbc7\">n</span><span style=\"background-color:#d1e5f0\">H</span><span style=\"background-color:#f4a582\">a</span><span style=\"background-color:#f4a582\">n</span><span style=\"background-color:#d1e5f0\">n</span><span style=\"background-color:#92c5de\">i</span><span style=\"background-color:#92c5de\">t</span><span style=\"background-color:#92c5de\">y</span><span style=\"background-color:#92c5de\"> </span><span style=\"background-color:#92c5de\">t</span><span style=\"background-color:#92c5de\">o</span><span style=\"background-color:#d1e5f0\">n</span><span style=\"background-color:#d1e5f0\">i</span><span style=\"background-color:#92c5de\">g</span><span style=\"background-color:#92c5de\">h</span><span style=\"background-color:#92c5de\">t</span><span style=\"background-color:#92c5de\"> </span><span style=\"background-color:#92c5de\">a</span><span style=\"background-color:#92c5de\">t</span><span style=\"background-color:#92c5de\"> </span><span style=\"background-color:#d1e5f0\">1</span><span style=\"background-color:#92c5de\">0</span><span style=\"background-color:#f7f7f7\">p</span><span style=\"background-color:#f4a582\">m</span><span style=\"background-color:#fddbc7\">E</span><span style=\"background-color:#d1e5f0\"> </span><span style=\"background-color:#d1e5f0\">o</span><span style=\"background-color:#d1e5f0\">n</span><span style=\"background-color:#92c5de\"> </span><span style=\"background-color:#92c5de\">F</span><span style=\"background-color:#92c5de\">o</span><span style=\"background-color:#92c5de\">x</span><span style=\"background-color:#d1e5f0\"> </span><span style=\"background-color:#92c5de\">&</span><span style=\"background-color:#f7f7f7\">a</span><span style=\"background-color:#fddbc7\">m</span><span style=\"background-color:#d6604d\">p</span><span style=\"background-color:#fddbc7\">;</span><span style=\"background-color:#fddbc7\"> </span><span style=\"background-color:#d1e5f0\">F</span><span style=\"background-color:#f7f7f7\">r</span><span style=\"background-color:#d6604d\">i</span><span style=\"background-color:#fddbc7\">e</span><span style=\"background-color:#f4a582\">n</span><span style=\"background-color:#f7f7f7\">d</span><span style=\"background-color:#92c5de\">s</span><span style=\"background-color:#92c5de\"> </span><span style=\"background-color:#92c5de\">a</span><span style=\"background-color:#d1e5f0\">t</span><span style=\"background-color:#92c5de\"> </span><span style=\"background-color:#92c5de\">1</span><span style=\"background-color:#92c5de\">:</span><span style=\"background-color:#fddbc7\">3</span><span style=\"background-color:#fddbc7\">0</span><span style=\"background-color:#fddbc7\">p</span><span style=\"background-color:#d6604d\">m</span><span style=\"background-color:#f7f7f7\">E</span><span style=\"background-color:#d1e5f0\"> </span><span style=\"background-color:#d1e5f0\">o</span><span style=\"background-color:#f7f7f7\">n</span><span style=\"background-color:#92c5de\"> </span><span style=\"background-color:#92c5de\">@</span><span style=\"background-color:#92c5de\">C</span><span style=\"background-color:#d1e5f0\">N</span><span style=\"background-color:#92c5de\">B</span><span style=\"background-color:#92c5de\">C</span><span style=\"background-color:#92c5de\">.</span><span style=\"background-color:#92c5de\"> </span><span style=\"background-color:#92c5de\">T</span><span style=\"background-color:#f4a582\">h</span><span style=\"background-color:#d6604d\">a</span><span style=\"background-color:#fddbc7\">n</span><span style=\"background-color:#d1e5f0\">k</span><span style=\"background-color:#d1e5f0\"> </span><span style=\"background-color:#92c5de\">y</span><span style=\"background-color:#d1e5f0\">o</span><span style=\"background-color:#f4a582\">u</span><span style=\"background-color:#d6604d\"> </span><span style=\"background-color:#fddbc7\">f</span><span style=\"background-color:#f4a582\">e</span><span style=\"background-color:#fddbc7\">r</span><span style=\"background-color:#f7f7f7\"> </span><span style=\"background-color:#f7f7f7\">y</span><span style=\"background-color:#f4a582\">o</span><span style=\"background-color:#d6604d\">u</span><span style=\"background-color:#d6604d\">r</span><span style=\"background-color:#f4a582\"> </span><span style=\"background-color:#d1e5f0\">f</span><span style=\"background-color:#d6604d\">o</span><span style=\"background-color:#f4a582\">c</span><span style=\"background-color:#f4a582\">u</span><span style=\"background-color:#fddbc7\">s</span><span style=\"background-color:#fddbc7\"> </span><span style=\"background-color:#d1e5f0\">o</span><span style=\"background-color:#fddbc7\">n</span><span style=\"background-color:#d1e5f0\"> </span><span style=\"background-color:#d1e5f0\">t</span><span style=\"background-color:#f7f7f7\">h</span><span style=\"background-color:#fddbc7\">e</span><span style=\"background-color:#fddbc7\"> </span><span style=\"background-color:#d1e5f0\">b</span><span style=\"background-color:#f4a582\">i</span><span style=\"background-color:#fddbc7\">g</span><span style=\"background-color:#f4a582\">g</span><span style=\"background-color:#f7f7f7\">e</span><span style=\"background-color:#d1e5f0\">s</span><span style=\"background-color:#f7f7f7\">t</span><span style=\"background-color:#fddbc7\"> </span><span style=\"background-color:#d1e5f0\">c</span><span style=\"background-color:#f4a582\">r</span><span style=\"background-color:#d6604d\">o</span><span style=\"background-color:#d6604d\">w</span><span style=\"background-color:#fddbc7\">d</span><span style=\"background-color:#f7f7f7\">!</span><span style=\"background-color:#f7f7f7\"><br></span><span style=\"background-color:#f7f7f7\">I</span><span style=\"background-color:#f7f7f7\"> </span><span style=\"background-color:#f7f7f7\">a</span><span style=\"background-color:#f7f7f7\">m</span><span style=\"background-color:#d1e5f0\"> </span><span style=\"background-color:#f7f7f7\">s</span><span style=\"background-color:#f7f7f7\">t</span><span style=\"background-color:#d6604d\">a</span><span style=\"background-color:#fddbc7\">r</span><span style=\"background-color:#f4a582\">t</span><span style=\"background-color:#fddbc7\">i</span><span style=\"background-color:#d1e5f0\">n</span><span style=\"background-color:#d1e5f0\">g</span><span style=\"background-color:#fddbc7\"> </span><span style=\"background-color:#d1e5f0\">t</span><span style=\"background-color:#f7f7f7\">o</span><span style=\"background-color:#f4a582\"> </span><span style=\"background-color:#f7f7f7\">b</span><span style=\"background-color:#d1e5f0\">e</span><span style=\"background-color:#d1e5f0\"> </span><span style=\"background-color:#f7f7f7\">p</span><span style=\"background-color:#fddbc7\">a</span><span style=\"background-color:#fddbc7\">s</span><span style=\"background-color:#fddbc7\">s</span><span style=\"background-color:#f7f7f7\">i</span><span style=\"background-color:#f7f7f7\">o</span><span style=\"background-color:#fddbc7\">n</span><span style=\"background-color:#f7f7f7\">a</span><span style=\"background-color:#d1e5f0\">t</span><span style=\"background-color:#f7f7f7\">i</span><span style=\"background-color:#d1e5f0\">o</span><span style=\"background-color:#f7f7f7\">n</span><span style=\"background-color:#92c5de\"> </span><span style=\"background-color:#d1e5f0\">o</span><span style=\"background-color:#fddbc7\">n</span><span style=\"background-color:#d1e5f0\"> </span><span style=\"background-color:#92c5de\">m</span><span style=\"background-color:#d1e5f0\">y</span><span style=\"background-color:#92c5de\"> </span><span style=\"background-color:#d1e5f0\">s</span><span style=\"background-color:#f7f7f7\">o</span><span style=\"background-color:#f4a582\"> </span><span style=\"background-color:#f4a582\">m</span><span style=\"background-color:#d6604d\">u</span><span style=\"background-color:#f4a582\">c</span><span style=\"background-color:#f4a582\">h</span><span style=\"background-color:#d1e5f0\"> </span><span style=\"background-color:#d1e5f0\">t</span><span style=\"background-color:#f7f7f7\">h</span><span style=\"background-color:#f4a582\">i</span><span style=\"background-color:#d1e5f0\">n</span><span style=\"background-color:#92c5de\">g</span><span style=\"background-color:#92c5de\">s</span><span style=\"background-color:#f7f7f7\"> </span><span style=\"background-color:#f7f7f7\">w</span><span style=\"background-color:#f4a582\">o</span><span style=\"background-color:#f4a582\">r</span><span style=\"background-color:#f7f7f7\">k</span><span style=\"background-color:#d1e5f0\"> </span><span style=\"background-color:#d1e5f0\">a</span><span style=\"background-color:#f7f7f7\">s</span><span style=\"background-color:#f7f7f7\"> </span><span style=\"background-color:#f7f7f7\">t</span><span style=\"background-color:#fddbc7\">h</span><span style=\"background-color:#f4a582\">e</span><span style=\"background-color:#f7f7f7\">y</span><span style=\"background-color:#d1e5f0\"> </span><span style=\"background-color:#f7f7f7\">c</span><span style=\"background-color:#f4a582\">o</span><span style=\"background-color:#f4a582\">n</span><span style=\"background-color:#f7f7f7\">t</span><span style=\"background-color:#d1e5f0\">e</span><span style=\"background-color:#d1e5f0\">n</span><span style=\"background-color:#d1e5f0\">t</span><span style=\"background-color:#fddbc7\"> </span><span style=\"background-color:#f7f7f7\">t</span><span style=\"background-color:#fddbc7\">o</span><span style=\"background-color:#fddbc7\"> </span><span style=\"background-color:#f7f7f7\">a</span><span style=\"background-color:#d1e5f0\">c</span><span style=\"background-color:#f7f7f7\">h</span><span style=\"background-color:#f4a582\"> </span><span style=\"background-color:#fddbc7\">t</span><span style=\"background-color:#d6604d\">i</span><span style=\"background-color:#f4a582\">m</span><span style=\"background-color:#fddbc7\">e</span><span style=\"background-color:#d1e5f0\"> </span><span style=\"background-color:#d1e5f0\">i</span><span style=\"background-color:#d1e5f0\">f</span><span style=\"background-color:#d1e5f0\"> </span><span style=\"background-color:#f7f7f7\">w</span><span style=\"background-color:#f4a582\">e</span><span style=\"background-color:#fddbc7\"> </span><span style=\"background-color:#fddbc7\">w</span><span style=\"background-color:#d6604d\">i</span><span style=\"background-color:#fddbc7\">l</span><span style=\"background-color:#fddbc7\">l</span><span style=\"background-color:#f7f7f7\"> </span><span style=\"background-color:#f7f7f7\">b</span><span style=\"background-color:#d1e5f0\">e</span><span style=\"background-color:#f7f7f7\"> </span><span style=\"background-color:#f7f7f7\">a</span><span style=\"background-color:#f7f7f7\"> </span><span style=\"background-color:#f7f7f7\">t</span><span style=\"background-color:#f4a582\">o</span><span style=\"background-color:#d6604d\">t</span><span style=\"background-color:#d6604d\">a</span><span style=\"background-color:#d1e5f0\">l</span></span>"
      ],
      "text/plain": [
       "<IPython.core.display.HTML object>"
      ]
     },
     "execution_count": 53,
     "metadata": {},
     "output_type": "execute_result"
    }
   ],
   "source": [
    "HTML(make_colored_text(samp, states, cell_id=200, layer_id=1))"
   ]
  },
  {
   "cell_type": "code",
   "execution_count": 54,
   "metadata": {},
   "outputs": [
    {
     "data": {
      "text/html": [
       "<span style=\"white-space: per-line; font-family: Courier, Monaco, mono space\"><span style=\"background-color:#f7f7f7\">O</span><span style=\"background-color:#f7f7f7\">b</span><span style=\"background-color:#f7f7f7\">a</span><span style=\"background-color:#f7f7f7\">m</span><span style=\"background-color:#f7f7f7\">a</span><span style=\"background-color:#f7f7f7\"> </span><span style=\"background-color:#f7f7f7\">(</span><span style=\"background-color:#f7f7f7\">c</span><span style=\"background-color:#f7f7f7\">o</span><span style=\"background-color:#f7f7f7\">n</span><span style=\"background-color:#fddbc7\">t</span><span style=\"background-color:#fddbc7\">)</span><span style=\"background-color:#f4a582\"> </span><span style=\"background-color:#f4a582\">h</span><span style=\"background-color:#f4a582\">t</span><span style=\"background-color:#fddbc7\">t</span><span style=\"background-color:#fddbc7\">p</span><span style=\"background-color:#f4a582\">:</span><span style=\"background-color:#f4a582\">/</span><span style=\"background-color:#fddbc7\">/</span><span style=\"background-color:#f7f7f7\">t</span><span style=\"background-color:#f7f7f7\">.</span><span style=\"background-color:#d1e5f0\">c</span><span style=\"background-color:#d1e5f0\">o</span><span style=\"background-color:#d1e5f0\">/</span><span style=\"background-color:#d1e5f0\">2</span><span style=\"background-color:#d1e5f0\">0</span><span style=\"background-color:#d1e5f0\">c</span><span style=\"background-color:#d1e5f0\">Y</span><span style=\"background-color:#d1e5f0\">Y</span><span style=\"background-color:#d1e5f0\">B</span><span style=\"background-color:#d1e5f0\">0</span><span style=\"background-color:#d1e5f0\">4</span><span style=\"background-color:#d1e5f0\"><br></span><span style=\"background-color:#d1e5f0\">\"</span><span style=\"background-color:#fddbc7\">T</span><span style=\"background-color:#fddbc7\">h</span><span style=\"background-color:#f4a582\">e</span><span style=\"background-color:#fddbc7\"> </span><span style=\"background-color:#fddbc7\">p</span><span style=\"background-color:#f4a582\">o</span><span style=\"background-color:#f7f7f7\">s</span><span style=\"background-color:#f7f7f7\">t</span><span style=\"background-color:#f7f7f7\"> </span><span style=\"background-color:#f7f7f7\">i</span><span style=\"background-color:#fddbc7\">s</span><span style=\"background-color:#fddbc7\"> </span><span style=\"background-color:#f7f7f7\">t</span><span style=\"background-color:#fddbc7\">h</span><span style=\"background-color:#f4a582\">e</span><span style=\"background-color:#fddbc7\"> </span><span style=\"background-color:#f7f7f7\">p</span><span style=\"background-color:#fddbc7\">e</span><span style=\"background-color:#f7f7f7\">o</span><span style=\"background-color:#d1e5f0\">p</span><span style=\"background-color:#fddbc7\">l</span><span style=\"background-color:#fddbc7\">e</span><span style=\"background-color:#f7f7f7\"> </span><span style=\"background-color:#f7f7f7\">i</span><span style=\"background-color:#fddbc7\">n</span><span style=\"background-color:#fddbc7\"> </span><span style=\"background-color:#fddbc7\">A</span><span style=\"background-color:#fddbc7\">m</span><span style=\"background-color:#f7f7f7\">e</span><span style=\"background-color:#fddbc7\">r</span><span style=\"background-color:#fddbc7\">i</span><span style=\"background-color:#fddbc7\">c</span><span style=\"background-color:#f7f7f7\">a</span><span style=\"background-color:#f7f7f7\">.</span><span style=\"background-color:#d1e5f0\"> </span><span style=\"background-color:#d1e5f0\">T</span><span style=\"background-color:#f7f7f7\">h</span><span style=\"background-color:#fddbc7\">e</span><span style=\"background-color:#fddbc7\"> </span><span style=\"background-color:#f7f7f7\">r</span><span style=\"background-color:#fddbc7\">o</span><span style=\"background-color:#f7f7f7\">l</span><span style=\"background-color:#fddbc7\">l</span><span style=\"background-color:#fddbc7\">a</span><span style=\"background-color:#fddbc7\">u</span><span style=\"background-color:#fddbc7\">t</span><span style=\"background-color:#f7f7f7\"> </span><span style=\"background-color:#f7f7f7\">a</span><span style=\"background-color:#f7f7f7\">g</span><span style=\"background-color:#f7f7f7\">a</span><span style=\"background-color:#fddbc7\">i</span><span style=\"background-color:#fddbc7\">n</span><span style=\"background-color:#f7f7f7\">s</span><span style=\"background-color:#f7f7f7\">t</span><span style=\"background-color:#f7f7f7\"> </span><span style=\"background-color:#f7f7f7\">m</span><span style=\"background-color:#f7f7f7\">e</span><span style=\"background-color:#f7f7f7\"> </span><span style=\"background-color:#f7f7f7\">w</span><span style=\"background-color:#f4a582\">h</span><span style=\"background-color:#fddbc7\">i</span><span style=\"background-color:#fddbc7\">t</span><span style=\"background-color:#fddbc7\">h</span><span style=\"background-color:#fddbc7\"> </span><span style=\"background-color:#fddbc7\">I</span><span style=\"background-color:#fddbc7\"> </span><span style=\"background-color:#f7f7f7\">w</span><span style=\"background-color:#f4a582\">a</span><span style=\"background-color:#fddbc7\">n</span><span style=\"background-color:#fddbc7\">t</span><span style=\"background-color:#fddbc7\"> </span><span style=\"background-color:#fddbc7\">t</span><span style=\"background-color:#f7f7f7\">o</span><span style=\"background-color:#fddbc7\"> </span><span style=\"background-color:#fddbc7\">t</span><span style=\"background-color:#f7f7f7\">o</span><span style=\"background-color:#f7f7f7\">t</span><span style=\"background-color:#f7f7f7\">a</span><span style=\"background-color:#f7f7f7\">l</span><span style=\"background-color:#f7f7f7\"> </span><span style=\"background-color:#f7f7f7\">c</span><span style=\"background-color:#f7f7f7\">a</span><span style=\"background-color:#f7f7f7\">n</span><span style=\"background-color:#f7f7f7\"> </span><span style=\"background-color:#f7f7f7\">w</span><span style=\"background-color:#fddbc7\">o</span><span style=\"background-color:#f7f7f7\">r</span><span style=\"background-color:#f7f7f7\">k</span><span style=\"background-color:#fddbc7\"> </span><span style=\"background-color:#f7f7f7\">a</span><span style=\"background-color:#f7f7f7\">n</span><span style=\"background-color:#f7f7f7\">d</span><span style=\"background-color:#fddbc7\"> </span><span style=\"background-color:#fddbc7\">a</span><span style=\"background-color:#fddbc7\"> </span><span style=\"background-color:#f7f7f7\">t</span><span style=\"background-color:#f7f7f7\">h</span><span style=\"background-color:#f4a582\">e</span><span style=\"background-color:#fddbc7\"> </span><span style=\"background-color:#fddbc7\">f</span><span style=\"background-color:#f7f7f7\">i</span><span style=\"background-color:#f7f7f7\">r</span><span style=\"background-color:#fddbc7\">s</span><span style=\"background-color:#fddbc7\">t</span><span style=\"background-color:#f7f7f7\"> </span><span style=\"background-color:#fddbc7\">p</span><span style=\"background-color:#f4a582\">o</span><span style=\"background-color:#fddbc7\">l</span><span style=\"background-color:#fddbc7\">i</span><span style=\"background-color:#fddbc7\">c</span><span style=\"background-color:#f7f7f7\">i</span><span style=\"background-color:#f7f7f7\">e</span><span style=\"background-color:#d1e5f0\">s</span><span style=\"background-color:#f7f7f7\">!</span><span style=\"background-color:#f7f7f7\"><br></span><span style=\"background-color:#f7f7f7\">\"</span><span style=\"background-color:#f4a582\">I</span><span style=\"background-color:#f4a582\">f</span><span style=\"background-color:#fddbc7\"> </span><span style=\"background-color:#f7f7f7\">y</span><span style=\"background-color:#fddbc7\">o</span><span style=\"background-color:#fddbc7\">u</span><span style=\"background-color:#fddbc7\"> </span><span style=\"background-color:#fddbc7\">d</span><span style=\"background-color:#fddbc7\">o</span><span style=\"background-color:#f7f7f7\">n</span><span style=\"background-color:#f7f7f7\">'</span><span style=\"background-color:#f7f7f7\">t</span><span style=\"background-color:#fddbc7\"> </span><span style=\"background-color:#fddbc7\">h</span><span style=\"background-color:#fddbc7\">a</span><span style=\"background-color:#f7f7f7\">v</span><span style=\"background-color:#fddbc7\">e</span><span style=\"background-color:#fddbc7\"> </span><span style=\"background-color:#f7f7f7\">t</span><span style=\"background-color:#fddbc7\">o</span><span style=\"background-color:#fddbc7\"> </span><span style=\"background-color:#fddbc7\">g</span><span style=\"background-color:#fddbc7\">e</span><span style=\"background-color:#fddbc7\">t</span><span style=\"background-color:#fddbc7\"> </span><span style=\"background-color:#f7f7f7\">i</span><span style=\"background-color:#fddbc7\">t</span><span style=\"background-color:#f7f7f7\"> </span><span style=\"background-color:#f7f7f7\">t</span><span style=\"background-color:#fddbc7\">h</span><span style=\"background-color:#f4a582\">a</span><span style=\"background-color:#fddbc7\">t</span><span style=\"background-color:#fddbc7\"> </span><span style=\"background-color:#fddbc7\">w</span><span style=\"background-color:#f4a582\">e</span><span style=\"background-color:#f7f7f7\"> </span><span style=\"background-color:#f7f7f7\">a</span><span style=\"background-color:#fddbc7\">r</span><span style=\"background-color:#fddbc7\">e</span><span style=\"background-color:#f7f7f7\"> </span><span style=\"background-color:#f7f7f7\">t</span><span style=\"background-color:#f7f7f7\">h</span><span style=\"background-color:#fddbc7\">a</span><span style=\"background-color:#fddbc7\">t</span><span style=\"background-color:#fddbc7\"> </span><span style=\"background-color:#fddbc7\">w</span><span style=\"background-color:#f4a582\">e</span><span style=\"background-color:#f7f7f7\">l</span><span style=\"background-color:#fddbc7\">l</span><span style=\"background-color:#fddbc7\">.</span><span style=\"background-color:#f7f7f7\">\"</span><span style=\"background-color:#fddbc7\"> </span><span style=\"background-color:#f7f7f7\">-</span><span style=\"background-color:#f4a582\"> </span><span style=\"background-color:#fddbc7\">@</span><span style=\"background-color:#fddbc7\">B</span><span style=\"background-color:#f7f7f7\">a</span><span style=\"background-color:#f7f7f7\">r</span><span style=\"background-color:#f7f7f7\">a</span><span style=\"background-color:#d1e5f0\">c</span><span style=\"background-color:#d1e5f0\">k</span><span style=\"background-color:#d1e5f0\">O</span><span style=\"background-color:#d1e5f0\">b</span><span style=\"background-color:#f7f7f7\">a</span><span style=\"background-color:#f7f7f7\">m</span><span style=\"background-color:#f7f7f7\">a</span><span style=\"background-color:#fddbc7\"> </span><span style=\"background-color:#f7f7f7\">s</span><span style=\"background-color:#fddbc7\">h</span><span style=\"background-color:#f4a582\">o</span><span style=\"background-color:#fddbc7\">u</span><span style=\"background-color:#fddbc7\">l</span><span style=\"background-color:#f4a582\">d</span><span style=\"background-color:#fddbc7\"> </span><span style=\"background-color:#f7f7f7\">b</span><span style=\"background-color:#fddbc7\">e</span><span style=\"background-color:#f7f7f7\"> </span><span style=\"background-color:#d1e5f0\">b</span><span style=\"background-color:#f7f7f7\">e</span><span style=\"background-color:#f7f7f7\">t</span><span style=\"background-color:#f7f7f7\">t</span><span style=\"background-color:#f7f7f7\">e</span><span style=\"background-color:#fddbc7\">r</span><span style=\"background-color:#fddbc7\">!</span><span style=\"background-color:#f7f7f7\"><br></span><span style=\"background-color:#f7f7f7\">I</span><span style=\"background-color:#f4a582\">f</span><span style=\"background-color:#fddbc7\"> </span><span style=\"background-color:#f7f7f7\">y</span><span style=\"background-color:#f7f7f7\">o</span><span style=\"background-color:#fddbc7\">u</span><span style=\"background-color:#fddbc7\"> </span><span style=\"background-color:#f7f7f7\">w</span><span style=\"background-color:#f4a582\">i</span><span style=\"background-color:#fddbc7\">n</span><span style=\"background-color:#fddbc7\"> </span><span style=\"background-color:#fddbc7\">f</span><span style=\"background-color:#fddbc7\">r</span><span style=\"background-color:#fddbc7\">i</span><span style=\"background-color:#fddbc7\">e</span><span style=\"background-color:#f7f7f7\">n</span><span style=\"background-color:#f7f7f7\">d</span><span style=\"background-color:#fddbc7\">s</span><span style=\"background-color:#fddbc7\"> </span><span style=\"background-color:#f7f7f7\">i</span><span style=\"background-color:#fddbc7\">n</span><span style=\"background-color:#fddbc7\"> </span><span style=\"background-color:#fddbc7\">a</span><span style=\"background-color:#fddbc7\"> </span><span style=\"background-color:#f7f7f7\">l</span><span style=\"background-color:#f4a582\">a</span><span style=\"background-color:#fddbc7\">n</span><span style=\"background-color:#fddbc7\">d</span><span style=\"background-color:#fddbc7\">s</span><span style=\"background-color:#fddbc7\">l</span><span style=\"background-color:#fddbc7\">i</span><span style=\"background-color:#fddbc7\">d</span><span style=\"background-color:#fddbc7\">e</span><span style=\"background-color:#f7f7f7\"> </span><span style=\"background-color:#f7f7f7\">i</span><span style=\"background-color:#fddbc7\">n</span><span style=\"background-color:#f7f7f7\"> </span><span style=\"background-color:#fddbc7\">t</span><span style=\"background-color:#fddbc7\">h</span><span style=\"background-color:#f4a582\">e</span><span style=\"background-color:#fddbc7\"> </span><span style=\"background-color:#f7f7f7\">s</span><span style=\"background-color:#fddbc7\">u</span><span style=\"background-color:#f7f7f7\">p</span><span style=\"background-color:#fddbc7\">p</span><span style=\"background-color:#f4a582\">o</span><span style=\"background-color:#fddbc7\">r</span><span style=\"background-color:#fddbc7\">t</span><span style=\"background-color:#f7f7f7\"> </span><span style=\"background-color:#f7f7f7\">o</span><span style=\"background-color:#f7f7f7\">f</span><span style=\"background-color:#f7f7f7\"> </span><span style=\"background-color:#f7f7f7\">o</span><span style=\"background-color:#f7f7f7\">u</span><span style=\"background-color:#f7f7f7\">r</span><span style=\"background-color:#fddbc7\"> </span><span style=\"background-color:#f7f7f7\">c</span><span style=\"background-color:#d1e5f0\">o</span><span style=\"background-color:#d1e5f0\">u</span><span style=\"background-color:#f7f7f7\">n</span><span style=\"background-color:#fddbc7\">t</span><span style=\"background-color:#fddbc7\">r</span><span style=\"background-color:#fddbc7\">y</span><span style=\"background-color:#f7f7f7\"> </span><span style=\"background-color:#f7f7f7\">i</span><span style=\"background-color:#fddbc7\">n</span><span style=\"background-color:#f7f7f7\"> </span><span style=\"background-color:#f7f7f7\">t</span><span style=\"background-color:#fddbc7\">h</span><span style=\"background-color:#fddbc7\">e</span><span style=\"background-color:#fddbc7\"> </span><span style=\"background-color:#f7f7f7\">w</span><span style=\"background-color:#fddbc7\">i</span><span style=\"background-color:#fddbc7\">n</span><span style=\"background-color:#f7f7f7\">n</span><span style=\"background-color:#fddbc7\">e</span><span style=\"background-color:#fddbc7\">r</span><span style=\"background-color:#fddbc7\">.</span><span style=\"background-color:#f7f7f7\"> </span><span style=\"background-color:#f7f7f7\">S</span><span style=\"background-color:#fddbc7\">t</span><span style=\"background-color:#f7f7f7\">a</span><span style=\"background-color:#fddbc7\">y</span><span style=\"background-color:#fddbc7\"> </span><span style=\"background-color:#f7f7f7\">t</span><span style=\"background-color:#f7f7f7\">a</span><span style=\"background-color:#fddbc7\">x</span><span style=\"background-color:#fddbc7\">e</span><span style=\"background-color:#f7f7f7\">s</span><span style=\"background-color:#f7f7f7\"> </span><span style=\"background-color:#d1e5f0\">a</span><span style=\"background-color:#f7f7f7\">t</span><span style=\"background-color:#f7f7f7\"> </span><span style=\"background-color:#fddbc7\">t</span><span style=\"background-color:#fddbc7\">h</span><span style=\"background-color:#fddbc7\">e</span><span style=\"background-color:#fddbc7\"> </span><span style=\"background-color:#f7f7f7\">U</span><span style=\"background-color:#f7f7f7\">.</span><span style=\"background-color:#d1e5f0\">S</span><span style=\"background-color:#f7f7f7\">.</span><span style=\"background-color:#d1e5f0\"> </span><span style=\"background-color:#f7f7f7\">i</span><span style=\"background-color:#fddbc7\">s</span><span style=\"background-color:#fddbc7\"> </span><span style=\"background-color:#fddbc7\">n</span><span style=\"background-color:#fddbc7\">o</span><span style=\"background-color:#fddbc7\">t</span><span style=\"background-color:#fddbc7\"> </span><span style=\"background-color:#f7f7f7\">t</span><span style=\"background-color:#fddbc7\">o</span><span style=\"background-color:#fddbc7\">o</span><span style=\"background-color:#fddbc7\"> </span><span style=\"background-color:#f7f7f7\">s</span><span style=\"background-color:#f7f7f7\">m</span><span style=\"background-color:#d1e5f0\">a</span><span style=\"background-color:#fddbc7\">r</span><span style=\"background-color:#fddbc7\">t</span><span style=\"background-color:#fddbc7\">!</span><span style=\"background-color:#fddbc7\">.</span><span style=\"background-color:#f7f7f7\">.</span><span style=\"background-color:#d1e5f0\">.</span><span style=\"background-color:#d1e5f0\"> </span><span style=\"background-color:#f7f7f7\">h</span><span style=\"background-color:#fddbc7\">t</span><span style=\"background-color:#f7f7f7\">t</span><span style=\"background-color:#fddbc7\">p</span><span style=\"background-color:#f4a582\">:</span><span style=\"background-color:#f4a582\">/</span><span style=\"background-color:#fddbc7\">/</span><span style=\"background-color:#f7f7f7\">t</span><span style=\"background-color:#f7f7f7\">.</span><span style=\"background-color:#d1e5f0\">c</span><span style=\"background-color:#d1e5f0\">o</span><span style=\"background-color:#d1e5f0\">/</span><span style=\"background-color:#d1e5f0\">Y</span><span style=\"background-color:#d1e5f0\">x</span><span style=\"background-color:#d1e5f0\">x</span><span style=\"background-color:#d1e5f0\">x</span><span style=\"background-color:#f7f7f7\">B</span><span style=\"background-color:#f7f7f7\">x</span><span style=\"background-color:#f7f7f7\">c</span><span style=\"background-color:#f7f7f7\">6</span><span style=\"background-color:#f7f7f7\"><br></span><span style=\"background-color:#f7f7f7\">T</span><span style=\"background-color:#fddbc7\">r</span><span style=\"background-color:#f4a582\">a</span><span style=\"background-color:#fddbc7\">v</span><span style=\"background-color:#fddbc7\">e</span><span style=\"background-color:#fddbc7\">l</span><span style=\"background-color:#f4a582\"> </span><span style=\"background-color:#fddbc7\">w</span><span style=\"background-color:#f4a582\">h</span><span style=\"background-color:#fddbc7\">o</span><span style=\"background-color:#f7f7f7\"> </span><span style=\"background-color:#fddbc7\">w</span><span style=\"background-color:#f4a582\">o</span><span style=\"background-color:#fddbc7\">u</span><span style=\"background-color:#fddbc7\">l</span><span style=\"background-color:#fddbc7\">d</span><span style=\"background-color:#fddbc7\"> </span><span style=\"background-color:#f7f7f7\">b</span><span style=\"background-color:#f7f7f7\">e</span><span style=\"background-color:#f7f7f7\"> </span><span style=\"background-color:#d1e5f0\">a</span><span style=\"background-color:#f7f7f7\"> </span><span style=\"background-color:#f7f7f7\">s</span><span style=\"background-color:#fddbc7\">t</span><span style=\"background-color:#f7f7f7\">i</span><span style=\"background-color:#fddbc7\">l</span><span style=\"background-color:#fddbc7\">l</span><span style=\"background-color:#fddbc7\"> </span><span style=\"background-color:#f7f7f7\">b</span><span style=\"background-color:#f7f7f7\">e</span><span style=\"background-color:#f7f7f7\">t</span><span style=\"background-color:#f7f7f7\">t</span><span style=\"background-color:#f7f7f7\">e</span><span style=\"background-color:#fddbc7\">r</span><span style=\"background-color:#fddbc7\"> </span><span style=\"background-color:#f7f7f7\">a</span><span style=\"background-color:#fddbc7\">n</span><span style=\"background-color:#fddbc7\">d</span><span style=\"background-color:#fddbc7\"> </span><span style=\"background-color:#fddbc7\">w</span><span style=\"background-color:#f4a582\">i</span><span style=\"background-color:#fddbc7\">t</span><span style=\"background-color:#f7f7f7\">h</span><span style=\"background-color:#fddbc7\"> </span><span style=\"background-color:#f7f7f7\">m</span><span style=\"background-color:#f7f7f7\">i</span><span style=\"background-color:#fddbc7\">l</span><span style=\"background-color:#fddbc7\">i</span><span style=\"background-color:#fddbc7\">t</span><span style=\"background-color:#f7f7f7\">a</span><span style=\"background-color:#f7f7f7\">r</span><span style=\"background-color:#f7f7f7\">y</span><span style=\"background-color:#f7f7f7\"> </span><span style=\"background-color:#f7f7f7\">s</span><span style=\"background-color:#fddbc7\">h</span><span style=\"background-color:#fddbc7\">o</span><span style=\"background-color:#f7f7f7\">u</span><span style=\"background-color:#f7f7f7\">l</span><span style=\"background-color:#fddbc7\">d</span><span style=\"background-color:#fddbc7\"> </span><span style=\"background-color:#f7f7f7\">b</span><span style=\"background-color:#fddbc7\">e</span><span style=\"background-color:#f7f7f7\"> </span><span style=\"background-color:#d1e5f0\">a</span><span style=\"background-color:#f7f7f7\"> </span><span style=\"background-color:#f7f7f7\">s</span><span style=\"background-color:#fddbc7\">u</span><span style=\"background-color:#f7f7f7\">c</span><span style=\"background-color:#f7f7f7\">c</span><span style=\"background-color:#f7f7f7\">e</span><span style=\"background-color:#d1e5f0\">s</span><span style=\"background-color:#f7f7f7\">s</span><span style=\"background-color:#fddbc7\">f</span><span style=\"background-color:#fddbc7\">u</span><span style=\"background-color:#fddbc7\">l</span><span style=\"background-color:#fddbc7\"> </span><span style=\"background-color:#fddbc7\">c</span><span style=\"background-color:#f7f7f7\">o</span><span style=\"background-color:#f7f7f7\">u</span><span style=\"background-color:#f7f7f7\">p</span><span style=\"background-color:#f4a582\">t</span><span style=\"background-color:#fddbc7\"> </span><span style=\"background-color:#fddbc7\">o</span><span style=\"background-color:#fddbc7\">f</span><span style=\"background-color:#fddbc7\"> </span><span style=\"background-color:#f7f7f7\">a</span><span style=\"background-color:#f7f7f7\"> </span><span style=\"background-color:#f7f7f7\">b</span><span style=\"background-color:#fddbc7\">i</span><span style=\"background-color:#fddbc7\">g</span><span style=\"background-color:#fddbc7\"> </span><span style=\"background-color:#d1e5f0\">s</span><span style=\"background-color:#f7f7f7\">p</span><span style=\"background-color:#fddbc7\">o</span><span style=\"background-color:#f7f7f7\">k</span><span style=\"background-color:#fddbc7\"> </span><span style=\"background-color:#fddbc7\">w</span><span style=\"background-color:#f4a582\">h</span><span style=\"background-color:#fddbc7\">y</span><span style=\"background-color:#fddbc7\"> </span><span style=\"background-color:#fddbc7\">t</span><span style=\"background-color:#fddbc7\">h</span><span style=\"background-color:#f4a582\">e</span><span style=\"background-color:#fddbc7\">y</span><span style=\"background-color:#f7f7f7\"> </span><span style=\"background-color:#f7f7f7\">a</span><span style=\"background-color:#fddbc7\">r</span><span style=\"background-color:#fddbc7\">e</span><span style=\"background-color:#f7f7f7\"> </span><span style=\"background-color:#f7f7f7\">n</span><span style=\"background-color:#fddbc7\">o</span><span style=\"background-color:#fddbc7\">t</span><span style=\"background-color:#f7f7f7\"> </span><span style=\"background-color:#f7f7f7\">b</span><span style=\"background-color:#fddbc7\">a</span><span style=\"background-color:#fddbc7\">n</span><span style=\"background-color:#f7f7f7\"> </span><span style=\"background-color:#f7f7f7\">a</span><span style=\"background-color:#f7f7f7\">n</span><span style=\"background-color:#f7f7f7\">d</span><span style=\"background-color:#fddbc7\"> </span><span style=\"background-color:#f7f7f7\">t</span><span style=\"background-color:#f7f7f7\">o</span><span style=\"background-color:#fddbc7\">u</span><span style=\"background-color:#fddbc7\">g</span><span style=\"background-color:#fddbc7\">h</span><span style=\"background-color:#fddbc7\"> </span><span style=\"background-color:#f7f7f7\">a</span><span style=\"background-color:#f7f7f7\">n</span><span style=\"background-color:#f7f7f7\">d</span><span style=\"background-color:#fddbc7\"> </span><span style=\"background-color:#f7f7f7\">s</span><span style=\"background-color:#fddbc7\">a</span><span style=\"background-color:#f7f7f7\">y</span><span style=\"background-color:#f7f7f7\"> </span><span style=\"background-color:#f7f7f7\">t</span><span style=\"background-color:#fddbc7\">h</span><span style=\"background-color:#fddbc7\">e</span><span style=\"background-color:#fddbc7\">y</span><span style=\"background-color:#f7f7f7\"> </span><span style=\"background-color:#f7f7f7\">a</span><span style=\"background-color:#fddbc7\">r</span><span style=\"background-color:#fddbc7\">e</span><span style=\"background-color:#f7f7f7\"> </span><span style=\"background-color:#f7f7f7\">s</span><span style=\"background-color:#fddbc7\">e</span><span style=\"background-color:#fddbc7\">l</span><span style=\"background-color:#fddbc7\">l</span><span style=\"background-color:#f4a582\"> </span><span style=\"background-color:#fddbc7\">o</span><span style=\"background-color:#f7f7f7\">r</span><span style=\"background-color:#fddbc7\"> </span><span style=\"background-color:#f7f7f7\">i</span><span style=\"background-color:#fddbc7\">n</span><span style=\"background-color:#f7f7f7\">s</span><span style=\"background-color:#fddbc7\">t</span><span style=\"background-color:#fddbc7\">i</span><span style=\"background-color:#fddbc7\">n</span><span style=\"background-color:#fddbc7\">c</span><span style=\"background-color:#f7f7f7\">t</span><span style=\"background-color:#f7f7f7\">s</span><span style=\"background-color:#f7f7f7\">.</span><span style=\"background-color:#d1e5f0\"><br></span><span style=\"background-color:#f7f7f7\">@</span><span style=\"background-color:#fddbc7\">A</span><span style=\"background-color:#fddbc7\">m</span><span style=\"background-color:#f7f7f7\">e</span><span style=\"background-color:#fddbc7\">r</span><span style=\"background-color:#fddbc7\">i</span><span style=\"background-color:#fddbc7\">c</span><span style=\"background-color:#d1e5f0\">a</span><span style=\"background-color:#d1e5f0\">n</span><span style=\"background-color:#d1e5f0\">R</span><span style=\"background-color:#f7f7f7\">e</span><span style=\"background-color:#f7f7f7\">a</span><span style=\"background-color:#f7f7f7\">s</span><span style=\"background-color:#fddbc7\">h</span><span style=\"background-color:#fddbc7\">e</span><span style=\"background-color:#fddbc7\">r</span><span style=\"background-color:#fddbc7\"> </span><span style=\"background-color:#fddbc7\">@</span><span style=\"background-color:#fddbc7\">M</span><span style=\"background-color:#f7f7f7\">i</span><span style=\"background-color:#fddbc7\">s</span><span style=\"background-color:#fddbc7\">s</span><span style=\"background-color:#f4a582\">U</span><span style=\"background-color:#fddbc7\">n</span><span style=\"background-color:#f7f7f7\">i</span><span style=\"background-color:#fddbc7\">v</span><span style=\"background-color:#f4a582\">e</span><span style=\"background-color:#fddbc7\">r</span><span style=\"background-color:#fddbc7\">s</span><span style=\"background-color:#fddbc7\">e</span><span style=\"background-color:#fddbc7\"> </span><span style=\"background-color:#fddbc7\">@</span><span style=\"background-color:#fddbc7\">T</span><span style=\"background-color:#f7f7f7\">r</span><span style=\"background-color:#fddbc7\">u</span><span style=\"background-color:#f7f7f7\">m</span><span style=\"background-color:#f7f7f7\">p</span><span style=\"background-color:#fddbc7\">C</span><span style=\"background-color:#f4a582\">h</span><span style=\"background-color:#f4a582\">i</span><span style=\"background-color:#fddbc7\">c</span><span style=\"background-color:#f7f7f7\">a</span><span style=\"background-color:#f7f7f7\">g</span><span style=\"background-color:#fddbc7\">o</span><span style=\"background-color:#fddbc7\"> </span><span style=\"background-color:#f7f7f7\">@</span><span style=\"background-color:#f7f7f7\">T</span><span style=\"background-color:#f7f7f7\">r</span><span style=\"background-color:#fddbc7\">u</span><span style=\"background-color:#f7f7f7\">m</span><span style=\"background-color:#f7f7f7\">p</span><span style=\"background-color:#f4a582\">D</span><span style=\"background-color:#fddbc7\">o</span><span style=\"background-color:#f7f7f7\">r</span><span style=\"background-color:#f7f7f7\">a</span><span style=\"background-color:#f7f7f7\">l</span><span style=\"background-color:#f7f7f7\"> </span><span style=\"background-color:#f7f7f7\">o</span><span style=\"background-color:#f7f7f7\">n</span><span style=\"background-color:#fddbc7\"> </span><span style=\"background-color:#fddbc7\">t</span><span style=\"background-color:#fddbc7\">h</span><span style=\"background-color:#fddbc7\">e</span><span style=\"background-color:#fddbc7\"> </span><span style=\"background-color:#f7f7f7\">@</span><span style=\"background-color:#f7f7f7\">N</span><span style=\"background-color:#f7f7f7\">e</span><span style=\"background-color:#f7f7f7\">w</span><span style=\"background-color:#fddbc7\">s</span><span style=\"background-color:#fddbc7\">m</span><span style=\"background-color:#fddbc7\">a</span><span style=\"background-color:#f7f7f7\">x</span><span style=\"background-color:#f7f7f7\">_</span><span style=\"background-color:#d1e5f0\">M</span><span style=\"background-color:#f7f7f7\">e</span><span style=\"background-color:#f7f7f7\">d</span><span style=\"background-color:#f7f7f7\">i</span><span style=\"background-color:#fddbc7\">a</span><span style=\"background-color:#f7f7f7\"> </span><span style=\"background-color:#f7f7f7\">b</span><span style=\"background-color:#fddbc7\">y</span><span style=\"background-color:#fddbc7\"> </span><span style=\"background-color:#f7f7f7\">T</span><span style=\"background-color:#fddbc7\">h</span><span style=\"background-color:#fddbc7\">a</span><span style=\"background-color:#fddbc7\">n</span><span style=\"background-color:#f7f7f7\">k</span><span style=\"background-color:#fddbc7\"> </span><span style=\"background-color:#f7f7f7\">y</span><span style=\"background-color:#f7f7f7\">o</span><span style=\"background-color:#f7f7f7\">u</span><span style=\"background-color:#f7f7f7\"> </span><span style=\"background-color:#f7f7f7\">f</span><span style=\"background-color:#fddbc7\">r</span><span style=\"background-color:#fddbc7\">o</span><span style=\"background-color:#f7f7f7\">m</span><span style=\"background-color:#f7f7f7\"> </span><span style=\"background-color:#f7f7f7\">t</span><span style=\"background-color:#f7f7f7\">h</span><span style=\"background-color:#fddbc7\">e</span><span style=\"background-color:#fddbc7\"> </span><span style=\"background-color:#f7f7f7\">@</span><span style=\"background-color:#f7f7f7\">B</span><span style=\"background-color:#f7f7f7\">a</span><span style=\"background-color:#f7f7f7\">r</span><span style=\"background-color:#f7f7f7\">a</span><span style=\"background-color:#f7f7f7\">c</span><span style=\"background-color:#f7f7f7\">k</span><span style=\"background-color:#f7f7f7\">O</span><span style=\"background-color:#f7f7f7\">b</span><span style=\"background-color:#f7f7f7\">a</span><span style=\"background-color:#fddbc7\">m</span><span style=\"background-color:#f7f7f7\">a</span><span style=\"background-color:#fddbc7\">.</span><span style=\"background-color:#f7f7f7\"><br></span><span style=\"background-color:#f7f7f7\">I</span><span style=\"background-color:#f4a582\"> </span><span style=\"background-color:#fddbc7\">a</span><span style=\"background-color:#fddbc7\">m</span><span style=\"background-color:#fddbc7\"> </span><span style=\"background-color:#f7f7f7\">s</span><span style=\"background-color:#fddbc7\">p</span><span style=\"background-color:#f4a582\">e</span><span style=\"background-color:#fddbc7\">n</span><span style=\"background-color:#fddbc7\">d</span><span style=\"background-color:#fddbc7\">i</span><span style=\"background-color:#fddbc7\">n</span><span style=\"background-color:#fddbc7\">g</span><span style=\"background-color:#fddbc7\"> </span><span style=\"background-color:#f7f7f7\">t</span><span style=\"background-color:#f7f7f7\">h</span><span style=\"background-color:#fddbc7\">e</span><span style=\"background-color:#fddbc7\"> </span><span style=\"background-color:#f7f7f7\">p</span><span style=\"background-color:#fddbc7\">o</span><span style=\"background-color:#f7f7f7\">l</span><span style=\"background-color:#f7f7f7\">l</span><span style=\"background-color:#fddbc7\"> </span><span style=\"background-color:#f7f7f7\">n</span><span style=\"background-color:#f7f7f7\">u</span><span style=\"background-color:#f7f7f7\">m</span><span style=\"background-color:#f7f7f7\">b</span><span style=\"background-color:#f7f7f7\">e</span><span style=\"background-color:#f7f7f7\">r</span><span style=\"background-color:#f7f7f7\">s</span><span style=\"background-color:#f7f7f7\"> </span><span style=\"background-color:#f7f7f7\">w</span><span style=\"background-color:#f4a582\">i</span><span style=\"background-color:#fddbc7\">l</span><span style=\"background-color:#fddbc7\">l</span><span style=\"background-color:#fddbc7\"> </span><span style=\"background-color:#f7f7f7\">b</span><span style=\"background-color:#f7f7f7\">e</span><span style=\"background-color:#f7f7f7\"> </span><span style=\"background-color:#d1e5f0\">a</span><span style=\"background-color:#f7f7f7\"> </span><span style=\"background-color:#f7f7f7\">g</span><span style=\"background-color:#f4a582\">r</span><span style=\"background-color:#f4a582\">e</span><span style=\"background-color:#fddbc7\">a</span><span style=\"background-color:#f7f7f7\">t</span><span style=\"background-color:#f7f7f7\"> </span><span style=\"background-color:#f7f7f7\">c</span><span style=\"background-color:#f7f7f7\">o</span><span style=\"background-color:#d1e5f0\">m</span><span style=\"background-color:#f7f7f7\">m</span><span style=\"background-color:#f7f7f7\">e</span><span style=\"background-color:#f7f7f7\">n</span><span style=\"background-color:#fddbc7\">t</span><span style=\"background-color:#f7f7f7\">s</span><span style=\"background-color:#fddbc7\"> </span><span style=\"background-color:#f7f7f7\">o</span><span style=\"background-color:#f7f7f7\">f</span><span style=\"background-color:#f7f7f7\"> </span><span style=\"background-color:#f7f7f7\">c</span><span style=\"background-color:#f7f7f7\">a</span><span style=\"background-color:#f7f7f7\">s</span><span style=\"background-color:#fddbc7\">t</span><span style=\"background-color:#fddbc7\"> </span><span style=\"background-color:#fddbc7\">i</span><span style=\"background-color:#fddbc7\">n</span><span style=\"background-color:#f7f7f7\"> </span><span style=\"background-color:#f7f7f7\">t</span><span style=\"background-color:#fddbc7\">h</span><span style=\"background-color:#fddbc7\">e</span><span style=\"background-color:#fddbc7\"> </span><span style=\"background-color:#f7f7f7\">s</span><span style=\"background-color:#fddbc7\">i</span><span style=\"background-color:#fddbc7\">g</span><span style=\"background-color:#f4a582\">n</span><span style=\"background-color:#f4a582\">a</span><span style=\"background-color:#f4a582\">t</span><span style=\"background-color:#fddbc7\">u</span><span style=\"background-color:#fddbc7\">r</span><span style=\"background-color:#fddbc7\">e</span><span style=\"background-color:#f7f7f7\"> </span><span style=\"background-color:#d1e5f0\">c</span><span style=\"background-color:#f7f7f7\">o</span><span style=\"background-color:#f7f7f7\">u</span><span style=\"background-color:#f7f7f7\">n</span><span style=\"background-color:#fddbc7\">t</span><span style=\"background-color:#fddbc7\">r</span><span style=\"background-color:#fddbc7\">y</span><span style=\"background-color:#f7f7f7\">.</span><span style=\"background-color:#f7f7f7\"><br></span><span style=\"background-color:#f7f7f7\">I</span><span style=\"background-color:#f4a582\">n</span><span style=\"background-color:#fddbc7\"> </span><span style=\"background-color:#f7f7f7\">t</span><span style=\"background-color:#fddbc7\">h</span><span style=\"background-color:#fddbc7\">a</span><span style=\"background-color:#fddbc7\">t</span><span style=\"background-color:#fddbc7\"> </span><span style=\"background-color:#fddbc7\">I</span><span style=\"background-color:#fddbc7\"> </span><span style=\"background-color:#f7f7f7\">w</span><span style=\"background-color:#f4a582\">i</span><span style=\"background-color:#fddbc7\">l</span><span style=\"background-color:#f4a582\">l</span><span style=\"background-color:#f4a582\"> </span><span style=\"background-color:#fddbc7\">b</span><span style=\"background-color:#fddbc7\">e</span><span style=\"background-color:#f7f7f7\"> </span><span style=\"background-color:#d1e5f0\">i</span><span style=\"background-color:#fddbc7\">n</span><span style=\"background-color:#f7f7f7\">t</span><span style=\"background-color:#fddbc7\">e</span><span style=\"background-color:#fddbc7\">r</span><span style=\"background-color:#fddbc7\">v</span><span style=\"background-color:#f4a582\">i</span><span style=\"background-color:#f4a582\">e</span><span style=\"background-color:#f7f7f7\">w</span><span style=\"background-color:#fddbc7\">e</span><span style=\"background-color:#fddbc7\">d</span><span style=\"background-color:#fddbc7\"> </span><span style=\"background-color:#f7f7f7\">b</span><span style=\"background-color:#f7f7f7\">y</span><span style=\"background-color:#f7f7f7\"> </span><span style=\"background-color:#f7f7f7\">@</span><span style=\"background-color:#f7f7f7\">S</span><span style=\"background-color:#f7f7f7\">e</span><span style=\"background-color:#d1e5f0\">a</span><span style=\"background-color:#f7f7f7\">n</span><span style=\"background-color:#f7f7f7\">H</span><span style=\"background-color:#f7f7f7\">a</span><span style=\"background-color:#d1e5f0\">n</span><span style=\"background-color:#f7f7f7\">n</span><span style=\"background-color:#f7f7f7\">i</span><span style=\"background-color:#fddbc7\">t</span><span style=\"background-color:#f7f7f7\">y</span><span style=\"background-color:#f7f7f7\"> </span><span style=\"background-color:#f7f7f7\">t</span><span style=\"background-color:#fddbc7\">o</span><span style=\"background-color:#fddbc7\">n</span><span style=\"background-color:#f4a582\">i</span><span style=\"background-color:#fddbc7\">g</span><span style=\"background-color:#f4a582\">h</span><span style=\"background-color:#fddbc7\">t</span><span style=\"background-color:#f7f7f7\"> </span><span style=\"background-color:#f7f7f7\">a</span><span style=\"background-color:#fddbc7\">t</span><span style=\"background-color:#fddbc7\"> </span><span style=\"background-color:#fddbc7\">1</span><span style=\"background-color:#fddbc7\">0</span><span style=\"background-color:#fddbc7\">p</span><span style=\"background-color:#f4a582\">m</span><span style=\"background-color:#f7f7f7\">E</span><span style=\"background-color:#d1e5f0\"> </span><span style=\"background-color:#d1e5f0\">o</span><span style=\"background-color:#f7f7f7\">n</span><span style=\"background-color:#f7f7f7\"> </span><span style=\"background-color:#f7f7f7\">F</span><span style=\"background-color:#fddbc7\">o</span><span style=\"background-color:#f7f7f7\">x</span><span style=\"background-color:#f7f7f7\"> </span><span style=\"background-color:#d1e5f0\">&</span><span style=\"background-color:#f7f7f7\">a</span><span style=\"background-color:#d1e5f0\">m</span><span style=\"background-color:#f7f7f7\">p</span><span style=\"background-color:#fddbc7\">;</span><span style=\"background-color:#fddbc7\"> </span><span style=\"background-color:#fddbc7\">F</span><span style=\"background-color:#fddbc7\">r</span><span style=\"background-color:#fddbc7\">i</span><span style=\"background-color:#fddbc7\">e</span><span style=\"background-color:#f7f7f7\">n</span><span style=\"background-color:#f7f7f7\">d</span><span style=\"background-color:#fddbc7\">s</span><span style=\"background-color:#fddbc7\"> </span><span style=\"background-color:#f7f7f7\">a</span><span style=\"background-color:#f7f7f7\">t</span><span style=\"background-color:#f7f7f7\"> </span><span style=\"background-color:#fddbc7\">1</span><span style=\"background-color:#fddbc7\">:</span><span style=\"background-color:#fddbc7\">3</span><span style=\"background-color:#fddbc7\">0</span><span style=\"background-color:#fddbc7\">p</span><span style=\"background-color:#f4a582\">m</span><span style=\"background-color:#f7f7f7\">E</span><span style=\"background-color:#f7f7f7\"> </span><span style=\"background-color:#d1e5f0\">o</span><span style=\"background-color:#f7f7f7\">n</span><span style=\"background-color:#f7f7f7\"> </span><span style=\"background-color:#f7f7f7\">@</span><span style=\"background-color:#f7f7f7\">C</span><span style=\"background-color:#f7f7f7\">N</span><span style=\"background-color:#f7f7f7\">B</span><span style=\"background-color:#f7f7f7\">C</span><span style=\"background-color:#fddbc7\">.</span><span style=\"background-color:#d1e5f0\"> </span><span style=\"background-color:#d1e5f0\">T</span><span style=\"background-color:#fddbc7\">h</span><span style=\"background-color:#f4a582\">a</span><span style=\"background-color:#fddbc7\">n</span><span style=\"background-color:#fddbc7\">k</span><span style=\"background-color:#fddbc7\"> </span><span style=\"background-color:#fddbc7\">y</span><span style=\"background-color:#f7f7f7\">o</span><span style=\"background-color:#f7f7f7\">u</span><span style=\"background-color:#f7f7f7\"> </span><span style=\"background-color:#f7f7f7\">f</span><span style=\"background-color:#fddbc7\">e</span><span style=\"background-color:#f7f7f7\">r</span><span style=\"background-color:#fddbc7\"> </span><span style=\"background-color:#f7f7f7\">y</span><span style=\"background-color:#f7f7f7\">o</span><span style=\"background-color:#f7f7f7\">u</span><span style=\"background-color:#fddbc7\">r</span><span style=\"background-color:#fddbc7\"> </span><span style=\"background-color:#fddbc7\">f</span><span style=\"background-color:#fddbc7\">o</span><span style=\"background-color:#f7f7f7\">c</span><span style=\"background-color:#f7f7f7\">u</span><span style=\"background-color:#f7f7f7\">s</span><span style=\"background-color:#fddbc7\"> </span><span style=\"background-color:#fddbc7\">o</span><span style=\"background-color:#fddbc7\">n</span><span style=\"background-color:#fddbc7\"> </span><span style=\"background-color:#fddbc7\">t</span><span style=\"background-color:#f7f7f7\">h</span><span style=\"background-color:#fddbc7\">e</span><span style=\"background-color:#fddbc7\"> </span><span style=\"background-color:#f7f7f7\">b</span><span style=\"background-color:#f7f7f7\">i</span><span style=\"background-color:#fddbc7\">g</span><span style=\"background-color:#fddbc7\">g</span><span style=\"background-color:#fddbc7\">e</span><span style=\"background-color:#fddbc7\">s</span><span style=\"background-color:#fddbc7\">t</span><span style=\"background-color:#fddbc7\"> </span><span style=\"background-color:#f7f7f7\">c</span><span style=\"background-color:#f7f7f7\">r</span><span style=\"background-color:#f7f7f7\">o</span><span style=\"background-color:#f7f7f7\">w</span><span style=\"background-color:#fddbc7\">d</span><span style=\"background-color:#fddbc7\">!</span><span style=\"background-color:#f7f7f7\"><br></span><span style=\"background-color:#f7f7f7\">I</span><span style=\"background-color:#f4a582\"> </span><span style=\"background-color:#f7f7f7\">a</span><span style=\"background-color:#fddbc7\">m</span><span style=\"background-color:#f7f7f7\"> </span><span style=\"background-color:#f7f7f7\">s</span><span style=\"background-color:#fddbc7\">t</span><span style=\"background-color:#fddbc7\">a</span><span style=\"background-color:#fddbc7\">r</span><span style=\"background-color:#fddbc7\">t</span><span style=\"background-color:#fddbc7\">i</span><span style=\"background-color:#fddbc7\">n</span><span style=\"background-color:#fddbc7\">g</span><span style=\"background-color:#fddbc7\"> </span><span style=\"background-color:#fddbc7\">t</span><span style=\"background-color:#fddbc7\">o</span><span style=\"background-color:#fddbc7\"> </span><span style=\"background-color:#fddbc7\">b</span><span style=\"background-color:#fddbc7\">e</span><span style=\"background-color:#f7f7f7\"> </span><span style=\"background-color:#d1e5f0\">p</span><span style=\"background-color:#f4a582\">a</span><span style=\"background-color:#fddbc7\">s</span><span style=\"background-color:#fddbc7\">s</span><span style=\"background-color:#fddbc7\">i</span><span style=\"background-color:#fddbc7\">o</span><span style=\"background-color:#fddbc7\">n</span><span style=\"background-color:#f7f7f7\">a</span><span style=\"background-color:#fddbc7\">t</span><span style=\"background-color:#f7f7f7\">i</span><span style=\"background-color:#fddbc7\">o</span><span style=\"background-color:#fddbc7\">n</span><span style=\"background-color:#f7f7f7\"> </span><span style=\"background-color:#f7f7f7\">o</span><span style=\"background-color:#f7f7f7\">n</span><span style=\"background-color:#fddbc7\"> </span><span style=\"background-color:#fddbc7\">m</span><span style=\"background-color:#f7f7f7\">y</span><span style=\"background-color:#f7f7f7\"> </span><span style=\"background-color:#f7f7f7\">s</span><span style=\"background-color:#fddbc7\">o</span><span style=\"background-color:#f7f7f7\"> </span><span style=\"background-color:#f7f7f7\">m</span><span style=\"background-color:#f7f7f7\">u</span><span style=\"background-color:#fddbc7\">c</span><span style=\"background-color:#fddbc7\">h</span><span style=\"background-color:#fddbc7\"> </span><span style=\"background-color:#f7f7f7\">t</span><span style=\"background-color:#f7f7f7\">h</span><span style=\"background-color:#fddbc7\">i</span><span style=\"background-color:#fddbc7\">n</span><span style=\"background-color:#fddbc7\">g</span><span style=\"background-color:#fddbc7\">s</span><span style=\"background-color:#fddbc7\"> </span><span style=\"background-color:#fddbc7\">w</span><span style=\"background-color:#f4a582\">o</span><span style=\"background-color:#fddbc7\">r</span><span style=\"background-color:#fddbc7\">k</span><span style=\"background-color:#fddbc7\"> </span><span style=\"background-color:#f7f7f7\">a</span><span style=\"background-color:#f7f7f7\">s</span><span style=\"background-color:#f7f7f7\"> </span><span style=\"background-color:#f7f7f7\">t</span><span style=\"background-color:#f7f7f7\">h</span><span style=\"background-color:#fddbc7\">e</span><span style=\"background-color:#fddbc7\">y</span><span style=\"background-color:#f7f7f7\"> </span><span style=\"background-color:#f7f7f7\">c</span><span style=\"background-color:#fddbc7\">o</span><span style=\"background-color:#f7f7f7\">n</span><span style=\"background-color:#fddbc7\">t</span><span style=\"background-color:#fddbc7\">e</span><span style=\"background-color:#fddbc7\">n</span><span style=\"background-color:#fddbc7\">t</span><span style=\"background-color:#fddbc7\"> </span><span style=\"background-color:#f7f7f7\">t</span><span style=\"background-color:#f7f7f7\">o</span><span style=\"background-color:#fddbc7\"> </span><span style=\"background-color:#f7f7f7\">a</span><span style=\"background-color:#f7f7f7\">c</span><span style=\"background-color:#f7f7f7\">h</span><span style=\"background-color:#f7f7f7\"> </span><span style=\"background-color:#f7f7f7\">t</span><span style=\"background-color:#f7f7f7\">i</span><span style=\"background-color:#fddbc7\">m</span><span style=\"background-color:#fddbc7\">e</span><span style=\"background-color:#f7f7f7\"> </span><span style=\"background-color:#f7f7f7\">i</span><span style=\"background-color:#fddbc7\">f</span><span style=\"background-color:#f7f7f7\"> </span><span style=\"background-color:#f7f7f7\">w</span><span style=\"background-color:#f4a582\">e</span><span style=\"background-color:#fddbc7\"> </span><span style=\"background-color:#f7f7f7\">w</span><span style=\"background-color:#f4a582\">i</span><span style=\"background-color:#f4a582\">l</span><span style=\"background-color:#f4a582\">l</span><span style=\"background-color:#fddbc7\"> </span><span style=\"background-color:#f7f7f7\">b</span><span style=\"background-color:#f7f7f7\">e</span><span style=\"background-color:#f7f7f7\"> </span><span style=\"background-color:#d1e5f0\">a</span><span style=\"background-color:#f7f7f7\"> </span><span style=\"background-color:#f7f7f7\">t</span><span style=\"background-color:#f7f7f7\">o</span><span style=\"background-color:#fddbc7\">t</span><span style=\"background-color:#fddbc7\">a</span><span style=\"background-color:#fddbc7\">l</span></span>"
      ],
      "text/plain": [
       "<IPython.core.display.HTML object>"
      ]
     },
     "execution_count": 54,
     "metadata": {},
     "output_type": "execute_result"
    }
   ],
   "source": [
    "HTML(make_colored_text(samp, states, cell_id=200, layer_id=0))"
   ]
  },
  {
   "cell_type": "code",
   "execution_count": null,
   "metadata": {},
   "outputs": [
    {
     "name": "stdout",
     "output_type": "stream",
     "text": [
      "Number of layers: 2\n",
      "Number of memory cells (LSTM size): 512\n",
      "Saving trump_i4320_l512_ca_L2_S512_E20_0.html...\n",
      "Saving trump_i4320_l512_ca_L2_S512_E20_1.html...\n"
     ]
    }
   ],
   "source": [
    "save_lstm_vis(\"trump_i4320_l512_ca_L2_S512_E20\", samp, states)"
   ]
  },
  {
   "cell_type": "code",
   "execution_count": null,
   "metadata": {
    "collapsed": true
   },
   "outputs": [],
   "source": []
  }
 ],
 "metadata": {
  "anaconda-cloud": {},
  "kernelspec": {
   "display_name": "Python 3",
   "language": "python",
   "name": "python3"
  },
  "language_info": {
   "codemirror_mode": {
    "name": "ipython",
    "version": 3
   },
   "file_extension": ".py",
   "mimetype": "text/x-python",
   "name": "python",
   "nbconvert_exporter": "python",
   "pygments_lexer": "ipython3",
   "version": "3.6.1"
  }
 },
 "nbformat": 4,
 "nbformat_minor": 2
}
