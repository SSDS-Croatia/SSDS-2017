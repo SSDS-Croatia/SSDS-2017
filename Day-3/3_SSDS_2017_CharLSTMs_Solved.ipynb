{
 "cells": [
  {
   "cell_type": "markdown",
   "metadata": {},
   "source": [
    "# Data Science Summer School - Split '17"
   ]
  },
  {
   "cell_type": "markdown",
   "metadata": {},
   "source": [
    "# 3. Character-wise language modeling with multi-layer LSTMs\n",
    "\n",
    "This hands-on session is based on two tutorial notebooks [*Intro to Recurrent Networks (Character-wise RNN)*](https://github.com/udacity/deep-learning/tree/master/intro-to-rnns) and [*Tensorboard*](https://github.com/udacity/deep-learning/tree/master/tensorboard) from Udacity's [Deep Learning Nanodegree Foundation](https://www.udacity.com/course/deep-learning-nanodegree-foundation--nd101) program.\n",
    "\n",
    "This notebook implements a multi-layer LSTMs network for training/sampling from character-level language models. The model takes a text file as input and trains the network that learns to predict the next character in a sequence. The network can then be used to generate text character by character that will look like the original training data. This network is based on Andrej Karpathy's [post on RNNs](http://karpathy.github.io/2015/05/21/rnn-effectiveness/), which became standard example for explaining peculiarities behind RNN models."
   ]
  },
  {
   "cell_type": "code",
   "execution_count": 74,
   "metadata": {
    "collapsed": true
   },
   "outputs": [],
   "source": [
    "import time\n",
    "from collections import namedtuple\n",
    "\n",
    "import numpy as np\n",
    "import tensorflow as tf\n",
    "import random\n",
    "tf.logging.set_verbosity(tf.logging.ERROR)"
   ]
  },
  {
   "cell_type": "code",
   "execution_count": 2,
   "metadata": {
    "collapsed": true
   },
   "outputs": [],
   "source": [
    "%load_ext autoreload\n",
    "%autoreload 2\n",
    "#from utils import show_graph"
   ]
  },
  {
   "cell_type": "markdown",
   "metadata": {
    "collapsed": true
   },
   "source": [
    "## 3.1 Data preparation"
   ]
  },
  {
   "cell_type": "markdown",
   "metadata": {},
   "source": [
    "### Loading and encoding text\n",
    "\n",
    "We will train our language model on a complete collection of Donald Trump's tweets obtained from [Trump Twitter Archive](http://www.trumptwitterarchive.com/), which we already downloaded and made available in `PATH-TO-REPOSITORY/Day-3/assets/data/trump_tweets_ascii.txt`. First, we will load the text file and encode its characters as integers."
   ]
  },
  {
   "cell_type": "code",
   "execution_count": 3,
   "metadata": {},
   "outputs": [
    {
     "name": "stdout",
     "output_type": "stream",
     "text": [
      "Text size: 2167951\n",
      "Vocabulary size: 92\n",
      "*******************************\n",
      "Number of tweets: 20629\n",
      "Median size of a tweet: 117.0\n"
     ]
    }
   ],
   "source": [
    "with open('assets/data/trump_tweets_ascii.txt', 'r') as f:\n",
    "    text=f.read()\n",
    "\n",
    "# get set of characters contained in the loaded text file\n",
    "vocab = sorted(set(text))\n",
    "\n",
    "# encoding characters as integers\n",
    "vocab_to_int = {c: i for i, c in enumerate(vocab)}\n",
    "encoded_chars = np.array([vocab_to_int[c] for c in text], dtype=np.int32)\n",
    "\n",
    "# make dict for decoding intergers to corresponding characters\n",
    "int_to_vocab = dict(enumerate(vocab))\n",
    "\n",
    "\n",
    "print('Text size: {}'.format(len(encoded_chars)))\n",
    "print('Vocabulary size: {}'.format(len(vocab)))\n",
    "print('*******************************')\n",
    "print('Number of tweets: {}'.format(len(text.split('\\n'))))\n",
    "print('Median size of a tweet: {}'.format(np.percentile([len(t) for t in text.split('\\n')], 50)))"
   ]
  },
  {
   "cell_type": "markdown",
   "metadata": {},
   "source": [
    "In the above output, we can see that `trump_tweets_ascii.txt` contains in total 2 167 951 characters (in comparison, the whole text of Tolstoy's Ana Karenina is 1 798 519 characters, which is 17% less). Tweets contain 92 unique characters which will form a vocabulary for a language model."
   ]
  },
  {
   "cell_type": "markdown",
   "metadata": {},
   "source": [
    "Lets see first 300 characters of the provided text:"
   ]
  },
  {
   "cell_type": "code",
   "execution_count": 4,
   "metadata": {},
   "outputs": [
    {
     "data": {
      "text/plain": [
       "'We are building our future with American hands American labor American iron aluminum and steel. Happy #LaborDay! https://t.co/lyvtNfQ5IO\\nThe United States is considering in addition to other options stopping all trade with any country doing business with North Korea.\\nI will be meeting General Kelly '"
      ]
     },
     "execution_count": 4,
     "metadata": {},
     "output_type": "execute_result"
    }
   ],
   "source": [
    "text[:300]"
   ]
  },
  {
   "cell_type": "markdown",
   "metadata": {},
   "source": [
    "And see how they are encoded as integers:"
   ]
  },
  {
   "cell_type": "code",
   "execution_count": 5,
   "metadata": {},
   "outputs": [
    {
     "data": {
      "text/plain": [
       "array([53, 66,  1, 62, 79, 66,  1, 63, 82, 70, 73, 65, 70, 75, 68,  1, 76,\n",
       "       82, 79,  1, 67, 82, 81, 82, 79, 66,  1, 84, 70, 81, 69,  1, 31, 74,\n",
       "       66, 79, 70, 64, 62, 75,  1, 69, 62, 75, 65, 80,  1, 31, 74, 66, 79,\n",
       "       70, 64, 62, 75,  1, 73, 62, 63, 76, 79,  1, 31, 74, 66, 79, 70, 64,\n",
       "       62, 75,  1, 70, 79, 76, 75,  1, 62, 73, 82, 74, 70, 75, 82, 74,  1,\n",
       "       62, 75, 65,  1, 80, 81, 66, 66, 73, 14,  1, 38, 62, 77, 77, 86,  1,\n",
       "        4, 42, 62, 63, 76, 79, 34, 62, 86,  2,  1, 69, 81, 81, 77, 80, 26,\n",
       "       15, 15, 81, 14, 64, 76, 15, 73, 86, 83, 81, 44, 67, 47, 21, 39, 45,\n",
       "        0, 50, 69, 66,  1, 51, 75, 70, 81, 66, 65,  1, 49, 81, 62, 81, 66,\n",
       "       80,  1, 70, 80,  1, 64, 76, 75, 80, 70, 65, 66, 79, 70, 75, 68,  1,\n",
       "       70, 75,  1, 62, 65, 65, 70, 81, 70, 76, 75,  1, 81, 76,  1, 76, 81,\n",
       "       69, 66, 79,  1, 76, 77, 81, 70, 76, 75, 80,  1, 80, 81, 76, 77, 77,\n",
       "       70, 75, 68,  1, 62, 73, 73,  1, 81, 79, 62, 65, 66,  1, 84, 70, 81,\n",
       "       69,  1, 62, 75, 86,  1, 64, 76, 82, 75, 81, 79, 86,  1, 65, 76, 70,\n",
       "       75, 68,  1, 63, 82, 80, 70, 75, 66, 80, 80,  1, 84, 70, 81, 69,  1,\n",
       "       44, 76, 79, 81, 69,  1, 41, 76, 79, 66, 62, 14,  0, 39,  1, 84, 70,\n",
       "       73, 73,  1, 63, 66,  1, 74, 66, 66, 81, 70, 75, 68,  1, 37, 66, 75,\n",
       "       66, 79, 62, 73,  1, 41, 66, 73, 73, 86,  1])"
      ]
     },
     "execution_count": 5,
     "metadata": {},
     "output_type": "execute_result"
    }
   ],
   "source": [
    "encoded_chars[:300]"
   ]
  },
  {
   "cell_type": "markdown",
   "metadata": {},
   "source": [
    "And finally, we check the use of our decoding dict `int_to_vocab` to decode the first 300 encoded characters (which we will be using later while sampling new text from the learned model):"
   ]
  },
  {
   "cell_type": "code",
   "execution_count": 6,
   "metadata": {},
   "outputs": [
    {
     "data": {
      "text/plain": [
       "'We are building our future with American hands American labor American iron aluminum and steel. Happy #LaborDay! https://t.co/lyvtNfQ5IO\\nThe United States is considering in addition to other options stopping all trade with any country doing business with North Korea.\\nI will be meeting General Kelly '"
      ]
     },
     "execution_count": 6,
     "metadata": {},
     "output_type": "execute_result"
    }
   ],
   "source": [
    "''.join([int_to_vocab[ec] for ec in encoded_chars[:300]])"
   ]
  },
  {
   "cell_type": "markdown",
   "metadata": {},
   "source": [
    "### Making training and validation mini-batches\n",
    "\n",
    "Neural networks are trained by approximating the gradient of loss function with respect to the neuron weights, by looking at only a small subset of the data, also known as a mini-batch. Here is where we'll make our mini-batches for training and validation. Now we need to split up the data into batches, and into training and validation sets. \n",
    "\n",
    "For the test we will observe how the network generates new text, thus we will not be using test set. We will feed a character into the network and sample a next one from the distribution over characters likely to come next. We feed the sampled character right back to get another next character. Repeating this process character by character will generate new text, hopefully indistinguishable from [Donald Trump's](https://twitter.com/realdonaldtrump/status/881281755017355264) Twitter [tweets](https://twitter.com/realdonaldtrump/status/869858333477523458).\n"
   ]
  },
  {
   "cell_type": "markdown",
   "metadata": {},
   "source": [
    "![visualization of batches](assets/images/batches-visualization.png)"
   ]
  },
  {
   "cell_type": "code",
   "execution_count": 7,
   "metadata": {
    "collapsed": true
   },
   "outputs": [],
   "source": [
    "def split_data(arr, batch_size, num_steps, split_frac=0.9):\n",
    "    \"\"\" \n",
    "    Split data into training and validation sets, inputs and targets for each set.\n",
    "    \n",
    "    Arguments\n",
    "    ---------\n",
    "    arr: Array of encoded characters as integers \n",
    "    batch_size: Number of sequences per batch\n",
    "    num_steps: Number of sequence steps per batch to keep in the input and pass to the network, max_time\n",
    "    split_frac: Fraction of batches to keep in the training set\n",
    "    \n",
    "    \n",
    "    Returns train_x, train_y, val_x, val_y\n",
    "    \"\"\"\n",
    "    \n",
    "    slice_size = batch_size * num_steps\n",
    "    n_batches = int(len(arr) / slice_size)\n",
    "    \n",
    "    # Drop the last few characters to make only full batches\n",
    "    x = arr[: n_batches*slice_size]\n",
    "    \n",
    "    # The targets are the same as the inputs, except shifted one character over.\n",
    "    # number of batches covers full size of arr (no characters dropped)\n",
    "    if(len(arr) == n_batches*slice_size):\n",
    "        # for the last target character use first input character\n",
    "        y = np.roll(x, -1)\n",
    "    else:\n",
    "        # for the last target characher use first dropped character\n",
    "        y = arr[1: n_batches*slice_size + 1]\n",
    "    \n",
    "    # Split the data into batch_size slices, then stack them into a 2D matrix \n",
    "    x = np.stack(np.split(x, batch_size))\n",
    "    y = np.stack(np.split(y, batch_size))\n",
    "    # faster alternative\n",
    "    #x = x.reshape((batch_size, -1))\n",
    "    #y = y.reshape((batch_size, -1))\n",
    "    \n",
    "    # Now x and y are arrays with dimensions batch_size x n_batches*num_steps\n",
    "    \n",
    "    # Split into training and validation sets, keep the virst split_frac batches for training\n",
    "    split_idx = int(n_batches*split_frac)\n",
    "    train_x, train_y= x[:, :split_idx*num_steps], y[:, :split_idx*num_steps]\n",
    "    val_x, val_y = x[:, split_idx*num_steps:], y[:, split_idx*num_steps:]\n",
    "    \n",
    "    return train_x, train_y, val_x, val_y"
   ]
  },
  {
   "cell_type": "code",
   "execution_count": 8,
   "metadata": {
    "scrolled": true
   },
   "outputs": [
    {
     "name": "stdout",
     "output_type": "stream",
     "text": [
      "[ 0,  1,  2,  3,  4,  5,  6,  7,  8,  9, 10, 11, 12, 13, 14, 15, 16, 17, 18, 19, 20, 21, 22, 23, 24,\n",
      " 25, 26, 27, 28, 29, 30, 31, 32, 33, 34, 35, 36, 37, 38, 39, 40, 41, 42, 43, 44, 45, 46, 47, 48, 49,\n",
      " 50, 51, 52, 53, 54, 55, 56, 57, 58, 59, 60, 61, 62]\n"
     ]
    }
   ],
   "source": [
    "# example test array\n",
    "example_arr = np.arange(63)\n",
    "print(np.array2string(example_arr, max_line_width=100, separator=', '))"
   ]
  },
  {
   "cell_type": "code",
   "execution_count": 9,
   "metadata": {
    "collapsed": true
   },
   "outputs": [],
   "source": [
    "batch_size = 5 # use 5 sequences in a batch\n",
    "num_steps = 3 # 'size' of sequence in a batch, max_time\n",
    "# n_batches = len(arr)/(batch_size*num_steps) = 100/(5*5) = 4\n",
    "\n",
    "split_frac=0.9 # TRAIN= int(0.9 * n_batches) = 3, VAL= n_batches - TRAIN = 1"
   ]
  },
  {
   "cell_type": "code",
   "execution_count": 10,
   "metadata": {
    "collapsed": true
   },
   "outputs": [],
   "source": [
    "train_x, train_y, val_x, val_y = split_data(example_arr, batch_size, num_steps, split_frac)"
   ]
  },
  {
   "cell_type": "code",
   "execution_count": 12,
   "metadata": {},
   "outputs": [
    {
     "data": {
      "text/plain": [
       "array([[ 0,  1,  2,  3,  4,  5,  6,  7,  8],\n",
       "       [12, 13, 14, 15, 16, 17, 18, 19, 20],\n",
       "       [24, 25, 26, 27, 28, 29, 30, 31, 32],\n",
       "       [36, 37, 38, 39, 40, 41, 42, 43, 44],\n",
       "       [48, 49, 50, 51, 52, 53, 54, 55, 56]])"
      ]
     },
     "execution_count": 12,
     "metadata": {},
     "output_type": "execute_result"
    }
   ],
   "source": [
    "train_x"
   ]
  },
  {
   "cell_type": "code",
   "execution_count": 13,
   "metadata": {},
   "outputs": [
    {
     "data": {
      "text/plain": [
       "array([[ 1,  2,  3,  4,  5,  6,  7,  8,  9],\n",
       "       [13, 14, 15, 16, 17, 18, 19, 20, 21],\n",
       "       [25, 26, 27, 28, 29, 30, 31, 32, 33],\n",
       "       [37, 38, 39, 40, 41, 42, 43, 44, 45],\n",
       "       [49, 50, 51, 52, 53, 54, 55, 56, 57]])"
      ]
     },
     "execution_count": 13,
     "metadata": {},
     "output_type": "execute_result"
    }
   ],
   "source": [
    "train_y"
   ]
  },
  {
   "cell_type": "markdown",
   "metadata": {},
   "source": [
    "Next, we will create a generator function to get batches from the arrays made by `split_data`. This will provide us with the functionality to iterate over batches, which we can feed to our network model. The arrays are of dimension (`batch_size, n_batches*num_steps`). Each batch is a sliding window on these arrays with size `batch_size X num_steps`."
   ]
  },
  {
   "cell_type": "code",
   "execution_count": 14,
   "metadata": {
    "collapsed": true
   },
   "outputs": [],
   "source": [
    "def get_batch(arrs, num_steps):\n",
    "    batch_size, slice_size = arrs[0].shape\n",
    "    \n",
    "    n_batches = int(slice_size/num_steps)\n",
    "    for b in range(n_batches):\n",
    "        yield [x[:, b*num_steps: (b+1)*num_steps] for x in arrs]"
   ]
  },
  {
   "cell_type": "code",
   "execution_count": 15,
   "metadata": {
    "collapsed": true
   },
   "outputs": [],
   "source": [
    "train_batches = get_batch([train_x, train_y], num_steps)"
   ]
  },
  {
   "cell_type": "markdown",
   "metadata": {},
   "source": [
    "Now, we will test getting the first batch:"
   ]
  },
  {
   "cell_type": "code",
   "execution_count": 16,
   "metadata": {
    "collapsed": true
   },
   "outputs": [],
   "source": [
    "train_batch_x, train_batch_y = next(train_batches)"
   ]
  },
  {
   "cell_type": "code",
   "execution_count": 17,
   "metadata": {},
   "outputs": [
    {
     "data": {
      "text/plain": [
       "array([[ 0,  1,  2],\n",
       "       [12, 13, 14],\n",
       "       [24, 25, 26],\n",
       "       [36, 37, 38],\n",
       "       [48, 49, 50]])"
      ]
     },
     "execution_count": 17,
     "metadata": {},
     "output_type": "execute_result"
    }
   ],
   "source": [
    "train_batch_x"
   ]
  },
  {
   "cell_type": "code",
   "execution_count": 18,
   "metadata": {},
   "outputs": [
    {
     "data": {
      "text/plain": [
       "array([[ 1,  2,  3],\n",
       "       [13, 14, 15],\n",
       "       [25, 26, 27],\n",
       "       [37, 38, 39],\n",
       "       [49, 50, 51]])"
      ]
     },
     "execution_count": 18,
     "metadata": {},
     "output_type": "execute_result"
    }
   ],
   "source": [
    "train_batch_y"
   ]
  },
  {
   "cell_type": "code",
   "execution_count": 19,
   "metadata": {
    "collapsed": true
   },
   "outputs": [],
   "source": [
    "train_batch_x, train_batch_y = next(train_batches)"
   ]
  },
  {
   "cell_type": "markdown",
   "metadata": {},
   "source": [
    "Next, we can get the second one:"
   ]
  },
  {
   "cell_type": "code",
   "execution_count": 20,
   "metadata": {},
   "outputs": [
    {
     "data": {
      "text/plain": [
       "array([[ 3,  4,  5],\n",
       "       [15, 16, 17],\n",
       "       [27, 28, 29],\n",
       "       [39, 40, 41],\n",
       "       [51, 52, 53]])"
      ]
     },
     "execution_count": 20,
     "metadata": {},
     "output_type": "execute_result"
    }
   ],
   "source": [
    "train_batch_x"
   ]
  },
  {
   "cell_type": "code",
   "execution_count": 20,
   "metadata": {},
   "outputs": [
    {
     "data": {
      "text/plain": [
       "array([[ 4,  5,  6],\n",
       "       [16, 17, 18],\n",
       "       [28, 29, 30],\n",
       "       [40, 41, 42],\n",
       "       [52, 53, 54]])"
      ]
     },
     "execution_count": 20,
     "metadata": {},
     "output_type": "execute_result"
    }
   ],
   "source": [
    "train_batch_y"
   ]
  },
  {
   "cell_type": "code",
   "execution_count": 21,
   "metadata": {},
   "outputs": [
    {
     "data": {
      "text/plain": [
       "'(batch_size, num_steps) = (5, 3)'"
      ]
     },
     "execution_count": 21,
     "metadata": {},
     "output_type": "execute_result"
    }
   ],
   "source": [
    "'(batch_size, num_steps) = {}'.format(train_batch_x.shape)"
   ]
  },
  {
   "cell_type": "markdown",
   "metadata": {},
   "source": [
    "However, we will be iterating over batches using the 'for loop':"
   ]
  },
  {
   "cell_type": "code",
   "execution_count": 22,
   "metadata": {},
   "outputs": [
    {
     "name": "stdout",
     "output_type": "stream",
     "text": [
      "TRAIN BATCHES\n",
      "\n",
      "Batch 1:\n",
      "[[[ 0  1  2]\n",
      "  [12 13 14]\n",
      "  [24 25 26]\n",
      "  [36 37 38]\n",
      "  [48 49 50]]\n",
      "\n",
      " [[ 1  2  3]\n",
      "  [13 14 15]\n",
      "  [25 26 27]\n",
      "  [37 38 39]\n",
      "  [49 50 51]]]\n",
      "\n",
      "Batch 2:\n",
      "[[[ 3  4  5]\n",
      "  [15 16 17]\n",
      "  [27 28 29]\n",
      "  [39 40 41]\n",
      "  [51 52 53]]\n",
      "\n",
      " [[ 4  5  6]\n",
      "  [16 17 18]\n",
      "  [28 29 30]\n",
      "  [40 41 42]\n",
      "  [52 53 54]]]\n",
      "\n",
      "Batch 3:\n",
      "[[[ 6  7  8]\n",
      "  [18 19 20]\n",
      "  [30 31 32]\n",
      "  [42 43 44]\n",
      "  [54 55 56]]\n",
      "\n",
      " [[ 7  8  9]\n",
      "  [19 20 21]\n",
      "  [31 32 33]\n",
      "  [43 44 45]\n",
      "  [55 56 57]]]\n"
     ]
    }
   ],
   "source": [
    "print(\"TRAIN BATCHES\")\n",
    "for b, (x, y) in enumerate(get_batch([train_x, train_y], num_steps), 1):\n",
    "    print('\\nBatch {}:'.format(b))\n",
    "    print(np.stack([x,y]))"
   ]
  },
  {
   "cell_type": "code",
   "execution_count": 23,
   "metadata": {},
   "outputs": [
    {
     "name": "stdout",
     "output_type": "stream",
     "text": [
      "VALIDATION BATCHES\n",
      "\n",
      "Batch 1:\n",
      "[[[ 9 10 11]\n",
      "  [21 22 23]\n",
      "  [33 34 35]\n",
      "  [45 46 47]\n",
      "  [57 58 59]]\n",
      "\n",
      " [[10 11 12]\n",
      "  [22 23 24]\n",
      "  [34 35 36]\n",
      "  [46 47 48]\n",
      "  [58 59 60]]]\n"
     ]
    }
   ],
   "source": [
    "print(\"VALIDATION BATCHES\")\n",
    "for b, (x, y) in enumerate(get_batch([val_x, val_y], num_steps), 1):\n",
    "    print('\\nBatch {}:'.format(b))\n",
    "    print(np.stack([x,y]))"
   ]
  },
  {
   "cell_type": "markdown",
   "metadata": {},
   "source": [
    "## 3.2 Building the model\n",
    "\n",
    "After having our data prepared and convenience functions `split_data` and `get_batch` for handling the data during the training of our model, we can finally start building the model using the TensorFlow library. We will break the model building into five parts:\n",
    "* building input placeholders for x, y and dropout \n",
    "* building multi-layer RNN with stacked LSTM cells\n",
    "* building softmax output layer\n",
    "* computation for training loss\n",
    "* building the optimizer for the model parameters\n",
    "\n",
    "\n",
    "\n"
   ]
  },
  {
   "cell_type": "markdown",
   "metadata": {},
   "source": [
    "### Inputs\n",
    "First, we will create our input placeholders for Tensorflow computational graph of the model. As we are building supervised learning model, we need to declare placeholders for inputs (x) and targets (y). We also need to one-hot encode the input and target tokens, remember we're getting them as encoded characters. Here, we will also declare scalar placeholder for output keep probablity of LSTM cells called `keep_prob`.  "
   ]
  },
  {
   "cell_type": "code",
   "execution_count": 24,
   "metadata": {
    "collapsed": true
   },
   "outputs": [],
   "source": [
    "def build_inputs(batch_size, num_steps, num_classes):\n",
    "    ''' Define placeholders for inputs, targets, and dropout \n",
    "    \n",
    "        Arguments\n",
    "        ---------\n",
    "        batch_size: Batch size, number of sequences per batch\n",
    "        num_steps: Number of sequence steps in a batch\n",
    "        \n",
    "    '''\n",
    "    # Declare placeholders we'll feed into the graph\n",
    "    \n",
    "    #Declare placeholder for inputs (x) and one hot encode inputs\n",
    "    with tf.name_scope('inputs'):\n",
    "        inputs = tf.placeholder(tf.int32, [batch_size, num_steps], name='inputs')\n",
    "        x_one_hot = tf.one_hot(inputs, num_classes, name='x_one_hot')\n",
    "    \n",
    "    #Declare placeholder for targets (y) and one hot encode targets\n",
    "    with tf.name_scope('targets'):\n",
    "        targets = tf.placeholder(tf.int32, [batch_size, num_steps], name='targets')\n",
    "        y_one_hot = tf.one_hot(targets, num_classes, name='y_one_hot')\n",
    "    \n",
    "    # Keep probability placeholder for drop out layers\n",
    "    keep_prob = tf.placeholder(tf.float32, name='keep_prob')\n",
    "    \n",
    "    return inputs, x_one_hot, targets, y_one_hot, keep_prob"
   ]
  },
  {
   "cell_type": "markdown",
   "metadata": {},
   "source": [
    "### Multi-layer LSTM Cell\n",
    "We first implement `build_cell` function where we create the LSTM cell we will use in the hidden layer. We will use this cell as a building block for the multi layer RNN. Afterwards, we implement the `build_lstm` function to create multiple LSTM cells stacked on each other using build_cell function. We can stack up the LSTM cells into layers with tf.contrib.rnn.MultiRNNCell. Finally, we create an initial state of all zeros for the MultiRNNCell."
   ]
  },
  {
   "cell_type": "code",
   "execution_count": 25,
   "metadata": {
    "collapsed": true
   },
   "outputs": [],
   "source": [
    "def build_cell(lstm_size, keep_prob):\n",
    "    # Use a basic LSTM cell\n",
    "    lstm = tf.contrib.rnn.BasicLSTMCell(lstm_size)\n",
    "\n",
    "    # Add dropout to the cell\n",
    "    drop = tf.contrib.rnn.DropoutWrapper(lstm, output_keep_prob=keep_prob)\n",
    "    return drop"
   ]
  },
  {
   "cell_type": "code",
   "execution_count": 26,
   "metadata": {
    "collapsed": true
   },
   "outputs": [],
   "source": [
    "def build_lstm(lstm_size, num_layers, batch_size, keep_prob):\n",
    "    ''' Build LSTM cell.\n",
    "    \n",
    "        Arguments\n",
    "        ---------\n",
    "        keep_prob: Scalar tensor (tf.placeholder) for the dropout keep probability\n",
    "        lstm_size: Size of the hidden layers in the LSTM cells\n",
    "        num_layers: Number of LSTM layers\n",
    "        batch_size: Batch size\n",
    "\n",
    "    '''\n",
    "    \n",
    "    # Stack up multiple LSTM layers, for deep learning\n",
    "    cell = tf.contrib.rnn.MultiRNNCell([build_cell(lstm_size, keep_prob) for _ in range(num_layers)])\n",
    "    \n",
    "    with tf.name_scope(\"RNN_init_state\"):\n",
    "        initial_state = cell.zero_state(batch_size, tf.float32)\n",
    "    \n",
    "    return cell, initial_state"
   ]
  },
  {
   "cell_type": "markdown",
   "metadata": {},
   "source": [
    "### RNN Output\n",
    "Here we'll create the output layer. We need to connect the output of the RNN cells to a full connected layer with a softmax output. The softmax output gives us a probability distribution we can use to predict the next character. The output 3D tensor with size $(batch\\_size \\times num\\_steps \\times lstm\\_size)$ has to be reshaped to $((batch\\_size * num\\_steps) \\times  lstm\\_size)$, so we can do the matrix multiplication with the softmax weights.\n"
   ]
  },
  {
   "cell_type": "code",
   "execution_count": 27,
   "metadata": {
    "collapsed": true
   },
   "outputs": [],
   "source": [
    "def build_output(lstm_output, in_size, out_size):\n",
    "    ''' Build a softmax layer, return the softmax output and logits.\n",
    "    \n",
    "        Arguments\n",
    "        ---------\n",
    "        \n",
    "        x: Input tensor\n",
    "        in_size: Size of the input tensor, for example, size of the LSTM cells\n",
    "        out_size: Size of this softmax layer\n",
    "    \n",
    "    '''\n",
    "\n",
    "    # Reshape output so it's a bunch of rows, one row for each step for each sequence.\n",
    "    # That is, the shape should be batch_size*num_steps rows by lstm_size columns\n",
    "    with tf.name_scope('sequence_reshape'):\n",
    "        seq_output = tf.concat(lstm_output, axis=1, name='seq_output')\n",
    "        x = tf.reshape(seq_output, [-1, in_size], name='graph_output')\n",
    "    \n",
    "    # Connect the RNN outputs to a softmax layer\n",
    "    with tf.name_scope('logits'):\n",
    "        softmax_w = tf.Variable(tf.truncated_normal((in_size, out_size), stddev=0.1), name='softmax_w')\n",
    "        softmax_b = tf.Variable(tf.zeros(out_size), name='softmax_b')\n",
    "        \n",
    "        # Since output is a bunch of rows of RNN cell outputs, logits will be a bunch\n",
    "        # of rows of logit outputs, one for each step and sequence\n",
    "        logits = tf.matmul(x, softmax_w) + softmax_b\n",
    "        \n",
    "        # Tensorboard\n",
    "        tf.summary.histogram('h_softmax_w', softmax_w)\n",
    "        tf.summary.histogram('h_softmax_b', softmax_b)\n",
    "    \n",
    "\n",
    "    # Use softmax to get the probabilities for predicted characters\n",
    "    with tf.name_scope('predictions'):\n",
    "        out = tf.nn.softmax(logits, name='predictions')\n",
    "        \n",
    "        # Tensorboard\n",
    "        tf.summary.histogram('h_predictions', out)\n",
    "    \n",
    "    \n",
    "    return out, logits"
   ]
  },
  {
   "cell_type": "markdown",
   "metadata": {},
   "source": [
    "### Training loss\n",
    "\n",
    "Next up is the training loss. We get the logits and targets and calculate the softmax cross-entropy loss. First, reshape the one-hot targets so it's a 2D tensor with size $((batch\\_size * num\\_steps) \\times  num\\_classes)$, which match logits. Remember that we reshaped the LSTM outputs and ran them through a fully connected layer with num\\_classes units. Then we run the logits and targets through `tf.nn.softmax_cross_entropy_with_logits` and find the mean to get the loss."
   ]
  },
  {
   "cell_type": "code",
   "execution_count": 28,
   "metadata": {
    "collapsed": true
   },
   "outputs": [],
   "source": [
    "def build_loss(logits, y_one_hot, lstm_size):\n",
    "    ''' Calculate the loss from the logits and the targets.\n",
    "    \n",
    "        Arguments\n",
    "        ---------\n",
    "        logits: Logits from final fully connected layer\n",
    "        t\n",
    "        lstm_size: Number of LSTM hidden units\n",
    "        num_classes: Number of classes in targets\n",
    "        \n",
    "    '''\n",
    "    \n",
    "    # Softmax cross entropy loss\n",
    "    with tf.name_scope('loss'):\n",
    "        # reshape one-hot encoded targets to match logits, one row per batch_size per step\n",
    "        y_reshaped = tf.reshape(y_one_hot, logits.get_shape(), name='y_reshaped')\n",
    "        \n",
    "        loss = tf.nn.softmax_cross_entropy_with_logits(logits=logits, labels=y_reshaped, name='loss')\n",
    "        cost = tf.reduce_mean(loss, name='cost')\n",
    "        \n",
    "        # Tensorboard\n",
    "        tf.summary.scalar('s_cost', cost)\n",
    "    \n",
    "    return cost"
   ]
  },
  {
   "cell_type": "markdown",
   "metadata": {},
   "source": [
    "### Optimizer\n",
    "\n",
    "Here we build the optimizer. Normal RNNs have have issues gradients exploding and disappearing. LSTMs fix the disappearance problem, but the gradients can still grow without bound. To fix this, we can clip the gradients above some threshold. That is, if a gradient is larger than that threshold, we set it to the threshold. This will ensure the gradients never grow overly large. Then we use an AdamOptimizer for the learning step."
   ]
  },
  {
   "cell_type": "code",
   "execution_count": 29,
   "metadata": {
    "collapsed": true
   },
   "outputs": [],
   "source": [
    "def build_optimizer(loss, learning_rate, grad_clip):\n",
    "    ''' Build optmizer for training, using gradient clipping.\n",
    "    \n",
    "        Arguments:\n",
    "        loss: Network loss\n",
    "        learning_rate: Learning rate for optimizer\n",
    "    \n",
    "    '''\n",
    "    \n",
    "    # Optimizer for training, using gradient clipping to control exploding gradients\n",
    "    with tf.name_scope('optimizer'):\n",
    "        tvars = tf.trainable_variables()\n",
    "        grads, _ = tf.clip_by_global_norm(tf.gradients(loss, tvars), grad_clip)\n",
    "        train_op = tf.train.AdamOptimizer(learning_rate)\n",
    "        optimizer = train_op.apply_gradients(zip(grads, tvars))\n",
    "    \n",
    "    return optimizer"
   ]
  },
  {
   "cell_type": "markdown",
   "metadata": {},
   "source": [
    "### Build the network\n",
    "\n",
    "Now we can put all the pieces together and build a class for the network. To actually run data through the LSTM cells, we will use [`tf.nn.dynamic_rnn`](https://www.tensorflow.org/versions/r1.0/api_docs/python/tf/nn/dynamic_rnn). This function will pass the hidden and cell states across LSTM cells appropriately for us. It returns the outputs for each LSTM cell at each step for each sequence in the mini-batch. It also gives us the final LSTM state. We want to save this state as `final_state` so we can pass it to the first LSTM cell in the the next mini-batch run. For `tf.nn.dynamic_rnn`, we pass in the cell and initial state we get from `build_lstm`, as well as our input sequences."
   ]
  },
  {
   "cell_type": "code",
   "execution_count": 30,
   "metadata": {
    "collapsed": true
   },
   "outputs": [],
   "source": [
    "class CharRNN:\n",
    "    \n",
    "    def __init__(self, num_classes, batch_size=64, num_steps=50, \n",
    "                       lstm_size=128, num_layers=2, learning_rate=0.001, \n",
    "                       grad_clip=5, sampling=False):\n",
    "    \n",
    "        # When we're using this network for sampling later, we'll be passing in\n",
    "        # one character at a time, so providing an option for that\n",
    "        if sampling == True:\n",
    "            batch_size, num_steps = 1, 1\n",
    "        else:\n",
    "            batch_size, num_steps = batch_size, num_steps\n",
    "\n",
    "        tf.reset_default_graph()\n",
    "        \n",
    "        # Build the input placeholder tensors, and one-hot encode the input and target tokens\n",
    "        self.inputs, x_one_hot, self.targets, y_one_hot, self.keep_prob = \\\n",
    "        build_inputs(batch_size, num_steps, num_classes)\n",
    "        \n",
    "        # Build the LSTM cell\n",
    "        cell, self.initial_state = build_lstm(lstm_size, num_layers, batch_size, self.keep_prob)\n",
    " \n",
    "        # Run each sequence step through the RNN and collect the outputs\n",
    "        with tf.name_scope(\"RNN_forward\"):\n",
    "            outputs, state = tf.nn.dynamic_rnn(cell, x_one_hot, initial_state=self.initial_state)\n",
    "        \n",
    "        self.final_state = state\n",
    "        \n",
    "        # Get softmax predictions and logits\n",
    "        self.prediction, self.logits = build_output(outputs, lstm_size, num_classes)\n",
    "        \n",
    "        # Loss and optimizer (with gradient clipping)\n",
    "        self.loss = build_loss(self.logits, y_one_hot, lstm_size)\n",
    "        self.optimizer = build_optimizer(self.loss, learning_rate, grad_clip)\n",
    "        \n",
    "        self.summary_merged = tf.summary.merge_all()"
   ]
  },
  {
   "cell_type": "markdown",
   "metadata": {},
   "source": [
    "### Hyperparameters\n",
    "\n",
    "Here we declare the hyperparameters for the network. \n",
    "\n",
    "* `batch_size` - Number of sequences running through the network in one pass.\n",
    "* `num_steps` - Number of characters in the sequence the network is trained on. Larger is better typically, the network will learn more long range dependencies. But it takes longer to train. 100 is typically a good number here.\n",
    "* `lstm_size` - The number of units in the hidden layers.\n",
    "* `num_layers` - Number of hidden LSTM layers to use\n",
    "* `learning_rate` - Learning rate for training\n",
    "* `keep_prob` - The dropout keep probability when training. If you're network is overfitting, try decreasing this.\n",
    "\n",
    "Here's some good advice from Andrej Karpathy on training the network [https://github.com/karpathy/char-rnn#tips-and-tricks](https://github.com/karpathy/char-rnn#tips-and-tricks).\n",
    "\n"
   ]
  },
  {
   "cell_type": "code",
   "execution_count": 31,
   "metadata": {
    "collapsed": true
   },
   "outputs": [],
   "source": [
    "batch_size = 100        # Sequences per batch\n",
    "num_steps = 100         # Number of sequence steps per batch\n",
    "lstm_size = 512         # Size of hidden layers in LSTMs\n",
    "num_layers = 2          # Number of LSTM layers\n",
    "learning_rate = 0.001   # Learning rate\n",
    "keep_prob = 0.5         # Dropout keep probability"
   ]
  },
  {
   "cell_type": "markdown",
   "metadata": {},
   "source": [
    "### Number of parameters"
   ]
  },
  {
   "cell_type": "markdown",
   "metadata": {},
   "source": [
    "LSTM cell: $4 \\times \\big[N_{units} \\times (N_{inputs}+1) + N_{units}^{2}\\big]; N_{units}=lstm\\_size, N_{inputs}=len(vocab)$"
   ]
  },
  {
   "cell_type": "code",
   "execution_count": 32,
   "metadata": {},
   "outputs": [
    {
     "name": "stdout",
     "output_type": "stream",
     "text": [
      "lstm_size = 512\n",
      "input size = 92\n"
     ]
    }
   ],
   "source": [
    "print(\"lstm_size = {}\".format(lstm_size))\n",
    "print(\"input size = {}\".format(len(vocab)))"
   ]
  },
  {
   "cell_type": "code",
   "execution_count": 33,
   "metadata": {
    "collapsed": true
   },
   "outputs": [],
   "source": [
    "model = CharRNN(len(vocab), batch_size=batch_size, num_steps=num_steps,\n",
    "                lstm_size=lstm_size, num_layers=num_layers, \n",
    "                learning_rate=learning_rate)"
   ]
  },
  {
   "cell_type": "code",
   "execution_count": 34,
   "metadata": {},
   "outputs": [
    {
     "data": {
      "text/plain": [
       "[<tf.Variable 'rnn/multi_rnn_cell/cell_0/basic_lstm_cell/kernel:0' shape=(604, 2048) dtype=float32_ref>,\n",
       " <tf.Variable 'rnn/multi_rnn_cell/cell_0/basic_lstm_cell/bias:0' shape=(2048,) dtype=float32_ref>,\n",
       " <tf.Variable 'rnn/multi_rnn_cell/cell_1/basic_lstm_cell/kernel:0' shape=(1024, 2048) dtype=float32_ref>,\n",
       " <tf.Variable 'rnn/multi_rnn_cell/cell_1/basic_lstm_cell/bias:0' shape=(2048,) dtype=float32_ref>,\n",
       " <tf.Variable 'logits/softmax_w:0' shape=(512, 92) dtype=float32_ref>,\n",
       " <tf.Variable 'logits/softmax_b:0' shape=(92,) dtype=float32_ref>]"
      ]
     },
     "execution_count": 34,
     "metadata": {},
     "output_type": "execute_result"
    }
   ],
   "source": [
    "tf.trainable_variables()"
   ]
  },
  {
   "cell_type": "markdown",
   "metadata": {},
   "source": [
    "### Write out the graph for TensorBoard"
   ]
  },
  {
   "cell_type": "code",
   "execution_count": 35,
   "metadata": {
    "collapsed": true
   },
   "outputs": [],
   "source": [
    "model = CharRNN(len(vocab), batch_size=batch_size, num_steps=num_steps,\n",
    "                lstm_size=lstm_size, num_layers=num_layers, \n",
    "                learning_rate=learning_rate)\n",
    "\n",
    "with tf.Session() as sess:\n",
    "    sess.run(tf.global_variables_initializer())\n",
    "    \n",
    "    file_writer = tf.summary.FileWriter('assets/logs/1', sess.graph)\n",
    "    \n",
    "    file_writer.close()\n",
    "\n",
    "#run tensorboard from command line by issuing command (e.g. from root repository directory):\n",
    "#tensorboard --logdir=Day-3/assets/logs/"
   ]
  },
  {
   "cell_type": "markdown",
   "metadata": {},
   "source": [
    "### Run nodes in the graph"
   ]
  },
  {
   "cell_type": "code",
   "execution_count": 36,
   "metadata": {
    "collapsed": true
   },
   "outputs": [],
   "source": [
    "train_x, train_y, val_x, val_y = split_data(encoded_chars, batch_size, num_steps)\n",
    "\n",
    "model = CharRNN(len(vocab), batch_size=batch_size, num_steps=num_steps,\n",
    "                lstm_size=lstm_size, num_layers=num_layers, \n",
    "                learning_rate=learning_rate)\n",
    "\n",
    "\n",
    "with tf.Session() as sess:\n",
    "    sess.run(tf.global_variables_initializer())\n",
    "    \n",
    "    file_writer = tf.summary.FileWriter('assets/logs/2', sess.graph)\n",
    "    \n",
    "    new_state = sess.run(model.initial_state)\n",
    "    x, y = next(get_batch([train_x, train_y], num_steps))\n",
    "    \n",
    "    feed = {model.inputs: x,\n",
    "        model.targets: y,\n",
    "        model.keep_prob: 0.5,\n",
    "        model.initial_state: new_state}\n",
    "    \n",
    "    summary, batch_loss, new_state = sess.run([model.summary_merged, model.loss, model.final_state], feed_dict=feed)\n",
    "    \n",
    "    file_writer.add_summary(summary, 0)\n",
    "    \n",
    "    file_writer.close()"
   ]
  },
  {
   "cell_type": "code",
   "execution_count": 37,
   "metadata": {},
   "outputs": [
    {
     "data": {
      "text/plain": [
       "4.5214605"
      ]
     },
     "execution_count": 37,
     "metadata": {},
     "output_type": "execute_result"
    }
   ],
   "source": [
    "batch_loss"
   ]
  },
  {
   "cell_type": "code",
   "execution_count": 38,
   "metadata": {},
   "outputs": [
    {
     "data": {
      "text/plain": [
       "'Number of layers : 2'"
      ]
     },
     "execution_count": 38,
     "metadata": {},
     "output_type": "execute_result"
    }
   ],
   "source": [
    "'Number of layers : {}'.format(len(new_state))"
   ]
  },
  {
   "cell_type": "code",
   "execution_count": 39,
   "metadata": {},
   "outputs": [
    {
     "data": {
      "text/plain": [
       "(tensorflow.python.ops.rnn_cell_impl.LSTMStateTuple,\n",
       " tensorflow.python.ops.rnn_cell_impl.LSTMStateTuple)"
      ]
     },
     "execution_count": 39,
     "metadata": {},
     "output_type": "execute_result"
    }
   ],
   "source": [
    "type(new_state[0]), type(new_state[1])"
   ]
  },
  {
   "cell_type": "code",
   "execution_count": 40,
   "metadata": {},
   "outputs": [
    {
     "data": {
      "text/plain": [
       "((100, 512), (100, 512))"
      ]
     },
     "execution_count": 40,
     "metadata": {},
     "output_type": "execute_result"
    }
   ],
   "source": [
    "new_state[1].c.shape, new_state[1].h.shape"
   ]
  },
  {
   "cell_type": "markdown",
   "metadata": {},
   "source": [
    "## 3.3 Training model\n",
    "\n",
    "This is typical training code, passing inputs and targets into the network, then running the optimizer. Here we also get back the final LSTM state for the mini-batch. Then, we pass that state back into the network so the next batch can continue the state from the previous batch. And every so often (set by `save_every_n`) we calculate the validation loss and save a checkpoint."
   ]
  },
  {
   "cell_type": "code",
   "execution_count": null,
   "metadata": {},
   "outputs": [],
   "source": [
    "epochs = 1 #20\n",
    "save_every_n = 10 #200\n",
    "train_x, train_y, val_x, val_y = split_data(encoded_chars, batch_size, num_steps)\n",
    "\n",
    "\n",
    "model = CharRNN(len(vocab), batch_size=batch_size, num_steps=num_steps,\n",
    "                lstm_size=lstm_size, num_layers=num_layers, \n",
    "                learning_rate=learning_rate)\n",
    "\n",
    "saver = tf.train.Saver(max_to_keep=100)\n",
    "\n",
    "with tf.Session() as sess:\n",
    "    sess.run(tf.global_variables_initializer())\n",
    "    train_writer = tf.summary.FileWriter('assets/logs/3/train', sess.graph)\n",
    "    test_writer = tf.summary.FileWriter('assets/logs/3/test')\n",
    "    \n",
    "    #############################################################\n",
    "    # Use the line below to load a checkpoint and resume training\n",
    "    # Plase download provided checkpoint files from the link\n",
    "    # https://www.dropbox.com/s/2eaunmgmvc10n6q/trump_tb_20_i3880_l512_1.327.ckpt.zip?dl=0\n",
    "    # and place them in assets/checkpoints/ssds direcory in the repositoy\n",
    "    saver.restore(sess, 'assets/checkpoints/ssds/trump_tb_20_i3880_l512_1.327.ckpt')\n",
    "    #############################################################\n",
    "    \n",
    "    n_batches = int(train_x.shape[1]/num_steps)\n",
    "    iterations = n_batches * epochs\n",
    "    for e in range(epochs):\n",
    "        \n",
    "        # Train network\n",
    "        new_state = sess.run(model.initial_state)\n",
    "        loss = 0\n",
    "        for b, (x, y) in enumerate(get_batch([train_x, train_y], num_steps), 1):\n",
    "            iteration = e*n_batches + b\n",
    "            start = time.time()\n",
    "            feed = {model.inputs: x,\n",
    "                    model.targets: y,\n",
    "                    model.keep_prob: 0.5,\n",
    "                    model.initial_state: new_state}\n",
    "            summary, batch_loss, new_state, _ = sess.run([model.summary_merged, model.loss, model.final_state, model.optimizer], \n",
    "                                                 feed_dict=feed)\n",
    "            loss += batch_loss\n",
    "            end = time.time()\n",
    "            print('Epoch {}/{} '.format(e+1, epochs),\n",
    "                  'Iteration {}/{}'.format(iteration, iterations),\n",
    "                  'Training loss: {:.4f}'.format(loss/b),\n",
    "                  '{:.4f} sec/batch'.format((end-start)))\n",
    "            \n",
    "            train_writer.add_summary(summary, iteration)\n",
    "        \n",
    "            if (iteration%save_every_n == 0) or (iteration == iterations):\n",
    "                # Check performance, notice dropout has been set to 1\n",
    "                val_loss = []\n",
    "                new_state = sess.run(model.initial_state)\n",
    "                for x, y in get_batch([val_x, val_y], num_steps):\n",
    "                    feed = {model.inputs: x,\n",
    "                            model.targets: y,\n",
    "                            model.keep_prob: 1.,\n",
    "                            model.initial_state: new_state}\n",
    "                    summary, batch_loss, new_state = sess.run([model.summary_merged, model.loss, model.final_state], feed_dict=feed)\n",
    "                    val_loss.append(batch_loss)\n",
    "                \n",
    "                test_writer.add_summary(summary, iteration)\n",
    "\n",
    "                print('Validation loss:', np.mean(val_loss),\n",
    "                      'Saving checkpoint!')\n",
    "                saver.save(sess, \"assets/checkpoints/trump/trump_new_i{}_l{}_{:.3f}.ckpt\".format(iteration, lstm_size, np.mean(val_loss)))"
   ]
  },
  {
   "cell_type": "markdown",
   "metadata": {},
   "source": [
    "### Saved checkpoints\n",
    "\n",
    "Read up on saving and loading checkpoints here: https://www.tensorflow.org/programmers_guide/variables"
   ]
  },
  {
   "cell_type": "code",
   "execution_count": 49,
   "metadata": {},
   "outputs": [
    {
     "data": {
      "text/plain": [
       "model_checkpoint_path: \"assets/checkpoints/trump\\\\trump_new_i10_l512_1.326.ckpt\"\n",
       "all_model_checkpoint_paths: \"assets/checkpoints/trump\\\\trump_new_i10_l512_1.326.ckpt\""
      ]
     },
     "execution_count": 49,
     "metadata": {},
     "output_type": "execute_result"
    }
   ],
   "source": [
    "tf.train.get_checkpoint_state('assets/checkpoints/trump')"
   ]
  },
  {
   "cell_type": "markdown",
   "metadata": {},
   "source": [
    "## 3.4 Testing model - sampling from the model"
   ]
  },
  {
   "cell_type": "code",
   "execution_count": 50,
   "metadata": {
    "collapsed": true
   },
   "outputs": [],
   "source": [
    "from IPython.core.display import display, HTML"
   ]
  },
  {
   "cell_type": "code",
   "execution_count": 51,
   "metadata": {
    "collapsed": true
   },
   "outputs": [],
   "source": [
    "def pick_top_n(preds, vocab_size, top_n=5):\n",
    "    p = np.squeeze(preds)\n",
    "    p[np.argsort(p)[:-top_n]] = 0\n",
    "    p = p / np.sum(p)\n",
    "    c = np.random.choice(vocab_size, 1, p=p)[0]\n",
    "    return c"
   ]
  },
  {
   "cell_type": "code",
   "execution_count": 55,
   "metadata": {
    "collapsed": true
   },
   "outputs": [],
   "source": [
    "def sample_model(checkpoint, n_samples, lstm_size, vocab_size, num_layers=2, prime=\"The \"):\n",
    "    samples = [c for c in prime]\n",
    "    model = CharRNN(len(vocab), lstm_size=lstm_size, num_layers=num_layers, sampling=True)\n",
    "    saver = tf.train.Saver()\n",
    "    \n",
    "    states = []\n",
    "    with tf.Session() as sess:\n",
    "        saver.restore(sess, checkpoint)\n",
    "        new_state = sess.run(model.initial_state)\n",
    "         \n",
    "        for c in prime:\n",
    "            x = np.zeros((1, 1))\n",
    "            x[0,0] = vocab_to_int[c]\n",
    "            feed = {model.inputs: x,\n",
    "                    model.keep_prob: 1.,\n",
    "                    model.initial_state: new_state}\n",
    "            preds, new_state = sess.run([model.prediction, model.final_state], \n",
    "                                         feed_dict=feed)\n",
    "      \n",
    "            states.append(new_state)\n",
    "    \n",
    "        c = pick_top_n(preds, len(vocab))\n",
    "        samples.append(int_to_vocab[c])\n",
    "        states.append(new_state)\n",
    "\n",
    "        for i in range(n_samples):\n",
    "            x[0,0] = c\n",
    "            feed = {model.inputs: x,\n",
    "                    model.keep_prob: 1.,\n",
    "                    model.initial_state: new_state}\n",
    "            preds, new_state = sess.run([model.prediction, model.final_state], \n",
    "                                         feed_dict=feed)\n",
    "\n",
    "            c = pick_top_n(preds, len(vocab))\n",
    "            samples.append(int_to_vocab[c])\n",
    "            states.append(new_state)\n",
    "        \n",
    "    return (''.join(samples), states)"
   ]
  },
  {
   "cell_type": "code",
   "execution_count": 56,
   "metadata": {},
   "outputs": [
    {
     "name": "stdout",
     "output_type": "stream",
     "text": [
      "ObamaCare http://t.co/shssiczs\n",
      "@BarackObama has been doing so totally dishonest.\n",
      "Amazing show. It's not allow their pateling the U.S. while totally being about our co\n"
     ]
    }
   ],
   "source": [
    "checkpoint = tf.train.latest_checkpoint('assets/checkpoints/trump')\n",
    "samp, _ = sample_model(checkpoint, 160, lstm_size, len(vocab), prime=\"Obama\")\n",
    "print(samp)\n"
   ]
  },
  {
   "cell_type": "markdown",
   "metadata": {},
   "source": [
    "Plase download provided checkpoint files from the Dropbox shared link\n",
    "[https://www.dropbox.com/s/2eaunmgmvc10n6q/trump_tb_20_i3880_l512_1.327.ckpt.zip?dl=0](https://www.dropbox.com/s/2eaunmgmvc10n6q/trump_tb_20_i3880_l512_1.327.ckpt.zip?dl=0)\n",
    " and place them in `assets/checkpoints/ssds` direcory in the repositoy."
   ]
  },
  {
   "cell_type": "code",
   "execution_count": 57,
   "metadata": {},
   "outputs": [
    {
     "name": "stdout",
     "output_type": "stream",
     "text": [
      "Obama (Cont) http://t.co/s2A5h078\n",
      "\"Any of the postion and the worst is no more tax is a bad to them\" and says. An all times watch the morning!\n",
      "@Boracoborts         \"Thanks ann gave your good life.\n",
      "@mclitisharsol   We are great to good luck.\n",
      "In your support of the world in the U.S. and more in the pensapol of Charlottesville of husingance of his field on their ban who is not a free to see the people and all take.\n",
      "It is a great grown who will be so many of our country.\n",
      "@Albestan                  \"@realDonaldTrump has a really great people!\n",
      "I was a great great job on Faleble on South Carolina and @BarackObama walted. A truly given upset a fact that I am a great politicians?\n",
      "It is a big persent in Charlottesville the furlien so many counts in the U.S. http://t.co/IBsBhcAR @TheRealMania\n",
      "If the way of the way--and the proper year to the people of Supprome Mexico as to say that when you had the prictions. So badly and that I have been say!\n",
      "With the U.S. this is a the people are something to durt the \n"
     ]
    }
   ],
   "source": [
    "checkpoint = 'assets/checkpoints/ssds/trump_tb_20_i3880_l512_1.327.ckpt'\n",
    "samp, _ = sample_model(checkpoint, 1000, lstm_size, len(vocab), prime=\"Obama (\")\n",
    "print(samp)"
   ]
  },
  {
   "cell_type": "code",
   "execution_count": 58,
   "metadata": {},
   "outputs": [
    {
     "name": "stdout",
     "output_type": "stream",
     "text": [
      "Obama (if5sMeP_ckMEenk cMM1k_1ol+meM|0mmoDPhnonrenonnoPA_%~ inD ws6MpCC1Mme1roobbVcNdREeaImhT  wp1ol$Mb:Cm\"\\|MmTe0cM|\\||o o-wto9[oooo|||| nnrrywa6o$roo|@2ca6|}nfP|hgrchrsn]Y|iA2soooPaa~P~mninP6nroPso|$a lptsa[RIHImA3tm lzoaonoaa/~mm/m6PnolUo@rnca$a|{me [~\\n~n[nNrroofPss23tPs6m|$mr o=$so+3 mlZoCSt-c~M|$ttofB h6 a[}c cZse\\ms6m o[} b`Ss#\\l*a\\]]}\\ottiaotSnrsnnnoo-5tooot raa`8o mm e[~m _|\\nnooPss6[olPsnna[~m 8o[}.Ps6rtoPhk yZOesmmm55ol$rmel=ossm_m-m|Ss#M|oMZooyPhnnnnrncrnnnofPhhhghc0g0a+\\r a[\\m6to[ lna9onotPoA[Pmnt.\\8so||ofB cnz6[Hne[~sa$oosa=om4nnnnrsa{snnnna+.ssE{|\\\\riotnwnS6[l[e[ z~/aotnnnrroH lpt a{Um9om_|[m zz\\}rrelPEoa$OsmsmmQmoo$osof5PoPoa@mnaY`THIEmmVpopzUa[PhhkzroranaoannwrSsz\\Psrrzso-oa$_ol[ePoaAm lpta[R@m6e[|[\\m%9eP_e`a+|{m\"o[omsot.sm6coNna$~msa|=5aonoa[Pss6|\\| a\\|{|oooP_a$Amrss3$\\ss_|\\8 oa[_}ncM|[som|nnra;{ncRUg2haa$~sa||=ca3VcraaA`a[R@re:io~StTHH@2nntQ}se\\`oa||$so l|io@ znnoDdss3hnna$A`a[\\8ottontoBT o~}oo@sa$\\]aim9snaa$am6amm6omotPnolVcaRraa5o[a[|~onnrToNnonnnrvTV@NzzrVPaOO1GmoNf~oNna.\n"
     ]
    }
   ],
   "source": [
    "checkpoint = 'assets/checkpoints/ssds/trump_tb_20_i3880_l512_1.327.ckpt'\n",
    "samp, _ = sample_model(checkpoint, 1000, lstm_size, len(vocab), num_layers=1, prime=\"Obama (\")\n",
    "print(samp)"
   ]
  },
  {
   "cell_type": "code",
   "execution_count": 59,
   "metadata": {
    "scrolled": true
   },
   "outputs": [
    {
     "name": "stdout",
     "output_type": "stream",
     "text": [
      "Obama (cont) http://t.co/B202500m\n",
      "Me @CNNCovilities and the missale of @TraceAdkins on @FoxNews in South Carolina and me to the US and sold our country and me for him with a long!\n",
      "I'm not lifiting the moder in China the same soldier out we have been standard that I ar entrepreneur someone in the world. He can't defeat http://t.co/AB2hshBA\n",
      "@BarackObama spents a candidate will be a companie to the state. The media starts with a beginning on talent!\n",
      "I'll be on @foxandfriends it will be interviewed on @foxandfriends - think big incompetent and good.\n",
      "@Jenderialser   The support. The U.S. has bad and me to help time again.\n",
      "@marsaderison  We are no laster and to get out taxe and telling and wishes out.\n",
      "\"Do yourself in the biggest complete\" the more thing out the wire incruming the policy. Why did all of strong is at the stare. They are the price!\n",
      "I have a good problems time with Congressman of the United States. She is a fantastic grand for an ever white offer in a beautiful policies. Senes treets an\n"
     ]
    }
   ],
   "source": [
    "checkpoint = 'assets/checkpoints/ssds/trump_tb_20_i3880_l512_1.327.ckpt'\n",
    "samp, _ = sample_model(checkpoint, 1000, lstm_size, len(vocab), num_layers=2, prime=\"Obama (\")\n",
    "print(samp)"
   ]
  },
  {
   "cell_type": "markdown",
   "metadata": {},
   "source": [
    "## 3.5 Visualization of memory cell activations"
   ]
  },
  {
   "cell_type": "code",
   "execution_count": 60,
   "metadata": {
    "collapsed": true
   },
   "outputs": [],
   "source": [
    "from IPython.core.display import display, HTML\n",
    "from utils import save_lstm_vis, make_colored_text"
   ]
  },
  {
   "cell_type": "code",
   "execution_count": 61,
   "metadata": {},
   "outputs": [
    {
     "name": "stdout",
     "output_type": "stream",
     "text": [
      "Obama (cont) http://t.co/2502B88h\n",
      "Thoughts on make am and what I said to shut the make it was so much better than the problems!\n",
      "I'm getting ready to be a far more than your country. Stand and story start of stronger to the Arthony Weiner in today's #TrumpTrowh and they won't watch on them on them and amazing post.\n",
      "@Aptrentic   The sales that that's the best will be back into our beginning!\n",
      ".@BarackObama allowed that @MelaniaTrump shooks the boring reculation of the US together. Wall to the problem. #MakeAmericaGreatAgain\n",
      "The @TrumpNewYork is too base tonight. Then you do anything but they want more to go a busise said fantastic place in the U.S.\n",
      "The @ThanksGovernor is going to get too back to my fairing me and most buildings from the full support.\"   - Think Like a Champion\n",
      "\"If I don't want a police and men and taxes on the US and thousands\" http://t.co/2sh2hiaivi\n",
      "\"Trump: \"Trump In Trump Seet Borbord Crowds\" http://t.co/sIa2Bi5s  They will not be askames.\n",
      ".@CNN we stay a great job on @CNN agre\n"
     ]
    }
   ],
   "source": [
    "checkpoint = 'assets/checkpoints/ssds/trump_tb_20_i3880_l512_1.327.ckpt'\n",
    "samp, states = sample_model(checkpoint, 1000, lstm_size, len(vocab), prime=\"Obama (\")\n",
    "print(samp)"
   ]
  },
  {
   "cell_type": "code",
   "execution_count": 62,
   "metadata": {},
   "outputs": [
    {
     "data": {
      "text/html": [
       "<span style=\"white-space: per-line; font-family: Courier, Monaco, mono space\"><span style=\"background-color:#fddbc7\">O</span><span style=\"background-color:#d6604d\">b</span><span style=\"background-color:#f4a582\">a</span><span style=\"background-color:#f4a582\">m</span><span style=\"background-color:#f4a582\">a</span><span style=\"background-color:#f7f7f7\"> </span><span style=\"background-color:#fddbc7\">(</span><span style=\"background-color:#fddbc7\">c</span><span style=\"background-color:#fddbc7\">o</span><span style=\"background-color:#f4a582\">n</span><span style=\"background-color:#fddbc7\">t</span><span style=\"background-color:#d1e5f0\">)</span><span style=\"background-color:#92c5de\"> </span><span style=\"background-color:#92c5de\">h</span><span style=\"background-color:#92c5de\">t</span><span style=\"background-color:#92c5de\">t</span><span style=\"background-color:#92c5de\">p</span><span style=\"background-color:#92c5de\">:</span><span style=\"background-color:#d1e5f0\">/</span><span style=\"background-color:#d1e5f0\">/</span><span style=\"background-color:#d1e5f0\">t</span><span style=\"background-color:#92c5de\">.</span><span style=\"background-color:#92c5de\">c</span><span style=\"background-color:#d6604d\">o</span><span style=\"background-color:#f4a582\">/</span><span style=\"background-color:#f4a582\">2</span><span style=\"background-color:#f4a582\">5</span><span style=\"background-color:#f4a582\">0</span><span style=\"background-color:#f4a582\">2</span><span style=\"background-color:#f4a582\">B</span><span style=\"background-color:#f4a582\">8</span><span style=\"background-color:#fddbc7\">8</span><span style=\"background-color:#fddbc7\">h</span><span style=\"background-color:#f4a582\"><br></span><span style=\"background-color:#fddbc7\">T</span><span style=\"background-color:#f7f7f7\">h</span><span style=\"background-color:#92c5de\">o</span><span style=\"background-color:#d6604d\">u</span><span style=\"background-color:#f4a582\">g</span><span style=\"background-color:#fddbc7\">h</span><span style=\"background-color:#f7f7f7\">t</span><span style=\"background-color:#d1e5f0\">s</span><span style=\"background-color:#f7f7f7\"> </span><span style=\"background-color:#fddbc7\">o</span><span style=\"background-color:#fddbc7\">n</span><span style=\"background-color:#d6604d\"> </span><span style=\"background-color:#f7f7f7\">m</span><span style=\"background-color:#f4a582\">a</span><span style=\"background-color:#fddbc7\">k</span><span style=\"background-color:#fddbc7\">e</span><span style=\"background-color:#fddbc7\"> </span><span style=\"background-color:#f7f7f7\">a</span><span style=\"background-color:#fddbc7\">m</span><span style=\"background-color:#d6604d\"> </span><span style=\"background-color:#f7f7f7\">a</span><span style=\"background-color:#fddbc7\">n</span><span style=\"background-color:#d6604d\">d</span><span style=\"background-color:#f4a582\"> </span><span style=\"background-color:#f7f7f7\">w</span><span style=\"background-color:#f7f7f7\">h</span><span style=\"background-color:#f7f7f7\">a</span><span style=\"background-color:#d1e5f0\">t</span><span style=\"background-color:#92c5de\"> </span><span style=\"background-color:#f7f7f7\">I</span><span style=\"background-color:#f7f7f7\"> </span><span style=\"background-color:#d1e5f0\">s</span><span style=\"background-color:#fddbc7\">a</span><span style=\"background-color:#f4a582\">i</span><span style=\"background-color:#f4a582\">d</span><span style=\"background-color:#fddbc7\"> </span><span style=\"background-color:#f7f7f7\">t</span><span style=\"background-color:#f7f7f7\">o</span><span style=\"background-color:#d6604d\"> </span><span style=\"background-color:#fddbc7\">s</span><span style=\"background-color:#fddbc7\">h</span><span style=\"background-color:#fddbc7\">u</span><span style=\"background-color:#fddbc7\">t</span><span style=\"background-color:#fddbc7\"> </span><span style=\"background-color:#fddbc7\">t</span><span style=\"background-color:#f7f7f7\">h</span><span style=\"background-color:#92c5de\">e</span><span style=\"background-color:#f4a582\"> </span><span style=\"background-color:#fddbc7\">m</span><span style=\"background-color:#d6604d\">a</span><span style=\"background-color:#fddbc7\">k</span><span style=\"background-color:#fddbc7\">e</span><span style=\"background-color:#fddbc7\"> </span><span style=\"background-color:#fddbc7\">i</span><span style=\"background-color:#f7f7f7\">t</span><span style=\"background-color:#d1e5f0\"> </span><span style=\"background-color:#fddbc7\">w</span><span style=\"background-color:#fddbc7\">a</span><span style=\"background-color:#fddbc7\">s</span><span style=\"background-color:#fddbc7\"> </span><span style=\"background-color:#fddbc7\">s</span><span style=\"background-color:#fddbc7\">o</span><span style=\"background-color:#d6604d\"> </span><span style=\"background-color:#fddbc7\">m</span><span style=\"background-color:#f4a582\">u</span><span style=\"background-color:#f4a582\">c</span><span style=\"background-color:#fddbc7\">h</span><span style=\"background-color:#fddbc7\"> </span><span style=\"background-color:#f7f7f7\">b</span><span style=\"background-color:#f4a582\">e</span><span style=\"background-color:#fddbc7\">t</span><span style=\"background-color:#f7f7f7\">t</span><span style=\"background-color:#f7f7f7\">e</span><span style=\"background-color:#f7f7f7\">r</span><span style=\"background-color:#fddbc7\"> </span><span style=\"background-color:#fddbc7\">t</span><span style=\"background-color:#f7f7f7\">h</span><span style=\"background-color:#92c5de\">a</span><span style=\"background-color:#d1e5f0\">n</span><span style=\"background-color:#fddbc7\"> </span><span style=\"background-color:#fddbc7\">t</span><span style=\"background-color:#d1e5f0\">h</span><span style=\"background-color:#92c5de\">e</span><span style=\"background-color:#f4a582\"> </span><span style=\"background-color:#fddbc7\">p</span><span style=\"background-color:#d1e5f0\">r</span><span style=\"background-color:#d6604d\">o</span><span style=\"background-color:#fddbc7\">b</span><span style=\"background-color:#fddbc7\">l</span><span style=\"background-color:#f4a582\">e</span><span style=\"background-color:#f7f7f7\">m</span><span style=\"background-color:#f7f7f7\">s</span><span style=\"background-color:#fddbc7\">!</span><span style=\"background-color:#fddbc7\"><br></span><span style=\"background-color:#f7f7f7\">I</span><span style=\"background-color:#f7f7f7\">'</span><span style=\"background-color:#92c5de\">m</span><span style=\"background-color:#d6604d\"> </span><span style=\"background-color:#fddbc7\">g</span><span style=\"background-color:#fddbc7\">e</span><span style=\"background-color:#d1e5f0\">t</span><span style=\"background-color:#92c5de\">t</span><span style=\"background-color:#92c5de\">i</span><span style=\"background-color:#f7f7f7\">n</span><span style=\"background-color:#f4a582\">g</span><span style=\"background-color:#fddbc7\"> </span><span style=\"background-color:#d1e5f0\">r</span><span style=\"background-color:#f4a582\">e</span><span style=\"background-color:#f4a582\">a</span><span style=\"background-color:#d6604d\">d</span><span style=\"background-color:#f4a582\">y</span><span style=\"background-color:#f7f7f7\"> </span><span style=\"background-color:#f7f7f7\">t</span><span style=\"background-color:#f7f7f7\">o</span><span style=\"background-color:#d6604d\"> </span><span style=\"background-color:#fddbc7\">b</span><span style=\"background-color:#f4a582\">e</span><span style=\"background-color:#f4a582\"> </span><span style=\"background-color:#f7f7f7\">a</span><span style=\"background-color:#fddbc7\"> </span><span style=\"background-color:#fddbc7\">f</span><span style=\"background-color:#d6604d\">a</span><span style=\"background-color:#f7f7f7\">r</span><span style=\"background-color:#f4a582\"> </span><span style=\"background-color:#fddbc7\">m</span><span style=\"background-color:#f4a582\">o</span><span style=\"background-color:#fddbc7\">r</span><span style=\"background-color:#fddbc7\">e</span><span style=\"background-color:#fddbc7\"> </span><span style=\"background-color:#fddbc7\">t</span><span style=\"background-color:#f7f7f7\">h</span><span style=\"background-color:#92c5de\">a</span><span style=\"background-color:#d1e5f0\">n</span><span style=\"background-color:#fddbc7\"> </span><span style=\"background-color:#fddbc7\">y</span><span style=\"background-color:#f4a582\">o</span><span style=\"background-color:#f4a582\">u</span><span style=\"background-color:#f7f7f7\">r</span><span style=\"background-color:#fddbc7\"> </span><span style=\"background-color:#f7f7f7\">c</span><span style=\"background-color:#fddbc7\">o</span><span style=\"background-color:#f4a582\">u</span><span style=\"background-color:#f4a582\">n</span><span style=\"background-color:#fddbc7\">t</span><span style=\"background-color:#f7f7f7\">r</span><span style=\"background-color:#fddbc7\">y</span><span style=\"background-color:#fddbc7\">.</span><span style=\"background-color:#f7f7f7\"> </span><span style=\"background-color:#f7f7f7\">S</span><span style=\"background-color:#f7f7f7\">t</span><span style=\"background-color:#d1e5f0\">a</span><span style=\"background-color:#f7f7f7\">n</span><span style=\"background-color:#f7f7f7\">d</span><span style=\"background-color:#fddbc7\"> </span><span style=\"background-color:#fddbc7\">a</span><span style=\"background-color:#fddbc7\">n</span><span style=\"background-color:#f4a582\">d</span><span style=\"background-color:#f4a582\"> </span><span style=\"background-color:#f7f7f7\">s</span><span style=\"background-color:#fddbc7\">t</span><span style=\"background-color:#f7f7f7\">o</span><span style=\"background-color:#fddbc7\">r</span><span style=\"background-color:#fddbc7\">y</span><span style=\"background-color:#fddbc7\"> </span><span style=\"background-color:#f7f7f7\">s</span><span style=\"background-color:#fddbc7\">t</span><span style=\"background-color:#fddbc7\">a</span><span style=\"background-color:#fddbc7\">r</span><span style=\"background-color:#fddbc7\">t</span><span style=\"background-color:#fddbc7\"> </span><span style=\"background-color:#f7f7f7\">o</span><span style=\"background-color:#fddbc7\">f</span><span style=\"background-color:#d6604d\"> </span><span style=\"background-color:#fddbc7\">s</span><span style=\"background-color:#fddbc7\">t</span><span style=\"background-color:#f7f7f7\">r</span><span style=\"background-color:#fddbc7\">o</span><span style=\"background-color:#fddbc7\">n</span><span style=\"background-color:#fddbc7\">g</span><span style=\"background-color:#fddbc7\">e</span><span style=\"background-color:#d1e5f0\">r</span><span style=\"background-color:#fddbc7\"> </span><span style=\"background-color:#f7f7f7\">t</span><span style=\"background-color:#f7f7f7\">o</span><span style=\"background-color:#d6604d\"> </span><span style=\"background-color:#fddbc7\">t</span><span style=\"background-color:#d1e5f0\">h</span><span style=\"background-color:#92c5de\">e</span><span style=\"background-color:#f4a582\"> </span><span style=\"background-color:#fddbc7\">A</span><span style=\"background-color:#d1e5f0\">r</span><span style=\"background-color:#f7f7f7\">t</span><span style=\"background-color:#d1e5f0\">h</span><span style=\"background-color:#d1e5f0\">o</span><span style=\"background-color:#d6604d\">n</span><span style=\"background-color:#d6604d\">y</span><span style=\"background-color:#f4a582\"> </span><span style=\"background-color:#fddbc7\">W</span><span style=\"background-color:#f4a582\">e</span><span style=\"background-color:#fddbc7\">i</span><span style=\"background-color:#fddbc7\">n</span><span style=\"background-color:#fddbc7\">e</span><span style=\"background-color:#f7f7f7\">r</span><span style=\"background-color:#fddbc7\"> </span><span style=\"background-color:#fddbc7\">i</span><span style=\"background-color:#f7f7f7\">n</span><span style=\"background-color:#f4a582\"> </span><span style=\"background-color:#f7f7f7\">t</span><span style=\"background-color:#d1e5f0\">o</span><span style=\"background-color:#d6604d\">d</span><span style=\"background-color:#f4a582\">a</span><span style=\"background-color:#fddbc7\">y</span><span style=\"background-color:#fddbc7\">'</span><span style=\"background-color:#d1e5f0\">s</span><span style=\"background-color:#f4a582\"> </span><span style=\"background-color:#f7f7f7\">#</span><span style=\"background-color:#d1e5f0\">T</span><span style=\"background-color:#92c5de\">r</span><span style=\"background-color:#d6604d\">u</span><span style=\"background-color:#fddbc7\">m</span><span style=\"background-color:#fddbc7\">p</span><span style=\"background-color:#fddbc7\">T</span><span style=\"background-color:#fddbc7\">r</span><span style=\"background-color:#d6604d\">o</span><span style=\"background-color:#fddbc7\">w</span><span style=\"background-color:#fddbc7\">h</span><span style=\"background-color:#fddbc7\"> </span><span style=\"background-color:#d1e5f0\">a</span><span style=\"background-color:#f7f7f7\">n</span><span style=\"background-color:#f4a582\">d</span><span style=\"background-color:#f4a582\"> </span><span style=\"background-color:#f7f7f7\">t</span><span style=\"background-color:#d1e5f0\">h</span><span style=\"background-color:#92c5de\">e</span><span style=\"background-color:#f4a582\">y</span><span style=\"background-color:#fddbc7\"> </span><span style=\"background-color:#f7f7f7\">w</span><span style=\"background-color:#fddbc7\">o</span><span style=\"background-color:#fddbc7\">n</span><span style=\"background-color:#fddbc7\">'</span><span style=\"background-color:#f7f7f7\">t</span><span style=\"background-color:#fddbc7\"> </span><span style=\"background-color:#f7f7f7\">w</span><span style=\"background-color:#fddbc7\">a</span><span style=\"background-color:#fddbc7\">t</span><span style=\"background-color:#fddbc7\">c</span><span style=\"background-color:#fddbc7\">h</span><span style=\"background-color:#fddbc7\"> </span><span style=\"background-color:#f7f7f7\">o</span><span style=\"background-color:#fddbc7\">n</span><span style=\"background-color:#d6604d\"> </span><span style=\"background-color:#fddbc7\">t</span><span style=\"background-color:#d1e5f0\">h</span><span style=\"background-color:#92c5de\">e</span><span style=\"background-color:#f4a582\">m</span><span style=\"background-color:#f7f7f7\"> </span><span style=\"background-color:#f7f7f7\">o</span><span style=\"background-color:#fddbc7\">n</span><span style=\"background-color:#d6604d\"> </span><span style=\"background-color:#f7f7f7\">t</span><span style=\"background-color:#d1e5f0\">h</span><span style=\"background-color:#92c5de\">e</span><span style=\"background-color:#f4a582\">m</span><span style=\"background-color:#f7f7f7\"> </span><span style=\"background-color:#f7f7f7\">a</span><span style=\"background-color:#fddbc7\">n</span><span style=\"background-color:#f4a582\">d</span><span style=\"background-color:#f4a582\"> </span><span style=\"background-color:#f7f7f7\">a</span><span style=\"background-color:#fddbc7\">m</span><span style=\"background-color:#f4a582\">a</span><span style=\"background-color:#fddbc7\">z</span><span style=\"background-color:#fddbc7\">i</span><span style=\"background-color:#fddbc7\">n</span><span style=\"background-color:#fddbc7\">g</span><span style=\"background-color:#fddbc7\"> </span><span style=\"background-color:#fddbc7\">p</span><span style=\"background-color:#fddbc7\">o</span><span style=\"background-color:#d6604d\">s</span><span style=\"background-color:#f4a582\">t</span><span style=\"background-color:#f4a582\">.</span><span style=\"background-color:#fddbc7\"><br></span><span style=\"background-color:#f7f7f7\">@</span><span style=\"background-color:#f7f7f7\">A</span><span style=\"background-color:#f7f7f7\">p</span><span style=\"background-color:#92c5de\">t</span><span style=\"background-color:#92c5de\">r</span><span style=\"background-color:#f4a582\">e</span><span style=\"background-color:#fddbc7\">n</span><span style=\"background-color:#f4a582\">t</span><span style=\"background-color:#f4a582\">i</span><span style=\"background-color:#d1e5f0\">c</span><span style=\"background-color:#f4a582\"> </span><span style=\"background-color:#fddbc7\"> </span><span style=\"background-color:#fddbc7\"> </span><span style=\"background-color:#f7f7f7\">T</span><span style=\"background-color:#d1e5f0\">h</span><span style=\"background-color:#92c5de\">e</span><span style=\"background-color:#fddbc7\"> </span><span style=\"background-color:#fddbc7\">s</span><span style=\"background-color:#fddbc7\">a</span><span style=\"background-color:#d6604d\">l</span><span style=\"background-color:#d6604d\">e</span><span style=\"background-color:#f4a582\">s</span><span style=\"background-color:#fddbc7\"> </span><span style=\"background-color:#fddbc7\">t</span><span style=\"background-color:#fddbc7\">h</span><span style=\"background-color:#92c5de\">a</span><span style=\"background-color:#d1e5f0\">t</span><span style=\"background-color:#f7f7f7\"> </span><span style=\"background-color:#fddbc7\">t</span><span style=\"background-color:#f7f7f7\">h</span><span style=\"background-color:#92c5de\">a</span><span style=\"background-color:#f7f7f7\">t</span><span style=\"background-color:#f7f7f7\">'</span><span style=\"background-color:#f7f7f7\">s</span><span style=\"background-color:#fddbc7\"> </span><span style=\"background-color:#f7f7f7\">t</span><span style=\"background-color:#d1e5f0\">h</span><span style=\"background-color:#92c5de\">e</span><span style=\"background-color:#fddbc7\"> </span><span style=\"background-color:#fddbc7\">b</span><span style=\"background-color:#d6604d\">e</span><span style=\"background-color:#d6604d\">s</span><span style=\"background-color:#f4a582\">t</span><span style=\"background-color:#d6604d\"> </span><span style=\"background-color:#fddbc7\">w</span><span style=\"background-color:#fddbc7\">i</span><span style=\"background-color:#f7f7f7\">l</span><span style=\"background-color:#fddbc7\">l</span><span style=\"background-color:#fddbc7\"> </span><span style=\"background-color:#f7f7f7\">b</span><span style=\"background-color:#f4a582\">e</span><span style=\"background-color:#fddbc7\"> </span><span style=\"background-color:#f7f7f7\">b</span><span style=\"background-color:#f4a582\">a</span><span style=\"background-color:#f4a582\">c</span><span style=\"background-color:#fddbc7\">k</span><span style=\"background-color:#fddbc7\"> </span><span style=\"background-color:#fddbc7\">i</span><span style=\"background-color:#f7f7f7\">n</span><span style=\"background-color:#f4a582\">t</span><span style=\"background-color:#d1e5f0\">o</span><span style=\"background-color:#f4a582\"> </span><span style=\"background-color:#f7f7f7\">o</span><span style=\"background-color:#fddbc7\">u</span><span style=\"background-color:#92c5de\">r</span><span style=\"background-color:#f4a582\"> </span><span style=\"background-color:#f7f7f7\">b</span><span style=\"background-color:#f4a582\">e</span><span style=\"background-color:#f4a582\">g</span><span style=\"background-color:#d6604d\">i</span><span style=\"background-color:#fddbc7\">n</span><span style=\"background-color:#fddbc7\">n</span><span style=\"background-color:#fddbc7\">i</span><span style=\"background-color:#fddbc7\">n</span><span style=\"background-color:#fddbc7\">g</span><span style=\"background-color:#fddbc7\">!</span><span style=\"background-color:#f7f7f7\"><br></span><span style=\"background-color:#f7f7f7\">.</span><span style=\"background-color:#d1e5f0\">@</span><span style=\"background-color:#d1e5f0\">B</span><span style=\"background-color:#d1e5f0\">a</span><span style=\"background-color:#f7f7f7\">r</span><span style=\"background-color:#fddbc7\">a</span><span style=\"background-color:#fddbc7\">c</span><span style=\"background-color:#fddbc7\">k</span><span style=\"background-color:#fddbc7\">O</span><span style=\"background-color:#fddbc7\">b</span><span style=\"background-color:#d6604d\">a</span><span style=\"background-color:#fddbc7\">m</span><span style=\"background-color:#fddbc7\">a</span><span style=\"background-color:#fddbc7\"> </span><span style=\"background-color:#fddbc7\">a</span><span style=\"background-color:#fddbc7\">l</span><span style=\"background-color:#d6604d\">l</span><span style=\"background-color:#f4a582\">o</span><span style=\"background-color:#f7f7f7\">w</span><span style=\"background-color:#f7f7f7\">e</span><span style=\"background-color:#fddbc7\">d</span><span style=\"background-color:#fddbc7\"> </span><span style=\"background-color:#f7f7f7\">t</span><span style=\"background-color:#f7f7f7\">h</span><span style=\"background-color:#92c5de\">a</span><span style=\"background-color:#fddbc7\">t</span><span style=\"background-color:#f4a582\"> </span><span style=\"background-color:#fddbc7\">@</span><span style=\"background-color:#f7f7f7\">M</span><span style=\"background-color:#d1e5f0\">e</span><span style=\"background-color:#d1e5f0\">l</span><span style=\"background-color:#f4a582\">a</span><span style=\"background-color:#fddbc7\">n</span><span style=\"background-color:#f4a582\">i</span><span style=\"background-color:#fddbc7\">a</span><span style=\"background-color:#fddbc7\">T</span><span style=\"background-color:#f7f7f7\">r</span><span style=\"background-color:#d6604d\">u</span><span style=\"background-color:#fddbc7\">m</span><span style=\"background-color:#fddbc7\">p</span><span style=\"background-color:#fddbc7\"> </span><span style=\"background-color:#f7f7f7\">s</span><span style=\"background-color:#fddbc7\">h</span><span style=\"background-color:#d6604d\">o</span><span style=\"background-color:#fddbc7\">o</span><span style=\"background-color:#fddbc7\">k</span><span style=\"background-color:#fddbc7\">s</span><span style=\"background-color:#f7f7f7\"> </span><span style=\"background-color:#f7f7f7\">t</span><span style=\"background-color:#f7f7f7\">h</span><span style=\"background-color:#92c5de\">e</span><span style=\"background-color:#f4a582\"> </span><span style=\"background-color:#fddbc7\">b</span><span style=\"background-color:#d6604d\">o</span><span style=\"background-color:#fddbc7\">r</span><span style=\"background-color:#fddbc7\">i</span><span style=\"background-color:#fddbc7\">n</span><span style=\"background-color:#fddbc7\">g</span><span style=\"background-color:#fddbc7\"> </span><span style=\"background-color:#fddbc7\">r</span><span style=\"background-color:#f4a582\">e</span><span style=\"background-color:#fddbc7\">c</span><span style=\"background-color:#f4a582\">u</span><span style=\"background-color:#fddbc7\">l</span><span style=\"background-color:#fddbc7\">a</span><span style=\"background-color:#f7f7f7\">t</span><span style=\"background-color:#fddbc7\">i</span><span style=\"background-color:#f7f7f7\">o</span><span style=\"background-color:#f4a582\">n</span><span style=\"background-color:#fddbc7\"> </span><span style=\"background-color:#fddbc7\">o</span><span style=\"background-color:#fddbc7\">f</span><span style=\"background-color:#d6604d\"> </span><span style=\"background-color:#f7f7f7\">t</span><span style=\"background-color:#92c5de\">h</span><span style=\"background-color:#92c5de\">e</span><span style=\"background-color:#f4a582\"> </span><span style=\"background-color:#fddbc7\">U</span><span style=\"background-color:#92c5de\">S</span><span style=\"background-color:#92c5de\"> </span><span style=\"background-color:#f7f7f7\">t</span><span style=\"background-color:#d1e5f0\">o</span><span style=\"background-color:#d6604d\">g</span><span style=\"background-color:#f4a582\">e</span><span style=\"background-color:#fddbc7\">t</span><span style=\"background-color:#d1e5f0\">h</span><span style=\"background-color:#92c5de\">e</span><span style=\"background-color:#d1e5f0\">r</span><span style=\"background-color:#fddbc7\">.</span><span style=\"background-color:#f7f7f7\"> </span><span style=\"background-color:#f7f7f7\">W</span><span style=\"background-color:#f7f7f7\">a</span><span style=\"background-color:#f7f7f7\">l</span><span style=\"background-color:#f7f7f7\">l</span><span style=\"background-color:#fddbc7\"> </span><span style=\"background-color:#f7f7f7\">t</span><span style=\"background-color:#f7f7f7\">o</span><span style=\"background-color:#f4a582\"> </span><span style=\"background-color:#fddbc7\">t</span><span style=\"background-color:#f7f7f7\">h</span><span style=\"background-color:#d1e5f0\">e</span><span style=\"background-color:#f4a582\"> </span><span style=\"background-color:#fddbc7\">p</span><span style=\"background-color:#d1e5f0\">r</span><span style=\"background-color:#d6604d\">o</span><span style=\"background-color:#fddbc7\">b</span><span style=\"background-color:#fddbc7\">l</span><span style=\"background-color:#f4a582\">e</span><span style=\"background-color:#f7f7f7\">m</span><span style=\"background-color:#fddbc7\">.</span><span style=\"background-color:#fddbc7\"> </span><span style=\"background-color:#f7f7f7\">#</span><span style=\"background-color:#d1e5f0\">M</span><span style=\"background-color:#fddbc7\">a</span><span style=\"background-color:#fddbc7\">k</span><span style=\"background-color:#fddbc7\">e</span><span style=\"background-color:#d6604d\">A</span><span style=\"background-color:#f4a582\">m</span><span style=\"background-color:#f7f7f7\">e</span><span style=\"background-color:#92c5de\">r</span><span style=\"background-color:#92c5de\">i</span><span style=\"background-color:#92c5de\">c</span><span style=\"background-color:#fddbc7\">a</span><span style=\"background-color:#f4a582\">G</span><span style=\"background-color:#d1e5f0\">r</span><span style=\"background-color:#92c5de\">e</span><span style=\"background-color:#92c5de\">a</span><span style=\"background-color:#92c5de\">t</span><span style=\"background-color:#d1e5f0\">A</span><span style=\"background-color:#fddbc7\">g</span><span style=\"background-color:#d6604d\">a</span><span style=\"background-color:#f4a582\">i</span><span style=\"background-color:#fddbc7\">n</span><span style=\"background-color:#f4a582\"><br></span><span style=\"background-color:#fddbc7\">T</span><span style=\"background-color:#f7f7f7\">h</span><span style=\"background-color:#92c5de\">e</span><span style=\"background-color:#d6604d\"> </span><span style=\"background-color:#fddbc7\">@</span><span style=\"background-color:#f7f7f7\">T</span><span style=\"background-color:#d1e5f0\">r</span><span style=\"background-color:#d6604d\">u</span><span style=\"background-color:#fddbc7\">m</span><span style=\"background-color:#fddbc7\">p</span><span style=\"background-color:#fddbc7\">N</span><span style=\"background-color:#f4a582\">e</span><span style=\"background-color:#d1e5f0\">w</span><span style=\"background-color:#f4a582\">Y</span><span style=\"background-color:#fddbc7\">o</span><span style=\"background-color:#fddbc7\">r</span><span style=\"background-color:#fddbc7\">k</span><span style=\"background-color:#fddbc7\"> </span><span style=\"background-color:#f7f7f7\">i</span><span style=\"background-color:#fddbc7\">s</span><span style=\"background-color:#fddbc7\"> </span><span style=\"background-color:#fddbc7\">t</span><span style=\"background-color:#f7f7f7\">o</span><span style=\"background-color:#d6604d\">o</span><span style=\"background-color:#f4a582\"> </span><span style=\"background-color:#fddbc7\">b</span><span style=\"background-color:#f4a582\">a</span><span style=\"background-color:#f4a582\">s</span><span style=\"background-color:#fddbc7\">e</span><span style=\"background-color:#f4a582\"> </span><span style=\"background-color:#fddbc7\">t</span><span style=\"background-color:#f7f7f7\">o</span><span style=\"background-color:#d6604d\">n</span><span style=\"background-color:#f4a582\">i</span><span style=\"background-color:#fddbc7\">g</span><span style=\"background-color:#f7f7f7\">h</span><span style=\"background-color:#f7f7f7\">t</span><span style=\"background-color:#d1e5f0\">.</span><span style=\"background-color:#f7f7f7\"> </span><span style=\"background-color:#f7f7f7\">T</span><span style=\"background-color:#d1e5f0\">h</span><span style=\"background-color:#92c5de\">e</span><span style=\"background-color:#f4a582\">n</span><span style=\"background-color:#f4a582\"> </span><span style=\"background-color:#f7f7f7\">y</span><span style=\"background-color:#fddbc7\">o</span><span style=\"background-color:#fddbc7\">u</span><span style=\"background-color:#fddbc7\"> </span><span style=\"background-color:#f7f7f7\">d</span><span style=\"background-color:#fddbc7\">o</span><span style=\"background-color:#fddbc7\"> </span><span style=\"background-color:#fddbc7\">a</span><span style=\"background-color:#fddbc7\">n</span><span style=\"background-color:#f4a582\">y</span><span style=\"background-color:#fddbc7\">t</span><span style=\"background-color:#f7f7f7\">h</span><span style=\"background-color:#d1e5f0\">i</span><span style=\"background-color:#d1e5f0\">n</span><span style=\"background-color:#fddbc7\">g</span><span style=\"background-color:#fddbc7\"> </span><span style=\"background-color:#f7f7f7\">b</span><span style=\"background-color:#f4a582\">u</span><span style=\"background-color:#f4a582\">t</span><span style=\"background-color:#f4a582\"> </span><span style=\"background-color:#fddbc7\">t</span><span style=\"background-color:#f7f7f7\">h</span><span style=\"background-color:#92c5de\">e</span><span style=\"background-color:#f4a582\">y</span><span style=\"background-color:#f7f7f7\"> </span><span style=\"background-color:#f7f7f7\">w</span><span style=\"background-color:#f7f7f7\">a</span><span style=\"background-color:#f7f7f7\">n</span><span style=\"background-color:#f7f7f7\">t</span><span style=\"background-color:#fddbc7\"> </span><span style=\"background-color:#fddbc7\">m</span><span style=\"background-color:#f4a582\">o</span><span style=\"background-color:#fddbc7\">r</span><span style=\"background-color:#fddbc7\">e</span><span style=\"background-color:#fddbc7\"> </span><span style=\"background-color:#f7f7f7\">t</span><span style=\"background-color:#f7f7f7\">o</span><span style=\"background-color:#d6604d\"> </span><span style=\"background-color:#fddbc7\">g</span><span style=\"background-color:#f7f7f7\">o</span><span style=\"background-color:#fddbc7\"> </span><span style=\"background-color:#f7f7f7\">a</span><span style=\"background-color:#f7f7f7\"> </span><span style=\"background-color:#fddbc7\">b</span><span style=\"background-color:#d6604d\">u</span><span style=\"background-color:#d6604d\">s</span><span style=\"background-color:#f4a582\">i</span><span style=\"background-color:#fddbc7\">s</span><span style=\"background-color:#fddbc7\">e</span><span style=\"background-color:#f4a582\"> </span><span style=\"background-color:#fddbc7\">s</span><span style=\"background-color:#fddbc7\">a</span><span style=\"background-color:#d6604d\">i</span><span style=\"background-color:#f4a582\">d</span><span style=\"background-color:#fddbc7\"> </span><span style=\"background-color:#fddbc7\">f</span><span style=\"background-color:#fddbc7\">a</span><span style=\"background-color:#d1e5f0\">n</span><span style=\"background-color:#fddbc7\">t</span><span style=\"background-color:#fddbc7\">a</span><span style=\"background-color:#f7f7f7\">s</span><span style=\"background-color:#fddbc7\">t</span><span style=\"background-color:#f4a582\">i</span><span style=\"background-color:#f7f7f7\">c</span><span style=\"background-color:#fddbc7\"> </span><span style=\"background-color:#fddbc7\">p</span><span style=\"background-color:#f7f7f7\">l</span><span style=\"background-color:#d6604d\">a</span><span style=\"background-color:#fddbc7\">c</span><span style=\"background-color:#fddbc7\">e</span><span style=\"background-color:#fddbc7\"> </span><span style=\"background-color:#fddbc7\">i</span><span style=\"background-color:#fddbc7\">n</span><span style=\"background-color:#f4a582\"> </span><span style=\"background-color:#f7f7f7\">t</span><span style=\"background-color:#d1e5f0\">h</span><span style=\"background-color:#92c5de\">e</span><span style=\"background-color:#f4a582\"> </span><span style=\"background-color:#fddbc7\">U</span><span style=\"background-color:#92c5de\">.</span><span style=\"background-color:#92c5de\">S</span><span style=\"background-color:#92c5de\">.</span><span style=\"background-color:#92c5de\"><br></span><span style=\"background-color:#d1e5f0\">T</span><span style=\"background-color:#d1e5f0\">h</span><span style=\"background-color:#92c5de\">e</span><span style=\"background-color:#f4a582\"> </span><span style=\"background-color:#fddbc7\">@</span><span style=\"background-color:#f7f7f7\">T</span><span style=\"background-color:#d1e5f0\">h</span><span style=\"background-color:#d1e5f0\">a</span><span style=\"background-color:#d6604d\">n</span><span style=\"background-color:#d6604d\">k</span><span style=\"background-color:#d6604d\">s</span><span style=\"background-color:#f4a582\">G</span><span style=\"background-color:#d6604d\">o</span><span style=\"background-color:#fddbc7\">v</span><span style=\"background-color:#f7f7f7\">e</span><span style=\"background-color:#92c5de\">r</span><span style=\"background-color:#fddbc7\">n</span><span style=\"background-color:#fddbc7\">o</span><span style=\"background-color:#fddbc7\">r</span><span style=\"background-color:#fddbc7\"> </span><span style=\"background-color:#fddbc7\">i</span><span style=\"background-color:#fddbc7\">s</span><span style=\"background-color:#fddbc7\"> </span><span style=\"background-color:#fddbc7\">g</span><span style=\"background-color:#fddbc7\">o</span><span style=\"background-color:#fddbc7\">i</span><span style=\"background-color:#fddbc7\">n</span><span style=\"background-color:#fddbc7\">g</span><span style=\"background-color:#fddbc7\"> </span><span style=\"background-color:#f7f7f7\">t</span><span style=\"background-color:#f7f7f7\">o</span><span style=\"background-color:#d6604d\"> </span><span style=\"background-color:#fddbc7\">g</span><span style=\"background-color:#f7f7f7\">e</span><span style=\"background-color:#d1e5f0\">t</span><span style=\"background-color:#92c5de\"> </span><span style=\"background-color:#f7f7f7\">t</span><span style=\"background-color:#d1e5f0\">o</span><span style=\"background-color:#f4a582\">o</span><span style=\"background-color:#f4a582\"> </span><span style=\"background-color:#fddbc7\">b</span><span style=\"background-color:#f4a582\">a</span><span style=\"background-color:#f4a582\">c</span><span style=\"background-color:#fddbc7\">k</span><span style=\"background-color:#fddbc7\"> </span><span style=\"background-color:#fddbc7\">t</span><span style=\"background-color:#f7f7f7\">o</span><span style=\"background-color:#d6604d\"> </span><span style=\"background-color:#fddbc7\">m</span><span style=\"background-color:#f4a582\">y</span><span style=\"background-color:#fddbc7\"> </span><span style=\"background-color:#fddbc7\">f</span><span style=\"background-color:#f4a582\">a</span><span style=\"background-color:#d1e5f0\">i</span><span style=\"background-color:#fddbc7\">r</span><span style=\"background-color:#fddbc7\">i</span><span style=\"background-color:#fddbc7\">n</span><span style=\"background-color:#fddbc7\">g</span><span style=\"background-color:#fddbc7\"> </span><span style=\"background-color:#fddbc7\">m</span><span style=\"background-color:#f4a582\">e</span><span style=\"background-color:#fddbc7\"> </span><span style=\"background-color:#fddbc7\">a</span><span style=\"background-color:#fddbc7\">n</span><span style=\"background-color:#d6604d\">d</span><span style=\"background-color:#f4a582\"> </span><span style=\"background-color:#f7f7f7\">m</span><span style=\"background-color:#f4a582\">o</span><span style=\"background-color:#fddbc7\">s</span><span style=\"background-color:#fddbc7\">t</span><span style=\"background-color:#f4a582\"> </span><span style=\"background-color:#fddbc7\">b</span><span style=\"background-color:#d6604d\">u</span><span style=\"background-color:#d6604d\">i</span><span style=\"background-color:#fddbc7\">l</span><span style=\"background-color:#fddbc7\">d</span><span style=\"background-color:#fddbc7\">i</span><span style=\"background-color:#f7f7f7\">n</span><span style=\"background-color:#fddbc7\">g</span><span style=\"background-color:#fddbc7\">s</span><span style=\"background-color:#fddbc7\"> </span><span style=\"background-color:#fddbc7\">f</span><span style=\"background-color:#fddbc7\">r</span><span style=\"background-color:#d1e5f0\">o</span><span style=\"background-color:#f4a582\">m</span><span style=\"background-color:#fddbc7\"> </span><span style=\"background-color:#fddbc7\">t</span><span style=\"background-color:#d1e5f0\">h</span><span style=\"background-color:#92c5de\">e</span><span style=\"background-color:#f4a582\"> </span><span style=\"background-color:#fddbc7\">f</span><span style=\"background-color:#d6604d\">u</span><span style=\"background-color:#f7f7f7\">l</span><span style=\"background-color:#fddbc7\">l</span><span style=\"background-color:#f4a582\"> </span><span style=\"background-color:#f7f7f7\">s</span><span style=\"background-color:#fddbc7\">u</span><span style=\"background-color:#d1e5f0\">p</span><span style=\"background-color:#d1e5f0\">p</span><span style=\"background-color:#fddbc7\">o</span><span style=\"background-color:#fddbc7\">r</span><span style=\"background-color:#fddbc7\">t</span><span style=\"background-color:#fddbc7\">.</span><span style=\"background-color:#f7f7f7\">\"</span><span style=\"background-color:#f7f7f7\"> </span><span style=\"background-color:#f7f7f7\"> </span><span style=\"background-color:#f7f7f7\"> </span><span style=\"background-color:#f7f7f7\">-</span><span style=\"background-color:#fddbc7\"> </span><span style=\"background-color:#f7f7f7\">T</span><span style=\"background-color:#d1e5f0\">h</span><span style=\"background-color:#92c5de\">i</span><span style=\"background-color:#92c5de\">n</span><span style=\"background-color:#d6604d\">k</span><span style=\"background-color:#fddbc7\"> </span><span style=\"background-color:#f7f7f7\">L</span><span style=\"background-color:#f4a582\">i</span><span style=\"background-color:#fddbc7\">k</span><span style=\"background-color:#f7f7f7\">e</span><span style=\"background-color:#f7f7f7\"> </span><span style=\"background-color:#f7f7f7\">a</span><span style=\"background-color:#fddbc7\"> </span><span style=\"background-color:#fddbc7\">C</span><span style=\"background-color:#d1e5f0\">h</span><span style=\"background-color:#f4a582\">a</span><span style=\"background-color:#d1e5f0\">m</span><span style=\"background-color:#d1e5f0\">p</span><span style=\"background-color:#d1e5f0\">i</span><span style=\"background-color:#d1e5f0\">o</span><span style=\"background-color:#fddbc7\">n</span><span style=\"background-color:#f4a582\"><br></span><span style=\"background-color:#fddbc7\">\"</span><span style=\"background-color:#f7f7f7\">I</span><span style=\"background-color:#fddbc7\">f</span><span style=\"background-color:#d6604d\"> </span><span style=\"background-color:#f7f7f7\">I</span><span style=\"background-color:#fddbc7\"> </span><span style=\"background-color:#d1e5f0\">d</span><span style=\"background-color:#f4a582\">o</span><span style=\"background-color:#fddbc7\">n</span><span style=\"background-color:#fddbc7\">'</span><span style=\"background-color:#f7f7f7\">t</span><span style=\"background-color:#fddbc7\"> </span><span style=\"background-color:#fddbc7\">w</span><span style=\"background-color:#fddbc7\">a</span><span style=\"background-color:#fddbc7\">n</span><span style=\"background-color:#fddbc7\">t</span><span style=\"background-color:#fddbc7\"> </span><span style=\"background-color:#fddbc7\">a</span><span style=\"background-color:#fddbc7\"> </span><span style=\"background-color:#fddbc7\">p</span><span style=\"background-color:#d1e5f0\">o</span><span style=\"background-color:#d6604d\">l</span><span style=\"background-color:#f4a582\">i</span><span style=\"background-color:#fddbc7\">c</span><span style=\"background-color:#f4a582\">e</span><span style=\"background-color:#f4a582\"> </span><span style=\"background-color:#fddbc7\">a</span><span style=\"background-color:#fddbc7\">n</span><span style=\"background-color:#d6604d\">d</span><span style=\"background-color:#f4a582\"> </span><span style=\"background-color:#f7f7f7\">m</span><span style=\"background-color:#f4a582\">e</span><span style=\"background-color:#fddbc7\">n</span><span style=\"background-color:#fddbc7\"> </span><span style=\"background-color:#fddbc7\">a</span><span style=\"background-color:#fddbc7\">n</span><span style=\"background-color:#f4a582\">d</span><span style=\"background-color:#f4a582\"> </span><span style=\"background-color:#f7f7f7\">t</span><span style=\"background-color:#f7f7f7\">a</span><span style=\"background-color:#d1e5f0\">x</span><span style=\"background-color:#f7f7f7\">e</span><span style=\"background-color:#fddbc7\">s</span><span style=\"background-color:#fddbc7\"> </span><span style=\"background-color:#fddbc7\">o</span><span style=\"background-color:#fddbc7\">n</span><span style=\"background-color:#d6604d\"> </span><span style=\"background-color:#f7f7f7\">t</span><span style=\"background-color:#d1e5f0\">h</span><span style=\"background-color:#92c5de\">e</span><span style=\"background-color:#f4a582\"> </span><span style=\"background-color:#fddbc7\">U</span><span style=\"background-color:#d1e5f0\">S</span><span style=\"background-color:#92c5de\"> </span><span style=\"background-color:#f7f7f7\">a</span><span style=\"background-color:#fddbc7\">n</span><span style=\"background-color:#d6604d\">d</span><span style=\"background-color:#f4a582\"> </span><span style=\"background-color:#f7f7f7\">t</span><span style=\"background-color:#d1e5f0\">h</span><span style=\"background-color:#92c5de\">o</span><span style=\"background-color:#d6604d\">u</span><span style=\"background-color:#fddbc7\">s</span><span style=\"background-color:#fddbc7\">a</span><span style=\"background-color:#fddbc7\">n</span><span style=\"background-color:#f4a582\">d</span><span style=\"background-color:#fddbc7\">s</span><span style=\"background-color:#f7f7f7\">\"</span><span style=\"background-color:#f7f7f7\"> </span><span style=\"background-color:#f7f7f7\">h</span><span style=\"background-color:#fddbc7\">t</span><span style=\"background-color:#92c5de\">t</span><span style=\"background-color:#92c5de\">p</span><span style=\"background-color:#d1e5f0\">:</span><span style=\"background-color:#d1e5f0\">/</span><span style=\"background-color:#d1e5f0\">/</span><span style=\"background-color:#92c5de\">t</span><span style=\"background-color:#92c5de\">.</span><span style=\"background-color:#92c5de\">c</span><span style=\"background-color:#d6604d\">o</span><span style=\"background-color:#f4a582\">/</span><span style=\"background-color:#fddbc7\">2</span><span style=\"background-color:#f4a582\">s</span><span style=\"background-color:#f4a582\">h</span><span style=\"background-color:#f4a582\">2</span><span style=\"background-color:#f4a582\">h</span><span style=\"background-color:#f4a582\">i</span><span style=\"background-color:#fddbc7\">a</span><span style=\"background-color:#fddbc7\">i</span><span style=\"background-color:#fddbc7\">v</span><span style=\"background-color:#fddbc7\">i</span><span style=\"background-color:#fddbc7\"><br></span><span style=\"background-color:#fddbc7\">\"</span><span style=\"background-color:#f7f7f7\">T</span><span style=\"background-color:#f7f7f7\">r</span><span style=\"background-color:#d6604d\">u</span><span style=\"background-color:#fddbc7\">m</span><span style=\"background-color:#fddbc7\">p</span><span style=\"background-color:#fddbc7\">:</span><span style=\"background-color:#f7f7f7\"> </span><span style=\"background-color:#f7f7f7\">\"</span><span style=\"background-color:#f7f7f7\">T</span><span style=\"background-color:#d1e5f0\">r</span><span style=\"background-color:#d6604d\">u</span><span style=\"background-color:#fddbc7\">m</span><span style=\"background-color:#fddbc7\">p</span><span style=\"background-color:#fddbc7\"> </span><span style=\"background-color:#f7f7f7\">I</span><span style=\"background-color:#fddbc7\">n</span><span style=\"background-color:#fddbc7\"> </span><span style=\"background-color:#f7f7f7\">T</span><span style=\"background-color:#d1e5f0\">r</span><span style=\"background-color:#d6604d\">u</span><span style=\"background-color:#fddbc7\">m</span><span style=\"background-color:#fddbc7\">p</span><span style=\"background-color:#fddbc7\"> </span><span style=\"background-color:#fddbc7\">S</span><span style=\"background-color:#fddbc7\">e</span><span style=\"background-color:#f7f7f7\">e</span><span style=\"background-color:#fddbc7\">t</span><span style=\"background-color:#fddbc7\"> </span><span style=\"background-color:#fddbc7\">B</span><span style=\"background-color:#f4a582\">o</span><span style=\"background-color:#fddbc7\">r</span><span style=\"background-color:#fddbc7\">b</span><span style=\"background-color:#fddbc7\">o</span><span style=\"background-color:#fddbc7\">r</span><span style=\"background-color:#fddbc7\">d</span><span style=\"background-color:#fddbc7\"> </span><span style=\"background-color:#f7f7f7\">C</span><span style=\"background-color:#fddbc7\">r</span><span style=\"background-color:#d6604d\">o</span><span style=\"background-color:#fddbc7\">w</span><span style=\"background-color:#fddbc7\">d</span><span style=\"background-color:#fddbc7\">s</span><span style=\"background-color:#f7f7f7\">\"</span><span style=\"background-color:#f7f7f7\"> </span><span style=\"background-color:#f7f7f7\">h</span><span style=\"background-color:#fddbc7\">t</span><span style=\"background-color:#92c5de\">t</span><span style=\"background-color:#92c5de\">p</span><span style=\"background-color:#f7f7f7\">:</span><span style=\"background-color:#f7f7f7\">/</span><span style=\"background-color:#f7f7f7\">/</span><span style=\"background-color:#d1e5f0\">t</span><span style=\"background-color:#92c5de\">.</span><span style=\"background-color:#92c5de\">c</span><span style=\"background-color:#d6604d\">o</span><span style=\"background-color:#f4a582\">/</span><span style=\"background-color:#fddbc7\">s</span><span style=\"background-color:#f4a582\">I</span><span style=\"background-color:#f4a582\">a</span><span style=\"background-color:#f4a582\">2</span><span style=\"background-color:#f4a582\">B</span><span style=\"background-color:#f4a582\">i</span><span style=\"background-color:#fddbc7\">5</span><span style=\"background-color:#fddbc7\">s</span><span style=\"background-color:#fddbc7\"> </span><span style=\"background-color:#fddbc7\"> </span><span style=\"background-color:#fddbc7\">T</span><span style=\"background-color:#f7f7f7\">h</span><span style=\"background-color:#d1e5f0\">e</span><span style=\"background-color:#d6604d\">y</span><span style=\"background-color:#fddbc7\"> </span><span style=\"background-color:#f7f7f7\">w</span><span style=\"background-color:#fddbc7\">i</span><span style=\"background-color:#f7f7f7\">l</span><span style=\"background-color:#fddbc7\">l</span><span style=\"background-color:#fddbc7\"> </span><span style=\"background-color:#f7f7f7\">n</span><span style=\"background-color:#fddbc7\">o</span><span style=\"background-color:#fddbc7\">t</span><span style=\"background-color:#fddbc7\"> </span><span style=\"background-color:#fddbc7\">b</span><span style=\"background-color:#f4a582\">e</span><span style=\"background-color:#f4a582\"> </span><span style=\"background-color:#f7f7f7\">a</span><span style=\"background-color:#fddbc7\">s</span><span style=\"background-color:#fddbc7\">k</span><span style=\"background-color:#f4a582\">a</span><span style=\"background-color:#f4a582\">m</span><span style=\"background-color:#f4a582\">e</span><span style=\"background-color:#fddbc7\">s</span><span style=\"background-color:#fddbc7\">.</span><span style=\"background-color:#fddbc7\"><br></span><span style=\"background-color:#f7f7f7\">.</span><span style=\"background-color:#d1e5f0\">@</span><span style=\"background-color:#d1e5f0\">C</span><span style=\"background-color:#d1e5f0\">N</span><span style=\"background-color:#f4a582\">N</span><span style=\"background-color:#f7f7f7\"> </span><span style=\"background-color:#fddbc7\">w</span><span style=\"background-color:#fddbc7\">e</span><span style=\"background-color:#fddbc7\"> </span><span style=\"background-color:#f7f7f7\">s</span><span style=\"background-color:#fddbc7\">t</span><span style=\"background-color:#f7f7f7\">a</span><span style=\"background-color:#f7f7f7\">y</span><span style=\"background-color:#f7f7f7\"> </span><span style=\"background-color:#f7f7f7\">a</span><span style=\"background-color:#fddbc7\"> </span><span style=\"background-color:#fddbc7\">g</span><span style=\"background-color:#fddbc7\">r</span><span style=\"background-color:#f4a582\">e</span><span style=\"background-color:#d6604d\">a</span><span style=\"background-color:#f4a582\">t</span><span style=\"background-color:#d6604d\"> </span><span style=\"background-color:#f4a582\">j</span><span style=\"background-color:#d6604d\">o</span><span style=\"background-color:#fddbc7\">b</span><span style=\"background-color:#fddbc7\"> </span><span style=\"background-color:#fddbc7\">o</span><span style=\"background-color:#fddbc7\">n</span><span style=\"background-color:#d6604d\"> </span><span style=\"background-color:#fddbc7\">@</span><span style=\"background-color:#f7f7f7\">C</span><span style=\"background-color:#d1e5f0\">N</span><span style=\"background-color:#f4a582\">N</span><span style=\"background-color:#f7f7f7\"> </span><span style=\"background-color:#f7f7f7\">a</span><span style=\"background-color:#fddbc7\">g</span><span style=\"background-color:#f4a582\">r</span><span style=\"background-color:#fddbc7\">e</span></span>"
      ],
      "text/plain": [
       "<IPython.core.display.HTML object>"
      ]
     },
     "execution_count": 62,
     "metadata": {},
     "output_type": "execute_result"
    }
   ],
   "source": [
    "HTML(make_colored_text(samp, states, cell_id=200, layer_id=1))"
   ]
  },
  {
   "cell_type": "code",
   "execution_count": 63,
   "metadata": {},
   "outputs": [
    {
     "data": {
      "text/html": [
       "<span style=\"white-space: per-line; font-family: Courier, Monaco, mono space\"><span style=\"background-color:#f7f7f7\">O</span><span style=\"background-color:#fddbc7\">b</span><span style=\"background-color:#fddbc7\">a</span><span style=\"background-color:#f4a582\">m</span><span style=\"background-color:#fddbc7\">a</span><span style=\"background-color:#fddbc7\"> </span><span style=\"background-color:#f7f7f7\">(</span><span style=\"background-color:#f7f7f7\">c</span><span style=\"background-color:#d1e5f0\">o</span><span style=\"background-color:#f7f7f7\">n</span><span style=\"background-color:#f7f7f7\">t</span><span style=\"background-color:#f7f7f7\">)</span><span style=\"background-color:#f7f7f7\"> </span><span style=\"background-color:#fddbc7\">h</span><span style=\"background-color:#f7f7f7\">t</span><span style=\"background-color:#f7f7f7\">t</span><span style=\"background-color:#fddbc7\">p</span><span style=\"background-color:#fddbc7\">:</span><span style=\"background-color:#fddbc7\">/</span><span style=\"background-color:#fddbc7\">/</span><span style=\"background-color:#fddbc7\">t</span><span style=\"background-color:#fddbc7\">.</span><span style=\"background-color:#fddbc7\">c</span><span style=\"background-color:#fddbc7\">o</span><span style=\"background-color:#fddbc7\">/</span><span style=\"background-color:#fddbc7\">2</span><span style=\"background-color:#fddbc7\">5</span><span style=\"background-color:#fddbc7\">0</span><span style=\"background-color:#fddbc7\">2</span><span style=\"background-color:#f7f7f7\">B</span><span style=\"background-color:#f7f7f7\">8</span><span style=\"background-color:#f7f7f7\">8</span><span style=\"background-color:#f7f7f7\">h</span><span style=\"background-color:#f7f7f7\"><br></span><span style=\"background-color:#f7f7f7\">T</span><span style=\"background-color:#d1e5f0\">h</span><span style=\"background-color:#f7f7f7\">o</span><span style=\"background-color:#f7f7f7\">u</span><span style=\"background-color:#fddbc7\">g</span><span style=\"background-color:#fddbc7\">h</span><span style=\"background-color:#f7f7f7\">t</span><span style=\"background-color:#f7f7f7\">s</span><span style=\"background-color:#fddbc7\"> </span><span style=\"background-color:#fddbc7\">o</span><span style=\"background-color:#f7f7f7\">n</span><span style=\"background-color:#fddbc7\"> </span><span style=\"background-color:#fddbc7\">m</span><span style=\"background-color:#fddbc7\">a</span><span style=\"background-color:#fddbc7\">k</span><span style=\"background-color:#fddbc7\">e</span><span style=\"background-color:#f7f7f7\"> </span><span style=\"background-color:#fddbc7\">a</span><span style=\"background-color:#fddbc7\">m</span><span style=\"background-color:#f4a582\"> </span><span style=\"background-color:#fddbc7\">a</span><span style=\"background-color:#fddbc7\">n</span><span style=\"background-color:#fddbc7\">d</span><span style=\"background-color:#fddbc7\"> </span><span style=\"background-color:#fddbc7\">w</span><span style=\"background-color:#f7f7f7\">h</span><span style=\"background-color:#f7f7f7\">a</span><span style=\"background-color:#f7f7f7\">t</span><span style=\"background-color:#fddbc7\"> </span><span style=\"background-color:#fddbc7\">I</span><span style=\"background-color:#d1e5f0\"> </span><span style=\"background-color:#f7f7f7\">s</span><span style=\"background-color:#d1e5f0\">a</span><span style=\"background-color:#f7f7f7\">i</span><span style=\"background-color:#f7f7f7\">d</span><span style=\"background-color:#d1e5f0\"> </span><span style=\"background-color:#f7f7f7\">t</span><span style=\"background-color:#f7f7f7\">o</span><span style=\"background-color:#fddbc7\"> </span><span style=\"background-color:#fddbc7\">s</span><span style=\"background-color:#f7f7f7\">h</span><span style=\"background-color:#f7f7f7\">u</span><span style=\"background-color:#f7f7f7\">t</span><span style=\"background-color:#fddbc7\"> </span><span style=\"background-color:#fddbc7\">t</span><span style=\"background-color:#f7f7f7\">h</span><span style=\"background-color:#fddbc7\">e</span><span style=\"background-color:#fddbc7\"> </span><span style=\"background-color:#fddbc7\">m</span><span style=\"background-color:#fddbc7\">a</span><span style=\"background-color:#fddbc7\">k</span><span style=\"background-color:#fddbc7\">e</span><span style=\"background-color:#f7f7f7\"> </span><span style=\"background-color:#f7f7f7\">i</span><span style=\"background-color:#f7f7f7\">t</span><span style=\"background-color:#fddbc7\"> </span><span style=\"background-color:#fddbc7\">w</span><span style=\"background-color:#f7f7f7\">a</span><span style=\"background-color:#f7f7f7\">s</span><span style=\"background-color:#fddbc7\"> </span><span style=\"background-color:#fddbc7\">s</span><span style=\"background-color:#f7f7f7\">o</span><span style=\"background-color:#fddbc7\"> </span><span style=\"background-color:#fddbc7\">m</span><span style=\"background-color:#fddbc7\">u</span><span style=\"background-color:#fddbc7\">c</span><span style=\"background-color:#f7f7f7\">h</span><span style=\"background-color:#f7f7f7\"> </span><span style=\"background-color:#f7f7f7\">b</span><span style=\"background-color:#f7f7f7\">e</span><span style=\"background-color:#f7f7f7\">t</span><span style=\"background-color:#f7f7f7\">t</span><span style=\"background-color:#fddbc7\">e</span><span style=\"background-color:#fddbc7\">r</span><span style=\"background-color:#fddbc7\"> </span><span style=\"background-color:#fddbc7\">t</span><span style=\"background-color:#f7f7f7\">h</span><span style=\"background-color:#f7f7f7\">a</span><span style=\"background-color:#f7f7f7\">n</span><span style=\"background-color:#fddbc7\"> </span><span style=\"background-color:#fddbc7\">t</span><span style=\"background-color:#f7f7f7\">h</span><span style=\"background-color:#f7f7f7\">e</span><span style=\"background-color:#f7f7f7\"> </span><span style=\"background-color:#fddbc7\">p</span><span style=\"background-color:#fddbc7\">r</span><span style=\"background-color:#fddbc7\">o</span><span style=\"background-color:#fddbc7\">b</span><span style=\"background-color:#fddbc7\">l</span><span style=\"background-color:#fddbc7\">e</span><span style=\"background-color:#fddbc7\">m</span><span style=\"background-color:#fddbc7\">s</span><span style=\"background-color:#fddbc7\">!</span><span style=\"background-color:#fddbc7\"><br></span><span style=\"background-color:#fddbc7\">I</span><span style=\"background-color:#d1e5f0\">'</span><span style=\"background-color:#f7f7f7\">m</span><span style=\"background-color:#f7f7f7\"> </span><span style=\"background-color:#f7f7f7\">g</span><span style=\"background-color:#d1e5f0\">e</span><span style=\"background-color:#f7f7f7\">t</span><span style=\"background-color:#f7f7f7\">t</span><span style=\"background-color:#fddbc7\">i</span><span style=\"background-color:#fddbc7\">n</span><span style=\"background-color:#fddbc7\">g</span><span style=\"background-color:#f7f7f7\"> </span><span style=\"background-color:#f7f7f7\">r</span><span style=\"background-color:#fddbc7\">e</span><span style=\"background-color:#fddbc7\">a</span><span style=\"background-color:#fddbc7\">d</span><span style=\"background-color:#fddbc7\">y</span><span style=\"background-color:#fddbc7\"> </span><span style=\"background-color:#fddbc7\">t</span><span style=\"background-color:#f7f7f7\">o</span><span style=\"background-color:#f7f7f7\"> </span><span style=\"background-color:#fddbc7\">b</span><span style=\"background-color:#f7f7f7\">e</span><span style=\"background-color:#f7f7f7\"> </span><span style=\"background-color:#f7f7f7\">a</span><span style=\"background-color:#fddbc7\"> </span><span style=\"background-color:#fddbc7\">f</span><span style=\"background-color:#f7f7f7\">a</span><span style=\"background-color:#fddbc7\">r</span><span style=\"background-color:#fddbc7\"> </span><span style=\"background-color:#fddbc7\">m</span><span style=\"background-color:#fddbc7\">o</span><span style=\"background-color:#f7f7f7\">r</span><span style=\"background-color:#fddbc7\">e</span><span style=\"background-color:#fddbc7\"> </span><span style=\"background-color:#fddbc7\">t</span><span style=\"background-color:#f7f7f7\">h</span><span style=\"background-color:#f7f7f7\">a</span><span style=\"background-color:#f7f7f7\">n</span><span style=\"background-color:#fddbc7\"> </span><span style=\"background-color:#fddbc7\">y</span><span style=\"background-color:#f7f7f7\">o</span><span style=\"background-color:#f7f7f7\">u</span><span style=\"background-color:#f7f7f7\">r</span><span style=\"background-color:#fddbc7\"> </span><span style=\"background-color:#fddbc7\">c</span><span style=\"background-color:#f7f7f7\">o</span><span style=\"background-color:#f7f7f7\">u</span><span style=\"background-color:#f7f7f7\">n</span><span style=\"background-color:#fddbc7\">t</span><span style=\"background-color:#f7f7f7\">r</span><span style=\"background-color:#fddbc7\">y</span><span style=\"background-color:#fddbc7\">.</span><span style=\"background-color:#fddbc7\"> </span><span style=\"background-color:#fddbc7\">S</span><span style=\"background-color:#f7f7f7\">t</span><span style=\"background-color:#fddbc7\">a</span><span style=\"background-color:#fddbc7\">n</span><span style=\"background-color:#fddbc7\">d</span><span style=\"background-color:#fddbc7\"> </span><span style=\"background-color:#fddbc7\">a</span><span style=\"background-color:#fddbc7\">n</span><span style=\"background-color:#fddbc7\">d</span><span style=\"background-color:#f7f7f7\"> </span><span style=\"background-color:#fddbc7\">s</span><span style=\"background-color:#f7f7f7\">t</span><span style=\"background-color:#f7f7f7\">o</span><span style=\"background-color:#f7f7f7\">r</span><span style=\"background-color:#fddbc7\">y</span><span style=\"background-color:#fddbc7\"> </span><span style=\"background-color:#fddbc7\">s</span><span style=\"background-color:#f7f7f7\">t</span><span style=\"background-color:#f7f7f7\">a</span><span style=\"background-color:#f7f7f7\">r</span><span style=\"background-color:#fddbc7\">t</span><span style=\"background-color:#f7f7f7\"> </span><span style=\"background-color:#fddbc7\">o</span><span style=\"background-color:#fddbc7\">f</span><span style=\"background-color:#fddbc7\"> </span><span style=\"background-color:#fddbc7\">s</span><span style=\"background-color:#f7f7f7\">t</span><span style=\"background-color:#f7f7f7\">r</span><span style=\"background-color:#fddbc7\">o</span><span style=\"background-color:#f7f7f7\">n</span><span style=\"background-color:#fddbc7\">g</span><span style=\"background-color:#f7f7f7\">e</span><span style=\"background-color:#fddbc7\">r</span><span style=\"background-color:#fddbc7\"> </span><span style=\"background-color:#fddbc7\">t</span><span style=\"background-color:#f7f7f7\">o</span><span style=\"background-color:#fddbc7\"> </span><span style=\"background-color:#fddbc7\">t</span><span style=\"background-color:#f7f7f7\">h</span><span style=\"background-color:#f7f7f7\">e</span><span style=\"background-color:#f7f7f7\"> </span><span style=\"background-color:#fddbc7\">A</span><span style=\"background-color:#fddbc7\">r</span><span style=\"background-color:#fddbc7\">t</span><span style=\"background-color:#f7f7f7\">h</span><span style=\"background-color:#f7f7f7\">o</span><span style=\"background-color:#f7f7f7\">n</span><span style=\"background-color:#fddbc7\">y</span><span style=\"background-color:#f7f7f7\"> </span><span style=\"background-color:#fddbc7\">W</span><span style=\"background-color:#fddbc7\">e</span><span style=\"background-color:#fddbc7\">i</span><span style=\"background-color:#fddbc7\">n</span><span style=\"background-color:#f7f7f7\">e</span><span style=\"background-color:#d1e5f0\">r</span><span style=\"background-color:#f7f7f7\"> </span><span style=\"background-color:#f7f7f7\">i</span><span style=\"background-color:#f7f7f7\">n</span><span style=\"background-color:#fddbc7\"> </span><span style=\"background-color:#fddbc7\">t</span><span style=\"background-color:#f7f7f7\">o</span><span style=\"background-color:#f7f7f7\">d</span><span style=\"background-color:#fddbc7\">a</span><span style=\"background-color:#fddbc7\">y</span><span style=\"background-color:#fddbc7\">'</span><span style=\"background-color:#fddbc7\">s</span><span style=\"background-color:#f7f7f7\"> </span><span style=\"background-color:#fddbc7\">#</span><span style=\"background-color:#fddbc7\">T</span><span style=\"background-color:#d1e5f0\">r</span><span style=\"background-color:#fddbc7\">u</span><span style=\"background-color:#fddbc7\">m</span><span style=\"background-color:#fddbc7\">p</span><span style=\"background-color:#f4a582\">T</span><span style=\"background-color:#fddbc7\">r</span><span style=\"background-color:#fddbc7\">o</span><span style=\"background-color:#fddbc7\">w</span><span style=\"background-color:#fddbc7\">h</span><span style=\"background-color:#f7f7f7\"> </span><span style=\"background-color:#f7f7f7\">a</span><span style=\"background-color:#f7f7f7\">n</span><span style=\"background-color:#fddbc7\">d</span><span style=\"background-color:#f7f7f7\"> </span><span style=\"background-color:#fddbc7\">t</span><span style=\"background-color:#f7f7f7\">h</span><span style=\"background-color:#f7f7f7\">e</span><span style=\"background-color:#f7f7f7\">y</span><span style=\"background-color:#f7f7f7\"> </span><span style=\"background-color:#fddbc7\">w</span><span style=\"background-color:#f7f7f7\">o</span><span style=\"background-color:#f7f7f7\">n</span><span style=\"background-color:#f7f7f7\">'</span><span style=\"background-color:#fddbc7\">t</span><span style=\"background-color:#fddbc7\"> </span><span style=\"background-color:#fddbc7\">w</span><span style=\"background-color:#f7f7f7\">a</span><span style=\"background-color:#f7f7f7\">t</span><span style=\"background-color:#f7f7f7\">c</span><span style=\"background-color:#f7f7f7\">h</span><span style=\"background-color:#f7f7f7\"> </span><span style=\"background-color:#f7f7f7\">o</span><span style=\"background-color:#f7f7f7\">n</span><span style=\"background-color:#fddbc7\"> </span><span style=\"background-color:#fddbc7\">t</span><span style=\"background-color:#f7f7f7\">h</span><span style=\"background-color:#f7f7f7\">e</span><span style=\"background-color:#f7f7f7\">m</span><span style=\"background-color:#fddbc7\"> </span><span style=\"background-color:#fddbc7\">o</span><span style=\"background-color:#f7f7f7\">n</span><span style=\"background-color:#fddbc7\"> </span><span style=\"background-color:#fddbc7\">t</span><span style=\"background-color:#f7f7f7\">h</span><span style=\"background-color:#f7f7f7\">e</span><span style=\"background-color:#f7f7f7\">m</span><span style=\"background-color:#fddbc7\"> </span><span style=\"background-color:#fddbc7\">a</span><span style=\"background-color:#f7f7f7\">n</span><span style=\"background-color:#fddbc7\">d</span><span style=\"background-color:#f7f7f7\"> </span><span style=\"background-color:#fddbc7\">a</span><span style=\"background-color:#f7f7f7\">m</span><span style=\"background-color:#fddbc7\">a</span><span style=\"background-color:#fddbc7\">z</span><span style=\"background-color:#fddbc7\">i</span><span style=\"background-color:#f7f7f7\">n</span><span style=\"background-color:#f7f7f7\">g</span><span style=\"background-color:#f7f7f7\"> </span><span style=\"background-color:#fddbc7\">p</span><span style=\"background-color:#fddbc7\">o</span><span style=\"background-color:#fddbc7\">s</span><span style=\"background-color:#fddbc7\">t</span><span style=\"background-color:#f7f7f7\">.</span><span style=\"background-color:#f7f7f7\"><br></span><span style=\"background-color:#fddbc7\">@</span><span style=\"background-color:#fddbc7\">A</span><span style=\"background-color:#f7f7f7\">p</span><span style=\"background-color:#fddbc7\">t</span><span style=\"background-color:#f7f7f7\">r</span><span style=\"background-color:#f4a582\">e</span><span style=\"background-color:#f4a582\">n</span><span style=\"background-color:#fddbc7\">t</span><span style=\"background-color:#fddbc7\">i</span><span style=\"background-color:#fddbc7\">c</span><span style=\"background-color:#fddbc7\"> </span><span style=\"background-color:#fddbc7\"> </span><span style=\"background-color:#fddbc7\"> </span><span style=\"background-color:#fddbc7\">T</span><span style=\"background-color:#d1e5f0\">h</span><span style=\"background-color:#f7f7f7\">e</span><span style=\"background-color:#f7f7f7\"> </span><span style=\"background-color:#f7f7f7\">s</span><span style=\"background-color:#f7f7f7\">a</span><span style=\"background-color:#f7f7f7\">l</span><span style=\"background-color:#f7f7f7\">e</span><span style=\"background-color:#f7f7f7\">s</span><span style=\"background-color:#f7f7f7\"> </span><span style=\"background-color:#fddbc7\">t</span><span style=\"background-color:#f7f7f7\">h</span><span style=\"background-color:#f7f7f7\">a</span><span style=\"background-color:#f7f7f7\">t</span><span style=\"background-color:#f7f7f7\"> </span><span style=\"background-color:#fddbc7\">t</span><span style=\"background-color:#f7f7f7\">h</span><span style=\"background-color:#f7f7f7\">a</span><span style=\"background-color:#f7f7f7\">t</span><span style=\"background-color:#fddbc7\">'</span><span style=\"background-color:#f4a582\">s</span><span style=\"background-color:#fddbc7\"> </span><span style=\"background-color:#fddbc7\">t</span><span style=\"background-color:#f7f7f7\">h</span><span style=\"background-color:#f7f7f7\">e</span><span style=\"background-color:#f7f7f7\"> </span><span style=\"background-color:#fddbc7\">b</span><span style=\"background-color:#f7f7f7\">e</span><span style=\"background-color:#f7f7f7\">s</span><span style=\"background-color:#f7f7f7\">t</span><span style=\"background-color:#fddbc7\"> </span><span style=\"background-color:#fddbc7\">w</span><span style=\"background-color:#f7f7f7\">i</span><span style=\"background-color:#f7f7f7\">l</span><span style=\"background-color:#f7f7f7\">l</span><span style=\"background-color:#f7f7f7\"> </span><span style=\"background-color:#f7f7f7\">b</span><span style=\"background-color:#d1e5f0\">e</span><span style=\"background-color:#d1e5f0\"> </span><span style=\"background-color:#f7f7f7\">b</span><span style=\"background-color:#f7f7f7\">a</span><span style=\"background-color:#f7f7f7\">c</span><span style=\"background-color:#fddbc7\">k</span><span style=\"background-color:#fddbc7\"> </span><span style=\"background-color:#f7f7f7\">i</span><span style=\"background-color:#f7f7f7\">n</span><span style=\"background-color:#f7f7f7\">t</span><span style=\"background-color:#f7f7f7\">o</span><span style=\"background-color:#f7f7f7\"> </span><span style=\"background-color:#fddbc7\">o</span><span style=\"background-color:#f7f7f7\">u</span><span style=\"background-color:#fddbc7\">r</span><span style=\"background-color:#fddbc7\"> </span><span style=\"background-color:#fddbc7\">b</span><span style=\"background-color:#f7f7f7\">e</span><span style=\"background-color:#f7f7f7\">g</span><span style=\"background-color:#f7f7f7\">i</span><span style=\"background-color:#f7f7f7\">n</span><span style=\"background-color:#f7f7f7\">n</span><span style=\"background-color:#f7f7f7\">i</span><span style=\"background-color:#f7f7f7\">n</span><span style=\"background-color:#f7f7f7\">g</span><span style=\"background-color:#f7f7f7\">!</span><span style=\"background-color:#f7f7f7\"><br></span><span style=\"background-color:#fddbc7\">.</span><span style=\"background-color:#f7f7f7\">@</span><span style=\"background-color:#fddbc7\">B</span><span style=\"background-color:#fddbc7\">a</span><span style=\"background-color:#fddbc7\">r</span><span style=\"background-color:#fddbc7\">a</span><span style=\"background-color:#f7f7f7\">c</span><span style=\"background-color:#f7f7f7\">k</span><span style=\"background-color:#fddbc7\">O</span><span style=\"background-color:#f7f7f7\">b</span><span style=\"background-color:#fddbc7\">a</span><span style=\"background-color:#fddbc7\">m</span><span style=\"background-color:#f4a582\">a</span><span style=\"background-color:#f4a582\"> </span><span style=\"background-color:#f4a582\">a</span><span style=\"background-color:#fddbc7\">l</span><span style=\"background-color:#fddbc7\">l</span><span style=\"background-color:#fddbc7\">o</span><span style=\"background-color:#fddbc7\">w</span><span style=\"background-color:#fddbc7\">e</span><span style=\"background-color:#fddbc7\">d</span><span style=\"background-color:#fddbc7\"> </span><span style=\"background-color:#fddbc7\">t</span><span style=\"background-color:#f7f7f7\">h</span><span style=\"background-color:#f7f7f7\">a</span><span style=\"background-color:#f7f7f7\">t</span><span style=\"background-color:#fddbc7\"> </span><span style=\"background-color:#fddbc7\">@</span><span style=\"background-color:#f4a582\">M</span><span style=\"background-color:#fddbc7\">e</span><span style=\"background-color:#fddbc7\">l</span><span style=\"background-color:#fddbc7\">a</span><span style=\"background-color:#f7f7f7\">n</span><span style=\"background-color:#f7f7f7\">i</span><span style=\"background-color:#d1e5f0\">a</span><span style=\"background-color:#f7f7f7\">T</span><span style=\"background-color:#d1e5f0\">r</span><span style=\"background-color:#fddbc7\">u</span><span style=\"background-color:#fddbc7\">m</span><span style=\"background-color:#fddbc7\">p</span><span style=\"background-color:#fddbc7\"> </span><span style=\"background-color:#fddbc7\">s</span><span style=\"background-color:#f7f7f7\">h</span><span style=\"background-color:#f7f7f7\">o</span><span style=\"background-color:#f7f7f7\">o</span><span style=\"background-color:#fddbc7\">k</span><span style=\"background-color:#f4a582\">s</span><span style=\"background-color:#fddbc7\"> </span><span style=\"background-color:#fddbc7\">t</span><span style=\"background-color:#f7f7f7\">h</span><span style=\"background-color:#f7f7f7\">e</span><span style=\"background-color:#f7f7f7\"> </span><span style=\"background-color:#fddbc7\">b</span><span style=\"background-color:#fddbc7\">o</span><span style=\"background-color:#fddbc7\">r</span><span style=\"background-color:#fddbc7\">i</span><span style=\"background-color:#f7f7f7\">n</span><span style=\"background-color:#f7f7f7\">g</span><span style=\"background-color:#f7f7f7\"> </span><span style=\"background-color:#fddbc7\">r</span><span style=\"background-color:#f4a582\">e</span><span style=\"background-color:#fddbc7\">c</span><span style=\"background-color:#fddbc7\">u</span><span style=\"background-color:#fddbc7\">l</span><span style=\"background-color:#fddbc7\">a</span><span style=\"background-color:#f7f7f7\">t</span><span style=\"background-color:#f7f7f7\">i</span><span style=\"background-color:#f7f7f7\">o</span><span style=\"background-color:#f7f7f7\">n</span><span style=\"background-color:#fddbc7\"> </span><span style=\"background-color:#fddbc7\">o</span><span style=\"background-color:#f7f7f7\">f</span><span style=\"background-color:#fddbc7\"> </span><span style=\"background-color:#fddbc7\">t</span><span style=\"background-color:#f7f7f7\">h</span><span style=\"background-color:#f7f7f7\">e</span><span style=\"background-color:#f7f7f7\"> </span><span style=\"background-color:#fddbc7\">U</span><span style=\"background-color:#fddbc7\">S</span><span style=\"background-color:#fddbc7\"> </span><span style=\"background-color:#f4a582\">t</span><span style=\"background-color:#f7f7f7\">o</span><span style=\"background-color:#fddbc7\">g</span><span style=\"background-color:#fddbc7\">e</span><span style=\"background-color:#f7f7f7\">t</span><span style=\"background-color:#f7f7f7\">h</span><span style=\"background-color:#f7f7f7\">e</span><span style=\"background-color:#f7f7f7\">r</span><span style=\"background-color:#fddbc7\">.</span><span style=\"background-color:#f7f7f7\"> </span><span style=\"background-color:#fddbc7\">W</span><span style=\"background-color:#fddbc7\">a</span><span style=\"background-color:#fddbc7\">l</span><span style=\"background-color:#fddbc7\">l</span><span style=\"background-color:#fddbc7\"> </span><span style=\"background-color:#fddbc7\">t</span><span style=\"background-color:#f7f7f7\">o</span><span style=\"background-color:#fddbc7\"> </span><span style=\"background-color:#f4a582\">t</span><span style=\"background-color:#f7f7f7\">h</span><span style=\"background-color:#f7f7f7\">e</span><span style=\"background-color:#f7f7f7\"> </span><span style=\"background-color:#fddbc7\">p</span><span style=\"background-color:#fddbc7\">r</span><span style=\"background-color:#fddbc7\">o</span><span style=\"background-color:#fddbc7\">b</span><span style=\"background-color:#fddbc7\">l</span><span style=\"background-color:#fddbc7\">e</span><span style=\"background-color:#fddbc7\">m</span><span style=\"background-color:#fddbc7\">.</span><span style=\"background-color:#fddbc7\"> </span><span style=\"background-color:#fddbc7\">#</span><span style=\"background-color:#fddbc7\">M</span><span style=\"background-color:#f7f7f7\">a</span><span style=\"background-color:#fddbc7\">k</span><span style=\"background-color:#f4a582\">e</span><span style=\"background-color:#f4a582\">A</span><span style=\"background-color:#fddbc7\">m</span><span style=\"background-color:#d6604d\">e</span><span style=\"background-color:#d6604d\">r</span><span style=\"background-color:#d6604d\">i</span><span style=\"background-color:#d6604d\">c</span><span style=\"background-color:#d6604d\">a</span><span style=\"background-color:#d6604d\">G</span><span style=\"background-color:#f4a582\">r</span><span style=\"background-color:#d6604d\">e</span><span style=\"background-color:#d6604d\">a</span><span style=\"background-color:#d6604d\">t</span><span style=\"background-color:#d6604d\">A</span><span style=\"background-color:#f4a582\">g</span><span style=\"background-color:#d6604d\">a</span><span style=\"background-color:#f4a582\">i</span><span style=\"background-color:#d6604d\">n</span><span style=\"background-color:#d6604d\"><br></span><span style=\"background-color:#f4a582\">T</span><span style=\"background-color:#f7f7f7\">h</span><span style=\"background-color:#f7f7f7\">e</span><span style=\"background-color:#f7f7f7\"> </span><span style=\"background-color:#fddbc7\">@</span><span style=\"background-color:#fddbc7\">T</span><span style=\"background-color:#d1e5f0\">r</span><span style=\"background-color:#fddbc7\">u</span><span style=\"background-color:#fddbc7\">m</span><span style=\"background-color:#f4a582\">p</span><span style=\"background-color:#f4a582\">N</span><span style=\"background-color:#fddbc7\">e</span><span style=\"background-color:#fddbc7\">w</span><span style=\"background-color:#fddbc7\">Y</span><span style=\"background-color:#f7f7f7\">o</span><span style=\"background-color:#f7f7f7\">r</span><span style=\"background-color:#fddbc7\">k</span><span style=\"background-color:#f4a582\"> </span><span style=\"background-color:#fddbc7\">i</span><span style=\"background-color:#f7f7f7\">s</span><span style=\"background-color:#fddbc7\"> </span><span style=\"background-color:#fddbc7\">t</span><span style=\"background-color:#f7f7f7\">o</span><span style=\"background-color:#fddbc7\">o</span><span style=\"background-color:#fddbc7\"> </span><span style=\"background-color:#fddbc7\">b</span><span style=\"background-color:#f7f7f7\">a</span><span style=\"background-color:#f7f7f7\">s</span><span style=\"background-color:#f7f7f7\">e</span><span style=\"background-color:#fddbc7\"> </span><span style=\"background-color:#fddbc7\">t</span><span style=\"background-color:#f7f7f7\">o</span><span style=\"background-color:#fddbc7\">n</span><span style=\"background-color:#fddbc7\">i</span><span style=\"background-color:#f7f7f7\">g</span><span style=\"background-color:#f7f7f7\">h</span><span style=\"background-color:#d1e5f0\">t</span><span style=\"background-color:#f7f7f7\">.</span><span style=\"background-color:#fddbc7\"> </span><span style=\"background-color:#fddbc7\">T</span><span style=\"background-color:#f7f7f7\">h</span><span style=\"background-color:#fddbc7\">e</span><span style=\"background-color:#f7f7f7\">n</span><span style=\"background-color:#fddbc7\"> </span><span style=\"background-color:#fddbc7\">y</span><span style=\"background-color:#f7f7f7\">o</span><span style=\"background-color:#f7f7f7\">u</span><span style=\"background-color:#f7f7f7\"> </span><span style=\"background-color:#fddbc7\">d</span><span style=\"background-color:#f7f7f7\">o</span><span style=\"background-color:#f7f7f7\"> </span><span style=\"background-color:#f7f7f7\">a</span><span style=\"background-color:#f7f7f7\">n</span><span style=\"background-color:#f7f7f7\">y</span><span style=\"background-color:#f7f7f7\">t</span><span style=\"background-color:#f7f7f7\">h</span><span style=\"background-color:#f7f7f7\">i</span><span style=\"background-color:#f7f7f7\">n</span><span style=\"background-color:#fddbc7\">g</span><span style=\"background-color:#fddbc7\"> </span><span style=\"background-color:#fddbc7\">b</span><span style=\"background-color:#fddbc7\">u</span><span style=\"background-color:#fddbc7\">t</span><span style=\"background-color:#fddbc7\"> </span><span style=\"background-color:#fddbc7\">t</span><span style=\"background-color:#f7f7f7\">h</span><span style=\"background-color:#f7f7f7\">e</span><span style=\"background-color:#f7f7f7\">y</span><span style=\"background-color:#f7f7f7\"> </span><span style=\"background-color:#fddbc7\">w</span><span style=\"background-color:#f7f7f7\">a</span><span style=\"background-color:#f7f7f7\">n</span><span style=\"background-color:#f7f7f7\">t</span><span style=\"background-color:#f7f7f7\"> </span><span style=\"background-color:#fddbc7\">m</span><span style=\"background-color:#fddbc7\">o</span><span style=\"background-color:#fddbc7\">r</span><span style=\"background-color:#fddbc7\">e</span><span style=\"background-color:#fddbc7\"> </span><span style=\"background-color:#fddbc7\">t</span><span style=\"background-color:#f7f7f7\">o</span><span style=\"background-color:#fddbc7\"> </span><span style=\"background-color:#fddbc7\">g</span><span style=\"background-color:#d1e5f0\">o</span><span style=\"background-color:#f7f7f7\"> </span><span style=\"background-color:#fddbc7\">a</span><span style=\"background-color:#f7f7f7\"> </span><span style=\"background-color:#f7f7f7\">b</span><span style=\"background-color:#f7f7f7\">u</span><span style=\"background-color:#f7f7f7\">s</span><span style=\"background-color:#fddbc7\">i</span><span style=\"background-color:#f7f7f7\">s</span><span style=\"background-color:#f7f7f7\">e</span><span style=\"background-color:#fddbc7\"> </span><span style=\"background-color:#fddbc7\">s</span><span style=\"background-color:#f7f7f7\">a</span><span style=\"background-color:#f7f7f7\">i</span><span style=\"background-color:#f7f7f7\">d</span><span style=\"background-color:#f7f7f7\"> </span><span style=\"background-color:#f7f7f7\">f</span><span style=\"background-color:#f7f7f7\">a</span><span style=\"background-color:#f7f7f7\">n</span><span style=\"background-color:#f7f7f7\">t</span><span style=\"background-color:#f7f7f7\">a</span><span style=\"background-color:#fddbc7\">s</span><span style=\"background-color:#fddbc7\">t</span><span style=\"background-color:#f7f7f7\">i</span><span style=\"background-color:#f7f7f7\">c</span><span style=\"background-color:#f7f7f7\"> </span><span style=\"background-color:#f7f7f7\">p</span><span style=\"background-color:#fddbc7\">l</span><span style=\"background-color:#fddbc7\">a</span><span style=\"background-color:#fddbc7\">c</span><span style=\"background-color:#f7f7f7\">e</span><span style=\"background-color:#f7f7f7\"> </span><span style=\"background-color:#f7f7f7\">i</span><span style=\"background-color:#f7f7f7\">n</span><span style=\"background-color:#f7f7f7\"> </span><span style=\"background-color:#f7f7f7\">t</span><span style=\"background-color:#f7f7f7\">h</span><span style=\"background-color:#f7f7f7\">e</span><span style=\"background-color:#f7f7f7\"> </span><span style=\"background-color:#f7f7f7\">U</span><span style=\"background-color:#fddbc7\">.</span><span style=\"background-color:#fddbc7\">S</span><span style=\"background-color:#f7f7f7\">.</span><span style=\"background-color:#fddbc7\"><br></span><span style=\"background-color:#f4a582\">T</span><span style=\"background-color:#f7f7f7\">h</span><span style=\"background-color:#f7f7f7\">e</span><span style=\"background-color:#f7f7f7\"> </span><span style=\"background-color:#f7f7f7\">@</span><span style=\"background-color:#fddbc7\">T</span><span style=\"background-color:#f7f7f7\">h</span><span style=\"background-color:#f7f7f7\">a</span><span style=\"background-color:#f7f7f7\">n</span><span style=\"background-color:#f7f7f7\">k</span><span style=\"background-color:#fddbc7\">s</span><span style=\"background-color:#f7f7f7\">G</span><span style=\"background-color:#d1e5f0\">o</span><span style=\"background-color:#f7f7f7\">v</span><span style=\"background-color:#fddbc7\">e</span><span style=\"background-color:#f7f7f7\">r</span><span style=\"background-color:#fddbc7\">n</span><span style=\"background-color:#fddbc7\">o</span><span style=\"background-color:#f7f7f7\">r</span><span style=\"background-color:#fddbc7\"> </span><span style=\"background-color:#fddbc7\">i</span><span style=\"background-color:#f7f7f7\">s</span><span style=\"background-color:#fddbc7\"> </span><span style=\"background-color:#fddbc7\">g</span><span style=\"background-color:#f7f7f7\">o</span><span style=\"background-color:#f7f7f7\">i</span><span style=\"background-color:#fddbc7\">n</span><span style=\"background-color:#f7f7f7\">g</span><span style=\"background-color:#f7f7f7\"> </span><span style=\"background-color:#f7f7f7\">t</span><span style=\"background-color:#f7f7f7\">o</span><span style=\"background-color:#fddbc7\"> </span><span style=\"background-color:#fddbc7\">g</span><span style=\"background-color:#d1e5f0\">e</span><span style=\"background-color:#f7f7f7\">t</span><span style=\"background-color:#f7f7f7\"> </span><span style=\"background-color:#fddbc7\">t</span><span style=\"background-color:#f7f7f7\">o</span><span style=\"background-color:#fddbc7\">o</span><span style=\"background-color:#fddbc7\"> </span><span style=\"background-color:#fddbc7\">b</span><span style=\"background-color:#f7f7f7\">a</span><span style=\"background-color:#f7f7f7\">c</span><span style=\"background-color:#f7f7f7\">k</span><span style=\"background-color:#fddbc7\"> </span><span style=\"background-color:#f7f7f7\">t</span><span style=\"background-color:#f7f7f7\">o</span><span style=\"background-color:#f7f7f7\"> </span><span style=\"background-color:#fddbc7\">m</span><span style=\"background-color:#fddbc7\">y</span><span style=\"background-color:#f7f7f7\"> </span><span style=\"background-color:#fddbc7\">f</span><span style=\"background-color:#fddbc7\">a</span><span style=\"background-color:#fddbc7\">i</span><span style=\"background-color:#f7f7f7\">r</span><span style=\"background-color:#f7f7f7\">i</span><span style=\"background-color:#d1e5f0\">n</span><span style=\"background-color:#d1e5f0\">g</span><span style=\"background-color:#d1e5f0\"> </span><span style=\"background-color:#f7f7f7\">m</span><span style=\"background-color:#fddbc7\">e</span><span style=\"background-color:#fddbc7\"> </span><span style=\"background-color:#fddbc7\">a</span><span style=\"background-color:#fddbc7\">n</span><span style=\"background-color:#fddbc7\">d</span><span style=\"background-color:#f7f7f7\"> </span><span style=\"background-color:#fddbc7\">m</span><span style=\"background-color:#fddbc7\">o</span><span style=\"background-color:#f7f7f7\">s</span><span style=\"background-color:#fddbc7\">t</span><span style=\"background-color:#f7f7f7\"> </span><span style=\"background-color:#fddbc7\">b</span><span style=\"background-color:#f7f7f7\">u</span><span style=\"background-color:#fddbc7\">i</span><span style=\"background-color:#fddbc7\">l</span><span style=\"background-color:#f7f7f7\">d</span><span style=\"background-color:#f7f7f7\">i</span><span style=\"background-color:#d1e5f0\">n</span><span style=\"background-color:#f7f7f7\">g</span><span style=\"background-color:#f7f7f7\">s</span><span style=\"background-color:#f7f7f7\"> </span><span style=\"background-color:#fddbc7\">f</span><span style=\"background-color:#f7f7f7\">r</span><span style=\"background-color:#fddbc7\">o</span><span style=\"background-color:#f7f7f7\">m</span><span style=\"background-color:#f4a582\"> </span><span style=\"background-color:#fddbc7\">t</span><span style=\"background-color:#f7f7f7\">h</span><span style=\"background-color:#fddbc7\">e</span><span style=\"background-color:#fddbc7\"> </span><span style=\"background-color:#fddbc7\">f</span><span style=\"background-color:#f7f7f7\">u</span><span style=\"background-color:#fddbc7\">l</span><span style=\"background-color:#fddbc7\">l</span><span style=\"background-color:#fddbc7\"> </span><span style=\"background-color:#f7f7f7\">s</span><span style=\"background-color:#d1e5f0\">u</span><span style=\"background-color:#f7f7f7\">p</span><span style=\"background-color:#fddbc7\">p</span><span style=\"background-color:#fddbc7\">o</span><span style=\"background-color:#fddbc7\">r</span><span style=\"background-color:#fddbc7\">t</span><span style=\"background-color:#f7f7f7\">.</span><span style=\"background-color:#f7f7f7\">\"</span><span style=\"background-color:#fddbc7\"> </span><span style=\"background-color:#fddbc7\"> </span><span style=\"background-color:#fddbc7\"> </span><span style=\"background-color:#fddbc7\">-</span><span style=\"background-color:#f7f7f7\"> </span><span style=\"background-color:#f7f7f7\">T</span><span style=\"background-color:#d1e5f0\">h</span><span style=\"background-color:#f7f7f7\">i</span><span style=\"background-color:#f7f7f7\">n</span><span style=\"background-color:#fddbc7\">k</span><span style=\"background-color:#fddbc7\"> </span><span style=\"background-color:#fddbc7\">L</span><span style=\"background-color:#f7f7f7\">i</span><span style=\"background-color:#f7f7f7\">k</span><span style=\"background-color:#fddbc7\">e</span><span style=\"background-color:#d1e5f0\"> </span><span style=\"background-color:#d1e5f0\">a</span><span style=\"background-color:#f7f7f7\"> </span><span style=\"background-color:#f4a582\">C</span><span style=\"background-color:#f7f7f7\">h</span><span style=\"background-color:#f7f7f7\">a</span><span style=\"background-color:#f7f7f7\">m</span><span style=\"background-color:#fddbc7\">p</span><span style=\"background-color:#fddbc7\">i</span><span style=\"background-color:#f7f7f7\">o</span><span style=\"background-color:#f7f7f7\">n</span><span style=\"background-color:#fddbc7\"><br></span><span style=\"background-color:#fddbc7\">\"</span><span style=\"background-color:#fddbc7\">I</span><span style=\"background-color:#d1e5f0\">f</span><span style=\"background-color:#f7f7f7\"> </span><span style=\"background-color:#f7f7f7\">I</span><span style=\"background-color:#d1e5f0\"> </span><span style=\"background-color:#f7f7f7\">d</span><span style=\"background-color:#d1e5f0\">o</span><span style=\"background-color:#d1e5f0\">n</span><span style=\"background-color:#f7f7f7\">'</span><span style=\"background-color:#f7f7f7\">t</span><span style=\"background-color:#f7f7f7\"> </span><span style=\"background-color:#f7f7f7\">w</span><span style=\"background-color:#f7f7f7\">a</span><span style=\"background-color:#f7f7f7\">n</span><span style=\"background-color:#f7f7f7\">t</span><span style=\"background-color:#f7f7f7\"> </span><span style=\"background-color:#fddbc7\">a</span><span style=\"background-color:#fddbc7\"> </span><span style=\"background-color:#fddbc7\">p</span><span style=\"background-color:#fddbc7\">o</span><span style=\"background-color:#fddbc7\">l</span><span style=\"background-color:#fddbc7\">i</span><span style=\"background-color:#fddbc7\">c</span><span style=\"background-color:#d1e5f0\">e</span><span style=\"background-color:#f7f7f7\"> </span><span style=\"background-color:#f7f7f7\">a</span><span style=\"background-color:#f7f7f7\">n</span><span style=\"background-color:#f7f7f7\">d</span><span style=\"background-color:#f7f7f7\"> </span><span style=\"background-color:#f7f7f7\">m</span><span style=\"background-color:#fddbc7\">e</span><span style=\"background-color:#fddbc7\">n</span><span style=\"background-color:#f7f7f7\"> </span><span style=\"background-color:#fddbc7\">a</span><span style=\"background-color:#f7f7f7\">n</span><span style=\"background-color:#f7f7f7\">d</span><span style=\"background-color:#f7f7f7\"> </span><span style=\"background-color:#f7f7f7\">t</span><span style=\"background-color:#f7f7f7\">a</span><span style=\"background-color:#fddbc7\">x</span><span style=\"background-color:#fddbc7\">e</span><span style=\"background-color:#fddbc7\">s</span><span style=\"background-color:#f7f7f7\"> </span><span style=\"background-color:#fddbc7\">o</span><span style=\"background-color:#f7f7f7\">n</span><span style=\"background-color:#fddbc7\"> </span><span style=\"background-color:#fddbc7\">t</span><span style=\"background-color:#f7f7f7\">h</span><span style=\"background-color:#f7f7f7\">e</span><span style=\"background-color:#f7f7f7\"> </span><span style=\"background-color:#fddbc7\">U</span><span style=\"background-color:#fddbc7\">S</span><span style=\"background-color:#fddbc7\"> </span><span style=\"background-color:#f4a582\">a</span><span style=\"background-color:#fddbc7\">n</span><span style=\"background-color:#fddbc7\">d</span><span style=\"background-color:#f7f7f7\"> </span><span style=\"background-color:#fddbc7\">t</span><span style=\"background-color:#f7f7f7\">h</span><span style=\"background-color:#f7f7f7\">o</span><span style=\"background-color:#f7f7f7\">u</span><span style=\"background-color:#fddbc7\">s</span><span style=\"background-color:#fddbc7\">a</span><span style=\"background-color:#fddbc7\">n</span><span style=\"background-color:#fddbc7\">d</span><span style=\"background-color:#f7f7f7\">s</span><span style=\"background-color:#f7f7f7\">\"</span><span style=\"background-color:#fddbc7\"> </span><span style=\"background-color:#fddbc7\">h</span><span style=\"background-color:#f7f7f7\">t</span><span style=\"background-color:#f7f7f7\">t</span><span style=\"background-color:#fddbc7\">p</span><span style=\"background-color:#fddbc7\">:</span><span style=\"background-color:#fddbc7\">/</span><span style=\"background-color:#fddbc7\">/</span><span style=\"background-color:#fddbc7\">t</span><span style=\"background-color:#fddbc7\">.</span><span style=\"background-color:#f4a582\">c</span><span style=\"background-color:#f4a582\">o</span><span style=\"background-color:#f4a582\">/</span><span style=\"background-color:#f4a582\">2</span><span style=\"background-color:#f4a582\">s</span><span style=\"background-color:#f4a582\">h</span><span style=\"background-color:#fddbc7\">2</span><span style=\"background-color:#fddbc7\">h</span><span style=\"background-color:#fddbc7\">i</span><span style=\"background-color:#f7f7f7\">a</span><span style=\"background-color:#fddbc7\">i</span><span style=\"background-color:#fddbc7\">v</span><span style=\"background-color:#fddbc7\">i</span><span style=\"background-color:#f7f7f7\"><br></span><span style=\"background-color:#fddbc7\">\"</span><span style=\"background-color:#f4a582\">T</span><span style=\"background-color:#d1e5f0\">r</span><span style=\"background-color:#f7f7f7\">u</span><span style=\"background-color:#f7f7f7\">m</span><span style=\"background-color:#fddbc7\">p</span><span style=\"background-color:#fddbc7\">:</span><span style=\"background-color:#fddbc7\"> </span><span style=\"background-color:#fddbc7\">\"</span><span style=\"background-color:#f4a582\">T</span><span style=\"background-color:#d1e5f0\">r</span><span style=\"background-color:#f7f7f7\">u</span><span style=\"background-color:#f7f7f7\">m</span><span style=\"background-color:#fddbc7\">p</span><span style=\"background-color:#fddbc7\"> </span><span style=\"background-color:#fddbc7\">I</span><span style=\"background-color:#f7f7f7\">n</span><span style=\"background-color:#f7f7f7\"> </span><span style=\"background-color:#fddbc7\">T</span><span style=\"background-color:#d1e5f0\">r</span><span style=\"background-color:#fddbc7\">u</span><span style=\"background-color:#fddbc7\">m</span><span style=\"background-color:#fddbc7\">p</span><span style=\"background-color:#fddbc7\"> </span><span style=\"background-color:#fddbc7\">S</span><span style=\"background-color:#fddbc7\">e</span><span style=\"background-color:#f4a582\">e</span><span style=\"background-color:#f4a582\">t</span><span style=\"background-color:#f7f7f7\"> </span><span style=\"background-color:#fddbc7\">B</span><span style=\"background-color:#f7f7f7\">o</span><span style=\"background-color:#fddbc7\">r</span><span style=\"background-color:#fddbc7\">b</span><span style=\"background-color:#f7f7f7\">o</span><span style=\"background-color:#f7f7f7\">r</span><span style=\"background-color:#fddbc7\">d</span><span style=\"background-color:#f7f7f7\"> </span><span style=\"background-color:#fddbc7\">C</span><span style=\"background-color:#f7f7f7\">r</span><span style=\"background-color:#f7f7f7\">o</span><span style=\"background-color:#f7f7f7\">w</span><span style=\"background-color:#fddbc7\">d</span><span style=\"background-color:#fddbc7\">s</span><span style=\"background-color:#fddbc7\">\"</span><span style=\"background-color:#fddbc7\"> </span><span style=\"background-color:#fddbc7\">h</span><span style=\"background-color:#f7f7f7\">t</span><span style=\"background-color:#f7f7f7\">t</span><span style=\"background-color:#fddbc7\">p</span><span style=\"background-color:#fddbc7\">:</span><span style=\"background-color:#fddbc7\">/</span><span style=\"background-color:#fddbc7\">/</span><span style=\"background-color:#fddbc7\">t</span><span style=\"background-color:#fddbc7\">.</span><span style=\"background-color:#f4a582\">c</span><span style=\"background-color:#f4a582\">o</span><span style=\"background-color:#f4a582\">/</span><span style=\"background-color:#f4a582\">s</span><span style=\"background-color:#f4a582\">I</span><span style=\"background-color:#fddbc7\">a</span><span style=\"background-color:#fddbc7\">2</span><span style=\"background-color:#fddbc7\">B</span><span style=\"background-color:#fddbc7\">i</span><span style=\"background-color:#fddbc7\">5</span><span style=\"background-color:#fddbc7\">s</span><span style=\"background-color:#fddbc7\"> </span><span style=\"background-color:#fddbc7\"> </span><span style=\"background-color:#fddbc7\">T</span><span style=\"background-color:#f7f7f7\">h</span><span style=\"background-color:#f7f7f7\">e</span><span style=\"background-color:#f7f7f7\">y</span><span style=\"background-color:#fddbc7\"> </span><span style=\"background-color:#fddbc7\">w</span><span style=\"background-color:#f7f7f7\">i</span><span style=\"background-color:#d1e5f0\">l</span><span style=\"background-color:#f7f7f7\">l</span><span style=\"background-color:#f7f7f7\"> </span><span style=\"background-color:#f7f7f7\">n</span><span style=\"background-color:#d1e5f0\">o</span><span style=\"background-color:#d1e5f0\">t</span><span style=\"background-color:#fddbc7\"> </span><span style=\"background-color:#fddbc7\">b</span><span style=\"background-color:#f7f7f7\">e</span><span style=\"background-color:#f7f7f7\"> </span><span style=\"background-color:#f7f7f7\">a</span><span style=\"background-color:#fddbc7\">s</span><span style=\"background-color:#fddbc7\">k</span><span style=\"background-color:#f4a582\">a</span><span style=\"background-color:#fddbc7\">m</span><span style=\"background-color:#f4a582\">e</span><span style=\"background-color:#fddbc7\">s</span><span style=\"background-color:#fddbc7\">.</span><span style=\"background-color:#fddbc7\"><br></span><span style=\"background-color:#fddbc7\">.</span><span style=\"background-color:#f7f7f7\">@</span><span style=\"background-color:#fddbc7\">C</span><span style=\"background-color:#f7f7f7\">N</span><span style=\"background-color:#f7f7f7\">N</span><span style=\"background-color:#f7f7f7\"> </span><span style=\"background-color:#fddbc7\">w</span><span style=\"background-color:#f7f7f7\">e</span><span style=\"background-color:#f7f7f7\"> </span><span style=\"background-color:#f7f7f7\">s</span><span style=\"background-color:#d1e5f0\">t</span><span style=\"background-color:#f7f7f7\">a</span><span style=\"background-color:#f7f7f7\">y</span><span style=\"background-color:#f7f7f7\"> </span><span style=\"background-color:#fddbc7\">a</span><span style=\"background-color:#fddbc7\"> </span><span style=\"background-color:#fddbc7\">g</span><span style=\"background-color:#f7f7f7\">r</span><span style=\"background-color:#f7f7f7\">e</span><span style=\"background-color:#f7f7f7\">a</span><span style=\"background-color:#f7f7f7\">t</span><span style=\"background-color:#fddbc7\"> </span><span style=\"background-color:#fddbc7\">j</span><span style=\"background-color:#f7f7f7\">o</span><span style=\"background-color:#f7f7f7\">b</span><span style=\"background-color:#fddbc7\"> </span><span style=\"background-color:#fddbc7\">o</span><span style=\"background-color:#f7f7f7\">n</span><span style=\"background-color:#fddbc7\"> </span><span style=\"background-color:#f7f7f7\">@</span><span style=\"background-color:#fddbc7\">C</span><span style=\"background-color:#f7f7f7\">N</span><span style=\"background-color:#f7f7f7\">N</span><span style=\"background-color:#f7f7f7\"> </span><span style=\"background-color:#fddbc7\">a</span><span style=\"background-color:#f7f7f7\">g</span><span style=\"background-color:#f7f7f7\">r</span><span style=\"background-color:#f7f7f7\">e</span></span>"
      ],
      "text/plain": [
       "<IPython.core.display.HTML object>"
      ]
     },
     "execution_count": 63,
     "metadata": {},
     "output_type": "execute_result"
    }
   ],
   "source": [
    "HTML(make_colored_text(samp, states, cell_id=200, layer_id=0))"
   ]
  },
  {
   "cell_type": "code",
   "execution_count": 66,
   "metadata": {},
   "outputs": [
    {
     "name": "stdout",
     "output_type": "stream",
     "text": [
      "Number of layers: 2\n",
      "Number of memory cells (LSTM size): 512\n",
      "Saving assets/html/CA_trump_tb_20_i3880_l512_1.327_0.html...\n",
      "Saving assets/html/CA_trump_tb_20_i3880_l512_1.327_1.html...\n"
     ]
    }
   ],
   "source": [
    "save_lstm_vis(\"assets/html/CA_trump_tb_20_i3880_l512_1.327\", samp, states)"
   ]
  },
  {
   "cell_type": "markdown",
   "metadata": {
    "collapsed": true
   },
   "source": [
    "## Guessing game\n",
    "\n",
    "In this section you will play a short game of guessing whether the tweet you are shown is real or generated."
   ]
  },
  {
   "cell_type": "code",
   "execution_count": 69,
   "metadata": {},
   "outputs": [],
   "source": [
    "with open('assets/data/trump_tweets_ascii.txt') as f:\n",
    "    tweets_real = f.readlines()\n",
    "\n",
    "with open('assets/data/trump_tweets_fake.txt') as f:\n",
    "    tweets_fake = f.readlines()"
   ]
  },
  {
   "cell_type": "code",
   "execution_count": null,
   "metadata": {},
   "outputs": [
    {
     "name": "stdout",
     "output_type": "stream",
     "text": [
      "\n",
      "Tweet 1/10: @marklyvidell  If you're seeing they want to speech and many people and missed them another business and wasted. See anywoed.\n",
      "\n",
      "true (1) or fake (0): 1\n",
      "WRONG!\n",
      "\n",
      "Tweet 2/10: Hillary Clinton should not be given national security briefings in that she is a lose cannon with extraordinarily bad judgement &amp; insticts.\n",
      "\n"
     ]
    }
   ],
   "source": [
    "score = 0\n",
    "N = 10\n",
    "for i in range(N):\n",
    "    tweet_label = True\n",
    "    if random.random() <= 0.5:\n",
    "        tweet_text = random.choice(tweets_real)\n",
    "    else:\n",
    "        tweet_text = random.choice(tweets_fake)\n",
    "        tweet_label = False\n",
    "    print(\"\\nTweet \" + str(i+1) + \"/\" + str(N) + \": \" + tweet_text)\n",
    "    answer = bool(int(input(\"true (1) or fake (0): \")))\n",
    "    if answer^tweet_label:\n",
    "        print(\"WRONG!\")\n",
    "    else:\n",
    "        print(\"RIGHT!\")\n",
    "        score = score + 1\n",
    "\n",
    "print(\"\\nYour score: \" + str(score) + \"/\" + str(N))"
   ]
  }
 ],
 "metadata": {
  "anaconda-cloud": {},
  "kernelspec": {
   "display_name": "Python 3",
   "language": "python",
   "name": "python3"
  },
  "language_info": {
   "codemirror_mode": {
    "name": "ipython",
    "version": 3
   },
   "file_extension": ".py",
   "mimetype": "text/x-python",
   "name": "python",
   "nbconvert_exporter": "python",
   "pygments_lexer": "ipython3",
   "version": "3.6.1"
  }
 },
 "nbformat": 4,
 "nbformat_minor": 2
}
