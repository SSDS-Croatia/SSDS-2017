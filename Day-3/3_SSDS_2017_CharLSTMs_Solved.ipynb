{
 "cells": [
  {
   "cell_type": "markdown",
   "metadata": {},
   "source": [
    "# Data Science Summer School - Split '17"
   ]
  },
  {
   "cell_type": "markdown",
   "metadata": {},
   "source": [
    "# 3. Character-wise language modeling with multi-layer LSTMs\n",
    "\n",
    "This hands-on session is based on two tutorial notebooks [*Intro to Recurrent Networks (Character-wise RNN)*](https://github.com/udacity/deep-learning/tree/master/intro-to-rnns) and [*Tensorboard*](https://github.com/udacity/deep-learning/tree/master/tensorboard) from Udacity's [Deep Learning Nanodegree Foundation](https://www.udacity.com/course/deep-learning-nanodegree-foundation--nd101) program.\n",
    "\n",
    "This notebook implements a multi-layer LSTMs network for training/sampling from character-level language models. The model takes a text file as input and trains the network that learns to predict the next character in a sequence. The network can then be used to generate text character by character that will look like the original training data. This network is based on Andrej Karpathy's [post on RNNs](http://karpathy.github.io/2015/05/21/rnn-effectiveness/), which became standard example for explaining peculiarities behind RNN models.\n",
    "\n",
    "In this session we will train our model on Donald Trump's tweets."
   ]
  },
  {
   "cell_type": "code",
   "execution_count": 1,
   "metadata": {
    "collapsed": true
   },
   "outputs": [],
   "source": [
    "import time\n",
    "from collections import namedtuple\n",
    "\n",
    "import numpy as np\n",
    "import tensorflow as tf\n",
    "tf.logging.set_verbosity(tf.logging.ERROR)"
   ]
  },
  {
   "cell_type": "code",
   "execution_count": 2,
   "metadata": {
    "collapsed": true
   },
   "outputs": [],
   "source": [
    "%load_ext autoreload\n",
    "%autoreload 2\n",
    "#from utils import show_graph"
   ]
  },
  {
   "cell_type": "markdown",
   "metadata": {
    "collapsed": true
   },
   "source": [
    "## 3.1 Data preparation"
   ]
  },
  {
   "cell_type": "markdown",
   "metadata": {},
   "source": [
    "### Loading and encoding text\n",
    "We have already prepared a text file with concatenated Donald Trump's tweets obtained from the [Trump Twitter Archive](http://www.trumptwitterarchive.com/). The text file is located in `PATH-TO-REPOSITORY/Day-3/assets/data/trump_tweets_ascii.txt`. First, we will load the text file, and encode its characters as integers."
   ]
  },
  {
   "cell_type": "code",
   "execution_count": 3,
   "metadata": {},
   "outputs": [
    {
     "name": "stdout",
     "output_type": "stream",
     "text": [
      "Text size: 2167951\n",
      "Vocabulary size: 92\n",
      "*******************************\n",
      "Number of tweets: 20629\n",
      "Median size of a tweet: 117.0\n"
     ]
    }
   ],
   "source": [
    "with open('assets/data/trump_tweets_ascii.txt', 'r') as f:\n",
    "    text=f.read()\n",
    "\n",
    "#get set of characters contained in the loaded text file\n",
    "vocab = sorted(set(text))\n",
    "\n",
    "#encoding characters as integers\n",
    "vocab_to_int = {c: i for i, c in enumerate(vocab)}\n",
    "encoded_chars = np.array([vocab_to_int[c] for c in text], dtype=np.int32)\n",
    "\n",
    "#make dict for decoding intergers to corresponding characters\n",
    "int_to_vocab = dict(enumerate(vocab))\n",
    "\n",
    "\n",
    "print('Text size: {}'.format(len(encoded_chars)))\n",
    "print('Vocabulary size: {}'.format(len(vocab)))\n",
    "print('*******************************')\n",
    "print('Number of tweets: {}'.format(len(text.split('\\n'))))\n",
    "print('Median size of a tweet: {}'.format(np.percentile([len(t) for t in text.split('\\n')], 50)))\n"
   ]
  },
  {
   "cell_type": "markdown",
   "metadata": {},
   "source": [
    "In the above output, we can see that the provided text file `trump_tweets_ascii.txt` contains in total 2 167 951 characters, as well as that, our character-wise model will try to 'choose' between 92 unique characters (*vocabulary size*) while predicting next character based on the previously seen text."
   ]
  },
  {
   "cell_type": "markdown",
   "metadata": {},
   "source": [
    "Now, we can see first 300 characters of the provided text:"
   ]
  },
  {
   "cell_type": "code",
   "execution_count": 4,
   "metadata": {},
   "outputs": [
    {
     "data": {
      "text/plain": [
       "'We are building our future with American hands American labor American iron aluminum and steel. Happy #LaborDay! https://t.co/lyvtNfQ5IO\\nThe United States is considering in addition to other options stopping all trade with any country doing business with North Korea.\\nI will be meeting General Kelly '"
      ]
     },
     "execution_count": 4,
     "metadata": {},
     "output_type": "execute_result"
    }
   ],
   "source": [
    "text[:300]"
   ]
  },
  {
   "cell_type": "markdown",
   "metadata": {},
   "source": [
    "See how they are encoded as integers:"
   ]
  },
  {
   "cell_type": "code",
   "execution_count": 5,
   "metadata": {},
   "outputs": [
    {
     "data": {
      "text/plain": [
       "array([53, 66,  1, 62, 79, 66,  1, 63, 82, 70, 73, 65, 70, 75, 68,  1, 76,\n",
       "       82, 79,  1, 67, 82, 81, 82, 79, 66,  1, 84, 70, 81, 69,  1, 31, 74,\n",
       "       66, 79, 70, 64, 62, 75,  1, 69, 62, 75, 65, 80,  1, 31, 74, 66, 79,\n",
       "       70, 64, 62, 75,  1, 73, 62, 63, 76, 79,  1, 31, 74, 66, 79, 70, 64,\n",
       "       62, 75,  1, 70, 79, 76, 75,  1, 62, 73, 82, 74, 70, 75, 82, 74,  1,\n",
       "       62, 75, 65,  1, 80, 81, 66, 66, 73, 14,  1, 38, 62, 77, 77, 86,  1,\n",
       "        4, 42, 62, 63, 76, 79, 34, 62, 86,  2,  1, 69, 81, 81, 77, 80, 26,\n",
       "       15, 15, 81, 14, 64, 76, 15, 73, 86, 83, 81, 44, 67, 47, 21, 39, 45,\n",
       "        0, 50, 69, 66,  1, 51, 75, 70, 81, 66, 65,  1, 49, 81, 62, 81, 66,\n",
       "       80,  1, 70, 80,  1, 64, 76, 75, 80, 70, 65, 66, 79, 70, 75, 68,  1,\n",
       "       70, 75,  1, 62, 65, 65, 70, 81, 70, 76, 75,  1, 81, 76,  1, 76, 81,\n",
       "       69, 66, 79,  1, 76, 77, 81, 70, 76, 75, 80,  1, 80, 81, 76, 77, 77,\n",
       "       70, 75, 68,  1, 62, 73, 73,  1, 81, 79, 62, 65, 66,  1, 84, 70, 81,\n",
       "       69,  1, 62, 75, 86,  1, 64, 76, 82, 75, 81, 79, 86,  1, 65, 76, 70,\n",
       "       75, 68,  1, 63, 82, 80, 70, 75, 66, 80, 80,  1, 84, 70, 81, 69,  1,\n",
       "       44, 76, 79, 81, 69,  1, 41, 76, 79, 66, 62, 14,  0, 39,  1, 84, 70,\n",
       "       73, 73,  1, 63, 66,  1, 74, 66, 66, 81, 70, 75, 68,  1, 37, 66, 75,\n",
       "       66, 79, 62, 73,  1, 41, 66, 73, 73, 86,  1], dtype=int32)"
      ]
     },
     "execution_count": 5,
     "metadata": {},
     "output_type": "execute_result"
    }
   ],
   "source": [
    "encoded_chars[:300]"
   ]
  },
  {
   "cell_type": "markdown",
   "metadata": {},
   "source": [
    "And finally, we check the use of our decoding dict `int_to_vocab` to decode the first 300 encoded characters (which we will be using later while sampling new text from the learned model):"
   ]
  },
  {
   "cell_type": "code",
   "execution_count": 6,
   "metadata": {},
   "outputs": [
    {
     "data": {
      "text/plain": [
       "'We are building our future with American hands American labor American iron aluminum and steel. Happy #LaborDay! https://t.co/lyvtNfQ5IO\\nThe United States is considering in addition to other options stopping all trade with any country doing business with North Korea.\\nI will be meeting General Kelly '"
      ]
     },
     "execution_count": 6,
     "metadata": {},
     "output_type": "execute_result"
    }
   ],
   "source": [
    "''.join([int_to_vocab[ec] for ec in encoded_chars[:300]])"
   ]
  },
  {
   "cell_type": "markdown",
   "metadata": {},
   "source": [
    "### Making training and validation mini-batches\n",
    "\n",
    "Neural networks are trained by approximating the gradient of loss function with respect to the neuron-weights, by looking at only a small subset of the data, also known as a mini-batch. Here is where we'll make our mini-batches for training and validation. Now we need to split up the data into batches, and into training and validation sets. For the test we will look if the network can generate new text.\n"
   ]
  },
  {
   "cell_type": "code",
   "execution_count": 7,
   "metadata": {
    "collapsed": true
   },
   "outputs": [],
   "source": [
    "def split_data(arr, batch_size, num_steps, split_frac=0.9):\n",
    "    \"\"\" \n",
    "    Split data into training and validation sets, inputs and targets for each set.\n",
    "    \n",
    "    Arguments\n",
    "    ---------\n",
    "    arr: Array of encoded characters as integers \n",
    "    batch_size: Number of sequences per batch\n",
    "    num_steps: Number of sequence steps per batch to keep in the input and pass to the network, max_time\n",
    "    split_frac: Fraction of batches to keep in the training set\n",
    "    \n",
    "    \n",
    "    Returns train_x, train_y, val_x, val_y\n",
    "    \"\"\"\n",
    "    \n",
    "    slice_size = batch_size * num_steps\n",
    "    n_batches = int(len(arr) / slice_size)\n",
    "    \n",
    "    # Drop the last few characters to make only full batches\n",
    "    x = arr[: n_batches*slice_size]\n",
    "    \n",
    "    # The targets are the same as the inputs, except shifted one character over.\n",
    "    # number of batches covers full size of arr (no characters dropped)\n",
    "    if(len(arr) == n_batches*slice_size):\n",
    "        #for the last target character use first input character\n",
    "        y = np.roll(x, -1)\n",
    "    else:\n",
    "        #for the last target characher use first dropped character\n",
    "        y = arr[1: n_batches*slice_size + 1]\n",
    "    \n",
    "    # Split the data into batch_size slices, then stack them into a 2D matrix \n",
    "    x = np.stack(np.split(x, batch_size))\n",
    "    y = np.stack(np.split(y, batch_size))\n",
    "    # faster alternative\n",
    "    #x = x.reshape((batch_size, -1))\n",
    "    #y = y.reshape((batch_size, -1))\n",
    "    \n",
    "    # Now x and y are arrays with dimensions batch_size x n_batches*num_steps\n",
    "    \n",
    "    # Split into training and validation sets, keep the virst split_frac batches for training\n",
    "    split_idx = int(n_batches*split_frac)\n",
    "    train_x, train_y= x[:, :split_idx*num_steps], y[:, :split_idx*num_steps]\n",
    "    val_x, val_y = x[:, split_idx*num_steps:], y[:, split_idx*num_steps:]\n",
    "    \n",
    "    return train_x, train_y, val_x, val_y"
   ]
  },
  {
   "cell_type": "code",
   "execution_count": 8,
   "metadata": {
    "scrolled": true
   },
   "outputs": [
    {
     "name": "stdout",
     "output_type": "stream",
     "text": [
      "[ 0,  1,  2,  3,  4,  5,  6,  7,  8,  9, 10, 11, 12, 13, 14, 15, 16, 17, 18, 19, 20, 21, 22, 23, 24,\n",
      " 25, 26, 27, 28, 29, 30, 31, 32, 33, 34, 35, 36, 37, 38, 39, 40, 41, 42, 43, 44, 45, 46, 47, 48, 49,\n",
      " 50, 51, 52, 53, 54, 55, 56, 57, 58, 59, 60, 61, 62]\n"
     ]
    }
   ],
   "source": [
    "# example test array\n",
    "example_arr = np.arange(63)\n",
    "print(np.array2string(example_arr, max_line_width=100, separator=', '))"
   ]
  },
  {
   "cell_type": "code",
   "execution_count": 9,
   "metadata": {
    "collapsed": true
   },
   "outputs": [],
   "source": [
    "batch_size = 5 #use 5 sequences in a batch\n",
    "num_steps = 3 #'size' of sequence in a batch, max_time\n",
    "#n_batches = len(arr)/(batch_size*num_steps) = 100/(5*5) = 4\n",
    "\n",
    "split_frac=0.9 # TRAIN= int(0.9 * n_batches) = 3, VAL= n_batches - TRAIN = 1"
   ]
  },
  {
   "cell_type": "code",
   "execution_count": 10,
   "metadata": {
    "collapsed": true
   },
   "outputs": [],
   "source": [
    "train_x, train_y, val_x, val_y = split_data(example_arr, batch_size, num_steps, split_frac)"
   ]
  },
  {
   "cell_type": "code",
   "execution_count": 11,
   "metadata": {},
   "outputs": [
    {
     "data": {
      "text/plain": [
       "array([[ 0,  1,  2,  3,  4,  5,  6,  7,  8],\n",
       "       [12, 13, 14, 15, 16, 17, 18, 19, 20],\n",
       "       [24, 25, 26, 27, 28, 29, 30, 31, 32],\n",
       "       [36, 37, 38, 39, 40, 41, 42, 43, 44],\n",
       "       [48, 49, 50, 51, 52, 53, 54, 55, 56]])"
      ]
     },
     "execution_count": 11,
     "metadata": {},
     "output_type": "execute_result"
    }
   ],
   "source": [
    "train_x"
   ]
  },
  {
   "cell_type": "code",
   "execution_count": 12,
   "metadata": {},
   "outputs": [
    {
     "data": {
      "text/plain": [
       "array([[ 1,  2,  3,  4,  5,  6,  7,  8,  9],\n",
       "       [13, 14, 15, 16, 17, 18, 19, 20, 21],\n",
       "       [25, 26, 27, 28, 29, 30, 31, 32, 33],\n",
       "       [37, 38, 39, 40, 41, 42, 43, 44, 45],\n",
       "       [49, 50, 51, 52, 53, 54, 55, 56, 57]])"
      ]
     },
     "execution_count": 12,
     "metadata": {},
     "output_type": "execute_result"
    }
   ],
   "source": [
    "train_y"
   ]
  },
  {
   "cell_type": "markdown",
   "metadata": {},
   "source": [
    "Next, we will create a generator function to get batches from the arrays made by `split_data`. This will provide us with the functionality to iterate over batches, which we can feed to our network model. The arrays are of dimension (`batch_size, n_batches*num_steps`). Each batch is a sliding window on these arrays with size `batch_size X num_steps`."
   ]
  },
  {
   "cell_type": "code",
   "execution_count": 13,
   "metadata": {
    "collapsed": true
   },
   "outputs": [],
   "source": [
    "def get_batch(arrs, num_steps):\n",
    "    batch_size, slice_size = arrs[0].shape\n",
    "    \n",
    "    n_batches = int(slice_size/num_steps)\n",
    "    for b in range(n_batches):\n",
    "        yield [x[:, b*num_steps: (b+1)*num_steps] for x in arrs]"
   ]
  },
  {
   "cell_type": "code",
   "execution_count": 14,
   "metadata": {
    "collapsed": true
   },
   "outputs": [],
   "source": [
    "train_batches = get_batch([train_x, train_y], num_steps)"
   ]
  },
  {
   "cell_type": "markdown",
   "metadata": {},
   "source": [
    "Now, we will test getting the first batch:"
   ]
  },
  {
   "cell_type": "code",
   "execution_count": 15,
   "metadata": {
    "collapsed": true
   },
   "outputs": [],
   "source": [
    "train_batch_x, train_batch_y = next(train_batches)"
   ]
  },
  {
   "cell_type": "code",
   "execution_count": 16,
   "metadata": {},
   "outputs": [
    {
     "data": {
      "text/plain": [
       "array([[ 0,  1,  2],\n",
       "       [12, 13, 14],\n",
       "       [24, 25, 26],\n",
       "       [36, 37, 38],\n",
       "       [48, 49, 50]])"
      ]
     },
     "execution_count": 16,
     "metadata": {},
     "output_type": "execute_result"
    }
   ],
   "source": [
    "train_batch_x"
   ]
  },
  {
   "cell_type": "code",
   "execution_count": 17,
   "metadata": {},
   "outputs": [
    {
     "data": {
      "text/plain": [
       "array([[ 1,  2,  3],\n",
       "       [13, 14, 15],\n",
       "       [25, 26, 27],\n",
       "       [37, 38, 39],\n",
       "       [49, 50, 51]])"
      ]
     },
     "execution_count": 17,
     "metadata": {},
     "output_type": "execute_result"
    }
   ],
   "source": [
    "train_batch_y"
   ]
  },
  {
   "cell_type": "code",
   "execution_count": 18,
   "metadata": {
    "collapsed": true
   },
   "outputs": [],
   "source": [
    "train_batch_x, train_batch_y = next(train_batches)"
   ]
  },
  {
   "cell_type": "markdown",
   "metadata": {},
   "source": [
    "Next, we can get the second one:"
   ]
  },
  {
   "cell_type": "code",
   "execution_count": 19,
   "metadata": {},
   "outputs": [
    {
     "data": {
      "text/plain": [
       "array([[ 3,  4,  5],\n",
       "       [15, 16, 17],\n",
       "       [27, 28, 29],\n",
       "       [39, 40, 41],\n",
       "       [51, 52, 53]])"
      ]
     },
     "execution_count": 19,
     "metadata": {},
     "output_type": "execute_result"
    }
   ],
   "source": [
    "train_batch_x"
   ]
  },
  {
   "cell_type": "code",
   "execution_count": 20,
   "metadata": {},
   "outputs": [
    {
     "data": {
      "text/plain": [
       "array([[ 4,  5,  6],\n",
       "       [16, 17, 18],\n",
       "       [28, 29, 30],\n",
       "       [40, 41, 42],\n",
       "       [52, 53, 54]])"
      ]
     },
     "execution_count": 20,
     "metadata": {},
     "output_type": "execute_result"
    }
   ],
   "source": [
    "train_batch_y"
   ]
  },
  {
   "cell_type": "code",
   "execution_count": 21,
   "metadata": {},
   "outputs": [
    {
     "data": {
      "text/plain": [
       "'(batch_size, num_steps) = (5, 3)'"
      ]
     },
     "execution_count": 21,
     "metadata": {},
     "output_type": "execute_result"
    }
   ],
   "source": [
    "'(batch_size, num_steps) = {}'.format(train_batch_x.shape)"
   ]
  },
  {
   "cell_type": "markdown",
   "metadata": {},
   "source": [
    "However, we will be iterating over batches using the 'for loop':"
   ]
  },
  {
   "cell_type": "code",
   "execution_count": 22,
   "metadata": {},
   "outputs": [
    {
     "name": "stdout",
     "output_type": "stream",
     "text": [
      "TRAIN BATCHES\n",
      "\n",
      "Batch 1:\n",
      "[[[ 0  1  2]\n",
      "  [12 13 14]\n",
      "  [24 25 26]\n",
      "  [36 37 38]\n",
      "  [48 49 50]]\n",
      "\n",
      " [[ 1  2  3]\n",
      "  [13 14 15]\n",
      "  [25 26 27]\n",
      "  [37 38 39]\n",
      "  [49 50 51]]]\n",
      "\n",
      "Batch 2:\n",
      "[[[ 3  4  5]\n",
      "  [15 16 17]\n",
      "  [27 28 29]\n",
      "  [39 40 41]\n",
      "  [51 52 53]]\n",
      "\n",
      " [[ 4  5  6]\n",
      "  [16 17 18]\n",
      "  [28 29 30]\n",
      "  [40 41 42]\n",
      "  [52 53 54]]]\n",
      "\n",
      "Batch 3:\n",
      "[[[ 6  7  8]\n",
      "  [18 19 20]\n",
      "  [30 31 32]\n",
      "  [42 43 44]\n",
      "  [54 55 56]]\n",
      "\n",
      " [[ 7  8  9]\n",
      "  [19 20 21]\n",
      "  [31 32 33]\n",
      "  [43 44 45]\n",
      "  [55 56 57]]]\n"
     ]
    }
   ],
   "source": [
    "print(\"TRAIN BATCHES\")\n",
    "for b, (x, y) in enumerate(get_batch([train_x, train_y], num_steps), 1):\n",
    "    print('\\nBatch {}:'.format(b))\n",
    "    print(np.stack([x,y]))"
   ]
  },
  {
   "cell_type": "code",
   "execution_count": 23,
   "metadata": {},
   "outputs": [
    {
     "name": "stdout",
     "output_type": "stream",
     "text": [
      "VAL BATCHES\n",
      "\n",
      "Batch 1:\n",
      "[[[ 9 10 11]\n",
      "  [21 22 23]\n",
      "  [33 34 35]\n",
      "  [45 46 47]\n",
      "  [57 58 59]]\n",
      "\n",
      " [[10 11 12]\n",
      "  [22 23 24]\n",
      "  [34 35 36]\n",
      "  [46 47 48]\n",
      "  [58 59 60]]]\n"
     ]
    }
   ],
   "source": [
    "print(\"VAL BATCHES\")\n",
    "for b, (x, y) in enumerate(get_batch([val_x, val_y], num_steps), 1):\n",
    "    print('\\nBatch {}:'.format(b))\n",
    "    print(np.stack([x,y]))"
   ]
  },
  {
   "cell_type": "markdown",
   "metadata": {},
   "source": [
    "## 3.2 Building the model\n",
    "\n",
    "After having our data prepared and convenience functions `split_data` and `get_batch` for handling the data during the training of our network model created, we can finally start building the model using the TensorFlow library. We will break the model building into five parts:\n",
    "* building input placeholders for x, y and dropout \n",
    "* building multi-layer RNN with stacked LSTM cells\n",
    "* building softmax output layer\n",
    "* computation for training loss\n",
    "* building the optimizer for the model parameters\n",
    "\n",
    "\n",
    "\n"
   ]
  },
  {
   "cell_type": "markdown",
   "metadata": {},
   "source": [
    "### Inputs\n",
    "First, we will create our input placeholders for Tensorflow computational graph of the model. We declare placeholders for inputs (x), targets (y) and output keep probablity of LSTM cells called `keep_prob`.   "
   ]
  },
  {
   "cell_type": "code",
   "execution_count": 24,
   "metadata": {
    "collapsed": true
   },
   "outputs": [],
   "source": [
    "def build_inputs(batch_size, num_steps):\n",
    "    ''' Define placeholders for inputs, targets, and dropout \n",
    "    \n",
    "        Arguments\n",
    "        ---------\n",
    "        batch_size: Batch size, number of sequences per batch\n",
    "        num_steps: Number of sequence steps in a batch\n",
    "        \n",
    "    '''\n",
    "    # Declare placeholders we'll feed into the graph\n",
    "    inputs = tf.placeholder(tf.int32, [batch_size, num_steps], name='inputs')\n",
    "    targets = tf.placeholder(tf.int32, [batch_size, num_steps], name='targets')\n",
    "    \n",
    "    # Keep probability placeholder for drop out layers\n",
    "    keep_prob = tf.placeholder(tf.float32, name='keep_prob')\n",
    "    \n",
    "    return inputs, targets, keep_prob"
   ]
  },
  {
   "cell_type": "markdown",
   "metadata": {},
   "source": [
    "### Multi-layer LSTM Cell\n",
    "We first implement `build_cell` function where we create the LSTM cell we will use in the hidden layer. We will use this cell as a building block for the multi layer RNN. Afterwards, we implement the `build_lstm` function to create multiple LSTM cells stacked on each other using build_cell function. We can stack up the LSTM cells into layers with tf.contrib.rnn.MultiRNNCell. Finally, we create an initial state of all zeros for the MultiRNNCell."
   ]
  },
  {
   "cell_type": "code",
   "execution_count": 25,
   "metadata": {
    "collapsed": true
   },
   "outputs": [],
   "source": [
    "def build_cell(lstm_size, keep_prob):\n",
    "    # Use a basic LSTM cell\n",
    "    lstm = tf.contrib.rnn.BasicLSTMCell(lstm_size)\n",
    "\n",
    "    # Add dropout to the cell\n",
    "    drop = tf.contrib.rnn.DropoutWrapper(lstm, output_keep_prob=keep_prob)\n",
    "    return drop"
   ]
  },
  {
   "cell_type": "code",
   "execution_count": 26,
   "metadata": {
    "collapsed": true
   },
   "outputs": [],
   "source": [
    "def build_lstm(lstm_size, num_layers, batch_size, keep_prob):\n",
    "    ''' Build LSTM cell.\n",
    "    \n",
    "        Arguments\n",
    "        ---------\n",
    "        keep_prob: Scalar tensor (tf.placeholder) for the dropout keep probability\n",
    "        lstm_size: Size of the hidden layers in the LSTM cells\n",
    "        num_layers: Number of LSTM layers\n",
    "        batch_size: Batch size\n",
    "\n",
    "    '''\n",
    "    \n",
    "    # Stack up multiple LSTM layers, for deep learning\n",
    "    cell = tf.contrib.rnn.MultiRNNCell([build_cell(lstm_size, keep_prob) for _ in range(num_layers)])\n",
    "    initial_state = cell.zero_state(batch_size, tf.float32)\n",
    "    \n",
    "    return cell, initial_state"
   ]
  },
  {
   "cell_type": "markdown",
   "metadata": {},
   "source": [
    "### RNN Output\n",
    "Here we'll create the output layer. We need to connect the output of the RNN cells to a full connected layer with a softmax output. The softmax output gives us a probability distribution we can use to predict the next character. The output 3D tensor with size $(batch\\_size \\times num\\_steps \\times lstm\\_size)$ has to be reshaped to $((batch\\_size * num\\_steps) \\times  lstm\\_size)$, so we can do the matrix multiplication with the softmax weights.\n"
   ]
  },
  {
   "cell_type": "code",
   "execution_count": 27,
   "metadata": {
    "collapsed": true
   },
   "outputs": [],
   "source": [
    "def build_output(lstm_output, in_size, out_size):\n",
    "    ''' Build a softmax layer, return the softmax output and logits.\n",
    "    \n",
    "        Arguments\n",
    "        ---------\n",
    "        \n",
    "        x: Input tensor\n",
    "        in_size: Size of the input tensor, for example, size of the LSTM cells\n",
    "        out_size: Size of this softmax layer\n",
    "    \n",
    "    '''\n",
    "\n",
    "    # Reshape output so it's a bunch of rows, one row for each step for each sequence.\n",
    "    # That is, the shape should be batch_size*num_steps rows by lstm_size columns\n",
    "    seq_output = tf.concat(lstm_output, axis=1)\n",
    "    x = tf.reshape(seq_output, [-1, in_size])\n",
    "    \n",
    "    # Connect the RNN outputs to a softmax layer\n",
    "    with tf.variable_scope('softmax'):\n",
    "        softmax_w = tf.Variable(tf.truncated_normal((in_size, out_size), stddev=0.1))\n",
    "        softmax_b = tf.Variable(tf.zeros(out_size))\n",
    "    \n",
    "    # Since output is a bunch of rows of RNN cell outputs, logits will be a bunch\n",
    "    # of rows of logit outputs, one for each step and sequence\n",
    "    logits = tf.matmul(x, softmax_w) + softmax_b\n",
    "    \n",
    "    # Use softmax to get the probabilities for predicted characters\n",
    "    out = tf.nn.softmax(logits, name='predictions')\n",
    "    \n",
    "    return out, logits"
   ]
  },
  {
   "cell_type": "markdown",
   "metadata": {},
   "source": [
    "### Training loss\n",
    "\n",
    "Next up is the training loss. We get the logits and targets and calculate the softmax cross-entropy loss. First we need to one-hot encode the targets, we're getting them as encoded characters. Then, reshape the one-hot targets so it's a 2D tensor with size $((batch\\_size * num\\_steps) \\times  num\\_classes)$. Remember that we reshaped the LSTM outputs and ran them through a fully connected layer with num\\_classes units. Then we run the logits and targets through `tf.nn.softmax_cross_entropy_with_logits` and find the mean to get the loss."
   ]
  },
  {
   "cell_type": "code",
   "execution_count": 28,
   "metadata": {
    "collapsed": true
   },
   "outputs": [],
   "source": [
    "def build_loss(logits, targets, lstm_size, num_classes):\n",
    "    ''' Calculate the loss from the logits and the targets.\n",
    "    \n",
    "        Arguments\n",
    "        ---------\n",
    "        logits: Logits from final fully connected layer\n",
    "        t\n",
    "        lstm_size: Number of LSTM hidden units\n",
    "        num_classes: Number of classes in targets\n",
    "        \n",
    "    '''\n",
    "    \n",
    "    # One-hot encode targets and reshape to match logits, one row per batch_size per step\n",
    "    y_one_hot = tf.one_hot(targets, num_classes)\n",
    "    y_reshaped = tf.reshape(y_one_hot, logits.get_shape())\n",
    "    \n",
    "    # Softmax cross entropy loss\n",
    "    loss = tf.nn.softmax_cross_entropy_with_logits(logits=logits, labels=y_reshaped)\n",
    "    loss = tf.reduce_mean(loss)\n",
    "    return loss"
   ]
  },
  {
   "cell_type": "markdown",
   "metadata": {},
   "source": [
    "### Optimizer\n",
    "\n",
    "Here we build the optimizer. Normal RNNs have have issues gradients exploding and disappearing. LSTMs fix the disappearance problem, but the gradients can still grow without bound. To fix this, we can clip the gradients above some threshold. That is, if a gradient is larger than that threshold, we set it to the threshold. This will ensure the gradients never grow overly large. Then we use an AdamOptimizer for the learning step."
   ]
  },
  {
   "cell_type": "code",
   "execution_count": 29,
   "metadata": {
    "collapsed": true
   },
   "outputs": [],
   "source": [
    "def build_optimizer(loss, learning_rate, grad_clip):\n",
    "    ''' Build optmizer for training, using gradient clipping.\n",
    "    \n",
    "        Arguments:\n",
    "        loss: Network loss\n",
    "        learning_rate: Learning rate for optimizer\n",
    "    \n",
    "    '''\n",
    "    \n",
    "    # Optimizer for training, using gradient clipping to control exploding gradients\n",
    "    tvars = tf.trainable_variables()\n",
    "    grads, _ = tf.clip_by_global_norm(tf.gradients(loss, tvars), grad_clip)\n",
    "    train_op = tf.train.AdamOptimizer(learning_rate)\n",
    "    optimizer = train_op.apply_gradients(zip(grads, tvars))\n",
    "    \n",
    "    return optimizer"
   ]
  },
  {
   "cell_type": "markdown",
   "metadata": {},
   "source": [
    "### Build the network\n",
    "\n",
    "Now we can put all the pieces together and build a class for the network. To actually run data through the LSTM cells, we will use [`tf.nn.dynamic_rnn`](https://www.tensorflow.org/versions/r1.0/api_docs/python/tf/nn/dynamic_rnn). This function will pass the hidden and cell states across LSTM cells appropriately for us. It returns the outputs for each LSTM cell at each step for each sequence in the mini-batch. It also gives us the final LSTM state. We want to save this state as `final_state` so we can pass it to the first LSTM cell in the the next mini-batch run. For `tf.nn.dynamic_rnn`, we pass in the cell and initial state we get from `build_lstm`, as well as our input sequences. Also, we need to one-hot encode the inputs before going into the RNN. "
   ]
  },
  {
   "cell_type": "code",
   "execution_count": 30,
   "metadata": {
    "collapsed": true
   },
   "outputs": [],
   "source": [
    "class CharRNN:\n",
    "    \n",
    "    def __init__(self, num_classes, batch_size=64, num_steps=50, \n",
    "                       lstm_size=128, num_layers=2, learning_rate=0.001, \n",
    "                       grad_clip=5, sampling=False):\n",
    "    \n",
    "        # When we're using this network for sampling later, we'll be passing in\n",
    "        # one character at a time, so providing an option for that\n",
    "        if sampling == True:\n",
    "            batch_size, num_steps = 1, 1\n",
    "        else:\n",
    "            batch_size, num_steps = batch_size, num_steps\n",
    "\n",
    "        tf.reset_default_graph()\n",
    "        \n",
    "        # Build the input placeholder tensors\n",
    "        self.inputs, self.targets, self.keep_prob = build_inputs(batch_size, num_steps)\n",
    "\n",
    "        # Build the LSTM cell\n",
    "        cell, self.initial_state = build_lstm(lstm_size, num_layers, batch_size, self.keep_prob)\n",
    "\n",
    "        ### Run the data through the RNN layers\n",
    "        # First, one-hot encode the input tokens\n",
    "        x_one_hot = tf.one_hot(self.inputs, num_classes)\n",
    "        \n",
    "        # Run each sequence step through the RNN and collect the outputs\n",
    "        outputs, state = tf.nn.dynamic_rnn(cell, x_one_hot, initial_state=self.initial_state)\n",
    "        self.final_state = state\n",
    "        \n",
    "        # Get softmax predictions and logits\n",
    "        self.prediction, self.logits = build_output(outputs, lstm_size, num_classes)\n",
    "        \n",
    "        # Loss and optimizer (with gradient clipping)\n",
    "        self.loss = build_loss(self.logits, self.targets, lstm_size, num_classes)\n",
    "        self.optimizer = build_optimizer(self.loss, learning_rate, grad_clip)"
   ]
  },
  {
   "cell_type": "markdown",
   "metadata": {},
   "source": [
    "## Hyperparameters\n",
    "\n",
    "Here we declare the hyperparameters for the network. \n",
    "\n",
    "* `batch_size` - Number of sequences running through the network in one pass.\n",
    "* `num_steps` - Number of characters in the sequence the network is trained on. Larger is better typically, the network will learn more long range dependencies. But it takes longer to train. 100 is typically a good number here.\n",
    "* `lstm_size` - The number of units in the hidden layers.\n",
    "* `num_layers` - Number of hidden LSTM layers to use\n",
    "* `learning_rate` - Learning rate for training\n",
    "* `keep_prob` - The dropout keep probability when training. If you're network is overfitting, try decreasing this.\n",
    "\n",
    "Here's some good advice from Andrej Karpathy on training the network [https://github.com/karpathy/char-rnn#tips-and-tricks](https://github.com/karpathy/char-rnn#tips-and-tricks).\n",
    "\n"
   ]
  },
  {
   "cell_type": "code",
   "execution_count": 31,
   "metadata": {
    "collapsed": true
   },
   "outputs": [],
   "source": [
    "batch_size = 100        # Sequences per batch\n",
    "num_steps = 100         # Number of sequence steps per batch\n",
    "lstm_size = 512         # Size of hidden layers in LSTMs\n",
    "num_layers = 2          # Number of LSTM layers\n",
    "learning_rate = 0.001   # Learning rate\n",
    "keep_prob = 0.5         # Dropout keep probability"
   ]
  },
  {
   "cell_type": "markdown",
   "metadata": {},
   "source": [
    "### Number of parameters"
   ]
  },
  {
   "cell_type": "code",
   "execution_count": 32,
   "metadata": {},
   "outputs": [
    {
     "data": {
      "text/plain": [
       "92"
      ]
     },
     "execution_count": 32,
     "metadata": {},
     "output_type": "execute_result"
    }
   ],
   "source": [
    "len(vocab)"
   ]
  },
  {
   "cell_type": "markdown",
   "metadata": {},
   "source": [
    "LATM cell: $4 \\times \\big[N_{units} \\times (N_{inputs}+1) + N_{units}^{2}\\big]; N_{units}=lstm\\_size, N_{inputs}=len(vocab)$"
   ]
  },
  {
   "cell_type": "code",
   "execution_count": 33,
   "metadata": {
    "collapsed": true
   },
   "outputs": [],
   "source": [
    "model = CharRNN(len(vocab), batch_size=batch_size, num_steps=num_steps,\n",
    "                lstm_size=lstm_size, num_layers=num_layers, \n",
    "                learning_rate=learning_rate)"
   ]
  },
  {
   "cell_type": "code",
   "execution_count": 34,
   "metadata": {},
   "outputs": [
    {
     "data": {
      "text/plain": [
       "[<tf.Variable 'rnn/multi_rnn_cell/cell_0/basic_lstm_cell/kernel:0' shape=(604, 2048) dtype=float32_ref>,\n",
       " <tf.Variable 'rnn/multi_rnn_cell/cell_0/basic_lstm_cell/bias:0' shape=(2048,) dtype=float32_ref>,\n",
       " <tf.Variable 'rnn/multi_rnn_cell/cell_1/basic_lstm_cell/kernel:0' shape=(1024, 2048) dtype=float32_ref>,\n",
       " <tf.Variable 'rnn/multi_rnn_cell/cell_1/basic_lstm_cell/bias:0' shape=(2048,) dtype=float32_ref>,\n",
       " <tf.Variable 'softmax/Variable:0' shape=(512, 92) dtype=float32_ref>,\n",
       " <tf.Variable 'softmax/Variable_1:0' shape=(92,) dtype=float32_ref>]"
      ]
     },
     "execution_count": 34,
     "metadata": {},
     "output_type": "execute_result"
    }
   ],
   "source": [
    "tf.trainable_variables()"
   ]
  },
  {
   "cell_type": "markdown",
   "metadata": {},
   "source": [
    "### Write out the graph for TensorBoard"
   ]
  },
  {
   "cell_type": "code",
   "execution_count": 35,
   "metadata": {
    "collapsed": true
   },
   "outputs": [],
   "source": [
    "with tf.Session() as sess:\n",
    "    sess.run(tf.global_variables_initializer())\n",
    "    file_writer = tf.summary.FileWriter('assets/logs/1', sess.graph)"
   ]
  },
  {
   "cell_type": "markdown",
   "metadata": {},
   "source": [
    "## Training model\n",
    "\n",
    "This is typical training code, passing inputs and targets into the network, then running the optimizer. Here we also get back the final LSTM state for the mini-batch. Then, we pass that state back into the network so the next batch can continue the state from the previous batch. And every so often (set by `save_every_n`) we calculate the validation loss and save a checkpoint."
   ]
  },
  {
   "cell_type": "code",
   "execution_count": 37,
   "metadata": {},
   "outputs": [
    {
     "name": "stdout",
     "output_type": "stream",
     "text": [
      "Epoch 1/2  Iteration 1/388 Training loss: 1.4510 3.8960 sec/batch\n",
      "Epoch 1/2  Iteration 2/388 Training loss: 1.3951 3.6379 sec/batch\n",
      "Epoch 1/2  Iteration 3/388 Training loss: 1.4016 3.7924 sec/batch\n",
      "Epoch 1/2  Iteration 4/388 Training loss: 1.3929 3.8176 sec/batch\n",
      "Epoch 1/2  Iteration 5/388 Training loss: 1.3790 3.8487 sec/batch\n",
      "Epoch 1/2  Iteration 6/388 Training loss: 1.3791 3.9749 sec/batch\n",
      "Epoch 1/2  Iteration 7/388 Training loss: 1.3772 3.9349 sec/batch\n",
      "Epoch 1/2  Iteration 8/388 Training loss: 1.3791 3.9489 sec/batch\n",
      "Epoch 1/2  Iteration 9/388 Training loss: 1.3793 4.1064 sec/batch\n",
      "Epoch 1/2  Iteration 10/388 Training loss: 1.3779 4.0428 sec/batch\n",
      "Epoch 1/2  Iteration 11/388 Training loss: 1.3722 4.3581 sec/batch\n",
      "Epoch 1/2  Iteration 12/388 Training loss: 1.3711 4.1377 sec/batch\n",
      "Epoch 1/2  Iteration 13/388 Training loss: 1.3748 4.3273 sec/batch\n",
      "Epoch 1/2  Iteration 14/388 Training loss: 1.3741 4.3579 sec/batch\n",
      "Epoch 1/2  Iteration 15/388 Training loss: 1.3729 4.1993 sec/batch\n",
      "Epoch 1/2  Iteration 16/388 Training loss: 1.3755 4.3820 sec/batch\n",
      "Epoch 1/2  Iteration 17/388 Training loss: 1.3744 4.3184 sec/batch\n",
      "Epoch 1/2  Iteration 18/388 Training loss: 1.3745 4.6386 sec/batch\n",
      "Epoch 1/2  Iteration 19/388 Training loss: 1.3747 4.6654 sec/batch\n",
      "Epoch 1/2  Iteration 20/388 Training loss: 1.3740 4.7839 sec/batch\n",
      "Epoch 1/2  Iteration 21/388 Training loss: 1.3724 4.7672 sec/batch\n",
      "Epoch 1/2  Iteration 22/388 Training loss: 1.3710 4.6753 sec/batch\n",
      "Epoch 1/2  Iteration 23/388 Training loss: 1.3705 4.6827 sec/batch\n",
      "Epoch 1/2  Iteration 24/388 Training loss: 1.3694 4.8878 sec/batch\n",
      "Epoch 1/2  Iteration 25/388 Training loss: 1.3691 6.2244 sec/batch\n",
      "Epoch 1/2  Iteration 26/388 Training loss: 1.3688 6.0898 sec/batch\n",
      "Epoch 1/2  Iteration 27/388 Training loss: 1.3700 5.3229 sec/batch\n",
      "Epoch 1/2  Iteration 28/388 Training loss: 1.3707 4.9759 sec/batch\n",
      "Epoch 1/2  Iteration 29/388 Training loss: 1.3697 4.9149 sec/batch\n",
      "Epoch 1/2  Iteration 30/388 Training loss: 1.3690 4.9872 sec/batch\n",
      "Epoch 1/2  Iteration 31/388 Training loss: 1.3688 5.2564 sec/batch\n",
      "Epoch 1/2  Iteration 32/388 Training loss: 1.3703 4.9983 sec/batch\n",
      "Epoch 1/2  Iteration 33/388 Training loss: 1.3706 5.5639 sec/batch\n",
      "Epoch 1/2  Iteration 34/388 Training loss: 1.3714 6.0173 sec/batch\n",
      "Epoch 1/2  Iteration 35/388 Training loss: 1.3720 6.3168 sec/batch\n",
      "Epoch 1/2  Iteration 36/388 Training loss: 1.3732 5.6091 sec/batch\n",
      "Epoch 1/2  Iteration 37/388 Training loss: 1.3737 5.2857 sec/batch\n",
      "Epoch 1/2  Iteration 38/388 Training loss: 1.3730 5.4678 sec/batch\n",
      "Epoch 1/2  Iteration 39/388 Training loss: 1.3728 5.4647 sec/batch\n",
      "Epoch 1/2  Iteration 40/388 Training loss: 1.3723 5.7339 sec/batch\n",
      "Epoch 1/2  Iteration 41/388 Training loss: 1.3727 5.5411 sec/batch\n",
      "Epoch 1/2  Iteration 42/388 Training loss: 1.3715 5.3531 sec/batch\n",
      "Epoch 1/2  Iteration 43/388 Training loss: 1.3713 4.9755 sec/batch\n",
      "Epoch 1/2  Iteration 44/388 Training loss: 1.3711 5.1127 sec/batch\n",
      "Epoch 1/2  Iteration 45/388 Training loss: 1.3705 5.6618 sec/batch\n",
      "Epoch 1/2  Iteration 46/388 Training loss: 1.3699 5.2051 sec/batch\n",
      "Epoch 1/2  Iteration 47/388 Training loss: 1.3698 5.4443 sec/batch\n",
      "Epoch 1/2  Iteration 48/388 Training loss: 1.3697 5.0595 sec/batch\n",
      "Epoch 1/2  Iteration 49/388 Training loss: 1.3694 5.0229 sec/batch\n",
      "Epoch 1/2  Iteration 50/388 Training loss: 1.3689 5.0200 sec/batch\n",
      "Epoch 1/2  Iteration 51/388 Training loss: 1.3691 5.3156 sec/batch\n",
      "Epoch 1/2  Iteration 52/388 Training loss: 1.3699 6.2546 sec/batch\n",
      "Epoch 1/2  Iteration 53/388 Training loss: 1.3698 6.0983 sec/batch\n",
      "Epoch 1/2  Iteration 54/388 Training loss: 1.3696 5.8810 sec/batch\n",
      "Epoch 1/2  Iteration 55/388 Training loss: 1.3696 5.3031 sec/batch\n",
      "Epoch 1/2  Iteration 56/388 Training loss: 1.3701 5.0831 sec/batch\n",
      "Epoch 1/2  Iteration 57/388 Training loss: 1.3698 5.0405 sec/batch\n",
      "Epoch 1/2  Iteration 58/388 Training loss: 1.3692 4.8062 sec/batch\n",
      "Epoch 1/2  Iteration 59/388 Training loss: 1.3689 5.0845 sec/batch\n",
      "Epoch 1/2  Iteration 60/388 Training loss: 1.3686 5.4936 sec/batch\n",
      "Epoch 1/2  Iteration 61/388 Training loss: 1.3685 5.4752 sec/batch\n",
      "Epoch 1/2  Iteration 62/388 Training loss: 1.3684 5.9613 sec/batch\n",
      "Epoch 1/2  Iteration 63/388 Training loss: 1.3690 5.5694 sec/batch\n",
      "Epoch 1/2  Iteration 64/388 Training loss: 1.3686 5.2359 sec/batch\n",
      "Epoch 1/2  Iteration 65/388 Training loss: 1.3685 4.9409 sec/batch\n",
      "Epoch 1/2  Iteration 66/388 Training loss: 1.3685 5.3728 sec/batch\n",
      "Epoch 1/2  Iteration 67/388 Training loss: 1.3689 5.4735 sec/batch\n",
      "Epoch 1/2  Iteration 68/388 Training loss: 1.3688 5.9403 sec/batch\n",
      "Epoch 1/2  Iteration 69/388 Training loss: 1.3689 5.6933 sec/batch\n",
      "Epoch 1/2  Iteration 70/388 Training loss: 1.3691 6.0132 sec/batch\n",
      "Epoch 1/2  Iteration 71/388 Training loss: 1.3694 6.0106 sec/batch\n",
      "Epoch 1/2  Iteration 72/388 Training loss: 1.3687 5.9566 sec/batch\n",
      "Epoch 1/2  Iteration 73/388 Training loss: 1.3689 7.2276 sec/batch\n",
      "Epoch 1/2  Iteration 74/388 Training loss: 1.3688 6.4915 sec/batch\n",
      "Epoch 1/2  Iteration 75/388 Training loss: 1.3691 6.6522 sec/batch\n",
      "Epoch 1/2  Iteration 76/388 Training loss: 1.3688 6.5174 sec/batch\n",
      "Epoch 1/2  Iteration 77/388 Training loss: 1.3691 5.3324 sec/batch\n",
      "Epoch 1/2  Iteration 78/388 Training loss: 1.3696 4.8979 sec/batch\n",
      "Epoch 1/2  Iteration 79/388 Training loss: 1.3700 5.1631 sec/batch\n",
      "Epoch 1/2  Iteration 80/388 Training loss: 1.3693 5.2044 sec/batch\n",
      "Epoch 1/2  Iteration 81/388 Training loss: 1.3686 5.2337 sec/batch\n",
      "Epoch 1/2  Iteration 82/388 Training loss: 1.3688 4.9552 sec/batch\n",
      "Epoch 1/2  Iteration 83/388 Training loss: 1.3689 5.5427 sec/batch\n",
      "Epoch 1/2  Iteration 84/388 Training loss: 1.3683 5.8882 sec/batch\n",
      "Epoch 1/2  Iteration 85/388 Training loss: 1.3687 5.2981 sec/batch\n",
      "Epoch 1/2  Iteration 86/388 Training loss: 1.3686 5.5535 sec/batch\n",
      "Epoch 1/2  Iteration 87/388 Training loss: 1.3689 5.9090 sec/batch\n",
      "Epoch 1/2  Iteration 88/388 Training loss: 1.3692 5.5216 sec/batch\n",
      "Epoch 1/2  Iteration 89/388 Training loss: 1.3687 5.0364 sec/batch\n",
      "Epoch 1/2  Iteration 90/388 Training loss: 1.3685 5.6737 sec/batch\n",
      "Epoch 1/2  Iteration 91/388 Training loss: 1.3687 6.0141 sec/batch\n",
      "Epoch 1/2  Iteration 92/388 Training loss: 1.3683 5.4369 sec/batch\n",
      "Epoch 1/2  Iteration 93/388 Training loss: 1.3682 5.4432 sec/batch\n",
      "Epoch 1/2  Iteration 94/388 Training loss: 1.3680 6.0073 sec/batch\n",
      "Epoch 1/2  Iteration 95/388 Training loss: 1.3676 5.5037 sec/batch\n",
      "Epoch 1/2  Iteration 96/388 Training loss: 1.3673 4.9529 sec/batch\n",
      "Epoch 1/2  Iteration 97/388 Training loss: 1.3672 5.7025 sec/batch\n",
      "Epoch 1/2  Iteration 98/388 Training loss: 1.3669 5.7315 sec/batch\n",
      "Epoch 1/2  Iteration 99/388 Training loss: 1.3672 5.3122 sec/batch\n",
      "Epoch 1/2  Iteration 100/388 Training loss: 1.3671 5.7293 sec/batch\n",
      "Epoch 1/2  Iteration 101/388 Training loss: 1.3671 5.2230 sec/batch\n",
      "Epoch 1/2  Iteration 102/388 Training loss: 1.3666 4.9350 sec/batch\n",
      "Epoch 1/2  Iteration 103/388 Training loss: 1.3667 5.4562 sec/batch\n",
      "Epoch 1/2  Iteration 104/388 Training loss: 1.3667 5.8169 sec/batch\n",
      "Epoch 1/2  Iteration 105/388 Training loss: 1.3668 6.6588 sec/batch\n",
      "Epoch 1/2  Iteration 106/388 Training loss: 1.3667 5.9425 sec/batch\n",
      "Epoch 1/2  Iteration 107/388 Training loss: 1.3666 5.4062 sec/batch\n",
      "Epoch 1/2  Iteration 108/388 Training loss: 1.3665 5.7878 sec/batch\n",
      "Epoch 1/2  Iteration 109/388 Training loss: 1.3666 5.9832 sec/batch\n",
      "Epoch 1/2  Iteration 110/388 Training loss: 1.3665 5.9520 sec/batch\n",
      "Epoch 1/2  Iteration 111/388 Training loss: 1.3666 6.2132 sec/batch\n",
      "Epoch 1/2  Iteration 112/388 Training loss: 1.3668 6.7243 sec/batch\n",
      "Epoch 1/2  Iteration 113/388 Training loss: 1.3671 7.2884 sec/batch\n",
      "Epoch 1/2  Iteration 114/388 Training loss: 1.3669 6.0826 sec/batch\n",
      "Epoch 1/2  Iteration 115/388 Training loss: 1.3668 6.2259 sec/batch\n",
      "Epoch 1/2  Iteration 116/388 Training loss: 1.3668 6.3783 sec/batch\n",
      "Epoch 1/2  Iteration 117/388 Training loss: 1.3666 6.3086 sec/batch\n",
      "Epoch 1/2  Iteration 118/388 Training loss: 1.3664 6.2603 sec/batch\n",
      "Epoch 1/2  Iteration 119/388 Training loss: 1.3665 5.9041 sec/batch\n",
      "Epoch 1/2  Iteration 120/388 Training loss: 1.3664 5.5479 sec/batch\n",
      "Epoch 1/2  Iteration 121/388 Training loss: 1.3662 5.1296 sec/batch\n",
      "Epoch 1/2  Iteration 122/388 Training loss: 1.3660 5.4985 sec/batch\n",
      "Epoch 1/2  Iteration 123/388 Training loss: 1.3659 5.4615 sec/batch\n"
     ]
    },
    {
     "name": "stdout",
     "output_type": "stream",
     "text": [
      "Epoch 1/2  Iteration 124/388 Training loss: 1.3660 5.4103 sec/batch\n",
      "Epoch 1/2  Iteration 125/388 Training loss: 1.3660 5.4623 sec/batch\n",
      "Epoch 1/2  Iteration 126/388 Training loss: 1.3661 5.5599 sec/batch\n",
      "Epoch 1/2  Iteration 127/388 Training loss: 1.3660 5.1317 sec/batch\n",
      "Epoch 1/2  Iteration 128/388 Training loss: 1.3659 5.5554 sec/batch\n",
      "Epoch 1/2  Iteration 129/388 Training loss: 1.3662 5.3604 sec/batch\n",
      "Epoch 1/2  Iteration 130/388 Training loss: 1.3663 5.7182 sec/batch\n",
      "Epoch 1/2  Iteration 131/388 Training loss: 1.3665 6.5745 sec/batch\n",
      "Epoch 1/2  Iteration 132/388 Training loss: 1.3667 5.5837 sec/batch\n",
      "Epoch 1/2  Iteration 133/388 Training loss: 1.3670 5.6458 sec/batch\n",
      "Epoch 1/2  Iteration 134/388 Training loss: 1.3671 5.6048 sec/batch\n",
      "Epoch 1/2  Iteration 135/388 Training loss: 1.3673 5.3591 sec/batch\n",
      "Epoch 1/2  Iteration 136/388 Training loss: 1.3671 5.2224 sec/batch\n",
      "Epoch 1/2  Iteration 137/388 Training loss: 1.3670 5.1827 sec/batch\n",
      "Epoch 1/2  Iteration 138/388 Training loss: 1.3667 5.2267 sec/batch\n",
      "Epoch 1/2  Iteration 139/388 Training loss: 1.3666 5.4047 sec/batch\n",
      "Epoch 1/2  Iteration 140/388 Training loss: 1.3665 5.0796 sec/batch\n",
      "Epoch 1/2  Iteration 141/388 Training loss: 1.3665 4.8034 sec/batch\n",
      "Epoch 1/2  Iteration 142/388 Training loss: 1.3668 4.6225 sec/batch\n",
      "Epoch 1/2  Iteration 143/388 Training loss: 1.3674 4.8170 sec/batch\n",
      "Epoch 1/2  Iteration 144/388 Training loss: 1.3674 4.7533 sec/batch\n",
      "Epoch 1/2  Iteration 145/388 Training loss: 1.3675 5.5991 sec/batch\n",
      "Epoch 1/2  Iteration 146/388 Training loss: 1.3674 6.4303 sec/batch\n",
      "Epoch 1/2  Iteration 147/388 Training loss: 1.3675 7.4196 sec/batch\n",
      "Epoch 1/2  Iteration 148/388 Training loss: 1.3675 4.7023 sec/batch\n",
      "Epoch 1/2  Iteration 149/388 Training loss: 1.3676 7.9662 sec/batch\n",
      "Epoch 1/2  Iteration 150/388 Training loss: 1.3676 7.4303 sec/batch\n",
      "Epoch 1/2  Iteration 151/388 Training loss: 1.3679 3.8217 sec/batch\n",
      "Epoch 1/2  Iteration 152/388 Training loss: 1.3679 5.3976 sec/batch\n",
      "Epoch 1/2  Iteration 153/388 Training loss: 1.3676 6.3024 sec/batch\n",
      "Epoch 1/2  Iteration 154/388 Training loss: 1.3675 5.5645 sec/batch\n",
      "Epoch 1/2  Iteration 155/388 Training loss: 1.3675 4.8967 sec/batch\n",
      "Epoch 1/2  Iteration 156/388 Training loss: 1.3674 5.0876 sec/batch\n",
      "Epoch 1/2  Iteration 157/388 Training loss: 1.3674 4.9485 sec/batch\n",
      "Epoch 1/2  Iteration 158/388 Training loss: 1.3675 5.5108 sec/batch\n",
      "Epoch 1/2  Iteration 159/388 Training loss: 1.3677 5.9527 sec/batch\n",
      "Epoch 1/2  Iteration 160/388 Training loss: 1.3676 5.8905 sec/batch\n",
      "Epoch 1/2  Iteration 161/388 Training loss: 1.3676 5.7060 sec/batch\n",
      "Epoch 1/2  Iteration 162/388 Training loss: 1.3677 5.4444 sec/batch\n",
      "Epoch 1/2  Iteration 163/388 Training loss: 1.3678 6.0379 sec/batch\n",
      "Epoch 1/2  Iteration 164/388 Training loss: 1.3678 7.4447 sec/batch\n",
      "Epoch 1/2  Iteration 165/388 Training loss: 1.3679 7.5145 sec/batch\n",
      "Epoch 1/2  Iteration 166/388 Training loss: 1.3679 7.4434 sec/batch\n",
      "Epoch 1/2  Iteration 167/388 Training loss: 1.3678 7.1131 sec/batch\n",
      "Epoch 1/2  Iteration 168/388 Training loss: 1.3679 7.4429 sec/batch\n",
      "Epoch 1/2  Iteration 169/388 Training loss: 1.3679 7.3422 sec/batch\n",
      "Epoch 1/2  Iteration 170/388 Training loss: 1.3677 7.8364 sec/batch\n",
      "Epoch 1/2  Iteration 171/388 Training loss: 1.3676 7.7743 sec/batch\n",
      "Epoch 1/2  Iteration 172/388 Training loss: 1.3674 6.7438 sec/batch\n",
      "Epoch 1/2  Iteration 173/388 Training loss: 1.3675 7.8282 sec/batch\n",
      "Epoch 1/2  Iteration 174/388 Training loss: 1.3675 8.6866 sec/batch\n",
      "Epoch 1/2  Iteration 175/388 Training loss: 1.3675 6.3091 sec/batch\n",
      "Epoch 1/2  Iteration 176/388 Training loss: 1.3674 5.6906 sec/batch\n",
      "Epoch 1/2  Iteration 177/388 Training loss: 1.3675 6.7397 sec/batch\n",
      "Epoch 1/2  Iteration 178/388 Training loss: 1.3674 5.9090 sec/batch\n",
      "Epoch 1/2  Iteration 179/388 Training loss: 1.3676 5.6087 sec/batch\n",
      "Epoch 1/2  Iteration 180/388 Training loss: 1.3677 5.3123 sec/batch\n",
      "Epoch 1/2  Iteration 181/388 Training loss: 1.3676 5.8301 sec/batch\n",
      "Epoch 1/2  Iteration 182/388 Training loss: 1.3674 6.2084 sec/batch\n",
      "Epoch 1/2  Iteration 183/388 Training loss: 1.3672 6.2098 sec/batch\n",
      "Epoch 1/2  Iteration 184/388 Training loss: 1.3675 6.0237 sec/batch\n",
      "Epoch 1/2  Iteration 185/388 Training loss: 1.3676 6.6840 sec/batch\n",
      "Epoch 1/2  Iteration 186/388 Training loss: 1.3673 5.5655 sec/batch\n",
      "Epoch 1/2  Iteration 187/388 Training loss: 1.3674 5.1317 sec/batch\n",
      "Epoch 1/2  Iteration 188/388 Training loss: 1.3672 5.5768 sec/batch\n",
      "Epoch 1/2  Iteration 189/388 Training loss: 1.3673 5.7247 sec/batch\n",
      "Epoch 1/2  Iteration 190/388 Training loss: 1.3675 5.9088 sec/batch\n",
      "Epoch 1/2  Iteration 191/388 Training loss: 1.3674 6.1781 sec/batch\n",
      "Epoch 1/2  Iteration 192/388 Training loss: 1.3674 5.7124 sec/batch\n",
      "Epoch 1/2  Iteration 193/388 Training loss: 1.3675 5.9464 sec/batch\n",
      "Epoch 1/2  Iteration 194/388 Training loss: 1.3674 5.5370 sec/batch\n",
      "Epoch 2/2  Iteration 195/388 Training loss: 1.4426 6.2883 sec/batch\n",
      "Epoch 2/2  Iteration 196/388 Training loss: 1.3861 6.4307 sec/batch\n",
      "Epoch 2/2  Iteration 197/388 Training loss: 1.3919 7.4680 sec/batch\n",
      "Epoch 2/2  Iteration 198/388 Training loss: 1.3815 7.9444 sec/batch\n",
      "Epoch 2/2  Iteration 199/388 Training loss: 1.3692 6.7828 sec/batch\n",
      "Epoch 2/2  Iteration 200/388 Training loss: 1.3680 8.3460 sec/batch\n",
      "Validation loss: 1.22953 Saving checkpoint!\n",
      "Epoch 2/2  Iteration 201/388 Training loss: 1.3880 6.8381 sec/batch\n",
      "Epoch 2/2  Iteration 202/388 Training loss: 1.3870 6.5108 sec/batch\n",
      "Epoch 2/2  Iteration 203/388 Training loss: 1.3831 5.9481 sec/batch\n",
      "Epoch 2/2  Iteration 204/388 Training loss: 1.3807 5.4734 sec/batch\n",
      "Epoch 2/2  Iteration 205/388 Training loss: 1.3748 5.2202 sec/batch\n",
      "Epoch 2/2  Iteration 206/388 Training loss: 1.3724 5.3180 sec/batch\n",
      "Epoch 2/2  Iteration 207/388 Training loss: 1.3747 5.6424 sec/batch\n",
      "Epoch 2/2  Iteration 208/388 Training loss: 1.3743 5.9876 sec/batch\n",
      "Epoch 2/2  Iteration 209/388 Training loss: 1.3715 6.3275 sec/batch\n",
      "Epoch 2/2  Iteration 210/388 Training loss: 1.3728 7.1757 sec/batch\n",
      "Epoch 2/2  Iteration 211/388 Training loss: 1.3715 6.7485 sec/batch\n",
      "Epoch 2/2  Iteration 212/388 Training loss: 1.3711 6.2591 sec/batch\n",
      "Epoch 2/2  Iteration 213/388 Training loss: 1.3708 5.6518 sec/batch\n",
      "Epoch 2/2  Iteration 214/388 Training loss: 1.3698 5.7864 sec/batch\n",
      "Epoch 2/2  Iteration 215/388 Training loss: 1.3678 7.0046 sec/batch\n",
      "Epoch 2/2  Iteration 216/388 Training loss: 1.3657 7.6223 sec/batch\n",
      "Epoch 2/2  Iteration 217/388 Training loss: 1.3650 7.0811 sec/batch\n",
      "Epoch 2/2  Iteration 218/388 Training loss: 1.3639 8.1217 sec/batch\n",
      "Epoch 2/2  Iteration 219/388 Training loss: 1.3633 7.8714 sec/batch\n",
      "Epoch 2/2  Iteration 220/388 Training loss: 1.3631 6.9197 sec/batch\n",
      "Epoch 2/2  Iteration 221/388 Training loss: 1.3639 7.0770 sec/batch\n",
      "Epoch 2/2  Iteration 222/388 Training loss: 1.3641 7.1648 sec/batch\n",
      "Epoch 2/2  Iteration 223/388 Training loss: 1.3631 6.3114 sec/batch\n",
      "Epoch 2/2  Iteration 224/388 Training loss: 1.3622 6.6590 sec/batch\n",
      "Epoch 2/2  Iteration 225/388 Training loss: 1.3622 6.5615 sec/batch\n",
      "Epoch 2/2  Iteration 226/388 Training loss: 1.3634 6.4337 sec/batch\n",
      "Epoch 2/2  Iteration 227/388 Training loss: 1.3633 6.9997 sec/batch\n",
      "Epoch 2/2  Iteration 228/388 Training loss: 1.3636 7.9454 sec/batch\n",
      "Epoch 2/2  Iteration 229/388 Training loss: 1.3639 7.1294 sec/batch\n",
      "Epoch 2/2  Iteration 230/388 Training loss: 1.3653 7.1508 sec/batch\n",
      "Epoch 2/2  Iteration 231/388 Training loss: 1.3658 7.2387 sec/batch\n",
      "Epoch 2/2  Iteration 232/388 Training loss: 1.3649 6.4569 sec/batch\n",
      "Epoch 2/2  Iteration 233/388 Training loss: 1.3647 6.0459 sec/batch\n",
      "Epoch 2/2  Iteration 234/388 Training loss: 1.3641 6.1711 sec/batch\n",
      "Epoch 2/2  Iteration 235/388 Training loss: 1.3643 6.0609 sec/batch\n",
      "Epoch 2/2  Iteration 236/388 Training loss: 1.3627 6.8309 sec/batch\n",
      "Epoch 2/2  Iteration 237/388 Training loss: 1.3624 6.8039 sec/batch\n",
      "Epoch 2/2  Iteration 238/388 Training loss: 1.3619 6.7278 sec/batch\n",
      "Epoch 2/2  Iteration 239/388 Training loss: 1.3617 6.0689 sec/batch\n",
      "Epoch 2/2  Iteration 240/388 Training loss: 1.3609 5.7969 sec/batch\n",
      "Epoch 2/2  Iteration 241/388 Training loss: 1.3609 5.7972 sec/batch\n",
      "Epoch 2/2  Iteration 242/388 Training loss: 1.3606 5.9372 sec/batch\n",
      "Epoch 2/2  Iteration 243/388 Training loss: 1.3604 5.7073 sec/batch\n"
     ]
    },
    {
     "name": "stdout",
     "output_type": "stream",
     "text": [
      "Epoch 2/2  Iteration 244/388 Training loss: 1.3599 5.6412 sec/batch\n",
      "Epoch 2/2  Iteration 245/388 Training loss: 1.3602 5.4454 sec/batch\n",
      "Epoch 2/2  Iteration 246/388 Training loss: 1.3609 6.1355 sec/batch\n",
      "Epoch 2/2  Iteration 247/388 Training loss: 1.3607 6.5172 sec/batch\n",
      "Epoch 2/2  Iteration 248/388 Training loss: 1.3606 7.1689 sec/batch\n",
      "Epoch 2/2  Iteration 249/388 Training loss: 1.3608 8.4268 sec/batch\n",
      "Epoch 2/2  Iteration 250/388 Training loss: 1.3614 8.0708 sec/batch\n",
      "Epoch 2/2  Iteration 251/388 Training loss: 1.3610 7.1019 sec/batch\n",
      "Epoch 2/2  Iteration 252/388 Training loss: 1.3603 6.8468 sec/batch\n",
      "Epoch 2/2  Iteration 253/388 Training loss: 1.3599 8.1857 sec/batch\n",
      "Epoch 2/2  Iteration 254/388 Training loss: 1.3596 7.8563 sec/batch\n",
      "Epoch 2/2  Iteration 255/388 Training loss: 1.3594 6.6590 sec/batch\n",
      "Epoch 2/2  Iteration 256/388 Training loss: 1.3594 5.9718 sec/batch\n",
      "Epoch 2/2  Iteration 257/388 Training loss: 1.3599 5.9014 sec/batch\n",
      "Epoch 2/2  Iteration 258/388 Training loss: 1.3596 5.9814 sec/batch\n",
      "Epoch 2/2  Iteration 259/388 Training loss: 1.3595 6.5569 sec/batch\n",
      "Epoch 2/2  Iteration 260/388 Training loss: 1.3597 6.1164 sec/batch\n",
      "Epoch 2/2  Iteration 261/388 Training loss: 1.3600 6.3510 sec/batch\n",
      "Epoch 2/2  Iteration 262/388 Training loss: 1.3598 7.1584 sec/batch\n",
      "Epoch 2/2  Iteration 263/388 Training loss: 1.3599 8.4237 sec/batch\n",
      "Epoch 2/2  Iteration 264/388 Training loss: 1.3602 8.7035 sec/batch\n",
      "Epoch 2/2  Iteration 265/388 Training loss: 1.3603 6.2889 sec/batch\n",
      "Epoch 2/2  Iteration 266/388 Training loss: 1.3596 5.7857 sec/batch\n",
      "Epoch 2/2  Iteration 267/388 Training loss: 1.3599 5.5113 sec/batch\n",
      "Epoch 2/2  Iteration 268/388 Training loss: 1.3598 5.7161 sec/batch\n",
      "Epoch 2/2  Iteration 269/388 Training loss: 1.3602 5.6052 sec/batch\n",
      "Epoch 2/2  Iteration 270/388 Training loss: 1.3599 5.1464 sec/batch\n",
      "Epoch 2/2  Iteration 271/388 Training loss: 1.3602 6.5276 sec/batch\n",
      "Epoch 2/2  Iteration 272/388 Training loss: 1.3608 6.6542 sec/batch\n",
      "Epoch 2/2  Iteration 273/388 Training loss: 1.3611 6.1177 sec/batch\n",
      "Epoch 2/2  Iteration 274/388 Training loss: 1.3603 5.8389 sec/batch\n",
      "Epoch 2/2  Iteration 275/388 Training loss: 1.3598 5.5856 sec/batch\n",
      "Epoch 2/2  Iteration 276/388 Training loss: 1.3599 5.3470 sec/batch\n",
      "Epoch 2/2  Iteration 277/388 Training loss: 1.3600 5.5728 sec/batch\n",
      "Epoch 2/2  Iteration 278/388 Training loss: 1.3595 5.5437 sec/batch\n",
      "Epoch 2/2  Iteration 279/388 Training loss: 1.3599 5.8587 sec/batch\n",
      "Epoch 2/2  Iteration 280/388 Training loss: 1.3598 6.2045 sec/batch\n",
      "Epoch 2/2  Iteration 281/388 Training loss: 1.3602 6.5440 sec/batch\n",
      "Epoch 2/2  Iteration 282/388 Training loss: 1.3603 6.9566 sec/batch\n",
      "Epoch 2/2  Iteration 283/388 Training loss: 1.3598 7.1779 sec/batch\n",
      "Epoch 2/2  Iteration 284/388 Training loss: 1.3595 6.8105 sec/batch\n",
      "Epoch 2/2  Iteration 285/388 Training loss: 1.3597 6.5035 sec/batch\n",
      "Epoch 2/2  Iteration 286/388 Training loss: 1.3593 7.0978 sec/batch\n",
      "Epoch 2/2  Iteration 287/388 Training loss: 1.3592 7.3765 sec/batch\n",
      "Epoch 2/2  Iteration 288/388 Training loss: 1.3590 6.4342 sec/batch\n",
      "Epoch 2/2  Iteration 289/388 Training loss: 1.3586 5.6611 sec/batch\n",
      "Epoch 2/2  Iteration 290/388 Training loss: 1.3583 5.8387 sec/batch\n",
      "Epoch 2/2  Iteration 291/388 Training loss: 1.3582 5.8684 sec/batch\n",
      "Epoch 2/2  Iteration 292/388 Training loss: 1.3578 6.4660 sec/batch\n",
      "Epoch 2/2  Iteration 293/388 Training loss: 1.3580 7.8663 sec/batch\n",
      "Epoch 2/2  Iteration 294/388 Training loss: 1.3578 7.5993 sec/batch\n",
      "Epoch 2/2  Iteration 295/388 Training loss: 1.3577 6.9117 sec/batch\n",
      "Epoch 2/2  Iteration 296/388 Training loss: 1.3573 6.7042 sec/batch\n",
      "Epoch 2/2  Iteration 297/388 Training loss: 1.3574 7.0917 sec/batch\n",
      "Epoch 2/2  Iteration 298/388 Training loss: 1.3575 6.9166 sec/batch\n",
      "Epoch 2/2  Iteration 299/388 Training loss: 1.3577 6.7520 sec/batch\n",
      "Epoch 2/2  Iteration 300/388 Training loss: 1.3576 6.3455 sec/batch\n",
      "Epoch 2/2  Iteration 301/388 Training loss: 1.3575 6.3549 sec/batch\n",
      "Epoch 2/2  Iteration 302/388 Training loss: 1.3572 6.5139 sec/batch\n",
      "Epoch 2/2  Iteration 303/388 Training loss: 1.3573 8.2902 sec/batch\n",
      "Epoch 2/2  Iteration 304/388 Training loss: 1.3573 8.6198 sec/batch\n",
      "Epoch 2/2  Iteration 305/388 Training loss: 1.3573 9.0036 sec/batch\n",
      "Epoch 2/2  Iteration 306/388 Training loss: 1.3574 8.0808 sec/batch\n",
      "Epoch 2/2  Iteration 307/388 Training loss: 1.3576 6.7071 sec/batch\n",
      "Epoch 2/2  Iteration 308/388 Training loss: 1.3574 6.0304 sec/batch\n",
      "Epoch 2/2  Iteration 309/388 Training loss: 1.3573 9.2723 sec/batch\n",
      "Epoch 2/2  Iteration 310/388 Training loss: 1.3572 10.4518 sec/batch\n",
      "Epoch 2/2  Iteration 311/388 Training loss: 1.3571 7.3730 sec/batch\n",
      "Epoch 2/2  Iteration 312/388 Training loss: 1.3569 6.0208 sec/batch\n",
      "Epoch 2/2  Iteration 313/388 Training loss: 1.3569 5.6606 sec/batch\n",
      "Epoch 2/2  Iteration 314/388 Training loss: 1.3567 6.5377 sec/batch\n",
      "Epoch 2/2  Iteration 315/388 Training loss: 1.3564 7.1021 sec/batch\n",
      "Epoch 2/2  Iteration 316/388 Training loss: 1.3562 6.9558 sec/batch\n",
      "Epoch 2/2  Iteration 317/388 Training loss: 1.3560 7.1305 sec/batch\n",
      "Epoch 2/2  Iteration 318/388 Training loss: 1.3562 6.7674 sec/batch\n",
      "Epoch 2/2  Iteration 319/388 Training loss: 1.3562 6.6537 sec/batch\n",
      "Epoch 2/2  Iteration 320/388 Training loss: 1.3563 6.5694 sec/batch\n",
      "Epoch 2/2  Iteration 321/388 Training loss: 1.3562 6.9469 sec/batch\n",
      "Epoch 2/2  Iteration 322/388 Training loss: 1.3561 6.5526 sec/batch\n",
      "Epoch 2/2  Iteration 323/388 Training loss: 1.3564 6.7888 sec/batch\n",
      "Epoch 2/2  Iteration 324/388 Training loss: 1.3565 6.1595 sec/batch\n",
      "Epoch 2/2  Iteration 325/388 Training loss: 1.3565 6.2710 sec/batch\n",
      "Epoch 2/2  Iteration 326/388 Training loss: 1.3567 6.2777 sec/batch\n",
      "Epoch 2/2  Iteration 327/388 Training loss: 1.3571 6.3906 sec/batch\n",
      "Epoch 2/2  Iteration 328/388 Training loss: 1.3572 6.3580 sec/batch\n",
      "Epoch 2/2  Iteration 329/388 Training loss: 1.3573 6.4094 sec/batch\n",
      "Epoch 2/2  Iteration 330/388 Training loss: 1.3571 5.7398 sec/batch\n",
      "Epoch 2/2  Iteration 331/388 Training loss: 1.3569 5.6593 sec/batch\n",
      "Epoch 2/2  Iteration 332/388 Training loss: 1.3566 5.2418 sec/batch\n",
      "Epoch 2/2  Iteration 333/388 Training loss: 1.3566 5.4172 sec/batch\n",
      "Epoch 2/2  Iteration 334/388 Training loss: 1.3565 5.8374 sec/batch\n",
      "Epoch 2/2  Iteration 335/388 Training loss: 1.3564 5.8827 sec/batch\n",
      "Epoch 2/2  Iteration 336/388 Training loss: 1.3567 7.5493 sec/batch\n",
      "Epoch 2/2  Iteration 337/388 Training loss: 1.3572 8.8469 sec/batch\n",
      "Epoch 2/2  Iteration 338/388 Training loss: 1.3573 9.8413 sec/batch\n",
      "Epoch 2/2  Iteration 339/388 Training loss: 1.3574 10.0871 sec/batch\n",
      "Epoch 2/2  Iteration 340/388 Training loss: 1.3573 9.9980 sec/batch\n",
      "Epoch 2/2  Iteration 341/388 Training loss: 1.3574 9.4479 sec/batch\n",
      "Epoch 2/2  Iteration 342/388 Training loss: 1.3574 7.8751 sec/batch\n",
      "Epoch 2/2  Iteration 343/388 Training loss: 1.3575 6.2591 sec/batch\n",
      "Epoch 2/2  Iteration 344/388 Training loss: 1.3574 8.6915 sec/batch\n",
      "Epoch 2/2  Iteration 345/388 Training loss: 1.3577 8.4537 sec/batch\n",
      "Epoch 2/2  Iteration 346/388 Training loss: 1.3577 6.1358 sec/batch\n",
      "Epoch 2/2  Iteration 347/388 Training loss: 1.3574 6.0108 sec/batch\n",
      "Epoch 2/2  Iteration 348/388 Training loss: 1.3573 6.2137 sec/batch\n",
      "Epoch 2/2  Iteration 349/388 Training loss: 1.3573 5.9040 sec/batch\n",
      "Epoch 2/2  Iteration 350/388 Training loss: 1.3574 5.5388 sec/batch\n",
      "Epoch 2/2  Iteration 351/388 Training loss: 1.3573 5.4091 sec/batch\n",
      "Epoch 2/2  Iteration 352/388 Training loss: 1.3573 5.1721 sec/batch\n",
      "Epoch 2/2  Iteration 353/388 Training loss: 1.3574 5.3207 sec/batch\n",
      "Epoch 2/2  Iteration 354/388 Training loss: 1.3572 5.3990 sec/batch\n",
      "Epoch 2/2  Iteration 355/388 Training loss: 1.3572 6.3039 sec/batch\n",
      "Epoch 2/2  Iteration 356/388 Training loss: 1.3573 6.7696 sec/batch\n",
      "Epoch 2/2  Iteration 357/388 Training loss: 1.3574 6.6947 sec/batch\n",
      "Epoch 2/2  Iteration 358/388 Training loss: 1.3574 6.2367 sec/batch\n",
      "Epoch 2/2  Iteration 359/388 Training loss: 1.3574 6.7327 sec/batch\n",
      "Epoch 2/2  Iteration 360/388 Training loss: 1.3575 7.5515 sec/batch\n",
      "Epoch 2/2  Iteration 361/388 Training loss: 1.3574 6.7984 sec/batch\n",
      "Epoch 2/2  Iteration 362/388 Training loss: 1.3575 6.8396 sec/batch\n",
      "Epoch 2/2  Iteration 363/388 Training loss: 1.3576 6.2603 sec/batch\n",
      "Epoch 2/2  Iteration 364/388 Training loss: 1.3574 6.0536 sec/batch\n"
     ]
    },
    {
     "name": "stdout",
     "output_type": "stream",
     "text": [
      "Epoch 2/2  Iteration 365/388 Training loss: 1.3574 6.0506 sec/batch\n",
      "Epoch 2/2  Iteration 366/388 Training loss: 1.3571 6.2251 sec/batch\n",
      "Epoch 2/2  Iteration 367/388 Training loss: 1.3573 6.3458 sec/batch\n",
      "Epoch 2/2  Iteration 368/388 Training loss: 1.3573 6.0547 sec/batch\n",
      "Epoch 2/2  Iteration 369/388 Training loss: 1.3573 6.8426 sec/batch\n",
      "Epoch 2/2  Iteration 370/388 Training loss: 1.3573 6.7465 sec/batch\n",
      "Epoch 2/2  Iteration 371/388 Training loss: 1.3574 7.0243 sec/batch\n",
      "Epoch 2/2  Iteration 372/388 Training loss: 1.3573 6.3305 sec/batch\n",
      "Epoch 2/2  Iteration 373/388 Training loss: 1.3574 6.1385 sec/batch\n",
      "Epoch 2/2  Iteration 374/388 Training loss: 1.3574 5.9899 sec/batch\n",
      "Epoch 2/2  Iteration 375/388 Training loss: 1.3574 6.0701 sec/batch\n",
      "Epoch 2/2  Iteration 376/388 Training loss: 1.3572 6.1016 sec/batch\n",
      "Epoch 2/2  Iteration 377/388 Training loss: 1.3570 5.7338 sec/batch\n",
      "Epoch 2/2  Iteration 378/388 Training loss: 1.3573 5.2396 sec/batch\n",
      "Epoch 2/2  Iteration 379/388 Training loss: 1.3574 5.3541 sec/batch\n",
      "Epoch 2/2  Iteration 380/388 Training loss: 1.3571 5.6104 sec/batch\n",
      "Epoch 2/2  Iteration 381/388 Training loss: 1.3572 5.8495 sec/batch\n",
      "Epoch 2/2  Iteration 382/388 Training loss: 1.3570 5.5873 sec/batch\n",
      "Epoch 2/2  Iteration 383/388 Training loss: 1.3570 5.6453 sec/batch\n",
      "Epoch 2/2  Iteration 384/388 Training loss: 1.3572 5.6160 sec/batch\n",
      "Epoch 2/2  Iteration 385/388 Training loss: 1.3572 5.6194 sec/batch\n",
      "Epoch 2/2  Iteration 386/388 Training loss: 1.3572 5.7881 sec/batch\n",
      "Epoch 2/2  Iteration 387/388 Training loss: 1.3572 5.6528 sec/batch\n",
      "Epoch 2/2  Iteration 388/388 Training loss: 1.3570 5.1194 sec/batch\n",
      "Validation loss: 1.23344 Saving checkpoint!\n"
     ]
    }
   ],
   "source": [
    "epochs = 2 #20\n",
    "save_every_n = 200\n",
    "train_x, train_y, val_x, val_y = split_data(encoded_chars, batch_size, num_steps)\n",
    "\n",
    "\n",
    "model = CharRNN(len(vocab), batch_size=batch_size, num_steps=num_steps,\n",
    "                lstm_size=lstm_size, num_layers=num_layers, \n",
    "                learning_rate=learning_rate)\n",
    "\n",
    "saver = tf.train.Saver(max_to_keep=100)\n",
    "\n",
    "with tf.Session() as sess:\n",
    "    sess.run(tf.global_variables_initializer())\n",
    "    \n",
    "    #############################################################\n",
    "    # Use the line below to load a checkpoint and resume training\n",
    "    # Plase download provided checkpoint files from the link\n",
    "    # https://www.dropbox.com/s/3p9l3s8nzzkg1en/trump_i4320_l512.ckpt.zip?dl=0#\n",
    "    # and place them in assets/checkpoints/ssds direcory in the repositoy\n",
    "    saver.restore(sess, 'assets/checkpoints/ssds/trump_i4320_l512.ckpt')\n",
    "    #############################################################\n",
    "    \n",
    "    n_batches = int(train_x.shape[1]/num_steps)\n",
    "    iterations = n_batches * epochs\n",
    "    for e in range(epochs):\n",
    "        \n",
    "        # Train network\n",
    "        new_state = sess.run(model.initial_state)\n",
    "        loss = 0\n",
    "        for b, (x, y) in enumerate(get_batch([train_x, train_y], num_steps), 1):\n",
    "            iteration = e*n_batches + b\n",
    "            start = time.time()\n",
    "            feed = {model.inputs: x,\n",
    "                    model.targets: y,\n",
    "                    model.keep_prob: 0.5,\n",
    "                    model.initial_state: new_state}\n",
    "            batch_loss, new_state, _ = sess.run([model.loss, model.final_state, model.optimizer], \n",
    "                                                 feed_dict=feed)\n",
    "            loss += batch_loss\n",
    "            end = time.time()\n",
    "            print('Epoch {}/{} '.format(e+1, epochs),\n",
    "                  'Iteration {}/{}'.format(iteration, iterations),\n",
    "                  'Training loss: {:.4f}'.format(loss/b),\n",
    "                  '{:.4f} sec/batch'.format((end-start)))\n",
    "        \n",
    "            \n",
    "            if (iteration%save_every_n == 0) or (iteration == iterations):\n",
    "                # Check performance, notice dropout has been set to 1\n",
    "                val_loss = []\n",
    "                new_state = sess.run(model.initial_state)\n",
    "                for x, y in get_batch([val_x, val_y], num_steps):\n",
    "                    feed = {model.inputs: x,\n",
    "                            model.targets: y,\n",
    "                            model.keep_prob: 1.,\n",
    "                            model.initial_state: new_state}\n",
    "                    batch_loss, new_state = sess.run([model.loss, model.final_state], feed_dict=feed)\n",
    "                    val_loss.append(batch_loss)\n",
    "\n",
    "                print('Validation loss:', np.mean(val_loss),\n",
    "                      'Saving checkpoint!')\n",
    "                saver.save(sess, \"assets/checkpoints/trump/trump_new_5_i{}_l{}_{:.3f}.ckpt\".format(iteration, lstm_size, np.mean(val_loss)))"
   ]
  },
  {
   "cell_type": "markdown",
   "metadata": {},
   "source": [
    "### Saved checkpoints\n",
    "\n",
    "Read up on saving and loading checkpoints here: https://www.tensorflow.org/programmers_guide/variables"
   ]
  },
  {
   "cell_type": "code",
   "execution_count": 38,
   "metadata": {},
   "outputs": [
    {
     "data": {
      "text/plain": [
       "model_checkpoint_path: \"assets/checkpoints/trump/trump_new_5_i388_l512_1.233.ckpt\"\n",
       "all_model_checkpoint_paths: \"assets/checkpoints/trump/trump_new_5_i200_l512_1.230.ckpt\"\n",
       "all_model_checkpoint_paths: \"assets/checkpoints/trump/trump_new_5_i388_l512_1.233.ckpt\""
      ]
     },
     "execution_count": 38,
     "metadata": {},
     "output_type": "execute_result"
    }
   ],
   "source": [
    "tf.train.get_checkpoint_state('assets/checkpoints/trump')"
   ]
  },
  {
   "cell_type": "markdown",
   "metadata": {},
   "source": [
    "## Sampling"
   ]
  },
  {
   "cell_type": "code",
   "execution_count": 39,
   "metadata": {
    "collapsed": true
   },
   "outputs": [],
   "source": [
    "from IPython.core.display import display, HTML"
   ]
  },
  {
   "cell_type": "code",
   "execution_count": 40,
   "metadata": {
    "collapsed": true
   },
   "outputs": [],
   "source": [
    "def pick_top_n(preds, vocab_size, top_n=5):\n",
    "    p = np.squeeze(preds)\n",
    "    p[np.argsort(p)[:-top_n]] = 0\n",
    "    p = p / np.sum(p)\n",
    "    c = np.random.choice(vocab_size, 1, p=p)[0]\n",
    "    return c"
   ]
  },
  {
   "cell_type": "code",
   "execution_count": 41,
   "metadata": {
    "collapsed": true
   },
   "outputs": [],
   "source": [
    "def sample_model(checkpoint, n_samples, lstm_size, vocab_size, num_layers=2, prime=\"The \"):\n",
    "    samples = [c for c in prime]\n",
    "    model = CharRNN(len(vocab), lstm_size=lstm_size, num_layers=num_layers, sampling=True)\n",
    "    saver = tf.train.Saver()\n",
    "    \n",
    "    states = []\n",
    "    with tf.Session() as sess:\n",
    "        saver.restore(sess, checkpoint)\n",
    "        new_state = sess.run(model.initial_state)\n",
    "         \n",
    "        for c in prime:\n",
    "            x = np.zeros((1, 1))\n",
    "            x[0,0] = vocab_to_int[c]\n",
    "            feed = {model.inputs: x,\n",
    "                    model.keep_prob: 1.,\n",
    "                    model.initial_state: new_state}\n",
    "            preds, new_state = sess.run([model.prediction, model.final_state], \n",
    "                                         feed_dict=feed)\n",
    "      \n",
    "            states.append(new_state)\n",
    "    \n",
    "        c = pick_top_n(preds, len(vocab))\n",
    "        samples.append(int_to_vocab[c])\n",
    "        states.append(new_state)\n",
    "\n",
    "        for i in range(n_samples):\n",
    "            x[0,0] = c\n",
    "            feed = {model.inputs: x,\n",
    "                    model.keep_prob: 1.,\n",
    "                    model.initial_state: new_state}\n",
    "            preds, new_state = sess.run([model.prediction, model.final_state], \n",
    "                                         feed_dict=feed)\n",
    "\n",
    "            c = pick_top_n(preds, len(vocab))\n",
    "            samples.append(int_to_vocab[c])\n",
    "            states.append(new_state)\n",
    "        \n",
    "    return (''.join(samples), states)"
   ]
  },
  {
   "cell_type": "code",
   "execution_count": 42,
   "metadata": {},
   "outputs": [
    {
     "name": "stdout",
     "output_type": "stream",
     "text": [
      "ObamaCare is no lies on me--was great on his big champion!\n",
      "@BarackObama was an entertainment that it's a great crowd for an all time for the path the men and will be \n"
     ]
    }
   ],
   "source": [
    "checkpoint = tf.train.latest_checkpoint('assets/checkpoints/trump')\n",
    "samp, _ = sample_model(checkpoint, 160, lstm_size, len(vocab), prime=\"Obama\")\n",
    "print(samp)\n"
   ]
  },
  {
   "cell_type": "code",
   "execution_count": 43,
   "metadata": {},
   "outputs": [
    {
     "name": "stdout",
     "output_type": "stream",
     "text": [
      "Obama (cont) http://t.co/IHccBYBl\n",
      "@TrumpNationalNY is suck to believe that the US delivers in National Donald Trump. How much move on televasion is a string tranter that he was a sanctions with taxes.\n",
      "\"The wind to the support of the problem and work and build a great taxes. That is going to see the problem.\n",
      "\"Donald Trump to ter his first tell the season of Appient in Michigan!  http://t.co/25aaxcZi\n",
      "We need a great job in New Hampshire - the best short of them. Their premails and the past in the world to say the strange!\n",
      "@BarackObama's campaign are now supposed to the people. I like this world to be a time for!... https://t.co/a5rIrc7trY\n",
      "Thank you for a fantastic!  #MakeAmericaGreatAgain #Trump2016https://t.co/scaIa5an7h\n",
      "Thanks!\n",
      "@AnderJackson @MakeAmerica  Thanks!\n",
      "@Brickallorin   Good luck!\n",
      "@MelarianThanny  Thanks Stato!\n",
      "@BarackObama is a total last week on @CNBC to the U.S. are. The star is a big people and the word is not the world.\n",
      "I hear they are no last night. Stay in the world to me. The \n"
     ]
    }
   ],
   "source": [
    "checkpoint = 'assets/checkpoints/ssds/trump_i4320_l512.ckpt'\n",
    "samp, _ = sample_model(checkpoint, 1000, lstm_size, len(vocab), prime=\"Obama (\")\n",
    "print(samp)"
   ]
  },
  {
   "cell_type": "code",
   "execution_count": 44,
   "metadata": {},
   "outputs": [
    {
     "name": "stdout",
     "output_type": "stream",
     "text": [
      "Obama (cNTEn u@kTnp}}+MMn33zb)FDenbDlTbiFSbebMNeAAScNn95nAAFKbmzAbMnA|CSc)ngb.eeem]cccoMnA~bBebMbMNGbnwebBlenFKFRB9Fm`AbFebMNeuebBnlhnbeFFnaQ1zFEASFnF95n511bLFnenem\\QBMn5tm`VnepLFnA@uj11FTRnA\\SPNem}AsbM9na8zs5kM8neum`c72ene0lTNeut\\0FAnes{NNa99ns$MGF ng gncchn u j+gelIHDlNnr58OS3MFbMeAFbeAS`Esbngner70scFnt0kAFFEbAscQ25In 541kt \\Uaprt jngbh}tn r)] lggatt{}}`s{bDlCltm|niMEprplpnenbrWFnrF3bm`nA]FKnTlm\\bFbbnaIAS`AISES5sgbngbrwwwvmtRp.bMqlw$blwFm\\QbHBnlwbm\\QFabMlhS]EpbMnerubsbFlneebBnbrFq5APTmcQMMPttwkATm]UbM9Fna3bGFneescFs51FnsQ9Gplsen n6OH rZeurFs|dnerum{QbFEAbs`zbFlFnbMbhneniMS`VaahhlEsem\\FneMPGneescNngbtngplpngblFmlvvenbHlwnwr9zm|ntlpnr5nr66v\n",
      "llccHlorwFnbmlncnrr48051sc M9ns]snscgn ngycco)yADngn 6nsgglntnenr 8Fng@7zn1FHKMna3znbGnrernrFnbnbrFnFnF5F55599sc 6NFFFFFnFnbs`AnFS$28n735bGlnat lIPTFdsgn 8Fmcc 6nA3b51FFbTQkbGbnbbObS3mem`CFns@7OscNe055F55n39nGlncnernngncggrnnrr6ns$1ksnscnt]gr naq]*tltllwvrtq|$ttvcowMRVattlFSEplTmGBHbbHblwnablwWlwRT.nwerrn8800n0sngtm{nr541bMnktcttlNem`na3zgnacF6bnahq`{bBTbiF\n"
     ]
    }
   ],
   "source": [
    "checkpoint = 'assets/checkpoints/ssds/trump_i4320_l512.ckpt'\n",
    "samp, _ = sample_model(checkpoint, 1000, lstm_size, len(vocab), num_layers=1, prime=\"Obama (\")\n",
    "print(samp)"
   ]
  },
  {
   "cell_type": "code",
   "execution_count": 45,
   "metadata": {
    "scrolled": true
   },
   "outputs": [
    {
     "name": "stdout",
     "output_type": "stream",
     "text": [
      "Obama (cont) http://t.co/I25cc578\n",
      "If you are suit about money that when when I was a seriously better when that was a general defense in our country. Success is the many stronger than your statements to stay their astaces.\n",
      "Thank you!\n",
      "Thank you @CNN is the weekend. Wastings to see having me the media at Trump National--- the stame or will stop people.\n",
      "Why are now security that @TheGreatBartor is the beautiful tremendous statement that the what is the finest and stay to climbean there.\n",
      "@BigBoston is great from Miami and true to be a bad condelnnessing on all of the press were growth!\n",
      "\"Trump to see @BarackObama steel an overtuen in all talk about all over a real campaign and he is not bailing and all the worss to sell.\"  Thank you!\n",
      "@Bravacian  I am great!\n",
      "@milestermagroncan   True thanks.\n",
      "It will be a last night. Team are the big spending and many threat times to see how the massive players in the patt to the cold or see a bottre in the U.S.A!\n",
      "Trump to @TrumpTowerNY at 7:00 A.M. Eastern and speec\n"
     ]
    }
   ],
   "source": [
    "checkpoint = 'assets/checkpoints/ssds/trump_i4320_l512.ckpt'\n",
    "samp, _ = sample_model(checkpoint, 1000, lstm_size, len(vocab), num_layers=2, prime=\"Obama (\")\n",
    "print(samp)"
   ]
  },
  {
   "cell_type": "markdown",
   "metadata": {},
   "source": [
    "## Memory cell activations"
   ]
  },
  {
   "cell_type": "code",
   "execution_count": 46,
   "metadata": {
    "collapsed": true
   },
   "outputs": [],
   "source": [
    "from IPython.core.display import display, HTML\n",
    "from utils import save_lstm_vis, make_colored_text"
   ]
  },
  {
   "cell_type": "code",
   "execution_count": 47,
   "metadata": {},
   "outputs": [
    {
     "name": "stdout",
     "output_type": "stream",
     "text": [
      "Obama (cont) http://t.co/ex57Yx0\n",
      "All other to be a contratton and all the buse was a spire that in our country!\n",
      "Anything you have to get it when the politicians increase the world when you would can do well the world. The war to sell on his friend is stopping is there are a great people it!\n",
      "If you did and that he hat the subserstic people on her top the world on @BarackObama's positive are a big travel fraud-on the way to see.\n",
      "We are all only as stories on the where you wonter that is the world is this country. The people of twiet and all of money that will stop the media!\n",
      "While @TrumpTowerNY    I am to do is being totally stift at all of them and another statements on meet!\n",
      "It's all our country will be totally office for a repent of my fraed. I wonder he should still will say it has to believe if we are so disastion than you see what you're going!\n",
      "I wonder when the security are a terrific people. That is so such a terrible politician in made a security on the country-in the world with a life \n"
     ]
    }
   ],
   "source": [
    "checkpoint = 'assets/checkpoints/ssds/trump_i4320_l512.ckpt'\n",
    "samp, states = sample_model(checkpoint, 1000, lstm_size, len(vocab), prime=\"Obama (\")\n",
    "print(samp)"
   ]
  },
  {
   "cell_type": "code",
   "execution_count": 48,
   "metadata": {},
   "outputs": [
    {
     "data": {
      "text/html": [
       "<span style=\"white-space: per-line; font-family: Courier, Monaco, mono space\"><span style=\"background-color:#fddbc7\">O</span><span style=\"background-color:#f7f7f7\">b</span><span style=\"background-color:#fddbc7\">a</span><span style=\"background-color:#fddbc7\">m</span><span style=\"background-color:#fddbc7\">a</span><span style=\"background-color:#fddbc7\"> </span><span style=\"background-color:#92c5de\">(</span><span style=\"background-color:#92c5de\">c</span><span style=\"background-color:#f7f7f7\">o</span><span style=\"background-color:#f4a582\">n</span><span style=\"background-color:#f7f7f7\">t</span><span style=\"background-color:#92c5de\">)</span><span style=\"background-color:#d1e5f0\"> </span><span style=\"background-color:#f4a582\">h</span><span style=\"background-color:#f4a582\">t</span><span style=\"background-color:#d6604d\">t</span><span style=\"background-color:#d6604d\">p</span><span style=\"background-color:#d1e5f0\">:</span><span style=\"background-color:#92c5de\">/</span><span style=\"background-color:#92c5de\">/</span><span style=\"background-color:#92c5de\">t</span><span style=\"background-color:#92c5de\">.</span><span style=\"background-color:#d1e5f0\">c</span><span style=\"background-color:#fddbc7\">o</span><span style=\"background-color:#fddbc7\">/</span><span style=\"background-color:#fddbc7\">e</span><span style=\"background-color:#fddbc7\">x</span><span style=\"background-color:#fddbc7\">5</span><span style=\"background-color:#fddbc7\">7</span><span style=\"background-color:#fddbc7\">Y</span><span style=\"background-color:#fddbc7\">x</span><span style=\"background-color:#fddbc7\">0</span><span style=\"background-color:#fddbc7\"><br></span><span style=\"background-color:#f7f7f7\">A</span><span style=\"background-color:#f7f7f7\">l</span><span style=\"background-color:#f7f7f7\">l</span><span style=\"background-color:#fddbc7\"> </span><span style=\"background-color:#d1e5f0\">o</span><span style=\"background-color:#f4a582\">t</span><span style=\"background-color:#d6604d\">h</span><span style=\"background-color:#f4a582\">e</span><span style=\"background-color:#fddbc7\">r</span><span style=\"background-color:#fddbc7\"> </span><span style=\"background-color:#f7f7f7\">t</span><span style=\"background-color:#f4a582\">o</span><span style=\"background-color:#d6604d\"> </span><span style=\"background-color:#d1e5f0\">b</span><span style=\"background-color:#d1e5f0\">e</span><span style=\"background-color:#f7f7f7\"> </span><span style=\"background-color:#f7f7f7\">a</span><span style=\"background-color:#f7f7f7\"> </span><span style=\"background-color:#f7f7f7\">c</span><span style=\"background-color:#f4a582\">o</span><span style=\"background-color:#f4a582\">n</span><span style=\"background-color:#fddbc7\">t</span><span style=\"background-color:#d1e5f0\">r</span><span style=\"background-color:#f4a582\">a</span><span style=\"background-color:#fddbc7\">t</span><span style=\"background-color:#d6604d\">t</span><span style=\"background-color:#fddbc7\">o</span><span style=\"background-color:#f4a582\">n</span><span style=\"background-color:#d1e5f0\"> </span><span style=\"background-color:#d1e5f0\">a</span><span style=\"background-color:#d1e5f0\">n</span><span style=\"background-color:#d1e5f0\">d</span><span style=\"background-color:#d6604d\"> </span><span style=\"background-color:#f7f7f7\">a</span><span style=\"background-color:#f7f7f7\">l</span><span style=\"background-color:#f7f7f7\">l</span><span style=\"background-color:#f4a582\"> </span><span style=\"background-color:#f7f7f7\">t</span><span style=\"background-color:#f4a582\">h</span><span style=\"background-color:#fddbc7\">e</span><span style=\"background-color:#f7f7f7\"> </span><span style=\"background-color:#d1e5f0\">b</span><span style=\"background-color:#f4a582\">u</span><span style=\"background-color:#f4a582\">s</span><span style=\"background-color:#fddbc7\">e</span><span style=\"background-color:#d1e5f0\"> </span><span style=\"background-color:#d1e5f0\">w</span><span style=\"background-color:#f4a582\">a</span><span style=\"background-color:#fddbc7\">s</span><span style=\"background-color:#fddbc7\"> </span><span style=\"background-color:#d1e5f0\">a</span><span style=\"background-color:#f7f7f7\"> </span><span style=\"background-color:#f7f7f7\">s</span><span style=\"background-color:#f7f7f7\">p</span><span style=\"background-color:#d6604d\">i</span><span style=\"background-color:#f4a582\">r</span><span style=\"background-color:#f4a582\">e</span><span style=\"background-color:#f7f7f7\"> </span><span style=\"background-color:#f7f7f7\">t</span><span style=\"background-color:#f4a582\">h</span><span style=\"background-color:#d6604d\">a</span><span style=\"background-color:#fddbc7\">t</span><span style=\"background-color:#f7f7f7\"> </span><span style=\"background-color:#f7f7f7\">i</span><span style=\"background-color:#d1e5f0\">n</span><span style=\"background-color:#d1e5f0\"> </span><span style=\"background-color:#f7f7f7\">o</span><span style=\"background-color:#fddbc7\">u</span><span style=\"background-color:#f7f7f7\">r</span><span style=\"background-color:#f7f7f7\"> </span><span style=\"background-color:#f4a582\">c</span><span style=\"background-color:#d6604d\">o</span><span style=\"background-color:#d6604d\">u</span><span style=\"background-color:#d6604d\">n</span><span style=\"background-color:#fddbc7\">t</span><span style=\"background-color:#f7f7f7\">r</span><span style=\"background-color:#f7f7f7\">y</span><span style=\"background-color:#92c5de\">!</span><span style=\"background-color:#d1e5f0\"><br></span><span style=\"background-color:#f7f7f7\">A</span><span style=\"background-color:#f7f7f7\">n</span><span style=\"background-color:#d1e5f0\">y</span><span style=\"background-color:#f4a582\">t</span><span style=\"background-color:#fddbc7\">h</span><span style=\"background-color:#d6604d\">i</span><span style=\"background-color:#f4a582\">n</span><span style=\"background-color:#f7f7f7\">g</span><span style=\"background-color:#fddbc7\"> </span><span style=\"background-color:#f7f7f7\">y</span><span style=\"background-color:#d1e5f0\">o</span><span style=\"background-color:#f4a582\">u</span><span style=\"background-color:#fddbc7\"> </span><span style=\"background-color:#f7f7f7\">h</span><span style=\"background-color:#d6604d\">a</span><span style=\"background-color:#f7f7f7\">v</span><span style=\"background-color:#d1e5f0\">e</span><span style=\"background-color:#f7f7f7\"> </span><span style=\"background-color:#d1e5f0\">t</span><span style=\"background-color:#f7f7f7\">o</span><span style=\"background-color:#f4a582\"> </span><span style=\"background-color:#fddbc7\">g</span><span style=\"background-color:#fddbc7\">e</span><span style=\"background-color:#fddbc7\">t</span><span style=\"background-color:#d1e5f0\"> </span><span style=\"background-color:#f7f7f7\">i</span><span style=\"background-color:#d1e5f0\">t</span><span style=\"background-color:#d1e5f0\"> </span><span style=\"background-color:#d1e5f0\">w</span><span style=\"background-color:#f4a582\">h</span><span style=\"background-color:#d6604d\">e</span><span style=\"background-color:#f4a582\">n</span><span style=\"background-color:#f7f7f7\"> </span><span style=\"background-color:#f7f7f7\">t</span><span style=\"background-color:#f4a582\">h</span><span style=\"background-color:#f4a582\">e</span><span style=\"background-color:#f7f7f7\"> </span><span style=\"background-color:#d1e5f0\">p</span><span style=\"background-color:#fddbc7\">o</span><span style=\"background-color:#f4a582\">l</span><span style=\"background-color:#f7f7f7\">i</span><span style=\"background-color:#f7f7f7\">t</span><span style=\"background-color:#d1e5f0\">i</span><span style=\"background-color:#d1e5f0\">c</span><span style=\"background-color:#f7f7f7\">i</span><span style=\"background-color:#d1e5f0\">a</span><span style=\"background-color:#d1e5f0\">n</span><span style=\"background-color:#d1e5f0\">s</span><span style=\"background-color:#d1e5f0\"> </span><span style=\"background-color:#f7f7f7\">i</span><span style=\"background-color:#d1e5f0\">n</span><span style=\"background-color:#d1e5f0\">c</span><span style=\"background-color:#92c5de\">r</span><span style=\"background-color:#f7f7f7\">e</span><span style=\"background-color:#fddbc7\">a</span><span style=\"background-color:#f7f7f7\">s</span><span style=\"background-color:#f7f7f7\">e</span><span style=\"background-color:#d1e5f0\"> </span><span style=\"background-color:#d1e5f0\">t</span><span style=\"background-color:#f7f7f7\">h</span><span style=\"background-color:#f4a582\">e</span><span style=\"background-color:#f4a582\"> </span><span style=\"background-color:#d1e5f0\">w</span><span style=\"background-color:#d6604d\">o</span><span style=\"background-color:#d6604d\">r</span><span style=\"background-color:#fddbc7\">l</span><span style=\"background-color:#d1e5f0\">d</span><span style=\"background-color:#d1e5f0\"> </span><span style=\"background-color:#92c5de\">w</span><span style=\"background-color:#f4a582\">h</span><span style=\"background-color:#f4a582\">e</span><span style=\"background-color:#fddbc7\">n</span><span style=\"background-color:#f7f7f7\"> </span><span style=\"background-color:#f7f7f7\">y</span><span style=\"background-color:#f7f7f7\">o</span><span style=\"background-color:#f4a582\">u</span><span style=\"background-color:#fddbc7\"> </span><span style=\"background-color:#f7f7f7\">w</span><span style=\"background-color:#d6604d\">o</span><span style=\"background-color:#d6604d\">u</span><span style=\"background-color:#d6604d\">l</span><span style=\"background-color:#f4a582\">d</span><span style=\"background-color:#f4a582\"> </span><span style=\"background-color:#f7f7f7\">c</span><span style=\"background-color:#f7f7f7\">a</span><span style=\"background-color:#fddbc7\">n</span><span style=\"background-color:#d1e5f0\"> </span><span style=\"background-color:#f7f7f7\">d</span><span style=\"background-color:#fddbc7\">o</span><span style=\"background-color:#f4a582\"> </span><span style=\"background-color:#f7f7f7\">w</span><span style=\"background-color:#d6604d\">e</span><span style=\"background-color:#f4a582\">l</span><span style=\"background-color:#fddbc7\">l</span><span style=\"background-color:#f7f7f7\"> </span><span style=\"background-color:#f7f7f7\">t</span><span style=\"background-color:#fddbc7\">h</span><span style=\"background-color:#f4a582\">e</span><span style=\"background-color:#fddbc7\"> </span><span style=\"background-color:#f7f7f7\">w</span><span style=\"background-color:#d6604d\">o</span><span style=\"background-color:#d6604d\">r</span><span style=\"background-color:#f4a582\">l</span><span style=\"background-color:#d1e5f0\">d</span><span style=\"background-color:#d1e5f0\">.</span><span style=\"background-color:#92c5de\"> </span><span style=\"background-color:#f7f7f7\">T</span><span style=\"background-color:#d6604d\">h</span><span style=\"background-color:#d6604d\">e</span><span style=\"background-color:#f7f7f7\"> </span><span style=\"background-color:#d1e5f0\">w</span><span style=\"background-color:#d6604d\">a</span><span style=\"background-color:#d6604d\">r</span><span style=\"background-color:#d1e5f0\"> </span><span style=\"background-color:#d1e5f0\">t</span><span style=\"background-color:#f4a582\">o</span><span style=\"background-color:#f4a582\"> </span><span style=\"background-color:#f7f7f7\">s</span><span style=\"background-color:#fddbc7\">e</span><span style=\"background-color:#d1e5f0\">l</span><span style=\"background-color:#f7f7f7\">l</span><span style=\"background-color:#d1e5f0\"> </span><span style=\"background-color:#d1e5f0\">o</span><span style=\"background-color:#f4a582\">n</span><span style=\"background-color:#f7f7f7\"> </span><span style=\"background-color:#d1e5f0\">h</span><span style=\"background-color:#f4a582\">i</span><span style=\"background-color:#fddbc7\">s</span><span style=\"background-color:#fddbc7\"> </span><span style=\"background-color:#f7f7f7\">f</span><span style=\"background-color:#f4a582\">r</span><span style=\"background-color:#f4a582\">i</span><span style=\"background-color:#fddbc7\">e</span><span style=\"background-color:#fddbc7\">n</span><span style=\"background-color:#f7f7f7\">d</span><span style=\"background-color:#d1e5f0\"> </span><span style=\"background-color:#d1e5f0\">i</span><span style=\"background-color:#d1e5f0\">s</span><span style=\"background-color:#d1e5f0\"> </span><span style=\"background-color:#f7f7f7\">s</span><span style=\"background-color:#f7f7f7\">t</span><span style=\"background-color:#d6604d\">o</span><span style=\"background-color:#d6604d\">p</span><span style=\"background-color:#fddbc7\">p</span><span style=\"background-color:#d6604d\">i</span><span style=\"background-color:#fddbc7\">n</span><span style=\"background-color:#f7f7f7\">g</span><span style=\"background-color:#f7f7f7\"> </span><span style=\"background-color:#f7f7f7\">i</span><span style=\"background-color:#d1e5f0\">s</span><span style=\"background-color:#d1e5f0\"> </span><span style=\"background-color:#f7f7f7\">t</span><span style=\"background-color:#f4a582\">h</span><span style=\"background-color:#d6604d\">e</span><span style=\"background-color:#fddbc7\">r</span><span style=\"background-color:#f4a582\">e</span><span style=\"background-color:#f7f7f7\"> </span><span style=\"background-color:#f7f7f7\">a</span><span style=\"background-color:#d1e5f0\">r</span><span style=\"background-color:#fddbc7\">e</span><span style=\"background-color:#f7f7f7\"> </span><span style=\"background-color:#d1e5f0\">a</span><span style=\"background-color:#f7f7f7\"> </span><span style=\"background-color:#f7f7f7\">g</span><span style=\"background-color:#f4a582\">r</span><span style=\"background-color:#f4a582\">e</span><span style=\"background-color:#fddbc7\">a</span><span style=\"background-color:#fddbc7\">t</span><span style=\"background-color:#d1e5f0\"> </span><span style=\"background-color:#d1e5f0\">p</span><span style=\"background-color:#fddbc7\">e</span><span style=\"background-color:#fddbc7\">o</span><span style=\"background-color:#fddbc7\">p</span><span style=\"background-color:#d1e5f0\">l</span><span style=\"background-color:#fddbc7\">e</span><span style=\"background-color:#f7f7f7\"> </span><span style=\"background-color:#f7f7f7\">i</span><span style=\"background-color:#d1e5f0\">t</span><span style=\"background-color:#d1e5f0\">!</span><span style=\"background-color:#d1e5f0\"><br></span><span style=\"background-color:#d1e5f0\">I</span><span style=\"background-color:#f7f7f7\">f</span><span style=\"background-color:#fddbc7\"> </span><span style=\"background-color:#f7f7f7\">y</span><span style=\"background-color:#d1e5f0\">o</span><span style=\"background-color:#f4a582\">u</span><span style=\"background-color:#f4a582\"> </span><span style=\"background-color:#f7f7f7\">d</span><span style=\"background-color:#fddbc7\">i</span><span style=\"background-color:#d1e5f0\">d</span><span style=\"background-color:#f4a582\"> </span><span style=\"background-color:#fddbc7\">a</span><span style=\"background-color:#d1e5f0\">n</span><span style=\"background-color:#d1e5f0\">d</span><span style=\"background-color:#d6604d\"> </span><span style=\"background-color:#f7f7f7\">t</span><span style=\"background-color:#f4a582\">h</span><span style=\"background-color:#f4a582\">a</span><span style=\"background-color:#f7f7f7\">t</span><span style=\"background-color:#f7f7f7\"> </span><span style=\"background-color:#f7f7f7\">h</span><span style=\"background-color:#f4a582\">e</span><span style=\"background-color:#f7f7f7\"> </span><span style=\"background-color:#f7f7f7\">h</span><span style=\"background-color:#f4a582\">a</span><span style=\"background-color:#f7f7f7\">t</span><span style=\"background-color:#f7f7f7\"> </span><span style=\"background-color:#d1e5f0\">t</span><span style=\"background-color:#d1e5f0\">h</span><span style=\"background-color:#fddbc7\">e</span><span style=\"background-color:#f7f7f7\"> </span><span style=\"background-color:#d1e5f0\">s</span><span style=\"background-color:#fddbc7\">u</span><span style=\"background-color:#f7f7f7\">b</span><span style=\"background-color:#d1e5f0\">s</span><span style=\"background-color:#f7f7f7\">e</span><span style=\"background-color:#d1e5f0\">r</span><span style=\"background-color:#f4a582\">s</span><span style=\"background-color:#fddbc7\">t</span><span style=\"background-color:#fddbc7\">i</span><span style=\"background-color:#d1e5f0\">c</span><span style=\"background-color:#92c5de\"> </span><span style=\"background-color:#92c5de\">p</span><span style=\"background-color:#d1e5f0\">e</span><span style=\"background-color:#d1e5f0\">o</span><span style=\"background-color:#f7f7f7\">p</span><span style=\"background-color:#d1e5f0\">l</span><span style=\"background-color:#f7f7f7\">e</span><span style=\"background-color:#d1e5f0\"> </span><span style=\"background-color:#f7f7f7\">o</span><span style=\"background-color:#f4a582\">n</span><span style=\"background-color:#d1e5f0\"> </span><span style=\"background-color:#92c5de\">h</span><span style=\"background-color:#f4a582\">e</span><span style=\"background-color:#f7f7f7\">r</span><span style=\"background-color:#d1e5f0\"> </span><span style=\"background-color:#f7f7f7\">t</span><span style=\"background-color:#f4a582\">o</span><span style=\"background-color:#f4a582\">p</span><span style=\"background-color:#d6604d\"> </span><span style=\"background-color:#f7f7f7\">t</span><span style=\"background-color:#f4a582\">h</span><span style=\"background-color:#fddbc7\">e</span><span style=\"background-color:#fddbc7\"> </span><span style=\"background-color:#d1e5f0\">w</span><span style=\"background-color:#d6604d\">o</span><span style=\"background-color:#d6604d\">r</span><span style=\"background-color:#fddbc7\">l</span><span style=\"background-color:#d1e5f0\">d</span><span style=\"background-color:#d1e5f0\"> </span><span style=\"background-color:#92c5de\">o</span><span style=\"background-color:#f7f7f7\">n</span><span style=\"background-color:#d1e5f0\"> </span><span style=\"background-color:#d1e5f0\">@</span><span style=\"background-color:#d1e5f0\">B</span><span style=\"background-color:#fddbc7\">a</span><span style=\"background-color:#fddbc7\">r</span><span style=\"background-color:#fddbc7\">a</span><span style=\"background-color:#fddbc7\">c</span><span style=\"background-color:#d6604d\">k</span><span style=\"background-color:#f4a582\">O</span><span style=\"background-color:#d6604d\">b</span><span style=\"background-color:#d6604d\">a</span><span style=\"background-color:#f4a582\">m</span><span style=\"background-color:#f4a582\">a</span><span style=\"background-color:#fddbc7\">'</span><span style=\"background-color:#92c5de\">s</span><span style=\"background-color:#f7f7f7\"> </span><span style=\"background-color:#d1e5f0\">p</span><span style=\"background-color:#f4a582\">o</span><span style=\"background-color:#fddbc7\">s</span><span style=\"background-color:#fddbc7\">i</span><span style=\"background-color:#f7f7f7\">t</span><span style=\"background-color:#f7f7f7\">i</span><span style=\"background-color:#d1e5f0\">v</span><span style=\"background-color:#f7f7f7\">e</span><span style=\"background-color:#d1e5f0\"> </span><span style=\"background-color:#d1e5f0\">a</span><span style=\"background-color:#f7f7f7\">r</span><span style=\"background-color:#f4a582\">e</span><span style=\"background-color:#f7f7f7\"> </span><span style=\"background-color:#f7f7f7\">a</span><span style=\"background-color:#f7f7f7\"> </span><span style=\"background-color:#f7f7f7\">b</span><span style=\"background-color:#f4a582\">i</span><span style=\"background-color:#f4a582\">g</span><span style=\"background-color:#f4a582\"> </span><span style=\"background-color:#fddbc7\">t</span><span style=\"background-color:#d6604d\">r</span><span style=\"background-color:#d6604d\">a</span><span style=\"background-color:#f4a582\">v</span><span style=\"background-color:#f4a582\">e</span><span style=\"background-color:#d1e5f0\">l</span><span style=\"background-color:#f7f7f7\"> </span><span style=\"background-color:#d1e5f0\">f</span><span style=\"background-color:#f4a582\">r</span><span style=\"background-color:#f4a582\">a</span><span style=\"background-color:#fddbc7\">u</span><span style=\"background-color:#f4a582\">d</span><span style=\"background-color:#fddbc7\">-</span><span style=\"background-color:#fddbc7\">o</span><span style=\"background-color:#f4a582\">n</span><span style=\"background-color:#fddbc7\"> </span><span style=\"background-color:#f7f7f7\">t</span><span style=\"background-color:#f4a582\">h</span><span style=\"background-color:#f4a582\">e</span><span style=\"background-color:#fddbc7\"> </span><span style=\"background-color:#d1e5f0\">w</span><span style=\"background-color:#d6604d\">a</span><span style=\"background-color:#f4a582\">y</span><span style=\"background-color:#fddbc7\"> </span><span style=\"background-color:#f7f7f7\">t</span><span style=\"background-color:#f4a582\">o</span><span style=\"background-color:#f4a582\"> </span><span style=\"background-color:#d1e5f0\">s</span><span style=\"background-color:#f7f7f7\">e</span><span style=\"background-color:#d1e5f0\">e</span><span style=\"background-color:#f7f7f7\">.</span><span style=\"background-color:#d1e5f0\"><br></span><span style=\"background-color:#f7f7f7\">W</span><span style=\"background-color:#f4a582\">e</span><span style=\"background-color:#fddbc7\"> </span><span style=\"background-color:#fddbc7\">a</span><span style=\"background-color:#d1e5f0\">r</span><span style=\"background-color:#f7f7f7\">e</span><span style=\"background-color:#f7f7f7\"> </span><span style=\"background-color:#d1e5f0\">a</span><span style=\"background-color:#d1e5f0\">l</span><span style=\"background-color:#d1e5f0\">l</span><span style=\"background-color:#fddbc7\"> </span><span style=\"background-color:#f4a582\">o</span><span style=\"background-color:#f4a582\">n</span><span style=\"background-color:#f7f7f7\">l</span><span style=\"background-color:#f7f7f7\">y</span><span style=\"background-color:#f7f7f7\"> </span><span style=\"background-color:#d1e5f0\">a</span><span style=\"background-color:#d1e5f0\">s</span><span style=\"background-color:#f7f7f7\"> </span><span style=\"background-color:#d1e5f0\">s</span><span style=\"background-color:#f7f7f7\">t</span><span style=\"background-color:#d6604d\">o</span><span style=\"background-color:#f4a582\">r</span><span style=\"background-color:#f7f7f7\">i</span><span style=\"background-color:#d1e5f0\">e</span><span style=\"background-color:#d1e5f0\">s</span><span style=\"background-color:#f7f7f7\"> </span><span style=\"background-color:#f7f7f7\">o</span><span style=\"background-color:#fddbc7\">n</span><span style=\"background-color:#f7f7f7\"> </span><span style=\"background-color:#d1e5f0\">t</span><span style=\"background-color:#fddbc7\">h</span><span style=\"background-color:#fddbc7\">e</span><span style=\"background-color:#fddbc7\"> </span><span style=\"background-color:#d1e5f0\">w</span><span style=\"background-color:#d6604d\">h</span><span style=\"background-color:#d6604d\">e</span><span style=\"background-color:#f4a582\">r</span><span style=\"background-color:#f4a582\">e</span><span style=\"background-color:#f7f7f7\"> </span><span style=\"background-color:#d1e5f0\">y</span><span style=\"background-color:#d1e5f0\">o</span><span style=\"background-color:#f4a582\">u</span><span style=\"background-color:#fddbc7\"> </span><span style=\"background-color:#f7f7f7\">w</span><span style=\"background-color:#d6604d\">o</span><span style=\"background-color:#d6604d\">n</span><span style=\"background-color:#f4a582\">t</span><span style=\"background-color:#f7f7f7\">e</span><span style=\"background-color:#d1e5f0\">r</span><span style=\"background-color:#f7f7f7\"> </span><span style=\"background-color:#d1e5f0\">t</span><span style=\"background-color:#fddbc7\">h</span><span style=\"background-color:#f4a582\">a</span><span style=\"background-color:#f7f7f7\">t</span><span style=\"background-color:#f7f7f7\"> </span><span style=\"background-color:#f7f7f7\">i</span><span style=\"background-color:#d1e5f0\">s</span><span style=\"background-color:#d1e5f0\"> </span><span style=\"background-color:#d1e5f0\">t</span><span style=\"background-color:#fddbc7\">h</span><span style=\"background-color:#f4a582\">e</span><span style=\"background-color:#fddbc7\"> </span><span style=\"background-color:#f7f7f7\">w</span><span style=\"background-color:#d6604d\">o</span><span style=\"background-color:#d6604d\">r</span><span style=\"background-color:#f4a582\">l</span><span style=\"background-color:#d1e5f0\">d</span><span style=\"background-color:#d1e5f0\"> </span><span style=\"background-color:#92c5de\">i</span><span style=\"background-color:#92c5de\">s</span><span style=\"background-color:#d1e5f0\"> </span><span style=\"background-color:#d1e5f0\">t</span><span style=\"background-color:#fddbc7\">h</span><span style=\"background-color:#f4a582\">i</span><span style=\"background-color:#f7f7f7\">s</span><span style=\"background-color:#fddbc7\"> </span><span style=\"background-color:#f7f7f7\">c</span><span style=\"background-color:#f4a582\">o</span><span style=\"background-color:#f4a582\">u</span><span style=\"background-color:#f4a582\">n</span><span style=\"background-color:#f7f7f7\">t</span><span style=\"background-color:#fddbc7\">r</span><span style=\"background-color:#d1e5f0\">y</span><span style=\"background-color:#92c5de\">.</span><span style=\"background-color:#92c5de\"> </span><span style=\"background-color:#f7f7f7\">T</span><span style=\"background-color:#d6604d\">h</span><span style=\"background-color:#d6604d\">e</span><span style=\"background-color:#f7f7f7\"> </span><span style=\"background-color:#d1e5f0\">p</span><span style=\"background-color:#f4a582\">e</span><span style=\"background-color:#fddbc7\">o</span><span style=\"background-color:#fddbc7\">p</span><span style=\"background-color:#d1e5f0\">l</span><span style=\"background-color:#fddbc7\">e</span><span style=\"background-color:#f7f7f7\"> </span><span style=\"background-color:#f7f7f7\">o</span><span style=\"background-color:#f4a582\">f</span><span style=\"background-color:#f7f7f7\"> </span><span style=\"background-color:#d1e5f0\">t</span><span style=\"background-color:#fddbc7\">w</span><span style=\"background-color:#d6604d\">i</span><span style=\"background-color:#fddbc7\">e</span><span style=\"background-color:#fddbc7\">t</span><span style=\"background-color:#f7f7f7\"> </span><span style=\"background-color:#f7f7f7\">a</span><span style=\"background-color:#f7f7f7\">n</span><span style=\"background-color:#d1e5f0\">d</span><span style=\"background-color:#d6604d\"> </span><span style=\"background-color:#f7f7f7\">a</span><span style=\"background-color:#fddbc7\">l</span><span style=\"background-color:#f7f7f7\">l</span><span style=\"background-color:#f4a582\"> </span><span style=\"background-color:#f7f7f7\">o</span><span style=\"background-color:#f4a582\">f</span><span style=\"background-color:#f4a582\"> </span><span style=\"background-color:#f7f7f7\">m</span><span style=\"background-color:#f7f7f7\">o</span><span style=\"background-color:#f7f7f7\">n</span><span style=\"background-color:#f7f7f7\">e</span><span style=\"background-color:#f7f7f7\">y</span><span style=\"background-color:#fddbc7\"> </span><span style=\"background-color:#f7f7f7\">t</span><span style=\"background-color:#f4a582\">h</span><span style=\"background-color:#f4a582\">a</span><span style=\"background-color:#f7f7f7\">t</span><span style=\"background-color:#f7f7f7\"> </span><span style=\"background-color:#f7f7f7\">w</span><span style=\"background-color:#d6604d\">i</span><span style=\"background-color:#f4a582\">l</span><span style=\"background-color:#fddbc7\">l</span><span style=\"background-color:#f7f7f7\"> </span><span style=\"background-color:#f7f7f7\">s</span><span style=\"background-color:#fddbc7\">t</span><span style=\"background-color:#f4a582\">o</span><span style=\"background-color:#f4a582\">p</span><span style=\"background-color:#fddbc7\"> </span><span style=\"background-color:#f7f7f7\">t</span><span style=\"background-color:#f4a582\">h</span><span style=\"background-color:#fddbc7\">e</span><span style=\"background-color:#fddbc7\"> </span><span style=\"background-color:#d1e5f0\">m</span><span style=\"background-color:#f4a582\">e</span><span style=\"background-color:#d1e5f0\">d</span><span style=\"background-color:#f7f7f7\">i</span><span style=\"background-color:#f7f7f7\">a</span><span style=\"background-color:#f7f7f7\">!</span><span style=\"background-color:#f7f7f7\"><br></span><span style=\"background-color:#f7f7f7\">W</span><span style=\"background-color:#d6604d\">h</span><span style=\"background-color:#d6604d\">i</span><span style=\"background-color:#f4a582\">l</span><span style=\"background-color:#f4a582\">e</span><span style=\"background-color:#f7f7f7\"> </span><span style=\"background-color:#d1e5f0\">@</span><span style=\"background-color:#d1e5f0\">T</span><span style=\"background-color:#f4a582\">r</span><span style=\"background-color:#f4a582\">u</span><span style=\"background-color:#d6604d\">m</span><span style=\"background-color:#d6604d\">p</span><span style=\"background-color:#fddbc7\">T</span><span style=\"background-color:#d6604d\">o</span><span style=\"background-color:#d6604d\">w</span><span style=\"background-color:#d6604d\">e</span><span style=\"background-color:#d6604d\">r</span><span style=\"background-color:#f7f7f7\">N</span><span style=\"background-color:#92c5de\">Y</span><span style=\"background-color:#f7f7f7\"> </span><span style=\"background-color:#d1e5f0\"> </span><span style=\"background-color:#92c5de\"> </span><span style=\"background-color:#d1e5f0\"> </span><span style=\"background-color:#f7f7f7\">I</span><span style=\"background-color:#f7f7f7\"> </span><span style=\"background-color:#f7f7f7\">a</span><span style=\"background-color:#f7f7f7\">m</span><span style=\"background-color:#f7f7f7\"> </span><span style=\"background-color:#f7f7f7\">t</span><span style=\"background-color:#f4a582\">o</span><span style=\"background-color:#f4a582\"> </span><span style=\"background-color:#d1e5f0\">d</span><span style=\"background-color:#f7f7f7\">o</span><span style=\"background-color:#fddbc7\"> </span><span style=\"background-color:#f7f7f7\">i</span><span style=\"background-color:#f7f7f7\">s</span><span style=\"background-color:#f7f7f7\"> </span><span style=\"background-color:#f7f7f7\">b</span><span style=\"background-color:#f7f7f7\">e</span><span style=\"background-color:#f7f7f7\">i</span><span style=\"background-color:#f7f7f7\">n</span><span style=\"background-color:#f7f7f7\">g</span><span style=\"background-color:#fddbc7\"> </span><span style=\"background-color:#f7f7f7\">t</span><span style=\"background-color:#fddbc7\">o</span><span style=\"background-color:#f4a582\">t</span><span style=\"background-color:#d6604d\">a</span><span style=\"background-color:#d1e5f0\">l</span><span style=\"background-color:#d1e5f0\">l</span><span style=\"background-color:#92c5de\">y</span><span style=\"background-color:#d1e5f0\"> </span><span style=\"background-color:#f7f7f7\">s</span><span style=\"background-color:#fddbc7\">t</span><span style=\"background-color:#f4a582\">i</span><span style=\"background-color:#fddbc7\">f</span><span style=\"background-color:#d6604d\">t</span><span style=\"background-color:#f7f7f7\"> </span><span style=\"background-color:#f7f7f7\">a</span><span style=\"background-color:#f7f7f7\">t</span><span style=\"background-color:#f4a582\"> </span><span style=\"background-color:#f7f7f7\">a</span><span style=\"background-color:#f7f7f7\">l</span><span style=\"background-color:#f7f7f7\">l</span><span style=\"background-color:#fddbc7\"> </span><span style=\"background-color:#fddbc7\">o</span><span style=\"background-color:#f4a582\">f</span><span style=\"background-color:#f4a582\"> </span><span style=\"background-color:#f7f7f7\">t</span><span style=\"background-color:#f4a582\">h</span><span style=\"background-color:#f4a582\">e</span><span style=\"background-color:#fddbc7\">m</span><span style=\"background-color:#d1e5f0\"> </span><span style=\"background-color:#d1e5f0\">a</span><span style=\"background-color:#d1e5f0\">n</span><span style=\"background-color:#d1e5f0\">d</span><span style=\"background-color:#d6604d\"> </span><span style=\"background-color:#f7f7f7\">a</span><span style=\"background-color:#f7f7f7\">n</span><span style=\"background-color:#d1e5f0\">o</span><span style=\"background-color:#f4a582\">t</span><span style=\"background-color:#f4a582\">h</span><span style=\"background-color:#f4a582\">e</span><span style=\"background-color:#fddbc7\">r</span><span style=\"background-color:#f4a582\"> </span><span style=\"background-color:#f7f7f7\">s</span><span style=\"background-color:#fddbc7\">t</span><span style=\"background-color:#d6604d\">a</span><span style=\"background-color:#fddbc7\">t</span><span style=\"background-color:#f4a582\">e</span><span style=\"background-color:#d1e5f0\">m</span><span style=\"background-color:#f7f7f7\">e</span><span style=\"background-color:#d1e5f0\">n</span><span style=\"background-color:#f7f7f7\">t</span><span style=\"background-color:#92c5de\">s</span><span style=\"background-color:#d1e5f0\"> </span><span style=\"background-color:#d1e5f0\">o</span><span style=\"background-color:#fddbc7\">n</span><span style=\"background-color:#d1e5f0\"> </span><span style=\"background-color:#d1e5f0\">m</span><span style=\"background-color:#d1e5f0\">e</span><span style=\"background-color:#92c5de\">e</span><span style=\"background-color:#d1e5f0\">t</span><span style=\"background-color:#f7f7f7\">!</span><span style=\"background-color:#f7f7f7\"><br></span><span style=\"background-color:#f7f7f7\">I</span><span style=\"background-color:#f7f7f7\">t</span><span style=\"background-color:#f7f7f7\">'</span><span style=\"background-color:#92c5de\">s</span><span style=\"background-color:#fddbc7\"> </span><span style=\"background-color:#f4a582\">a</span><span style=\"background-color:#f7f7f7\">l</span><span style=\"background-color:#f7f7f7\">l</span><span style=\"background-color:#f4a582\"> </span><span style=\"background-color:#fddbc7\">o</span><span style=\"background-color:#f4a582\">u</span><span style=\"background-color:#fddbc7\">r</span><span style=\"background-color:#d1e5f0\"> </span><span style=\"background-color:#f4a582\">c</span><span style=\"background-color:#d6604d\">o</span><span style=\"background-color:#d6604d\">u</span><span style=\"background-color:#d6604d\">n</span><span style=\"background-color:#fddbc7\">t</span><span style=\"background-color:#f7f7f7\">r</span><span style=\"background-color:#d1e5f0\">y</span><span style=\"background-color:#92c5de\"> </span><span style=\"background-color:#92c5de\">w</span><span style=\"background-color:#f4a582\">i</span><span style=\"background-color:#f4a582\">l</span><span style=\"background-color:#fddbc7\">l</span><span style=\"background-color:#f7f7f7\"> </span><span style=\"background-color:#d1e5f0\">b</span><span style=\"background-color:#d1e5f0\">e</span><span style=\"background-color:#f7f7f7\"> </span><span style=\"background-color:#f7f7f7\">t</span><span style=\"background-color:#fddbc7\">o</span><span style=\"background-color:#f4a582\">t</span><span style=\"background-color:#d6604d\">a</span><span style=\"background-color:#d1e5f0\">l</span><span style=\"background-color:#d1e5f0\">l</span><span style=\"background-color:#92c5de\">y</span><span style=\"background-color:#d1e5f0\"> </span><span style=\"background-color:#f7f7f7\">o</span><span style=\"background-color:#f4a582\">f</span><span style=\"background-color:#d6604d\">f</span><span style=\"background-color:#f4a582\">i</span><span style=\"background-color:#fddbc7\">c</span><span style=\"background-color:#f4a582\">e</span><span style=\"background-color:#f7f7f7\"> </span><span style=\"background-color:#f7f7f7\">f</span><span style=\"background-color:#f4a582\">o</span><span style=\"background-color:#f4a582\">r</span><span style=\"background-color:#f7f7f7\"> </span><span style=\"background-color:#d1e5f0\">a</span><span style=\"background-color:#f7f7f7\"> </span><span style=\"background-color:#f7f7f7\">r</span><span style=\"background-color:#d6604d\">e</span><span style=\"background-color:#f4a582\">p</span><span style=\"background-color:#fddbc7\">e</span><span style=\"background-color:#d1e5f0\">n</span><span style=\"background-color:#d1e5f0\">t</span><span style=\"background-color:#f7f7f7\"> </span><span style=\"background-color:#d1e5f0\">o</span><span style=\"background-color:#f4a582\">f</span><span style=\"background-color:#f4a582\"> </span><span style=\"background-color:#d1e5f0\">m</span><span style=\"background-color:#f7f7f7\">y</span><span style=\"background-color:#d1e5f0\"> </span><span style=\"background-color:#d1e5f0\">f</span><span style=\"background-color:#f4a582\">r</span><span style=\"background-color:#f4a582\">a</span><span style=\"background-color:#fddbc7\">e</span><span style=\"background-color:#f7f7f7\">d</span><span style=\"background-color:#f7f7f7\">.</span><span style=\"background-color:#d1e5f0\"> </span><span style=\"background-color:#f7f7f7\">I</span><span style=\"background-color:#f7f7f7\"> </span><span style=\"background-color:#f7f7f7\">w</span><span style=\"background-color:#d6604d\">o</span><span style=\"background-color:#d6604d\">n</span><span style=\"background-color:#f4a582\">d</span><span style=\"background-color:#f7f7f7\">e</span><span style=\"background-color:#fddbc7\">r</span><span style=\"background-color:#f4a582\"> </span><span style=\"background-color:#f7f7f7\">h</span><span style=\"background-color:#d6604d\">e</span><span style=\"background-color:#fddbc7\"> </span><span style=\"background-color:#fddbc7\">s</span><span style=\"background-color:#f4a582\">h</span><span style=\"background-color:#f4a582\">o</span><span style=\"background-color:#f4a582\">u</span><span style=\"background-color:#d1e5f0\">l</span><span style=\"background-color:#f7f7f7\">d</span><span style=\"background-color:#f4a582\"> </span><span style=\"background-color:#f7f7f7\">s</span><span style=\"background-color:#fddbc7\">t</span><span style=\"background-color:#f4a582\">i</span><span style=\"background-color:#f7f7f7\">l</span><span style=\"background-color:#f4a582\">l</span><span style=\"background-color:#f7f7f7\"> </span><span style=\"background-color:#f7f7f7\">w</span><span style=\"background-color:#f4a582\">i</span><span style=\"background-color:#fddbc7\">l</span><span style=\"background-color:#fddbc7\">l</span><span style=\"background-color:#f7f7f7\"> </span><span style=\"background-color:#f7f7f7\">s</span><span style=\"background-color:#fddbc7\">a</span><span style=\"background-color:#d1e5f0\">y</span><span style=\"background-color:#fddbc7\"> </span><span style=\"background-color:#f7f7f7\">i</span><span style=\"background-color:#d1e5f0\">t</span><span style=\"background-color:#92c5de\"> </span><span style=\"background-color:#d1e5f0\">h</span><span style=\"background-color:#f4a582\">a</span><span style=\"background-color:#fddbc7\">s</span><span style=\"background-color:#fddbc7\"> </span><span style=\"background-color:#92c5de\">t</span><span style=\"background-color:#f7f7f7\">o</span><span style=\"background-color:#f4a582\"> </span><span style=\"background-color:#f7f7f7\">b</span><span style=\"background-color:#d1e5f0\">e</span><span style=\"background-color:#d1e5f0\">l</span><span style=\"background-color:#d1e5f0\">i</span><span style=\"background-color:#f7f7f7\">e</span><span style=\"background-color:#f4a582\">v</span><span style=\"background-color:#f7f7f7\">e</span><span style=\"background-color:#d1e5f0\"> </span><span style=\"background-color:#d1e5f0\">i</span><span style=\"background-color:#92c5de\">f</span><span style=\"background-color:#92c5de\"> </span><span style=\"background-color:#d1e5f0\">w</span><span style=\"background-color:#d6604d\">e</span><span style=\"background-color:#fddbc7\"> </span><span style=\"background-color:#fddbc7\">a</span><span style=\"background-color:#f7f7f7\">r</span><span style=\"background-color:#fddbc7\">e</span><span style=\"background-color:#fddbc7\"> </span><span style=\"background-color:#f7f7f7\">s</span><span style=\"background-color:#f7f7f7\">o</span><span style=\"background-color:#f4a582\"> </span><span style=\"background-color:#d6604d\">d</span><span style=\"background-color:#d6604d\">i</span><span style=\"background-color:#d6604d\">s</span><span style=\"background-color:#d6604d\">a</span><span style=\"background-color:#f7f7f7\">s</span><span style=\"background-color:#f4a582\">t</span><span style=\"background-color:#d6604d\">i</span><span style=\"background-color:#f4a582\">o</span><span style=\"background-color:#fddbc7\">n</span><span style=\"background-color:#d1e5f0\"> </span><span style=\"background-color:#f7f7f7\">t</span><span style=\"background-color:#f4a582\">h</span><span style=\"background-color:#f4a582\">a</span><span style=\"background-color:#fddbc7\">n</span><span style=\"background-color:#f7f7f7\"> </span><span style=\"background-color:#f7f7f7\">y</span><span style=\"background-color:#f7f7f7\">o</span><span style=\"background-color:#f4a582\">u</span><span style=\"background-color:#f4a582\"> </span><span style=\"background-color:#fddbc7\">s</span><span style=\"background-color:#f4a582\">e</span><span style=\"background-color:#d1e5f0\">e</span><span style=\"background-color:#f7f7f7\"> </span><span style=\"background-color:#f7f7f7\">w</span><span style=\"background-color:#f4a582\">h</span><span style=\"background-color:#f4a582\">a</span><span style=\"background-color:#fddbc7\">t</span><span style=\"background-color:#fddbc7\"> </span><span style=\"background-color:#f7f7f7\">y</span><span style=\"background-color:#fddbc7\">o</span><span style=\"background-color:#d6604d\">u</span><span style=\"background-color:#f4a582\">'</span><span style=\"background-color:#d1e5f0\">r</span><span style=\"background-color:#f4a582\">e</span><span style=\"background-color:#f4a582\"> </span><span style=\"background-color:#fddbc7\">g</span><span style=\"background-color:#f4a582\">o</span><span style=\"background-color:#f4a582\">i</span><span style=\"background-color:#f7f7f7\">n</span><span style=\"background-color:#92c5de\">g</span><span style=\"background-color:#d1e5f0\">!</span><span style=\"background-color:#f7f7f7\"><br></span><span style=\"background-color:#f7f7f7\">I</span><span style=\"background-color:#f7f7f7\"> </span><span style=\"background-color:#f7f7f7\">w</span><span style=\"background-color:#d6604d\">o</span><span style=\"background-color:#d6604d\">n</span><span style=\"background-color:#f4a582\">d</span><span style=\"background-color:#f7f7f7\">e</span><span style=\"background-color:#fddbc7\">r</span><span style=\"background-color:#fddbc7\"> </span><span style=\"background-color:#d1e5f0\">w</span><span style=\"background-color:#d6604d\">h</span><span style=\"background-color:#d6604d\">e</span><span style=\"background-color:#fddbc7\">n</span><span style=\"background-color:#fddbc7\"> </span><span style=\"background-color:#f7f7f7\">t</span><span style=\"background-color:#f4a582\">h</span><span style=\"background-color:#f4a582\">e</span><span style=\"background-color:#f7f7f7\"> </span><span style=\"background-color:#d1e5f0\">s</span><span style=\"background-color:#fddbc7\">e</span><span style=\"background-color:#f7f7f7\">c</span><span style=\"background-color:#fddbc7\">u</span><span style=\"background-color:#f7f7f7\">r</span><span style=\"background-color:#f7f7f7\">i</span><span style=\"background-color:#92c5de\">t</span><span style=\"background-color:#92c5de\">y</span><span style=\"background-color:#92c5de\"> </span><span style=\"background-color:#92c5de\">a</span><span style=\"background-color:#f7f7f7\">r</span><span style=\"background-color:#f4a582\">e</span><span style=\"background-color:#f7f7f7\"> </span><span style=\"background-color:#f7f7f7\">a</span><span style=\"background-color:#f7f7f7\"> </span><span style=\"background-color:#f7f7f7\">t</span><span style=\"background-color:#f4a582\">e</span><span style=\"background-color:#f4a582\">r</span><span style=\"background-color:#d6604d\">r</span><span style=\"background-color:#f7f7f7\">i</span><span style=\"background-color:#92c5de\">f</span><span style=\"background-color:#d1e5f0\">i</span><span style=\"background-color:#d1e5f0\">c</span><span style=\"background-color:#f7f7f7\"> </span><span style=\"background-color:#92c5de\">p</span><span style=\"background-color:#fddbc7\">e</span><span style=\"background-color:#fddbc7\">o</span><span style=\"background-color:#fddbc7\">p</span><span style=\"background-color:#d1e5f0\">l</span><span style=\"background-color:#f7f7f7\">e</span><span style=\"background-color:#d1e5f0\">.</span><span style=\"background-color:#d1e5f0\"> </span><span style=\"background-color:#f7f7f7\">T</span><span style=\"background-color:#d6604d\">h</span><span style=\"background-color:#d6604d\">a</span><span style=\"background-color:#f7f7f7\">t</span><span style=\"background-color:#d1e5f0\"> </span><span style=\"background-color:#f7f7f7\">i</span><span style=\"background-color:#92c5de\">s</span><span style=\"background-color:#d1e5f0\"> </span><span style=\"background-color:#d1e5f0\">s</span><span style=\"background-color:#f7f7f7\">o</span><span style=\"background-color:#f4a582\"> </span><span style=\"background-color:#d6604d\">s</span><span style=\"background-color:#d6604d\">u</span><span style=\"background-color:#f4a582\">c</span><span style=\"background-color:#f4a582\">h</span><span style=\"background-color:#d1e5f0\"> </span><span style=\"background-color:#d1e5f0\">a</span><span style=\"background-color:#f7f7f7\"> </span><span style=\"background-color:#f7f7f7\">t</span><span style=\"background-color:#f4a582\">e</span><span style=\"background-color:#f4a582\">r</span><span style=\"background-color:#d6604d\">r</span><span style=\"background-color:#f7f7f7\">i</span><span style=\"background-color:#92c5de\">b</span><span style=\"background-color:#92c5de\">l</span><span style=\"background-color:#92c5de\">e</span><span style=\"background-color:#92c5de\"> </span><span style=\"background-color:#92c5de\">p</span><span style=\"background-color:#f7f7f7\">o</span><span style=\"background-color:#f7f7f7\">l</span><span style=\"background-color:#fddbc7\">i</span><span style=\"background-color:#f7f7f7\">t</span><span style=\"background-color:#d1e5f0\">i</span><span style=\"background-color:#d1e5f0\">c</span><span style=\"background-color:#f7f7f7\">i</span><span style=\"background-color:#d1e5f0\">a</span><span style=\"background-color:#f7f7f7\">n</span><span style=\"background-color:#d1e5f0\"> </span><span style=\"background-color:#d1e5f0\">i</span><span style=\"background-color:#d1e5f0\">n</span><span style=\"background-color:#d1e5f0\"> </span><span style=\"background-color:#f7f7f7\">m</span><span style=\"background-color:#fddbc7\">a</span><span style=\"background-color:#d1e5f0\">d</span><span style=\"background-color:#fddbc7\">e</span><span style=\"background-color:#f7f7f7\"> </span><span style=\"background-color:#f7f7f7\">a</span><span style=\"background-color:#f7f7f7\"> </span><span style=\"background-color:#f7f7f7\">s</span><span style=\"background-color:#f7f7f7\">e</span><span style=\"background-color:#f4a582\">c</span><span style=\"background-color:#f4a582\">u</span><span style=\"background-color:#fddbc7\">r</span><span style=\"background-color:#d1e5f0\">i</span><span style=\"background-color:#d1e5f0\">t</span><span style=\"background-color:#92c5de\">y</span><span style=\"background-color:#92c5de\"> </span><span style=\"background-color:#92c5de\">o</span><span style=\"background-color:#fddbc7\">n</span><span style=\"background-color:#f7f7f7\"> </span><span style=\"background-color:#d1e5f0\">t</span><span style=\"background-color:#f7f7f7\">h</span><span style=\"background-color:#fddbc7\">e</span><span style=\"background-color:#f7f7f7\"> </span><span style=\"background-color:#d1e5f0\">c</span><span style=\"background-color:#fddbc7\">o</span><span style=\"background-color:#f4a582\">u</span><span style=\"background-color:#fddbc7\">n</span><span style=\"background-color:#f7f7f7\">t</span><span style=\"background-color:#f7f7f7\">r</span><span style=\"background-color:#d1e5f0\">y</span><span style=\"background-color:#92c5de\">-</span><span style=\"background-color:#d1e5f0\">i</span><span style=\"background-color:#92c5de\">n</span><span style=\"background-color:#d1e5f0\"> </span><span style=\"background-color:#d1e5f0\">t</span><span style=\"background-color:#f4a582\">h</span><span style=\"background-color:#f4a582\">e</span><span style=\"background-color:#fddbc7\"> </span><span style=\"background-color:#d1e5f0\">w</span><span style=\"background-color:#d6604d\">o</span><span style=\"background-color:#d6604d\">r</span><span style=\"background-color:#f4a582\">l</span><span style=\"background-color:#d1e5f0\">d</span><span style=\"background-color:#d1e5f0\"> </span><span style=\"background-color:#92c5de\">w</span><span style=\"background-color:#f4a582\">i</span><span style=\"background-color:#f4a582\">t</span><span style=\"background-color:#fddbc7\">h</span><span style=\"background-color:#f7f7f7\"> </span><span style=\"background-color:#f7f7f7\">a</span><span style=\"background-color:#f7f7f7\"> </span><span style=\"background-color:#f7f7f7\">l</span><span style=\"background-color:#f4a582\">i</span><span style=\"background-color:#fddbc7\">f</span><span style=\"background-color:#d6604d\">e</span><span style=\"background-color:#d1e5f0\"> </span></span>"
      ],
      "text/plain": [
       "<IPython.core.display.HTML object>"
      ]
     },
     "execution_count": 48,
     "metadata": {},
     "output_type": "execute_result"
    }
   ],
   "source": [
    "HTML(make_colored_text(samp, states, cell_id=200, layer_id=1))"
   ]
  },
  {
   "cell_type": "code",
   "execution_count": 49,
   "metadata": {},
   "outputs": [
    {
     "data": {
      "text/html": [
       "<span style=\"white-space: per-line; font-family: Courier, Monaco, mono space\"><span style=\"background-color:#f7f7f7\">O</span><span style=\"background-color:#f7f7f7\">b</span><span style=\"background-color:#f7f7f7\">a</span><span style=\"background-color:#f7f7f7\">m</span><span style=\"background-color:#f7f7f7\">a</span><span style=\"background-color:#f7f7f7\"> </span><span style=\"background-color:#f7f7f7\">(</span><span style=\"background-color:#f7f7f7\">c</span><span style=\"background-color:#f7f7f7\">o</span><span style=\"background-color:#f7f7f7\">n</span><span style=\"background-color:#fddbc7\">t</span><span style=\"background-color:#fddbc7\">)</span><span style=\"background-color:#f4a582\"> </span><span style=\"background-color:#f4a582\">h</span><span style=\"background-color:#f4a582\">t</span><span style=\"background-color:#fddbc7\">t</span><span style=\"background-color:#fddbc7\">p</span><span style=\"background-color:#f4a582\">:</span><span style=\"background-color:#f4a582\">/</span><span style=\"background-color:#fddbc7\">/</span><span style=\"background-color:#f7f7f7\">t</span><span style=\"background-color:#f7f7f7\">.</span><span style=\"background-color:#d1e5f0\">c</span><span style=\"background-color:#d1e5f0\">o</span><span style=\"background-color:#d1e5f0\">/</span><span style=\"background-color:#d1e5f0\">e</span><span style=\"background-color:#d1e5f0\">x</span><span style=\"background-color:#d1e5f0\">5</span><span style=\"background-color:#d1e5f0\">7</span><span style=\"background-color:#f7f7f7\">Y</span><span style=\"background-color:#f7f7f7\">x</span><span style=\"background-color:#f7f7f7\">0</span><span style=\"background-color:#d1e5f0\"><br></span><span style=\"background-color:#f7f7f7\">A</span><span style=\"background-color:#fddbc7\">l</span><span style=\"background-color:#fddbc7\">l</span><span style=\"background-color:#f4a582\"> </span><span style=\"background-color:#fddbc7\">o</span><span style=\"background-color:#fddbc7\">t</span><span style=\"background-color:#f7f7f7\">h</span><span style=\"background-color:#fddbc7\">e</span><span style=\"background-color:#f7f7f7\">r</span><span style=\"background-color:#fddbc7\"> </span><span style=\"background-color:#f7f7f7\">t</span><span style=\"background-color:#fddbc7\">o</span><span style=\"background-color:#fddbc7\"> </span><span style=\"background-color:#fddbc7\">b</span><span style=\"background-color:#fddbc7\">e</span><span style=\"background-color:#f7f7f7\"> </span><span style=\"background-color:#f7f7f7\">a</span><span style=\"background-color:#fddbc7\"> </span><span style=\"background-color:#f7f7f7\">c</span><span style=\"background-color:#f7f7f7\">o</span><span style=\"background-color:#f7f7f7\">n</span><span style=\"background-color:#fddbc7\">t</span><span style=\"background-color:#fddbc7\">r</span><span style=\"background-color:#f4a582\">a</span><span style=\"background-color:#fddbc7\">t</span><span style=\"background-color:#fddbc7\">t</span><span style=\"background-color:#fddbc7\">o</span><span style=\"background-color:#fddbc7\">n</span><span style=\"background-color:#fddbc7\"> </span><span style=\"background-color:#fddbc7\">a</span><span style=\"background-color:#fddbc7\">n</span><span style=\"background-color:#fddbc7\">d</span><span style=\"background-color:#fddbc7\"> </span><span style=\"background-color:#fddbc7\">a</span><span style=\"background-color:#fddbc7\">l</span><span style=\"background-color:#fddbc7\">l</span><span style=\"background-color:#fddbc7\"> </span><span style=\"background-color:#f7f7f7\">t</span><span style=\"background-color:#f7f7f7\">h</span><span style=\"background-color:#fddbc7\">e</span><span style=\"background-color:#fddbc7\"> </span><span style=\"background-color:#f7f7f7\">b</span><span style=\"background-color:#f7f7f7\">u</span><span style=\"background-color:#f7f7f7\">s</span><span style=\"background-color:#f7f7f7\">e</span><span style=\"background-color:#f7f7f7\"> </span><span style=\"background-color:#f7f7f7\">w</span><span style=\"background-color:#fddbc7\">a</span><span style=\"background-color:#fddbc7\">s</span><span style=\"background-color:#fddbc7\"> </span><span style=\"background-color:#f7f7f7\">a</span><span style=\"background-color:#fddbc7\"> </span><span style=\"background-color:#f7f7f7\">s</span><span style=\"background-color:#fddbc7\">p</span><span style=\"background-color:#f4a582\">i</span><span style=\"background-color:#fddbc7\">r</span><span style=\"background-color:#fddbc7\">e</span><span style=\"background-color:#f7f7f7\"> </span><span style=\"background-color:#f7f7f7\">t</span><span style=\"background-color:#f7f7f7\">h</span><span style=\"background-color:#fddbc7\">a</span><span style=\"background-color:#fddbc7\">t</span><span style=\"background-color:#fddbc7\"> </span><span style=\"background-color:#fddbc7\">i</span><span style=\"background-color:#fddbc7\">n</span><span style=\"background-color:#f7f7f7\"> </span><span style=\"background-color:#f7f7f7\">o</span><span style=\"background-color:#f7f7f7\">u</span><span style=\"background-color:#f7f7f7\">r</span><span style=\"background-color:#fddbc7\"> </span><span style=\"background-color:#f7f7f7\">c</span><span style=\"background-color:#f7f7f7\">o</span><span style=\"background-color:#d1e5f0\">u</span><span style=\"background-color:#f7f7f7\">n</span><span style=\"background-color:#fddbc7\">t</span><span style=\"background-color:#fddbc7\">r</span><span style=\"background-color:#fddbc7\">y</span><span style=\"background-color:#f7f7f7\">!</span><span style=\"background-color:#f7f7f7\"><br></span><span style=\"background-color:#f7f7f7\">A</span><span style=\"background-color:#f4a582\">n</span><span style=\"background-color:#fddbc7\">y</span><span style=\"background-color:#fddbc7\">t</span><span style=\"background-color:#fddbc7\">h</span><span style=\"background-color:#fddbc7\">i</span><span style=\"background-color:#fddbc7\">n</span><span style=\"background-color:#fddbc7\">g</span><span style=\"background-color:#fddbc7\"> </span><span style=\"background-color:#f7f7f7\">y</span><span style=\"background-color:#f7f7f7\">o</span><span style=\"background-color:#f7f7f7\">u</span><span style=\"background-color:#fddbc7\"> </span><span style=\"background-color:#f7f7f7\">h</span><span style=\"background-color:#fddbc7\">a</span><span style=\"background-color:#f7f7f7\">v</span><span style=\"background-color:#fddbc7\">e</span><span style=\"background-color:#fddbc7\"> </span><span style=\"background-color:#fddbc7\">t</span><span style=\"background-color:#fddbc7\">o</span><span style=\"background-color:#f4a582\"> </span><span style=\"background-color:#fddbc7\">g</span><span style=\"background-color:#f4a582\">e</span><span style=\"background-color:#fddbc7\">t</span><span style=\"background-color:#fddbc7\"> </span><span style=\"background-color:#fddbc7\">i</span><span style=\"background-color:#fddbc7\">t</span><span style=\"background-color:#f7f7f7\"> </span><span style=\"background-color:#f7f7f7\">w</span><span style=\"background-color:#f4a582\">h</span><span style=\"background-color:#fddbc7\">e</span><span style=\"background-color:#fddbc7\">n</span><span style=\"background-color:#fddbc7\"> </span><span style=\"background-color:#fddbc7\">t</span><span style=\"background-color:#fddbc7\">h</span><span style=\"background-color:#fddbc7\">e</span><span style=\"background-color:#fddbc7\"> </span><span style=\"background-color:#f7f7f7\">p</span><span style=\"background-color:#fddbc7\">o</span><span style=\"background-color:#f7f7f7\">l</span><span style=\"background-color:#f7f7f7\">i</span><span style=\"background-color:#f7f7f7\">t</span><span style=\"background-color:#f7f7f7\">i</span><span style=\"background-color:#f7f7f7\">c</span><span style=\"background-color:#f7f7f7\">i</span><span style=\"background-color:#f7f7f7\">a</span><span style=\"background-color:#f7f7f7\">n</span><span style=\"background-color:#f7f7f7\">s</span><span style=\"background-color:#fddbc7\"> </span><span style=\"background-color:#f7f7f7\">i</span><span style=\"background-color:#fddbc7\">n</span><span style=\"background-color:#f7f7f7\">c</span><span style=\"background-color:#fddbc7\">r</span><span style=\"background-color:#fddbc7\">e</span><span style=\"background-color:#f7f7f7\">a</span><span style=\"background-color:#f7f7f7\">s</span><span style=\"background-color:#fddbc7\">e</span><span style=\"background-color:#fddbc7\"> </span><span style=\"background-color:#f7f7f7\">t</span><span style=\"background-color:#f7f7f7\">h</span><span style=\"background-color:#fddbc7\">e</span><span style=\"background-color:#fddbc7\"> </span><span style=\"background-color:#f7f7f7\">w</span><span style=\"background-color:#fddbc7\">o</span><span style=\"background-color:#f7f7f7\">r</span><span style=\"background-color:#f7f7f7\">l</span><span style=\"background-color:#f7f7f7\">d</span><span style=\"background-color:#f7f7f7\"> </span><span style=\"background-color:#f7f7f7\">w</span><span style=\"background-color:#fddbc7\">h</span><span style=\"background-color:#fddbc7\">e</span><span style=\"background-color:#f7f7f7\">n</span><span style=\"background-color:#fddbc7\"> </span><span style=\"background-color:#fddbc7\">y</span><span style=\"background-color:#f7f7f7\">o</span><span style=\"background-color:#f7f7f7\">u</span><span style=\"background-color:#f7f7f7\"> </span><span style=\"background-color:#f7f7f7\">w</span><span style=\"background-color:#f4a582\">o</span><span style=\"background-color:#f7f7f7\">u</span><span style=\"background-color:#f7f7f7\">l</span><span style=\"background-color:#fddbc7\">d</span><span style=\"background-color:#fddbc7\"> </span><span style=\"background-color:#fddbc7\">c</span><span style=\"background-color:#f7f7f7\">a</span><span style=\"background-color:#f7f7f7\">n</span><span style=\"background-color:#fddbc7\"> </span><span style=\"background-color:#fddbc7\">d</span><span style=\"background-color:#fddbc7\">o</span><span style=\"background-color:#f7f7f7\"> </span><span style=\"background-color:#d1e5f0\">w</span><span style=\"background-color:#f4a582\">e</span><span style=\"background-color:#f7f7f7\">l</span><span style=\"background-color:#fddbc7\">l</span><span style=\"background-color:#fddbc7\"> </span><span style=\"background-color:#f7f7f7\">t</span><span style=\"background-color:#f7f7f7\">h</span><span style=\"background-color:#f4a582\">e</span><span style=\"background-color:#fddbc7\"> </span><span style=\"background-color:#f7f7f7\">w</span><span style=\"background-color:#fddbc7\">o</span><span style=\"background-color:#f7f7f7\">r</span><span style=\"background-color:#f7f7f7\">l</span><span style=\"background-color:#f7f7f7\">d</span><span style=\"background-color:#f7f7f7\">.</span><span style=\"background-color:#d1e5f0\"> </span><span style=\"background-color:#d1e5f0\">T</span><span style=\"background-color:#f7f7f7\">h</span><span style=\"background-color:#fddbc7\">e</span><span style=\"background-color:#f7f7f7\"> </span><span style=\"background-color:#f7f7f7\">w</span><span style=\"background-color:#fddbc7\">a</span><span style=\"background-color:#f7f7f7\">r</span><span style=\"background-color:#f7f7f7\"> </span><span style=\"background-color:#f7f7f7\">t</span><span style=\"background-color:#f7f7f7\">o</span><span style=\"background-color:#fddbc7\"> </span><span style=\"background-color:#fddbc7\">s</span><span style=\"background-color:#fddbc7\">e</span><span style=\"background-color:#f7f7f7\">l</span><span style=\"background-color:#fddbc7\">l</span><span style=\"background-color:#fddbc7\"> </span><span style=\"background-color:#fddbc7\">o</span><span style=\"background-color:#f7f7f7\">n</span><span style=\"background-color:#f7f7f7\"> </span><span style=\"background-color:#f7f7f7\">h</span><span style=\"background-color:#fddbc7\">i</span><span style=\"background-color:#f7f7f7\">s</span><span style=\"background-color:#fddbc7\"> </span><span style=\"background-color:#f7f7f7\">f</span><span style=\"background-color:#f7f7f7\">r</span><span style=\"background-color:#f7f7f7\">i</span><span style=\"background-color:#f7f7f7\">e</span><span style=\"background-color:#f7f7f7\">n</span><span style=\"background-color:#f7f7f7\">d</span><span style=\"background-color:#fddbc7\"> </span><span style=\"background-color:#f7f7f7\">i</span><span style=\"background-color:#fddbc7\">s</span><span style=\"background-color:#fddbc7\"> </span><span style=\"background-color:#fddbc7\">s</span><span style=\"background-color:#f4a582\">t</span><span style=\"background-color:#fddbc7\">o</span><span style=\"background-color:#fddbc7\">p</span><span style=\"background-color:#f4a582\">p</span><span style=\"background-color:#f4a582\">i</span><span style=\"background-color:#f4a582\">n</span><span style=\"background-color:#fddbc7\">g</span><span style=\"background-color:#fddbc7\"> </span><span style=\"background-color:#f7f7f7\">i</span><span style=\"background-color:#fddbc7\">s</span><span style=\"background-color:#f7f7f7\"> </span><span style=\"background-color:#f7f7f7\">t</span><span style=\"background-color:#fddbc7\">h</span><span style=\"background-color:#f4a582\">e</span><span style=\"background-color:#fddbc7\">r</span><span style=\"background-color:#fddbc7\">e</span><span style=\"background-color:#f7f7f7\"> </span><span style=\"background-color:#f7f7f7\">a</span><span style=\"background-color:#f7f7f7\">r</span><span style=\"background-color:#fddbc7\">e</span><span style=\"background-color:#f7f7f7\"> </span><span style=\"background-color:#f7f7f7\">a</span><span style=\"background-color:#fddbc7\"> </span><span style=\"background-color:#f7f7f7\">g</span><span style=\"background-color:#f4a582\">r</span><span style=\"background-color:#f4a582\">e</span><span style=\"background-color:#fddbc7\">a</span><span style=\"background-color:#f7f7f7\">t</span><span style=\"background-color:#f7f7f7\"> </span><span style=\"background-color:#f7f7f7\">p</span><span style=\"background-color:#fddbc7\">e</span><span style=\"background-color:#f7f7f7\">o</span><span style=\"background-color:#d1e5f0\">p</span><span style=\"background-color:#fddbc7\">l</span><span style=\"background-color:#fddbc7\">e</span><span style=\"background-color:#f7f7f7\"> </span><span style=\"background-color:#f7f7f7\">i</span><span style=\"background-color:#fddbc7\">t</span><span style=\"background-color:#f7f7f7\">!</span><span style=\"background-color:#fddbc7\"><br></span><span style=\"background-color:#f7f7f7\">I</span><span style=\"background-color:#f4a582\">f</span><span style=\"background-color:#fddbc7\"> </span><span style=\"background-color:#f7f7f7\">y</span><span style=\"background-color:#fddbc7\">o</span><span style=\"background-color:#fddbc7\">u</span><span style=\"background-color:#fddbc7\"> </span><span style=\"background-color:#f7f7f7\">d</span><span style=\"background-color:#fddbc7\">i</span><span style=\"background-color:#fddbc7\">d</span><span style=\"background-color:#fddbc7\"> </span><span style=\"background-color:#f7f7f7\">a</span><span style=\"background-color:#fddbc7\">n</span><span style=\"background-color:#fddbc7\">d</span><span style=\"background-color:#fddbc7\"> </span><span style=\"background-color:#fddbc7\">t</span><span style=\"background-color:#fddbc7\">h</span><span style=\"background-color:#fddbc7\">a</span><span style=\"background-color:#fddbc7\">t</span><span style=\"background-color:#fddbc7\"> </span><span style=\"background-color:#fddbc7\">h</span><span style=\"background-color:#fddbc7\">e</span><span style=\"background-color:#f7f7f7\"> </span><span style=\"background-color:#f7f7f7\">h</span><span style=\"background-color:#fddbc7\">a</span><span style=\"background-color:#f7f7f7\">t</span><span style=\"background-color:#f7f7f7\"> </span><span style=\"background-color:#fddbc7\">t</span><span style=\"background-color:#fddbc7\">h</span><span style=\"background-color:#f4a582\">e</span><span style=\"background-color:#fddbc7\"> </span><span style=\"background-color:#fddbc7\">s</span><span style=\"background-color:#fddbc7\">u</span><span style=\"background-color:#f7f7f7\">b</span><span style=\"background-color:#f7f7f7\">s</span><span style=\"background-color:#fddbc7\">e</span><span style=\"background-color:#f7f7f7\">r</span><span style=\"background-color:#fddbc7\">s</span><span style=\"background-color:#f7f7f7\">t</span><span style=\"background-color:#f7f7f7\">i</span><span style=\"background-color:#fddbc7\">c</span><span style=\"background-color:#f7f7f7\"> </span><span style=\"background-color:#f7f7f7\">p</span><span style=\"background-color:#fddbc7\">e</span><span style=\"background-color:#f7f7f7\">o</span><span style=\"background-color:#f7f7f7\">p</span><span style=\"background-color:#fddbc7\">l</span><span style=\"background-color:#fddbc7\">e</span><span style=\"background-color:#f7f7f7\"> </span><span style=\"background-color:#f7f7f7\">o</span><span style=\"background-color:#fddbc7\">n</span><span style=\"background-color:#fddbc7\"> </span><span style=\"background-color:#fddbc7\">h</span><span style=\"background-color:#fddbc7\">e</span><span style=\"background-color:#f7f7f7\">r</span><span style=\"background-color:#fddbc7\"> </span><span style=\"background-color:#f7f7f7\">t</span><span style=\"background-color:#f7f7f7\">o</span><span style=\"background-color:#fddbc7\">p</span><span style=\"background-color:#f4a582\"> </span><span style=\"background-color:#fddbc7\">t</span><span style=\"background-color:#f7f7f7\">h</span><span style=\"background-color:#fddbc7\">e</span><span style=\"background-color:#fddbc7\"> </span><span style=\"background-color:#f7f7f7\">w</span><span style=\"background-color:#fddbc7\">o</span><span style=\"background-color:#f7f7f7\">r</span><span style=\"background-color:#f7f7f7\">l</span><span style=\"background-color:#f7f7f7\">d</span><span style=\"background-color:#f7f7f7\"> </span><span style=\"background-color:#f7f7f7\">o</span><span style=\"background-color:#f7f7f7\">n</span><span style=\"background-color:#f7f7f7\"> </span><span style=\"background-color:#f7f7f7\">@</span><span style=\"background-color:#f7f7f7\">B</span><span style=\"background-color:#f7f7f7\">a</span><span style=\"background-color:#f7f7f7\">r</span><span style=\"background-color:#f7f7f7\">a</span><span style=\"background-color:#d1e5f0\">c</span><span style=\"background-color:#f7f7f7\">k</span><span style=\"background-color:#f7f7f7\">O</span><span style=\"background-color:#f7f7f7\">b</span><span style=\"background-color:#f7f7f7\">a</span><span style=\"background-color:#fddbc7\">m</span><span style=\"background-color:#f7f7f7\">a</span><span style=\"background-color:#fddbc7\">'</span><span style=\"background-color:#fddbc7\">s</span><span style=\"background-color:#fddbc7\"> </span><span style=\"background-color:#fddbc7\">p</span><span style=\"background-color:#f4a582\">o</span><span style=\"background-color:#fddbc7\">s</span><span style=\"background-color:#f7f7f7\">i</span><span style=\"background-color:#fddbc7\">t</span><span style=\"background-color:#fddbc7\">i</span><span style=\"background-color:#fddbc7\">v</span><span style=\"background-color:#f4a582\">e</span><span style=\"background-color:#fddbc7\"> </span><span style=\"background-color:#f7f7f7\">a</span><span style=\"background-color:#fddbc7\">r</span><span style=\"background-color:#fddbc7\">e</span><span style=\"background-color:#f7f7f7\"> </span><span style=\"background-color:#f7f7f7\">a</span><span style=\"background-color:#fddbc7\"> </span><span style=\"background-color:#f7f7f7\">b</span><span style=\"background-color:#fddbc7\">i</span><span style=\"background-color:#fddbc7\">g</span><span style=\"background-color:#fddbc7\"> </span><span style=\"background-color:#d1e5f0\">t</span><span style=\"background-color:#f7f7f7\">r</span><span style=\"background-color:#fddbc7\">a</span><span style=\"background-color:#f7f7f7\">v</span><span style=\"background-color:#fddbc7\">e</span><span style=\"background-color:#fddbc7\">l</span><span style=\"background-color:#fddbc7\"> </span><span style=\"background-color:#f7f7f7\">f</span><span style=\"background-color:#f7f7f7\">r</span><span style=\"background-color:#f7f7f7\">a</span><span style=\"background-color:#f7f7f7\">u</span><span style=\"background-color:#f7f7f7\">d</span><span style=\"background-color:#fddbc7\">-</span><span style=\"background-color:#fddbc7\">o</span><span style=\"background-color:#f7f7f7\">n</span><span style=\"background-color:#fddbc7\"> </span><span style=\"background-color:#fddbc7\">t</span><span style=\"background-color:#f7f7f7\">h</span><span style=\"background-color:#fddbc7\">e</span><span style=\"background-color:#fddbc7\"> </span><span style=\"background-color:#f7f7f7\">w</span><span style=\"background-color:#fddbc7\">a</span><span style=\"background-color:#f7f7f7\">y</span><span style=\"background-color:#f7f7f7\"> </span><span style=\"background-color:#f7f7f7\">t</span><span style=\"background-color:#f7f7f7\">o</span><span style=\"background-color:#fddbc7\"> </span><span style=\"background-color:#f7f7f7\">s</span><span style=\"background-color:#f7f7f7\">e</span><span style=\"background-color:#d1e5f0\">e</span><span style=\"background-color:#f7f7f7\">.</span><span style=\"background-color:#d1e5f0\"><br></span><span style=\"background-color:#f7f7f7\">W</span><span style=\"background-color:#f4a582\">e</span><span style=\"background-color:#fddbc7\"> </span><span style=\"background-color:#f7f7f7\">a</span><span style=\"background-color:#fddbc7\">r</span><span style=\"background-color:#fddbc7\">e</span><span style=\"background-color:#f7f7f7\"> </span><span style=\"background-color:#f7f7f7\">a</span><span style=\"background-color:#fddbc7\">l</span><span style=\"background-color:#fddbc7\">l</span><span style=\"background-color:#fddbc7\"> </span><span style=\"background-color:#fddbc7\">o</span><span style=\"background-color:#f7f7f7\">n</span><span style=\"background-color:#f7f7f7\">l</span><span style=\"background-color:#fddbc7\">y</span><span style=\"background-color:#f7f7f7\"> </span><span style=\"background-color:#f7f7f7\">a</span><span style=\"background-color:#fddbc7\">s</span><span style=\"background-color:#fddbc7\"> </span><span style=\"background-color:#f7f7f7\">s</span><span style=\"background-color:#fddbc7\">t</span><span style=\"background-color:#f7f7f7\">o</span><span style=\"background-color:#fddbc7\">r</span><span style=\"background-color:#fddbc7\">i</span><span style=\"background-color:#fddbc7\">e</span><span style=\"background-color:#f7f7f7\">s</span><span style=\"background-color:#f7f7f7\"> </span><span style=\"background-color:#f7f7f7\">o</span><span style=\"background-color:#f7f7f7\">n</span><span style=\"background-color:#fddbc7\"> </span><span style=\"background-color:#fddbc7\">t</span><span style=\"background-color:#f7f7f7\">h</span><span style=\"background-color:#fddbc7\">e</span><span style=\"background-color:#fddbc7\"> </span><span style=\"background-color:#f7f7f7\">w</span><span style=\"background-color:#fddbc7\">h</span><span style=\"background-color:#fddbc7\">e</span><span style=\"background-color:#f7f7f7\">r</span><span style=\"background-color:#fddbc7\">e</span><span style=\"background-color:#fddbc7\"> </span><span style=\"background-color:#f7f7f7\">y</span><span style=\"background-color:#f7f7f7\">o</span><span style=\"background-color:#fddbc7\">u</span><span style=\"background-color:#fddbc7\"> </span><span style=\"background-color:#f7f7f7\">w</span><span style=\"background-color:#f4a582\">o</span><span style=\"background-color:#f7f7f7\">n</span><span style=\"background-color:#f7f7f7\">t</span><span style=\"background-color:#fddbc7\">e</span><span style=\"background-color:#fddbc7\">r</span><span style=\"background-color:#fddbc7\"> </span><span style=\"background-color:#f7f7f7\">t</span><span style=\"background-color:#f7f7f7\">h</span><span style=\"background-color:#fddbc7\">a</span><span style=\"background-color:#fddbc7\">t</span><span style=\"background-color:#fddbc7\"> </span><span style=\"background-color:#f7f7f7\">i</span><span style=\"background-color:#fddbc7\">s</span><span style=\"background-color:#f7f7f7\"> </span><span style=\"background-color:#f7f7f7\">t</span><span style=\"background-color:#fddbc7\">h</span><span style=\"background-color:#f4a582\">e</span><span style=\"background-color:#fddbc7\"> </span><span style=\"background-color:#fddbc7\">w</span><span style=\"background-color:#fddbc7\">o</span><span style=\"background-color:#f7f7f7\">r</span><span style=\"background-color:#f7f7f7\">l</span><span style=\"background-color:#fddbc7\">d</span><span style=\"background-color:#f7f7f7\"> </span><span style=\"background-color:#f7f7f7\">i</span><span style=\"background-color:#fddbc7\">s</span><span style=\"background-color:#f7f7f7\"> </span><span style=\"background-color:#f7f7f7\">t</span><span style=\"background-color:#f7f7f7\">h</span><span style=\"background-color:#fddbc7\">i</span><span style=\"background-color:#f4a582\">s</span><span style=\"background-color:#fddbc7\"> </span><span style=\"background-color:#f7f7f7\">c</span><span style=\"background-color:#f7f7f7\">o</span><span style=\"background-color:#f7f7f7\">u</span><span style=\"background-color:#f7f7f7\">n</span><span style=\"background-color:#fddbc7\">t</span><span style=\"background-color:#fddbc7\">r</span><span style=\"background-color:#fddbc7\">y</span><span style=\"background-color:#f7f7f7\">.</span><span style=\"background-color:#f7f7f7\"> </span><span style=\"background-color:#f7f7f7\">T</span><span style=\"background-color:#fddbc7\">h</span><span style=\"background-color:#fddbc7\">e</span><span style=\"background-color:#fddbc7\"> </span><span style=\"background-color:#f7f7f7\">p</span><span style=\"background-color:#fddbc7\">e</span><span style=\"background-color:#f7f7f7\">o</span><span style=\"background-color:#f7f7f7\">p</span><span style=\"background-color:#fddbc7\">l</span><span style=\"background-color:#fddbc7\">e</span><span style=\"background-color:#f7f7f7\"> </span><span style=\"background-color:#f7f7f7\">o</span><span style=\"background-color:#f7f7f7\">f</span><span style=\"background-color:#fddbc7\"> </span><span style=\"background-color:#f7f7f7\">t</span><span style=\"background-color:#f7f7f7\">w</span><span style=\"background-color:#f4a582\">i</span><span style=\"background-color:#f4a582\">e</span><span style=\"background-color:#f7f7f7\">t</span><span style=\"background-color:#d1e5f0\"> </span><span style=\"background-color:#f7f7f7\">a</span><span style=\"background-color:#fddbc7\">n</span><span style=\"background-color:#fddbc7\">d</span><span style=\"background-color:#fddbc7\"> </span><span style=\"background-color:#fddbc7\">a</span><span style=\"background-color:#f7f7f7\">l</span><span style=\"background-color:#fddbc7\">l</span><span style=\"background-color:#fddbc7\"> </span><span style=\"background-color:#f7f7f7\">o</span><span style=\"background-color:#f7f7f7\">f</span><span style=\"background-color:#f7f7f7\"> </span><span style=\"background-color:#f7f7f7\">m</span><span style=\"background-color:#f7f7f7\">o</span><span style=\"background-color:#f7f7f7\">n</span><span style=\"background-color:#fddbc7\">e</span><span style=\"background-color:#fddbc7\">y</span><span style=\"background-color:#f7f7f7\"> </span><span style=\"background-color:#f7f7f7\">t</span><span style=\"background-color:#f7f7f7\">h</span><span style=\"background-color:#fddbc7\">a</span><span style=\"background-color:#fddbc7\">t</span><span style=\"background-color:#fddbc7\"> </span><span style=\"background-color:#f7f7f7\">w</span><span style=\"background-color:#f4a582\">i</span><span style=\"background-color:#fddbc7\">l</span><span style=\"background-color:#fddbc7\">l</span><span style=\"background-color:#fddbc7\"> </span><span style=\"background-color:#f7f7f7\">s</span><span style=\"background-color:#fddbc7\">t</span><span style=\"background-color:#f7f7f7\">o</span><span style=\"background-color:#f7f7f7\">p</span><span style=\"background-color:#fddbc7\"> </span><span style=\"background-color:#f7f7f7\">t</span><span style=\"background-color:#f7f7f7\">h</span><span style=\"background-color:#fddbc7\">e</span><span style=\"background-color:#f7f7f7\"> </span><span style=\"background-color:#f7f7f7\">m</span><span style=\"background-color:#f7f7f7\">e</span><span style=\"background-color:#f7f7f7\">d</span><span style=\"background-color:#f7f7f7\">i</span><span style=\"background-color:#fddbc7\">a</span><span style=\"background-color:#f7f7f7\">!</span><span style=\"background-color:#f7f7f7\"><br></span><span style=\"background-color:#f7f7f7\">W</span><span style=\"background-color:#f4a582\">h</span><span style=\"background-color:#fddbc7\">i</span><span style=\"background-color:#fddbc7\">l</span><span style=\"background-color:#f4a582\">e</span><span style=\"background-color:#fddbc7\"> </span><span style=\"background-color:#fddbc7\">@</span><span style=\"background-color:#f7f7f7\">T</span><span style=\"background-color:#f7f7f7\">r</span><span style=\"background-color:#fddbc7\">u</span><span style=\"background-color:#f7f7f7\">m</span><span style=\"background-color:#f7f7f7\">p</span><span style=\"background-color:#f4a582\">T</span><span style=\"background-color:#f4a582\">o</span><span style=\"background-color:#f4a582\">w</span><span style=\"background-color:#f4a582\">e</span><span style=\"background-color:#fddbc7\">r</span><span style=\"background-color:#fddbc7\">N</span><span style=\"background-color:#fddbc7\">Y</span><span style=\"background-color:#f7f7f7\"> </span><span style=\"background-color:#f7f7f7\"> </span><span style=\"background-color:#f7f7f7\"> </span><span style=\"background-color:#f7f7f7\"> </span><span style=\"background-color:#fddbc7\">I</span><span style=\"background-color:#f4a582\"> </span><span style=\"background-color:#f7f7f7\">a</span><span style=\"background-color:#fddbc7\">m</span><span style=\"background-color:#fddbc7\"> </span><span style=\"background-color:#f7f7f7\">t</span><span style=\"background-color:#fddbc7\">o</span><span style=\"background-color:#fddbc7\"> </span><span style=\"background-color:#fddbc7\">d</span><span style=\"background-color:#fddbc7\">o</span><span style=\"background-color:#f7f7f7\"> </span><span style=\"background-color:#d1e5f0\">i</span><span style=\"background-color:#fddbc7\">s</span><span style=\"background-color:#fddbc7\"> </span><span style=\"background-color:#fddbc7\">b</span><span style=\"background-color:#f4a582\">e</span><span style=\"background-color:#fddbc7\">i</span><span style=\"background-color:#fddbc7\">n</span><span style=\"background-color:#fddbc7\">g</span><span style=\"background-color:#fddbc7\"> </span><span style=\"background-color:#fddbc7\">t</span><span style=\"background-color:#fddbc7\">o</span><span style=\"background-color:#fddbc7\">t</span><span style=\"background-color:#fddbc7\">a</span><span style=\"background-color:#fddbc7\">l</span><span style=\"background-color:#fddbc7\">l</span><span style=\"background-color:#fddbc7\">y</span><span style=\"background-color:#f7f7f7\"> </span><span style=\"background-color:#f7f7f7\">s</span><span style=\"background-color:#fddbc7\">t</span><span style=\"background-color:#fddbc7\">i</span><span style=\"background-color:#fddbc7\">f</span><span style=\"background-color:#fddbc7\">t</span><span style=\"background-color:#f7f7f7\"> </span><span style=\"background-color:#f7f7f7\">a</span><span style=\"background-color:#fddbc7\">t</span><span style=\"background-color:#fddbc7\"> </span><span style=\"background-color:#fddbc7\">a</span><span style=\"background-color:#fddbc7\">l</span><span style=\"background-color:#fddbc7\">l</span><span style=\"background-color:#fddbc7\"> </span><span style=\"background-color:#f7f7f7\">o</span><span style=\"background-color:#f7f7f7\">f</span><span style=\"background-color:#f7f7f7\"> </span><span style=\"background-color:#d1e5f0\">t</span><span style=\"background-color:#f7f7f7\">h</span><span style=\"background-color:#fddbc7\">e</span><span style=\"background-color:#fddbc7\">m</span><span style=\"background-color:#f7f7f7\"> </span><span style=\"background-color:#f7f7f7\">a</span><span style=\"background-color:#f7f7f7\">n</span><span style=\"background-color:#f7f7f7\">d</span><span style=\"background-color:#fddbc7\"> </span><span style=\"background-color:#fddbc7\">a</span><span style=\"background-color:#fddbc7\">n</span><span style=\"background-color:#f7f7f7\">o</span><span style=\"background-color:#fddbc7\">t</span><span style=\"background-color:#f7f7f7\">h</span><span style=\"background-color:#fddbc7\">e</span><span style=\"background-color:#f7f7f7\">r</span><span style=\"background-color:#fddbc7\"> </span><span style=\"background-color:#f7f7f7\">s</span><span style=\"background-color:#fddbc7\">t</span><span style=\"background-color:#f7f7f7\">a</span><span style=\"background-color:#fddbc7\">t</span><span style=\"background-color:#fddbc7\">e</span><span style=\"background-color:#fddbc7\">m</span><span style=\"background-color:#f7f7f7\">e</span><span style=\"background-color:#f7f7f7\">n</span><span style=\"background-color:#f7f7f7\">t</span><span style=\"background-color:#f7f7f7\">s</span><span style=\"background-color:#fddbc7\"> </span><span style=\"background-color:#f7f7f7\">o</span><span style=\"background-color:#f7f7f7\">n</span><span style=\"background-color:#f7f7f7\"> </span><span style=\"background-color:#f7f7f7\">m</span><span style=\"background-color:#f7f7f7\">e</span><span style=\"background-color:#f7f7f7\">e</span><span style=\"background-color:#f7f7f7\">t</span><span style=\"background-color:#f7f7f7\">!</span><span style=\"background-color:#f7f7f7\"><br></span><span style=\"background-color:#f7f7f7\">I</span><span style=\"background-color:#f4a582\">t</span><span style=\"background-color:#fddbc7\">'</span><span style=\"background-color:#fddbc7\">s</span><span style=\"background-color:#f4a582\"> </span><span style=\"background-color:#fddbc7\">a</span><span style=\"background-color:#fddbc7\">l</span><span style=\"background-color:#fddbc7\">l</span><span style=\"background-color:#fddbc7\"> </span><span style=\"background-color:#f7f7f7\">o</span><span style=\"background-color:#f7f7f7\">u</span><span style=\"background-color:#f7f7f7\">r</span><span style=\"background-color:#f7f7f7\"> </span><span style=\"background-color:#f7f7f7\">c</span><span style=\"background-color:#f7f7f7\">o</span><span style=\"background-color:#f7f7f7\">u</span><span style=\"background-color:#f7f7f7\">n</span><span style=\"background-color:#fddbc7\">t</span><span style=\"background-color:#fddbc7\">r</span><span style=\"background-color:#fddbc7\">y</span><span style=\"background-color:#f7f7f7\"> </span><span style=\"background-color:#f7f7f7\">w</span><span style=\"background-color:#f4a582\">i</span><span style=\"background-color:#fddbc7\">l</span><span style=\"background-color:#fddbc7\">l</span><span style=\"background-color:#fddbc7\"> </span><span style=\"background-color:#f7f7f7\">b</span><span style=\"background-color:#f7f7f7\">e</span><span style=\"background-color:#f7f7f7\"> </span><span style=\"background-color:#d1e5f0\">t</span><span style=\"background-color:#f7f7f7\">o</span><span style=\"background-color:#fddbc7\">t</span><span style=\"background-color:#fddbc7\">a</span><span style=\"background-color:#fddbc7\">l</span><span style=\"background-color:#fddbc7\">l</span><span style=\"background-color:#fddbc7\">y</span><span style=\"background-color:#f7f7f7\"> </span><span style=\"background-color:#f7f7f7\">o</span><span style=\"background-color:#f7f7f7\">f</span><span style=\"background-color:#f7f7f7\">f</span><span style=\"background-color:#f7f7f7\">i</span><span style=\"background-color:#f7f7f7\">c</span><span style=\"background-color:#f7f7f7\">e</span><span style=\"background-color:#f7f7f7\"> </span><span style=\"background-color:#f7f7f7\">f</span><span style=\"background-color:#fddbc7\">o</span><span style=\"background-color:#f7f7f7\">r</span><span style=\"background-color:#fddbc7\"> </span><span style=\"background-color:#f7f7f7\">a</span><span style=\"background-color:#fddbc7\"> </span><span style=\"background-color:#f7f7f7\">r</span><span style=\"background-color:#fddbc7\">e</span><span style=\"background-color:#f7f7f7\">p</span><span style=\"background-color:#fddbc7\">e</span><span style=\"background-color:#f7f7f7\">n</span><span style=\"background-color:#f7f7f7\">t</span><span style=\"background-color:#f7f7f7\"> </span><span style=\"background-color:#f7f7f7\">o</span><span style=\"background-color:#f7f7f7\">f</span><span style=\"background-color:#f7f7f7\"> </span><span style=\"background-color:#f7f7f7\">m</span><span style=\"background-color:#f7f7f7\">y</span><span style=\"background-color:#f7f7f7\"> </span><span style=\"background-color:#f7f7f7\">f</span><span style=\"background-color:#fddbc7\">r</span><span style=\"background-color:#f7f7f7\">a</span><span style=\"background-color:#f7f7f7\">e</span><span style=\"background-color:#f7f7f7\">d</span><span style=\"background-color:#fddbc7\">.</span><span style=\"background-color:#f7f7f7\"> </span><span style=\"background-color:#f7f7f7\">I</span><span style=\"background-color:#fddbc7\"> </span><span style=\"background-color:#f7f7f7\">w</span><span style=\"background-color:#f4a582\">o</span><span style=\"background-color:#fddbc7\">n</span><span style=\"background-color:#fddbc7\">d</span><span style=\"background-color:#f4a582\">e</span><span style=\"background-color:#fddbc7\">r</span><span style=\"background-color:#fddbc7\"> </span><span style=\"background-color:#f7f7f7\">h</span><span style=\"background-color:#fddbc7\">e</span><span style=\"background-color:#f7f7f7\"> </span><span style=\"background-color:#f7f7f7\">s</span><span style=\"background-color:#fddbc7\">h</span><span style=\"background-color:#fddbc7\">o</span><span style=\"background-color:#fddbc7\">u</span><span style=\"background-color:#fddbc7\">l</span><span style=\"background-color:#fddbc7\">d</span><span style=\"background-color:#fddbc7\"> </span><span style=\"background-color:#f7f7f7\">s</span><span style=\"background-color:#fddbc7\">t</span><span style=\"background-color:#f7f7f7\">i</span><span style=\"background-color:#fddbc7\">l</span><span style=\"background-color:#fddbc7\">l</span><span style=\"background-color:#fddbc7\"> </span><span style=\"background-color:#f7f7f7\">w</span><span style=\"background-color:#f4a582\">i</span><span style=\"background-color:#fddbc7\">l</span><span style=\"background-color:#fddbc7\">l</span><span style=\"background-color:#fddbc7\"> </span><span style=\"background-color:#f7f7f7\">s</span><span style=\"background-color:#f7f7f7\">a</span><span style=\"background-color:#f7f7f7\">y</span><span style=\"background-color:#f7f7f7\"> </span><span style=\"background-color:#f7f7f7\">i</span><span style=\"background-color:#fddbc7\">t</span><span style=\"background-color:#f7f7f7\"> </span><span style=\"background-color:#f7f7f7\">h</span><span style=\"background-color:#fddbc7\">a</span><span style=\"background-color:#f7f7f7\">s</span><span style=\"background-color:#f7f7f7\"> </span><span style=\"background-color:#f7f7f7\">t</span><span style=\"background-color:#fddbc7\">o</span><span style=\"background-color:#fddbc7\"> </span><span style=\"background-color:#fddbc7\">b</span><span style=\"background-color:#fddbc7\">e</span><span style=\"background-color:#f7f7f7\">l</span><span style=\"background-color:#f7f7f7\">i</span><span style=\"background-color:#f7f7f7\">e</span><span style=\"background-color:#f7f7f7\">v</span><span style=\"background-color:#fddbc7\">e</span><span style=\"background-color:#f7f7f7\"> </span><span style=\"background-color:#f7f7f7\">i</span><span style=\"background-color:#fddbc7\">f</span><span style=\"background-color:#f7f7f7\"> </span><span style=\"background-color:#f7f7f7\">w</span><span style=\"background-color:#f4a582\">e</span><span style=\"background-color:#fddbc7\"> </span><span style=\"background-color:#f7f7f7\">a</span><span style=\"background-color:#fddbc7\">r</span><span style=\"background-color:#fddbc7\">e</span><span style=\"background-color:#f7f7f7\"> </span><span style=\"background-color:#f7f7f7\">s</span><span style=\"background-color:#fddbc7\">o</span><span style=\"background-color:#fddbc7\"> </span><span style=\"background-color:#f7f7f7\">d</span><span style=\"background-color:#fddbc7\">i</span><span style=\"background-color:#fddbc7\">s</span><span style=\"background-color:#f7f7f7\">a</span><span style=\"background-color:#f7f7f7\">s</span><span style=\"background-color:#f7f7f7\">t</span><span style=\"background-color:#f7f7f7\">i</span><span style=\"background-color:#fddbc7\">o</span><span style=\"background-color:#fddbc7\">n</span><span style=\"background-color:#f7f7f7\"> </span><span style=\"background-color:#f7f7f7\">t</span><span style=\"background-color:#f7f7f7\">h</span><span style=\"background-color:#fddbc7\">a</span><span style=\"background-color:#fddbc7\">n</span><span style=\"background-color:#fddbc7\"> </span><span style=\"background-color:#f7f7f7\">y</span><span style=\"background-color:#f7f7f7\">o</span><span style=\"background-color:#f7f7f7\">u</span><span style=\"background-color:#f7f7f7\"> </span><span style=\"background-color:#f7f7f7\">s</span><span style=\"background-color:#fddbc7\">e</span><span style=\"background-color:#f7f7f7\">e</span><span style=\"background-color:#f7f7f7\"> </span><span style=\"background-color:#f7f7f7\">w</span><span style=\"background-color:#f4a582\">h</span><span style=\"background-color:#fddbc7\">a</span><span style=\"background-color:#fddbc7\">t</span><span style=\"background-color:#fddbc7\"> </span><span style=\"background-color:#fddbc7\">y</span><span style=\"background-color:#f7f7f7\">o</span><span style=\"background-color:#f7f7f7\">u</span><span style=\"background-color:#f7f7f7\">'</span><span style=\"background-color:#f7f7f7\">r</span><span style=\"background-color:#fddbc7\">e</span><span style=\"background-color:#f7f7f7\"> </span><span style=\"background-color:#f7f7f7\">g</span><span style=\"background-color:#f4a582\">o</span><span style=\"background-color:#f4a582\">i</span><span style=\"background-color:#f4a582\">n</span><span style=\"background-color:#fddbc7\">g</span><span style=\"background-color:#fddbc7\">!</span><span style=\"background-color:#f7f7f7\"><br></span><span style=\"background-color:#f7f7f7\">I</span><span style=\"background-color:#fddbc7\"> </span><span style=\"background-color:#f7f7f7\">w</span><span style=\"background-color:#f4a582\">o</span><span style=\"background-color:#fddbc7\">n</span><span style=\"background-color:#fddbc7\">d</span><span style=\"background-color:#f4a582\">e</span><span style=\"background-color:#fddbc7\">r</span><span style=\"background-color:#fddbc7\"> </span><span style=\"background-color:#fddbc7\">w</span><span style=\"background-color:#f4a582\">h</span><span style=\"background-color:#fddbc7\">e</span><span style=\"background-color:#f7f7f7\">n</span><span style=\"background-color:#fddbc7\"> </span><span style=\"background-color:#fddbc7\">t</span><span style=\"background-color:#fddbc7\">h</span><span style=\"background-color:#f4a582\">e</span><span style=\"background-color:#fddbc7\"> </span><span style=\"background-color:#f7f7f7\">s</span><span style=\"background-color:#fddbc7\">e</span><span style=\"background-color:#f7f7f7\">c</span><span style=\"background-color:#f7f7f7\">u</span><span style=\"background-color:#f7f7f7\">r</span><span style=\"background-color:#fddbc7\">i</span><span style=\"background-color:#fddbc7\">t</span><span style=\"background-color:#f7f7f7\">y</span><span style=\"background-color:#f7f7f7\"> </span><span style=\"background-color:#f7f7f7\">a</span><span style=\"background-color:#fddbc7\">r</span><span style=\"background-color:#fddbc7\">e</span><span style=\"background-color:#f7f7f7\"> </span><span style=\"background-color:#f7f7f7\">a</span><span style=\"background-color:#fddbc7\"> </span><span style=\"background-color:#f7f7f7\">t</span><span style=\"background-color:#fddbc7\">e</span><span style=\"background-color:#fddbc7\">r</span><span style=\"background-color:#f4a582\">r</span><span style=\"background-color:#fddbc7\">i</span><span style=\"background-color:#fddbc7\">f</span><span style=\"background-color:#f7f7f7\">i</span><span style=\"background-color:#fddbc7\">c</span><span style=\"background-color:#f7f7f7\"> </span><span style=\"background-color:#f7f7f7\">p</span><span style=\"background-color:#f4a582\">e</span><span style=\"background-color:#fddbc7\">o</span><span style=\"background-color:#f7f7f7\">p</span><span style=\"background-color:#fddbc7\">l</span><span style=\"background-color:#fddbc7\">e</span><span style=\"background-color:#f7f7f7\">.</span><span style=\"background-color:#f7f7f7\"> </span><span style=\"background-color:#f7f7f7\">T</span><span style=\"background-color:#fddbc7\">h</span><span style=\"background-color:#f4a582\">a</span><span style=\"background-color:#fddbc7\">t</span><span style=\"background-color:#fddbc7\"> </span><span style=\"background-color:#fddbc7\">i</span><span style=\"background-color:#fddbc7\">s</span><span style=\"background-color:#fddbc7\"> </span><span style=\"background-color:#f7f7f7\">s</span><span style=\"background-color:#fddbc7\">o</span><span style=\"background-color:#fddbc7\"> </span><span style=\"background-color:#f7f7f7\">s</span><span style=\"background-color:#fddbc7\">u</span><span style=\"background-color:#fddbc7\">c</span><span style=\"background-color:#f7f7f7\">h</span><span style=\"background-color:#f7f7f7\"> </span><span style=\"background-color:#f7f7f7\">a</span><span style=\"background-color:#fddbc7\"> </span><span style=\"background-color:#f7f7f7\">t</span><span style=\"background-color:#fddbc7\">e</span><span style=\"background-color:#f4a582\">r</span><span style=\"background-color:#f4a582\">r</span><span style=\"background-color:#fddbc7\">i</span><span style=\"background-color:#fddbc7\">b</span><span style=\"background-color:#fddbc7\">l</span><span style=\"background-color:#fddbc7\">e</span><span style=\"background-color:#f7f7f7\"> </span><span style=\"background-color:#f7f7f7\">p</span><span style=\"background-color:#f4a582\">o</span><span style=\"background-color:#fddbc7\">l</span><span style=\"background-color:#fddbc7\">i</span><span style=\"background-color:#fddbc7\">t</span><span style=\"background-color:#f7f7f7\">i</span><span style=\"background-color:#fddbc7\">c</span><span style=\"background-color:#f7f7f7\">i</span><span style=\"background-color:#f7f7f7\">a</span><span style=\"background-color:#f7f7f7\">n</span><span style=\"background-color:#f7f7f7\"> </span><span style=\"background-color:#f7f7f7\">i</span><span style=\"background-color:#fddbc7\">n</span><span style=\"background-color:#f7f7f7\"> </span><span style=\"background-color:#fddbc7\">m</span><span style=\"background-color:#fddbc7\">a</span><span style=\"background-color:#fddbc7\">d</span><span style=\"background-color:#fddbc7\">e</span><span style=\"background-color:#fddbc7\"> </span><span style=\"background-color:#f7f7f7\">a</span><span style=\"background-color:#fddbc7\"> </span><span style=\"background-color:#f7f7f7\">s</span><span style=\"background-color:#fddbc7\">e</span><span style=\"background-color:#f7f7f7\">c</span><span style=\"background-color:#f7f7f7\">u</span><span style=\"background-color:#f7f7f7\">r</span><span style=\"background-color:#fddbc7\">i</span><span style=\"background-color:#fddbc7\">t</span><span style=\"background-color:#f7f7f7\">y</span><span style=\"background-color:#f7f7f7\"> </span><span style=\"background-color:#f7f7f7\">o</span><span style=\"background-color:#f7f7f7\">n</span><span style=\"background-color:#f7f7f7\"> </span><span style=\"background-color:#fddbc7\">t</span><span style=\"background-color:#f7f7f7\">h</span><span style=\"background-color:#fddbc7\">e</span><span style=\"background-color:#f7f7f7\"> </span><span style=\"background-color:#f7f7f7\">c</span><span style=\"background-color:#f7f7f7\">o</span><span style=\"background-color:#f7f7f7\">u</span><span style=\"background-color:#f7f7f7\">n</span><span style=\"background-color:#fddbc7\">t</span><span style=\"background-color:#fddbc7\">r</span><span style=\"background-color:#fddbc7\">y</span><span style=\"background-color:#f7f7f7\">-</span><span style=\"background-color:#fddbc7\">i</span><span style=\"background-color:#fddbc7\">n</span><span style=\"background-color:#fddbc7\"> </span><span style=\"background-color:#fddbc7\">t</span><span style=\"background-color:#fddbc7\">h</span><span style=\"background-color:#f4a582\">e</span><span style=\"background-color:#fddbc7\"> </span><span style=\"background-color:#f7f7f7\">w</span><span style=\"background-color:#fddbc7\">o</span><span style=\"background-color:#f7f7f7\">r</span><span style=\"background-color:#f7f7f7\">l</span><span style=\"background-color:#f7f7f7\">d</span><span style=\"background-color:#f7f7f7\"> </span><span style=\"background-color:#f7f7f7\">w</span><span style=\"background-color:#fddbc7\">i</span><span style=\"background-color:#fddbc7\">t</span><span style=\"background-color:#f7f7f7\">h</span><span style=\"background-color:#fddbc7\"> </span><span style=\"background-color:#f7f7f7\">a</span><span style=\"background-color:#f7f7f7\"> </span><span style=\"background-color:#f7f7f7\">l</span><span style=\"background-color:#fddbc7\">i</span><span style=\"background-color:#fddbc7\">f</span><span style=\"background-color:#fddbc7\">e</span><span style=\"background-color:#f7f7f7\"> </span></span>"
      ],
      "text/plain": [
       "<IPython.core.display.HTML object>"
      ]
     },
     "execution_count": 49,
     "metadata": {},
     "output_type": "execute_result"
    }
   ],
   "source": [
    "HTML(make_colored_text(samp, states, cell_id=200, layer_id=0))"
   ]
  },
  {
   "cell_type": "code",
   "execution_count": 50,
   "metadata": {},
   "outputs": [
    {
     "name": "stdout",
     "output_type": "stream",
     "text": [
      "Number of layers: 2\n",
      "Number of memory cells (LSTM size): 512\n",
      "Saving trump_i4320_l512_ca_L2_S512_E20_0.html...\n",
      "Saving trump_i4320_l512_ca_L2_S512_E20_1.html...\n"
     ]
    }
   ],
   "source": [
    "save_lstm_vis(\"trump_i4320_l512_ca_L2_S512_E20\", samp, states)"
   ]
  },
  {
   "cell_type": "code",
   "execution_count": null,
   "metadata": {
    "collapsed": true
   },
   "outputs": [],
   "source": []
  }
 ],
 "metadata": {
  "anaconda-cloud": {},
  "kernelspec": {
   "display_name": "Python 3",
   "language": "python",
   "name": "python3"
  },
  "language_info": {
   "codemirror_mode": {
    "name": "ipython",
    "version": 3
   },
   "file_extension": ".py",
   "mimetype": "text/x-python",
   "name": "python",
   "nbconvert_exporter": "python",
   "pygments_lexer": "ipython3",
   "version": "3.6.1"
  }
 },
 "nbformat": 4,
 "nbformat_minor": 2
}
