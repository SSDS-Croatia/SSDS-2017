{
 "cells": [
  {
   "cell_type": "markdown",
   "metadata": {},
   "source": [
    "# Data Science Summer School - Split '17\n",
    "\n",
    "**Prerequisites**: Please download the following [zip archive](https://www.dropbox.com/s/2eaunmgmvc10n6q/trump_tb_20_i3880_l512_1.327.ckpt.zip?dl=0) which contains checkpoint you will need in this exercise and put it in `assets\\checkpoints\\ssds\\` folder."
   ]
  },
  {
   "cell_type": "markdown",
   "metadata": {},
   "source": [
    "# 3. Character-wise language modeling with multi-layer LSTMs\n",
    "\n",
    "This hands-on session is based on two tutorial notebooks [*Intro to Recurrent Networks (Character-wise RNN)*](https://github.com/udacity/deep-learning/tree/master/intro-to-rnns) and [*Tensorboard*](https://github.com/udacity/deep-learning/tree/master/tensorboard) from Udacity's [Deep Learning Nanodegree Foundation](https://www.udacity.com/course/deep-learning-nanodegree-foundation--nd101) program.\n",
    "\n",
    "This notebook implements a multi-layer LSTMs network for training/sampling from character-level language models. The model takes a text file as input and trains the network that learns to predict the next character in a sequence. The network can then be used to generate text character by character that will look like the original training data. This network is based on Andrej Karpathy's [post on RNNs](http://karpathy.github.io/2015/05/21/rnn-effectiveness/), which became standard example for explaining peculiarities behind RNN models.\n",
    "\n",
    "Good description of LSTM architecture can be found in the article [*Understanding LSTM Networks*](http://colah.github.io/posts/2015-08-Understanding-LSTMs/). "
   ]
  },
  {
   "cell_type": "markdown",
   "metadata": {},
   "source": [
    "![Character-wise RNN language model](assets/images/CharRNN.png)"
   ]
  },
  {
   "cell_type": "code",
   "execution_count": 1,
   "metadata": {
    "collapsed": true
   },
   "outputs": [],
   "source": [
    "import time\n",
    "from collections import namedtuple\n",
    "\n",
    "import numpy as np\n",
    "import tensorflow as tf\n",
    "import random\n",
    "tf.logging.set_verbosity(tf.logging.ERROR)"
   ]
  },
  {
   "cell_type": "markdown",
   "metadata": {
    "collapsed": true
   },
   "source": [
    "## 3.1 Data preparation"
   ]
  },
  {
   "cell_type": "markdown",
   "metadata": {},
   "source": [
    "### Loading and encoding text\n",
    "\n",
    "We will train our language model on a complete collection of Donald Trump's tweets obtained from [Trump Twitter Archive](http://www.trumptwitterarchive.com/), which we already downloaded and made available in `PATH-TO-REPOSITORY/Day-3/assets/data/trump_tweets_ascii.txt`. First, we will load the text file and encode its characters as integers."
   ]
  },
  {
   "cell_type": "code",
   "execution_count": 3,
   "metadata": {},
   "outputs": [
    {
     "name": "stdout",
     "output_type": "stream",
     "text": [
      "Text size: 2167951\n",
      "Vocabulary size: 92\n",
      "*******************************\n",
      "Number of tweets: 20629\n",
      "Median size of a tweet: 117.0\n"
     ]
    }
   ],
   "source": [
    "with open('assets/data/trump_tweets_ascii.txt', 'r') as f:\n",
    "    text=f.read()\n",
    "\n",
    "# get set of characters contained in the loaded text file\n",
    "vocab = sorted(set(text))\n",
    "\n",
    "# encoding characters as integers\n",
    "vocab_to_int = {c: i for i, c in enumerate(vocab)}\n",
    "encoded_chars = np.array([vocab_to_int[c] for c in text], dtype=np.int32)\n",
    "\n",
    "# make dict for decoding intergers to corresponding characters\n",
    "int_to_vocab = dict(enumerate(vocab))\n",
    "\n",
    "print('Text size: {}'.format(len(encoded_chars)))\n",
    "print('Vocabulary size: {}'.format(len(vocab)))\n",
    "print('*******************************')\n",
    "print('Number of tweets: {}'.format(len(text.split('\\n'))))\n",
    "print('Median size of a tweet: {}'.format(np.percentile([len(t) for t in text.split('\\n')], 50)))"
   ]
  },
  {
   "cell_type": "markdown",
   "metadata": {},
   "source": [
    "In the above output, we can see that `trump_tweets_ascii.txt` contains in total 2 167 951 characters. Tweets contain 92 unique characters which will form a vocabulary for a language model."
   ]
  },
  {
   "cell_type": "markdown",
   "metadata": {},
   "source": [
    "Lets see first 300 characters of the provided text:"
   ]
  },
  {
   "cell_type": "code",
   "execution_count": 4,
   "metadata": {},
   "outputs": [
    {
     "data": {
      "text/plain": [
       "'We are building our future with American hands American labor American iron aluminum and steel. Happy #LaborDay! https://t.co/lyvtNfQ5IO\\nThe United States is considering in addition to other options stopping all trade with any country doing business with North Korea.\\nI will be meeting General Kelly '"
      ]
     },
     "execution_count": 4,
     "metadata": {},
     "output_type": "execute_result"
    }
   ],
   "source": [
    "text[:300]"
   ]
  },
  {
   "cell_type": "markdown",
   "metadata": {},
   "source": [
    "And see how they are encoded as integers:"
   ]
  },
  {
   "cell_type": "code",
   "execution_count": 5,
   "metadata": {},
   "outputs": [
    {
     "data": {
      "text/plain": [
       "array([53, 66,  1, 62, 79, 66,  1, 63, 82, 70, 73, 65, 70, 75, 68,  1, 76,\n",
       "       82, 79,  1, 67, 82, 81, 82, 79, 66,  1, 84, 70, 81, 69,  1, 31, 74,\n",
       "       66, 79, 70, 64, 62, 75,  1, 69, 62, 75, 65, 80,  1, 31, 74, 66, 79,\n",
       "       70, 64, 62, 75,  1, 73, 62, 63, 76, 79,  1, 31, 74, 66, 79, 70, 64,\n",
       "       62, 75,  1, 70, 79, 76, 75,  1, 62, 73, 82, 74, 70, 75, 82, 74,  1,\n",
       "       62, 75, 65,  1, 80, 81, 66, 66, 73, 14,  1, 38, 62, 77, 77, 86,  1,\n",
       "        4, 42, 62, 63, 76, 79, 34, 62, 86,  2,  1, 69, 81, 81, 77, 80, 26,\n",
       "       15, 15, 81, 14, 64, 76, 15, 73, 86, 83, 81, 44, 67, 47, 21, 39, 45,\n",
       "        0, 50, 69, 66,  1, 51, 75, 70, 81, 66, 65,  1, 49, 81, 62, 81, 66,\n",
       "       80,  1, 70, 80,  1, 64, 76, 75, 80, 70, 65, 66, 79, 70, 75, 68,  1,\n",
       "       70, 75,  1, 62, 65, 65, 70, 81, 70, 76, 75,  1, 81, 76,  1, 76, 81,\n",
       "       69, 66, 79,  1, 76, 77, 81, 70, 76, 75, 80,  1, 80, 81, 76, 77, 77,\n",
       "       70, 75, 68,  1, 62, 73, 73,  1, 81, 79, 62, 65, 66,  1, 84, 70, 81,\n",
       "       69,  1, 62, 75, 86,  1, 64, 76, 82, 75, 81, 79, 86,  1, 65, 76, 70,\n",
       "       75, 68,  1, 63, 82, 80, 70, 75, 66, 80, 80,  1, 84, 70, 81, 69,  1,\n",
       "       44, 76, 79, 81, 69,  1, 41, 76, 79, 66, 62, 14,  0, 39,  1, 84, 70,\n",
       "       73, 73,  1, 63, 66,  1, 74, 66, 66, 81, 70, 75, 68,  1, 37, 66, 75,\n",
       "       66, 79, 62, 73,  1, 41, 66, 73, 73, 86,  1])"
      ]
     },
     "execution_count": 5,
     "metadata": {},
     "output_type": "execute_result"
    }
   ],
   "source": [
    "encoded_chars[:300]"
   ]
  },
  {
   "cell_type": "markdown",
   "metadata": {},
   "source": [
    "### Making training and validation mini-batches\n",
    "\n",
    "Neural networks are trained by approximating the gradient of loss function with respect to the neuron weights, by looking at only a small subset of the data, also known as a mini-batch. Here is where we will make our mini-batches for training and validation. Now we need to split up the data into batches, as well as into training and validation sets. \n",
    "\n",
    "For the test we will observe how the network generates new text, thus we will not be using test set. We will feed a character into the network and sample a next one from the distribution over characters likely to come next. We feed the sampled character right back to get next character. Repeating this process character by character will generate new text, hopefully indistinguishable from [Donald Trump's](https://twitter.com/realdonaldtrump/status/881281755017355264) Twitter [tweets](https://twitter.com/realdonaldtrump/status/869858333477523458).\n"
   ]
  },
  {
   "cell_type": "markdown",
   "metadata": {},
   "source": [
    "![visualization of batches](assets/images/batches-visualization.png)"
   ]
  },
  {
   "cell_type": "code",
   "execution_count": 6,
   "metadata": {
    "collapsed": true
   },
   "outputs": [],
   "source": [
    "def split_data(arr, batch_size, num_steps, split_frac=0.9):\n",
    "    \"\"\" \n",
    "    Split data into batches and training and validation sets.\n",
    "    \n",
    "    Arguments\n",
    "    ---------\n",
    "    arr: Array of encoded characters as integers \n",
    "    batch_size: Number of sequences per batch\n",
    "    num_steps: Length of the sequence in a batch\n",
    "    split_frac: Fraction of batches to keep in the training set\n",
    "    \n",
    "    \n",
    "    Returns train_x, train_y, val_x, val_y\n",
    "    \"\"\"\n",
    "    \n",
    "    slice_size = batch_size * num_steps\n",
    "    n_batches = int(len(arr) / slice_size)\n",
    "    \n",
    "    # Drop the last few characters to make only full batches\n",
    "    x = arr[: n_batches*slice_size]\n",
    "    \n",
    "    # The targets are the same as the inputs, except shifted one character over.\n",
    "    # number of batches covers full size of arr (no characters dropped)\n",
    "    if(len(arr) == n_batches*slice_size):\n",
    "        # for the last target character use first input character\n",
    "        y = np.roll(x, -1)\n",
    "    else:\n",
    "        # for the last target characher use first dropped character\n",
    "        y = arr[1: n_batches*slice_size + 1]\n",
    "    \n",
    "    # Split the data into batch_size slices and then stack slices \n",
    "    x = np.stack(np.split(x, batch_size))\n",
    "    y = np.stack(np.split(y, batch_size))\n",
    "    \n",
    "    # Now x and y are arrays with dimensions batch_size x (n_batches x num_steps)\n",
    "    \n",
    "    # Split into training and validation sets, keep the first split_frac batches for training\n",
    "    split_idx = int(n_batches*split_frac)\n",
    "    train_x, train_y= x[:, :split_idx*num_steps], y[:, :split_idx*num_steps]\n",
    "    val_x, val_y = x[:, split_idx*num_steps:], y[:, split_idx*num_steps:]\n",
    "    \n",
    "    return train_x, train_y, val_x, val_y"
   ]
  },
  {
   "cell_type": "markdown",
   "metadata": {},
   "source": [
    "**Exercise**: Generate example integer array. Use function `split_data` to split `example_arr` into train and validation sets."
   ]
  },
  {
   "cell_type": "code",
   "execution_count": 7,
   "metadata": {
    "scrolled": true
   },
   "outputs": [
    {
     "name": "stdout",
     "output_type": "stream",
     "text": [
      "[ 0,  1,  2,  3,  4,  5,  6,  7,  8,  9, 10, 11, 12, 13, 14, 15, 16, 17, 18, 19, 20, 21, 22, 23, 24,\n",
      " 25, 26, 27, 28, 29, 30, 31, 32, 33, 34, 35, 36, 37, 38, 39, 40, 41, 42, 43, 44, 45, 46, 47, 48, 49,\n",
      " 50, 51, 52, 53, 54, 55, 56, 57, 58, 59, 60, 61, 62]\n"
     ]
    }
   ],
   "source": [
    "example_arr = np.arange(63)\n",
    "print(np.array2string(example_arr, max_line_width=100, separator=', '))"
   ]
  },
  {
   "cell_type": "code",
   "execution_count": 8,
   "metadata": {
    "collapsed": true
   },
   "outputs": [],
   "source": [
    "batch_size = 5\n",
    "num_steps = 3\n",
    "split_frac = 0.9 \n",
    "\n",
    "train_x, train_y, val_x, val_y = split_data(example_arr, batch_size, num_steps, split_frac)"
   ]
  },
  {
   "cell_type": "code",
   "execution_count": 9,
   "metadata": {},
   "outputs": [
    {
     "data": {
      "text/plain": [
       "array([[ 0,  1,  2,  3,  4,  5,  6,  7,  8],\n",
       "       [12, 13, 14, 15, 16, 17, 18, 19, 20],\n",
       "       [24, 25, 26, 27, 28, 29, 30, 31, 32],\n",
       "       [36, 37, 38, 39, 40, 41, 42, 43, 44],\n",
       "       [48, 49, 50, 51, 52, 53, 54, 55, 56]])"
      ]
     },
     "execution_count": 9,
     "metadata": {},
     "output_type": "execute_result"
    }
   ],
   "source": [
    "train_x"
   ]
  },
  {
   "cell_type": "code",
   "execution_count": 10,
   "metadata": {},
   "outputs": [
    {
     "data": {
      "text/plain": [
       "array([[ 1,  2,  3,  4,  5,  6,  7,  8,  9],\n",
       "       [13, 14, 15, 16, 17, 18, 19, 20, 21],\n",
       "       [25, 26, 27, 28, 29, 30, 31, 32, 33],\n",
       "       [37, 38, 39, 40, 41, 42, 43, 44, 45],\n",
       "       [49, 50, 51, 52, 53, 54, 55, 56, 57]])"
      ]
     },
     "execution_count": 10,
     "metadata": {},
     "output_type": "execute_result"
    }
   ],
   "source": [
    "train_y"
   ]
  },
  {
   "cell_type": "markdown",
   "metadata": {},
   "source": [
    "Next, we will create a generator function to get batches from the arrays made by `split_data`. This will provide us with the functionality to iterate over batches, which we can feed to our network model. The arrays are of dimension (`batch_size, n_batches*num_steps`). Each batch is a sliding window on these arrays with size `batch_size X num_steps`."
   ]
  },
  {
   "cell_type": "code",
   "execution_count": 11,
   "metadata": {
    "collapsed": true
   },
   "outputs": [],
   "source": [
    "def get_batch(arrs, num_steps):\n",
    "    batch_size, slice_size = arrs[0].shape\n",
    "    \n",
    "    n_batches = int(slice_size/num_steps)\n",
    "    for b in range(n_batches):\n",
    "        yield [x[:, b*num_steps: (b+1)*num_steps] for x in arrs]"
   ]
  },
  {
   "cell_type": "markdown",
   "metadata": {},
   "source": [
    "**Exercise**: Use the for loop to iterate through all train batches."
   ]
  },
  {
   "cell_type": "code",
   "execution_count": 12,
   "metadata": {},
   "outputs": [
    {
     "name": "stdout",
     "output_type": "stream",
     "text": [
      "\n",
      "Batch 1:\n",
      "[[[ 0  1  2]\n",
      "  [12 13 14]\n",
      "  [24 25 26]\n",
      "  [36 37 38]\n",
      "  [48 49 50]]\n",
      "\n",
      " [[ 1  2  3]\n",
      "  [13 14 15]\n",
      "  [25 26 27]\n",
      "  [37 38 39]\n",
      "  [49 50 51]]]\n",
      "\n",
      "Batch 2:\n",
      "[[[ 3  4  5]\n",
      "  [15 16 17]\n",
      "  [27 28 29]\n",
      "  [39 40 41]\n",
      "  [51 52 53]]\n",
      "\n",
      " [[ 4  5  6]\n",
      "  [16 17 18]\n",
      "  [28 29 30]\n",
      "  [40 41 42]\n",
      "  [52 53 54]]]\n",
      "\n",
      "Batch 3:\n",
      "[[[ 6  7  8]\n",
      "  [18 19 20]\n",
      "  [30 31 32]\n",
      "  [42 43 44]\n",
      "  [54 55 56]]\n",
      "\n",
      " [[ 7  8  9]\n",
      "  [19 20 21]\n",
      "  [31 32 33]\n",
      "  [43 44 45]\n",
      "  [55 56 57]]]\n"
     ]
    }
   ],
   "source": [
    "for b, (x, y) in enumerate(get_batch([train_x, train_y], num_steps), 1):\n",
    "    print('\\nBatch {}:'.format(b))\n",
    "    print(np.stack([x,y]))"
   ]
  },
  {
   "cell_type": "code",
   "execution_count": 13,
   "metadata": {},
   "outputs": [
    {
     "name": "stdout",
     "output_type": "stream",
     "text": [
      "\n",
      "Batch 1:\n",
      "[[[ 9 10 11]\n",
      "  [21 22 23]\n",
      "  [33 34 35]\n",
      "  [45 46 47]\n",
      "  [57 58 59]]\n",
      "\n",
      " [[10 11 12]\n",
      "  [22 23 24]\n",
      "  [34 35 36]\n",
      "  [46 47 48]\n",
      "  [58 59 60]]]\n"
     ]
    }
   ],
   "source": [
    "for b, (x, y) in enumerate(get_batch([val_x, val_y], num_steps), 1):\n",
    "    print('\\nBatch {}:'.format(b))\n",
    "    print(np.stack([x,y]))"
   ]
  },
  {
   "cell_type": "markdown",
   "metadata": {},
   "source": [
    "## 3.2 Building the model\n",
    "\n",
    "After having our data prepared and convenience functions `split_data` and `get_batch` for handling the data during the training of our model, we can finally start building the model using the TensorFlow library. We will break the model building into five parts:\n",
    "* building input placeholders for x, y and dropout \n",
    "* building multi-layer RNN with stacked LSTM cells\n",
    "* building softmax output layer\n",
    "* computation for training loss\n",
    "* building the optimizer for the model parameters"
   ]
  },
  {
   "cell_type": "markdown",
   "metadata": {},
   "source": [
    "### Inputs\n",
    "First, we will create our input placeholders for Tensorflow computational graph of the model. As we are building supervised learning model, we need to declare placeholders for inputs (x) and targets (y). We also need to one-hot encode the input and target tokens, remember we are getting them as encoded characters. Here, we will also declare scalar placeholder `keep_prob` for output keep probablity for dropout.  \n",
    "\n",
    "New functions used here:\n",
    "- [`tf.name_scope`](https://www.tensorflow.org/api_docs/python/tf/Graph#name_scope)\n",
    "- [`tf.one_hot`](https://www.tensorflow.org/api_docs/python/tf/one_hot)"
   ]
  },
  {
   "cell_type": "markdown",
   "metadata": {},
   "source": [
    "**Exercise**: Define placeholders for inputs and targets."
   ]
  },
  {
   "cell_type": "code",
   "execution_count": 14,
   "metadata": {
    "collapsed": true
   },
   "outputs": [],
   "source": [
    "def build_inputs(batch_size, num_steps, num_classes):\n",
    "    ''' Define placeholders for inputs, targets, and dropout. \n",
    "    \n",
    "        Arguments\n",
    "        ---------\n",
    "        batch_size: Batch size, number of sequences per batch\n",
    "        num_steps: Number of sequence steps in a batch\n",
    "        num_classes: Number of classes (target values)\n",
    "        \n",
    "    '''\n",
    "    \n",
    "    with tf.name_scope('inputs'):\n",
    "        # EXERCISE: Declare placeholder for inputs and one-hot encode inputs\n",
    "        inputs = tf.placeholder(tf.int32, [batch_size, num_steps], name='inputs')\n",
    "        x_one_hot = tf.one_hot(inputs, num_classes, name='x_one_hot')\n",
    "    \n",
    "    with tf.name_scope('targets'):\n",
    "        # EXERCISE: Declare placeholder for targets (y) and one-hot encode targets\n",
    "        targets = tf.placeholder(tf.int32, [batch_size, num_steps], name='targets')\n",
    "        y_one_hot = tf.one_hot(targets, num_classes, name='y_one_hot')\n",
    "    \n",
    "    # Keep probability placeholder for drop out layers\n",
    "    keep_prob = tf.placeholder(tf.float32, name='keep_prob')\n",
    "    \n",
    "    return inputs, x_one_hot, targets, y_one_hot, keep_prob"
   ]
  },
  {
   "cell_type": "markdown",
   "metadata": {},
   "source": [
    "### Multi-layer LSTM Cell\n",
    "We first implement `build_cell` function where we create the LSTM cell we will use in the hidden layer. We will use this cell as a building block for the multi-layer RNN. Afterwards, we implement the `build_lstm` function to create multiple LSTM cells stacked on each other using `build_cell` function. We can stack up the LSTM cells into layers with [`tf.contrib.rnn.MultiRNNCell`](https://www.tensorflow.org/api_docs/python/tf/contrib/rnn/MultiRNNCell)."
   ]
  },
  {
   "cell_type": "markdown",
   "metadata": {},
   "source": [
    "**Exercise**: Fill in `build_cell` function for building LSTM cell using:\n",
    "\n",
    "- [`tf.contrib.rnn.BasicLSTMCell`](https://www.tensorflow.org/api_docs/python/tf/contrib/rnn/BasicLSTMCell)\n",
    "- [`contrib.rnn.DropoutWrapper`](https://www.tensorflow.org/api_docs/python/tf/contrib/rnn/DropoutWrapper). "
   ]
  },
  {
   "cell_type": "code",
   "execution_count": 15,
   "metadata": {
    "collapsed": true
   },
   "outputs": [],
   "source": [
    "def build_cell(lstm_size, keep_prob):\n",
    "    ''' Build LSTM cell.\n",
    "    \n",
    "        Arguments\n",
    "        ---------\n",
    "        lstm_size: Size of the hidden layers in the LSTM cells\n",
    "        keep_prob: Dropout keep probability\n",
    "    \n",
    "    '''\n",
    "    \n",
    "    # EXERCISE: Use a basic LSTM cell\n",
    "    lstm = tf.contrib.rnn.BasicLSTMCell(lstm_size)\n",
    "\n",
    "    # EXERCISE: Add dropout to the cell\n",
    "    drop = tf.contrib.rnn.DropoutWrapper(lstm, output_keep_prob=keep_prob)\n",
    "    \n",
    "    return drop"
   ]
  },
  {
   "cell_type": "markdown",
   "metadata": {},
   "source": [
    "**Exercise**: Fill in `build_lstm` function by stacking layers using [`tf.contrib.rnn.MultiRNNCell`](https://www.tensorflow.org/api_docs/python/tf/contrib/rnn/MultiRNNCell)."
   ]
  },
  {
   "cell_type": "code",
   "execution_count": 16,
   "metadata": {
    "collapsed": true
   },
   "outputs": [],
   "source": [
    "def build_lstm(lstm_size, num_layers, batch_size, keep_prob):\n",
    "    ''' Build Multi-RNN cell.\n",
    "    \n",
    "        Arguments\n",
    "        ---------\n",
    "        lstm_size: Size of the hidden layers in the LSTM cells\n",
    "        num_layers: Number of LSTM layers\n",
    "        batch_size: Batch size\n",
    "        keep_prob: Dropout keep probability\n",
    "    \n",
    "    '''\n",
    "    \n",
    "    # EXERCISE: Stack up multiple LSTM layers\n",
    "    cell = tf.contrib.rnn.MultiRNNCell([build_cell(lstm_size, keep_prob) for _ in range(num_layers)])\n",
    "    \n",
    "    with tf.name_scope(\"RNN_init_state\"):\n",
    "        initial_state = cell.zero_state(batch_size, tf.float32)\n",
    "    \n",
    "    return cell, initial_state"
   ]
  },
  {
   "cell_type": "markdown",
   "metadata": {},
   "source": [
    "### Building RNN Output Layer\n",
    "Here we will create the output layer. We need to connect the output of the RNN cells to a fully connected layer with a softmax output. The softmax output gives us a probability distribution we can use to predict the next character. The output 3D tensor with size $(batch\\_size \\times num\\_steps \\times lstm\\_size)$ has to be reshaped to $((batch\\_size \\times num\\_steps) \\times  lstm\\_size)$, so we can do the matrix multiplication with the softmax weights.\n",
    "\n",
    "The output is calculated using softmax function\n",
    "$$\n",
    "    P(y=c\\text{ } | \\text{ }\\mathbf{x}) = \\frac{e^{\\mathbf{x}^T\\mathbf{w}_c+b_c}}{\\sum_{k=1}^{|C|}e^{\\mathbf{x}^T\\mathbf{w}_k+b_k}}\n",
    "    ,\\\\\n",
    "$$\n",
    "where $\\mathbf{x}\\in\\mathbb{R}^{512}$ is output of the last hidden layer, and $\\mathbf{W}\\in\\mathbb{R}^{512\\times 92}$ and $\\mathbf{b}\\in\\mathbb{R}^{92}$ are the model parameters. \n"
   ]
  },
  {
   "cell_type": "markdown",
   "metadata": {},
   "source": [
    "**Exercise**: Fill in `build_output` function by defining logits and softmax function."
   ]
  },
  {
   "cell_type": "code",
   "execution_count": 17,
   "metadata": {
    "collapsed": true
   },
   "outputs": [],
   "source": [
    "def build_output(lstm_output, in_size, out_size):\n",
    "    ''' Build a softmax layer, return the softmax output and logits.\n",
    "    \n",
    "        Arguments\n",
    "        ---------\n",
    "        \n",
    "        lstm_output: Output tensor of previous layer\n",
    "        in_size: Size of the input tensor\n",
    "        out_size: Size of the softmax layer\n",
    "    \n",
    "    '''\n",
    "\n",
    "    # Reshape output so it is a bunch of rows, one row for each step for each sequence.\n",
    "    # That is, the shape should be batch_size*num_steps rows by lstm_size columns.\n",
    "    with tf.name_scope('sequence_reshape'):\n",
    "        seq_output = tf.concat(lstm_output, axis=1, name='seq_output')\n",
    "        x = tf.reshape(seq_output, [-1, in_size], name='graph_output')\n",
    "    \n",
    "    # Connect the RNN outputs to a softmax layer\n",
    "    with tf.name_scope('logits'):\n",
    "\n",
    "        # Since output is a bunch of rows of RNN cell outputs, logits will be a bunch\n",
    "        # of rows of logit outputs, one for each step and sequence\n",
    "        \n",
    "        # EXERCISE: Define W and b and multiply inputs with weights and add bias\n",
    "        softmax_w = tf.Variable(tf.truncated_normal((in_size, out_size), stddev=0.1), name='softmax_w')\n",
    "        softmax_b = tf.Variable(tf.zeros(out_size), name='softmax_b')\n",
    "        logits = tf.matmul(x, softmax_w) + softmax_b\n",
    "        \n",
    "        # Tensorboard\n",
    "        tf.summary.histogram('h_softmax_w', softmax_w)\n",
    "        tf.summary.histogram('h_softmax_b', softmax_b)\n",
    "    \n",
    "    with tf.name_scope('predictions'):\n",
    "        \n",
    "        # EXERCISE: Use softmax to get the probabilities for predicted characters\n",
    "        predictions = tf.nn.softmax(logits, name='predictions')\n",
    "        \n",
    "        # Tensorboard\n",
    "        tf.summary.histogram('h_predictions', predictions)\n",
    "    \n",
    "    return predictions, logits"
   ]
  },
  {
   "cell_type": "markdown",
   "metadata": {},
   "source": [
    "### Training loss\n",
    "\n",
    "Next we need to calculate the training loss. We get the logits and targets and calculate the softmax cross-entropy loss. First, we need to reshape the one-hot targets so it is a 2D tensor with size $((batch\\_size \\times num\\_steps) \\times  num\\_classes)$, which match logits. Remember that we reshaped the LSTM outputs and ran them through a fully connected layer with $num\\_classes$ units. Then we run the logits and targets through [`tf.nn.softmax_cross_entropy_with_logits`](https://www.tensorflow.org/api_docs/python/tf/nn/softmax_cross_entropy_with_logits) and find the mean to get the loss."
   ]
  },
  {
   "cell_type": "markdown",
   "metadata": {},
   "source": [
    "**Exercise**: Fill in build loss function: \n",
    "\n",
    "- Reshape one-hot encoded targets to match logits \n",
    "- Define loss and cost function using [`tf.nn.softmax_cross_entropy_with_logits`](https://www.tensorflow.org/api_docs/python/tf/nn/softmax_cross_entropy_with_logits) and [`tf.reduce_mean`](https://www.tensorflow.org/api_docs/python/tf/reduce_mean)."
   ]
  },
  {
   "cell_type": "code",
   "execution_count": 18,
   "metadata": {
    "collapsed": true
   },
   "outputs": [],
   "source": [
    "def build_loss(logits, y_one_hot, lstm_size):\n",
    "    ''' Calculate the loss from the logits and the targets.\n",
    "    \n",
    "        Arguments\n",
    "        ---------\n",
    "        logits: Logits from final fully connected layer\n",
    "        y_one_hot: one hot encoding of target\n",
    "        lstm_size: Number of LSTM hidden units        \n",
    "    '''\n",
    "    \n",
    "    # Softmax cross entropy loss\n",
    "    with tf.name_scope('loss'):\n",
    "\n",
    "        # EXERCISE: Reshape one-hot encoded targets to match logits (one row per batch_size per step)\n",
    "        # then define loss and cost function\n",
    "        y_reshaped = tf.reshape(y_one_hot, logits.get_shape(), name='y_reshaped')\n",
    "        loss = tf.nn.softmax_cross_entropy_with_logits(logits=logits, labels=y_reshaped, name='loss')\n",
    "        cost = tf.reduce_mean(loss, name='cost')\n",
    "        \n",
    "        # Tensorboard\n",
    "        tf.summary.scalar('s_cost', cost)\n",
    "    \n",
    "    return cost"
   ]
  },
  {
   "cell_type": "markdown",
   "metadata": {},
   "source": [
    "### Optimizer\n",
    "\n",
    "Here we build the optimizer. Traditional RNNs face vanishing gradient problem. LSTMs fix the vanishing problem, but the gradients can still grow without bound. To fix this we can clip the gradients larger than some threshold. That is, if a gradient is larger than the prespecified threshold, we set it to the threshold value. This will ensure the gradients never grow too large. Then we use an [AdamOptimizer](https://arxiv.org/abs/1412.6980) for the learning step."
   ]
  },
  {
   "cell_type": "markdown",
   "metadata": {},
   "source": [
    "**Exercise**: Fill in the function `build_optimizer`:\n",
    "\n",
    "- Calculate and clip gradients using functions [`tf.gradients`](https://www.tensorflow.org/api_docs/python/tf/gradients) and [`tf.clip_by_global_norm`](https://www.tensorflow.org/api_docs/python/tf/clip_by_global_norm)\n",
    "- Define Adam optimizer using [`tf.train.AdamOptimizer`](https://www.tensorflow.org/api_docs/python/tf/train/AdamOptimizer)\n",
    "- Apply gradients to trainable variables using function [`tf.train.Optimizer.apply_gradients`](https://www.tensorflow.org/api_docs/python/tf/train/Optimizer#apply_gradients)"
   ]
  },
  {
   "cell_type": "code",
   "execution_count": 19,
   "metadata": {
    "collapsed": true
   },
   "outputs": [],
   "source": [
    "def build_optimizer(loss, learning_rate, grad_clip):\n",
    "    ''' Build optmizer for training, using gradient clipping.\n",
    "    \n",
    "        Arguments:\n",
    "        loss: Network loss\n",
    "        learning_rate: Learning rate for optimizer\n",
    "        grad_clip: Clipping ratio\n",
    "    \n",
    "    '''\n",
    "    \n",
    "    # Optimizer for training, using gradient clipping to control exploding gradients\n",
    "    with tf.name_scope('optimizer'):\n",
    "        tvars = tf.trainable_variables()\n",
    "        \n",
    "        # EXERCISE: Calculate and clip gradients\n",
    "        grads, _ = tf.clip_by_global_norm(tf.gradients(loss, tvars), grad_clip)\n",
    "        \n",
    "        # EXERCISE: Use Adam optimizer\n",
    "        train_op = tf.train.AdamOptimizer(learning_rate)\n",
    "        \n",
    "        # EXERCISE: Apply gradients to trainable variables\n",
    "        optimizer = train_op.apply_gradients(zip(grads, tvars))\n",
    "    \n",
    "    return optimizer"
   ]
  },
  {
   "cell_type": "markdown",
   "metadata": {},
   "source": [
    "### Build the network\n",
    "\n",
    "Now we can put all the pieces together and build a class for the network. To actually run data through the LSTM cells, we will use [`tf.nn.dynamic_rnn`](https://www.tensorflow.org/versions/r1.0/api_docs/python/tf/nn/dynamic_rnn). This function will pass the hidden and cell states across LSTM cells appropriately for us. It returns the outputs for each LSTM cell at each step for each sequence in the mini-batch. It also gives us the final LSTM state. We want to save this state as `final_state` so we can pass it to the first LSTM cell in the the next mini-batch run. For `tf.nn.dynamic_rnn`, we pass in the cell and initial state we get from `build_lstm`, as well as our input sequences."
   ]
  },
  {
   "cell_type": "markdown",
   "metadata": {},
   "source": [
    "**Exercise**: Fill in `CharRNN` class to run each sequence step through the RNN and collect the outputs using [`tf.nn.dynamic_rnn`](https://www.tensorflow.org/versions/r1.0/api_docs/python/tf/nn/dynamic_rnn)."
   ]
  },
  {
   "cell_type": "code",
   "execution_count": 20,
   "metadata": {
    "collapsed": true
   },
   "outputs": [],
   "source": [
    "class CharRNN:\n",
    "    \n",
    "    def __init__(self, num_classes, batch_size=64, num_steps=50, \n",
    "                       lstm_size=128, num_layers=2, learning_rate=0.001, \n",
    "                       grad_clip=5, sampling=False):\n",
    "    \n",
    "        if sampling == True:\n",
    "            # When we will use the network for sampling later, we will pass in one character at a time\n",
    "            batch_size, num_steps = 1, 1\n",
    "        else:\n",
    "            batch_size, num_steps = batch_size, num_steps\n",
    "\n",
    "        tf.reset_default_graph()\n",
    "        \n",
    "        # Build the input placeholder tensors, and one-hot encode the input and target tokens\n",
    "        self.inputs, x_one_hot, self.targets, y_one_hot, self.keep_prob = \\\n",
    "        build_inputs(batch_size, num_steps, num_classes)\n",
    "        \n",
    "        # Build the LSTM cell\n",
    "        cell, self.initial_state = build_lstm(lstm_size, num_layers, batch_size, self.keep_prob)\n",
    " \n",
    "        with tf.name_scope(\"RNN_forward\"):\n",
    "            \n",
    "            # EXERCISE: Run each sequence step through the RNN and collect the outputs\n",
    "            outputs, state = tf.nn.dynamic_rnn(cell, x_one_hot, initial_state=self.initial_state)\n",
    "        \n",
    "        self.final_state = state\n",
    "        \n",
    "        # Get softmax predictions and logits\n",
    "        self.prediction, self.logits = build_output(outputs, lstm_size, num_classes)\n",
    "        \n",
    "        # Loss and optimizer (with gradient clipping)\n",
    "        self.loss = build_loss(self.logits, y_one_hot, lstm_size)\n",
    "        self.optimizer = build_optimizer(self.loss, learning_rate, grad_clip)\n",
    "        \n",
    "        self.summary_merged = tf.summary.merge_all()"
   ]
  },
  {
   "cell_type": "markdown",
   "metadata": {},
   "source": [
    "### Hyperparameters\n",
    "\n",
    "Here we declare the hyperparameters for the network. \n",
    "\n",
    "* `batch_size` - Number of sequences running through the network in one pass.\n",
    "* `num_steps` - Number of characters in the sequence the network is trained on. Larger is better typically, the network will learn more long range dependencies. But it takes longer to train. 100 is typically a good number here.\n",
    "* `lstm_size` - The number of units in the hidden layers.\n",
    "* `num_layers` - Number of hidden LSTM layers to use\n",
    "* `learning_rate` - Learning rate for training\n",
    "* `keep_prob` - The dropout keep probability when training. If you're network is overfitting, try decreasing this.\n",
    "\n",
    "Here's some good advice from Andrej Karpathy on training the network [https://github.com/karpathy/char-rnn#tips-and-tricks](https://github.com/karpathy/char-rnn#tips-and-tricks).\n",
    "\n"
   ]
  },
  {
   "cell_type": "code",
   "execution_count": 21,
   "metadata": {
    "collapsed": true
   },
   "outputs": [],
   "source": [
    "batch_size = 100        # Sequences per batch\n",
    "num_steps = 100         # Number of sequence steps per batch\n",
    "lstm_size = 512         # Size of hidden layers in LSTMs\n",
    "num_layers = 2          # Number of LSTM layers\n",
    "learning_rate = 0.001   # Learning rate\n",
    "keep_prob = 0.5         # Dropout keep probability"
   ]
  },
  {
   "cell_type": "markdown",
   "metadata": {},
   "source": [
    "**Exercise**: Create new instance of `CharRNN` class using parameters defined above. Print trainable variables in the default graph using tensorflow function [`trainable_variables`](https://www.tensorflow.org/api_docs/python/tf/trainable_variables). Does the number of parameters correspond to what we expect? **Hint**: Number of parameters in first hidden layer of LSTM is equal to:\n",
    "\n",
    "$4 \\times \\big[N_{units} \\times (N_{inputs}+1) + N_{units}^{2}\\big]$,\n",
    "\n",
    "where $N_{units}$ is the number of units in hidden layer (`lstm_size`) and $N_{inputs}$ is the length of the vocabulary."
   ]
  },
  {
   "cell_type": "code",
   "execution_count": 22,
   "metadata": {},
   "outputs": [
    {
     "data": {
      "text/plain": [
       "[<tf.Variable 'rnn/multi_rnn_cell/cell_0/basic_lstm_cell/kernel:0' shape=(604, 2048) dtype=float32_ref>,\n",
       " <tf.Variable 'rnn/multi_rnn_cell/cell_0/basic_lstm_cell/bias:0' shape=(2048,) dtype=float32_ref>,\n",
       " <tf.Variable 'rnn/multi_rnn_cell/cell_1/basic_lstm_cell/kernel:0' shape=(1024, 2048) dtype=float32_ref>,\n",
       " <tf.Variable 'rnn/multi_rnn_cell/cell_1/basic_lstm_cell/bias:0' shape=(2048,) dtype=float32_ref>,\n",
       " <tf.Variable 'logits/softmax_w:0' shape=(512, 92) dtype=float32_ref>,\n",
       " <tf.Variable 'logits/softmax_b:0' shape=(92,) dtype=float32_ref>]"
      ]
     },
     "execution_count": 22,
     "metadata": {},
     "output_type": "execute_result"
    }
   ],
   "source": [
    "model = CharRNN(len(vocab), batch_size=batch_size, num_steps=num_steps,\n",
    "                lstm_size=lstm_size, num_layers=num_layers, \n",
    "                learning_rate=learning_rate)\n",
    "\n",
    "tf.trainable_variables()"
   ]
  },
  {
   "cell_type": "markdown",
   "metadata": {},
   "source": [
    "### Write out the graph for TensorBoard"
   ]
  },
  {
   "cell_type": "code",
   "execution_count": 23,
   "metadata": {
    "collapsed": true
   },
   "outputs": [],
   "source": [
    "with tf.Session() as sess:\n",
    "    sess.run(tf.global_variables_initializer())\n",
    "    \n",
    "    file_writer = tf.summary.FileWriter('assets/logs/1', sess.graph)\n",
    "    \n",
    "    file_writer.close()"
   ]
  },
  {
   "cell_type": "markdown",
   "metadata": {
    "collapsed": true
   },
   "source": [
    "Run tensorboard from command line by issuing command (e.g. from root repository directory):\n",
    "\n",
    "```\n",
    "tensorboard --logdir=Day-3/assets/logs/\n",
    "```"
   ]
  },
  {
   "cell_type": "markdown",
   "metadata": {},
   "source": [
    "## 3.3 Training model\n",
    "\n",
    "This is typical training code, passing inputs and targets into the network, then running the optimizer. Here we also get back the final LSTM state for the mini-batch. Then, we pass that state back into the network so the next batch can continue the state from the previous batch. And every so often (set by `save_every_n`) we calculate the validation loss and save a checkpoint.\n",
    "\n",
    "Please download provided [`trump_tb_20_i3880_l512_1.327.ckpt`](https://www.dropbox.com/s/2eaunmgmvc10n6q/trump_tb_20_i3880_l512_1.327.ckpt.zip?dl=0)\n",
    "checkpoint and place it in `assets/checkpoints/ssds` direcory in the repository.\n",
    "\n",
    "**Exercise**: Fill in the code below:\n",
    "\n",
    "- Iterate through all train batches, run session and save loss. \n",
    "- Iterate through all validation batches, run session and append validation loss."
   ]
  },
  {
   "cell_type": "code",
   "execution_count": 23,
   "metadata": {},
   "outputs": [
    {
     "name": "stdout",
     "output_type": "stream",
     "text": [
      "Epoch 1/1  Iteration 1/194 Training loss: 1.4705 9.3205 sec/batch\n",
      "Epoch 1/1  Iteration 2/194 Training loss: 1.4041 7.9575 sec/batch\n",
      "Epoch 1/1  Iteration 3/194 Training loss: 1.4106 7.8915 sec/batch\n",
      "Validation loss: 1.33276 Saving checkpoint!\n",
      "Epoch 1/1  Iteration 4/194 Training loss: 1.4374 7.3634 sec/batch\n"
     ]
    },
    {
     "ename": "KeyboardInterrupt",
     "evalue": "",
     "output_type": "error",
     "traceback": [
      "\u001b[1;31m---------------------------------------------------------------------------\u001b[0m",
      "\u001b[1;31mKeyboardInterrupt\u001b[0m                         Traceback (most recent call last)",
      "\u001b[1;32m<ipython-input-23-77fd76b64b0e>\u001b[0m in \u001b[0;36m<module>\u001b[1;34m()\u001b[0m\n\u001b[0;32m     40\u001b[0m                     model.initial_state: new_state}\n\u001b[0;32m     41\u001b[0m             summary, batch_loss, new_state, _ = sess.run([model.summary_merged, model.loss, model.final_state, model.optimizer], \n\u001b[1;32m---> 42\u001b[1;33m                                                  feed_dict=feed)\n\u001b[0m\u001b[0;32m     43\u001b[0m \u001b[1;33m\u001b[0m\u001b[0m\n\u001b[0;32m     44\u001b[0m             \u001b[0mloss\u001b[0m \u001b[1;33m+=\u001b[0m \u001b[0mbatch_loss\u001b[0m\u001b[1;33m\u001b[0m\u001b[0m\n",
      "\u001b[1;32mC:\\Program Files\\Anaconda\\envs\\ssds\\lib\\site-packages\\tensorflow\\python\\client\\session.py\u001b[0m in \u001b[0;36mrun\u001b[1;34m(self, fetches, feed_dict, options, run_metadata)\u001b[0m\n\u001b[0;32m    893\u001b[0m     \u001b[1;32mtry\u001b[0m\u001b[1;33m:\u001b[0m\u001b[1;33m\u001b[0m\u001b[0m\n\u001b[0;32m    894\u001b[0m       result = self._run(None, fetches, feed_dict, options_ptr,\n\u001b[1;32m--> 895\u001b[1;33m                          run_metadata_ptr)\n\u001b[0m\u001b[0;32m    896\u001b[0m       \u001b[1;32mif\u001b[0m \u001b[0mrun_metadata\u001b[0m\u001b[1;33m:\u001b[0m\u001b[1;33m\u001b[0m\u001b[0m\n\u001b[0;32m    897\u001b[0m         \u001b[0mproto_data\u001b[0m \u001b[1;33m=\u001b[0m \u001b[0mtf_session\u001b[0m\u001b[1;33m.\u001b[0m\u001b[0mTF_GetBuffer\u001b[0m\u001b[1;33m(\u001b[0m\u001b[0mrun_metadata_ptr\u001b[0m\u001b[1;33m)\u001b[0m\u001b[1;33m\u001b[0m\u001b[0m\n",
      "\u001b[1;32mC:\\Program Files\\Anaconda\\envs\\ssds\\lib\\site-packages\\tensorflow\\python\\client\\session.py\u001b[0m in \u001b[0;36m_run\u001b[1;34m(self, handle, fetches, feed_dict, options, run_metadata)\u001b[0m\n\u001b[0;32m   1122\u001b[0m     \u001b[1;32mif\u001b[0m \u001b[0mfinal_fetches\u001b[0m \u001b[1;32mor\u001b[0m \u001b[0mfinal_targets\u001b[0m \u001b[1;32mor\u001b[0m \u001b[1;33m(\u001b[0m\u001b[0mhandle\u001b[0m \u001b[1;32mand\u001b[0m \u001b[0mfeed_dict_tensor\u001b[0m\u001b[1;33m)\u001b[0m\u001b[1;33m:\u001b[0m\u001b[1;33m\u001b[0m\u001b[0m\n\u001b[0;32m   1123\u001b[0m       results = self._do_run(handle, final_targets, final_fetches,\n\u001b[1;32m-> 1124\u001b[1;33m                              feed_dict_tensor, options, run_metadata)\n\u001b[0m\u001b[0;32m   1125\u001b[0m     \u001b[1;32melse\u001b[0m\u001b[1;33m:\u001b[0m\u001b[1;33m\u001b[0m\u001b[0m\n\u001b[0;32m   1126\u001b[0m       \u001b[0mresults\u001b[0m \u001b[1;33m=\u001b[0m \u001b[1;33m[\u001b[0m\u001b[1;33m]\u001b[0m\u001b[1;33m\u001b[0m\u001b[0m\n",
      "\u001b[1;32mC:\\Program Files\\Anaconda\\envs\\ssds\\lib\\site-packages\\tensorflow\\python\\client\\session.py\u001b[0m in \u001b[0;36m_do_run\u001b[1;34m(self, handle, target_list, fetch_list, feed_dict, options, run_metadata)\u001b[0m\n\u001b[0;32m   1319\u001b[0m     \u001b[1;32mif\u001b[0m \u001b[0mhandle\u001b[0m \u001b[1;32mis\u001b[0m \u001b[1;32mNone\u001b[0m\u001b[1;33m:\u001b[0m\u001b[1;33m\u001b[0m\u001b[0m\n\u001b[0;32m   1320\u001b[0m       return self._do_call(_run_fn, self._session, feeds, fetches, targets,\n\u001b[1;32m-> 1321\u001b[1;33m                            options, run_metadata)\n\u001b[0m\u001b[0;32m   1322\u001b[0m     \u001b[1;32melse\u001b[0m\u001b[1;33m:\u001b[0m\u001b[1;33m\u001b[0m\u001b[0m\n\u001b[0;32m   1323\u001b[0m       \u001b[1;32mreturn\u001b[0m \u001b[0mself\u001b[0m\u001b[1;33m.\u001b[0m\u001b[0m_do_call\u001b[0m\u001b[1;33m(\u001b[0m\u001b[0m_prun_fn\u001b[0m\u001b[1;33m,\u001b[0m \u001b[0mself\u001b[0m\u001b[1;33m.\u001b[0m\u001b[0m_session\u001b[0m\u001b[1;33m,\u001b[0m \u001b[0mhandle\u001b[0m\u001b[1;33m,\u001b[0m \u001b[0mfeeds\u001b[0m\u001b[1;33m,\u001b[0m \u001b[0mfetches\u001b[0m\u001b[1;33m)\u001b[0m\u001b[1;33m\u001b[0m\u001b[0m\n",
      "\u001b[1;32mC:\\Program Files\\Anaconda\\envs\\ssds\\lib\\site-packages\\tensorflow\\python\\client\\session.py\u001b[0m in \u001b[0;36m_do_call\u001b[1;34m(self, fn, *args)\u001b[0m\n\u001b[0;32m   1325\u001b[0m   \u001b[1;32mdef\u001b[0m \u001b[0m_do_call\u001b[0m\u001b[1;33m(\u001b[0m\u001b[0mself\u001b[0m\u001b[1;33m,\u001b[0m \u001b[0mfn\u001b[0m\u001b[1;33m,\u001b[0m \u001b[1;33m*\u001b[0m\u001b[0margs\u001b[0m\u001b[1;33m)\u001b[0m\u001b[1;33m:\u001b[0m\u001b[1;33m\u001b[0m\u001b[0m\n\u001b[0;32m   1326\u001b[0m     \u001b[1;32mtry\u001b[0m\u001b[1;33m:\u001b[0m\u001b[1;33m\u001b[0m\u001b[0m\n\u001b[1;32m-> 1327\u001b[1;33m       \u001b[1;32mreturn\u001b[0m \u001b[0mfn\u001b[0m\u001b[1;33m(\u001b[0m\u001b[1;33m*\u001b[0m\u001b[0margs\u001b[0m\u001b[1;33m)\u001b[0m\u001b[1;33m\u001b[0m\u001b[0m\n\u001b[0m\u001b[0;32m   1328\u001b[0m     \u001b[1;32mexcept\u001b[0m \u001b[0merrors\u001b[0m\u001b[1;33m.\u001b[0m\u001b[0mOpError\u001b[0m \u001b[1;32mas\u001b[0m \u001b[0me\u001b[0m\u001b[1;33m:\u001b[0m\u001b[1;33m\u001b[0m\u001b[0m\n\u001b[0;32m   1329\u001b[0m       \u001b[0mmessage\u001b[0m \u001b[1;33m=\u001b[0m \u001b[0mcompat\u001b[0m\u001b[1;33m.\u001b[0m\u001b[0mas_text\u001b[0m\u001b[1;33m(\u001b[0m\u001b[0me\u001b[0m\u001b[1;33m.\u001b[0m\u001b[0mmessage\u001b[0m\u001b[1;33m)\u001b[0m\u001b[1;33m\u001b[0m\u001b[0m\n",
      "\u001b[1;32mC:\\Program Files\\Anaconda\\envs\\ssds\\lib\\site-packages\\tensorflow\\python\\client\\session.py\u001b[0m in \u001b[0;36m_run_fn\u001b[1;34m(session, feed_dict, fetch_list, target_list, options, run_metadata)\u001b[0m\n\u001b[0;32m   1304\u001b[0m           return tf_session.TF_Run(session, options,\n\u001b[0;32m   1305\u001b[0m                                    \u001b[0mfeed_dict\u001b[0m\u001b[1;33m,\u001b[0m \u001b[0mfetch_list\u001b[0m\u001b[1;33m,\u001b[0m \u001b[0mtarget_list\u001b[0m\u001b[1;33m,\u001b[0m\u001b[1;33m\u001b[0m\u001b[0m\n\u001b[1;32m-> 1306\u001b[1;33m                                    status, run_metadata)\n\u001b[0m\u001b[0;32m   1307\u001b[0m \u001b[1;33m\u001b[0m\u001b[0m\n\u001b[0;32m   1308\u001b[0m     \u001b[1;32mdef\u001b[0m \u001b[0m_prun_fn\u001b[0m\u001b[1;33m(\u001b[0m\u001b[0msession\u001b[0m\u001b[1;33m,\u001b[0m \u001b[0mhandle\u001b[0m\u001b[1;33m,\u001b[0m \u001b[0mfeed_dict\u001b[0m\u001b[1;33m,\u001b[0m \u001b[0mfetch_list\u001b[0m\u001b[1;33m)\u001b[0m\u001b[1;33m:\u001b[0m\u001b[1;33m\u001b[0m\u001b[0m\n",
      "\u001b[1;31mKeyboardInterrupt\u001b[0m: "
     ]
    }
   ],
   "source": [
    "epochs = 1 #20\n",
    "save_every_n = 10 #200\n",
    "train_x, train_y, val_x, val_y = split_data(encoded_chars, batch_size, num_steps)\n",
    "\n",
    "\n",
    "model = CharRNN(len(vocab), batch_size=batch_size, num_steps=num_steps,\n",
    "                lstm_size=lstm_size, num_layers=num_layers, \n",
    "                learning_rate=learning_rate)\n",
    "\n",
    "saver = tf.train.Saver(max_to_keep=100)\n",
    "\n",
    "with tf.Session() as sess:\n",
    "    sess.run(tf.global_variables_initializer())\n",
    "    \n",
    "    # Tensorboard\n",
    "    train_writer = tf.summary.FileWriter('assets/logs/2/train', sess.graph)\n",
    "    test_writer = tf.summary.FileWriter('assets/logs/2/test')\n",
    "    \n",
    "    #############################################################\n",
    "    # Use the line below to load a checkpoint and resume training\n",
    "    saver.restore(sess, 'assets/checkpoints/ssds/trump_tb_20_i3880_l512_1.327.ckpt')\n",
    "    #############################################################\n",
    "    \n",
    "    n_batches = int(train_x.shape[1]/num_steps)\n",
    "    iterations = n_batches * epochs\n",
    "    \n",
    "    # Train network\n",
    "    for e in range(epochs):\n",
    "        \n",
    "        new_state = sess.run(model.initial_state)\n",
    "        loss = 0\n",
    "        \n",
    "        # EXERCISE: Iterate through all train batches, run session and save loss\n",
    "        for b, (x, y) in enumerate(get_batch([train_x, train_y], num_steps), 1):\n",
    "            start = time.time()\n",
    "            \n",
    "            feed = {model.inputs: x,\n",
    "                    model.targets: y,\n",
    "                    model.keep_prob: 0.5,\n",
    "                    model.initial_state: new_state}\n",
    "            summary, batch_loss, new_state, _ = sess.run([model.summary_merged, model.loss, model.final_state, model.optimizer], \n",
    "                                                 feed_dict=feed)\n",
    "            \n",
    "            loss += batch_loss\n",
    "            end = time.time()\n",
    "            iteration = e*n_batches + b\n",
    "            print('Epoch {}/{} '.format(e+1, epochs),\n",
    "                  'Iteration {}/{}'.format(iteration, iterations),\n",
    "                  'Training loss: {:.4f}'.format(loss/b),\n",
    "                  '{:.4f} sec/batch'.format((end-start)))\n",
    "            \n",
    "            # Tensorboard\n",
    "            train_writer.add_summary(summary, iteration)\n",
    "        \n",
    "            if (iteration%save_every_n == 0) or (iteration == iterations):\n",
    "                # Check performance, notice dropout has been set to 1\n",
    "                val_loss = []\n",
    "                new_state = sess.run(model.initial_state)\n",
    "                \n",
    "                # EXERCISE: Same as above, iterate through all validation batches, run session and append validation loss\n",
    "                for x, y in get_batch([val_x, val_y], num_steps):\n",
    "                    feed = {model.inputs: x,\n",
    "                            model.targets: y,\n",
    "                            model.keep_prob: 1.,\n",
    "                            model.initial_state: new_state}\n",
    "                    summary, batch_loss, new_state = sess.run([model.summary_merged, model.loss, model.final_state], feed_dict=feed)\n",
    "                    val_loss.append(batch_loss)\n",
    "                \n",
    "                # Tensorboard\n",
    "                test_writer.add_summary(summary, iteration)\n",
    "\n",
    "                print('Validation loss:', np.mean(val_loss),\n",
    "                      'Saving checkpoint!')\n",
    "                saver.save(sess, \"assets/checkpoints/trump/trump_new_i{}_l{}_{:.3f}.ckpt\".format(iteration, lstm_size, np.mean(val_loss)))"
   ]
  },
  {
   "cell_type": "markdown",
   "metadata": {},
   "source": [
    "### Saved checkpoints\n",
    "\n",
    "Read up on saving and loading checkpoints here: https://www.tensorflow.org/programmers_guide/variables"
   ]
  },
  {
   "cell_type": "code",
   "execution_count": 24,
   "metadata": {},
   "outputs": [
    {
     "data": {
      "text/plain": [
       "model_checkpoint_path: \"assets/checkpoints/trump\\\\trump_new_i3_l512_1.333.ckpt\"\n",
       "all_model_checkpoint_paths: \"assets/checkpoints/trump\\\\trump_new_i3_l512_1.333.ckpt\""
      ]
     },
     "execution_count": 24,
     "metadata": {},
     "output_type": "execute_result"
    }
   ],
   "source": [
    "tf.train.get_checkpoint_state('assets/checkpoints/trump')"
   ]
  },
  {
   "cell_type": "markdown",
   "metadata": {},
   "source": [
    "## 3.4 Testing model - sampling from the model"
   ]
  },
  {
   "cell_type": "code",
   "execution_count": 25,
   "metadata": {
    "collapsed": true
   },
   "outputs": [],
   "source": [
    "from IPython.core.display import display, HTML"
   ]
  },
  {
   "cell_type": "code",
   "execution_count": 61,
   "metadata": {
    "collapsed": true
   },
   "outputs": [],
   "source": [
    "def pick_top_n(preds, vocab_size, top_n=5):\n",
    "    p = np.squeeze(preds)\n",
    "    p[np.argsort(p)[:-top_n]] = 0\n",
    "    p = p / np.sum(p)\n",
    "    c = np.random.choice(vocab_size, 1, p=p)[0]\n",
    "    return c"
   ]
  },
  {
   "cell_type": "code",
   "execution_count": 62,
   "metadata": {
    "collapsed": true
   },
   "outputs": [],
   "source": [
    "def sample_model(checkpoint, n_samples, lstm_size, vocab_size, num_layers=2, prime=\"The \"):\n",
    "    samples = [c for c in prime]\n",
    "    model = CharRNN(len(vocab), lstm_size=lstm_size, num_layers=num_layers, sampling=True)\n",
    "    saver = tf.train.Saver()\n",
    "    \n",
    "    states = []\n",
    "    with tf.Session() as sess:\n",
    "        saver.restore(sess, checkpoint)\n",
    "        new_state = sess.run(model.initial_state)\n",
    "         \n",
    "        for c in prime:\n",
    "            x = np.zeros((1, 1))\n",
    "            x[0,0] = vocab_to_int[c]\n",
    "            feed = {model.inputs: x,\n",
    "                    model.keep_prob: 1.,\n",
    "                    model.initial_state: new_state}\n",
    "            preds, new_state = sess.run([model.prediction, model.final_state], \n",
    "                                         feed_dict=feed)\n",
    "      \n",
    "            states.append(new_state)\n",
    "    \n",
    "        c = pick_top_n(preds, len(vocab))\n",
    "        samples.append(int_to_vocab[c])\n",
    "        states.append(new_state)\n",
    "\n",
    "        for i in range(n_samples):\n",
    "            x[0,0] = c\n",
    "            feed = {model.inputs: x,\n",
    "                    model.keep_prob: 1.,\n",
    "                    model.initial_state: new_state}\n",
    "            preds, new_state = sess.run([model.prediction, model.final_state], \n",
    "                                         feed_dict=feed)\n",
    "\n",
    "            c = pick_top_n(preds, len(vocab))\n",
    "            samples.append(int_to_vocab[c])\n",
    "            states.append(new_state)\n",
    "        \n",
    "    return (''.join(samples), states)"
   ]
  },
  {
   "cell_type": "markdown",
   "metadata": {},
   "source": [
    "**Exercise**: Load the latest checkpoint from `assets/checkpoints/trump` folder and generate text using `sample_model` function."
   ]
  },
  {
   "cell_type": "code",
   "execution_count": 63,
   "metadata": {},
   "outputs": [
    {
     "ename": "ValueError",
     "evalue": "Can't load save_path when it is None.",
     "output_type": "error",
     "traceback": [
      "\u001b[1;31m---------------------------------------------------------------------------\u001b[0m",
      "\u001b[1;31mValueError\u001b[0m                                Traceback (most recent call last)",
      "\u001b[1;32m<ipython-input-63-92698bd0797f>\u001b[0m in \u001b[0;36m<module>\u001b[1;34m()\u001b[0m\n\u001b[0;32m      1\u001b[0m \u001b[0mcheckpoint\u001b[0m \u001b[1;33m=\u001b[0m \u001b[0mtf\u001b[0m\u001b[1;33m.\u001b[0m\u001b[0mtrain\u001b[0m\u001b[1;33m.\u001b[0m\u001b[0mlatest_checkpoint\u001b[0m\u001b[1;33m(\u001b[0m\u001b[1;34m'assets/checkpoints/trump'\u001b[0m\u001b[1;33m)\u001b[0m\u001b[1;33m\u001b[0m\u001b[0m\n\u001b[1;32m----> 2\u001b[1;33m \u001b[0msamp\u001b[0m\u001b[1;33m,\u001b[0m \u001b[0m_\u001b[0m \u001b[1;33m=\u001b[0m \u001b[0msample_model\u001b[0m\u001b[1;33m(\u001b[0m\u001b[0mcheckpoint\u001b[0m\u001b[1;33m,\u001b[0m \u001b[1;36m160\u001b[0m\u001b[1;33m,\u001b[0m \u001b[0mlstm_size\u001b[0m\u001b[1;33m,\u001b[0m \u001b[0mlen\u001b[0m\u001b[1;33m(\u001b[0m\u001b[0mvocab\u001b[0m\u001b[1;33m)\u001b[0m\u001b[1;33m,\u001b[0m \u001b[0mprime\u001b[0m\u001b[1;33m=\u001b[0m\u001b[1;34m\"Obama\"\u001b[0m\u001b[1;33m)\u001b[0m\u001b[1;33m\u001b[0m\u001b[0m\n\u001b[0m\u001b[0;32m      3\u001b[0m \u001b[0mprint\u001b[0m\u001b[1;33m(\u001b[0m\u001b[0msamp\u001b[0m\u001b[1;33m)\u001b[0m\u001b[1;33m\u001b[0m\u001b[0m\n",
      "\u001b[1;32m<ipython-input-62-de4778557dab>\u001b[0m in \u001b[0;36msample_model\u001b[1;34m(checkpoint, n_samples, lstm_size, vocab_size, num_layers, prime)\u001b[0m\n\u001b[0;32m      6\u001b[0m     \u001b[0mstates\u001b[0m \u001b[1;33m=\u001b[0m \u001b[1;33m[\u001b[0m\u001b[1;33m]\u001b[0m\u001b[1;33m\u001b[0m\u001b[0m\n\u001b[0;32m      7\u001b[0m     \u001b[1;32mwith\u001b[0m \u001b[0mtf\u001b[0m\u001b[1;33m.\u001b[0m\u001b[0mSession\u001b[0m\u001b[1;33m(\u001b[0m\u001b[1;33m)\u001b[0m \u001b[1;32mas\u001b[0m \u001b[0msess\u001b[0m\u001b[1;33m:\u001b[0m\u001b[1;33m\u001b[0m\u001b[0m\n\u001b[1;32m----> 8\u001b[1;33m         \u001b[0msaver\u001b[0m\u001b[1;33m.\u001b[0m\u001b[0mrestore\u001b[0m\u001b[1;33m(\u001b[0m\u001b[0msess\u001b[0m\u001b[1;33m,\u001b[0m \u001b[0mcheckpoint\u001b[0m\u001b[1;33m)\u001b[0m\u001b[1;33m\u001b[0m\u001b[0m\n\u001b[0m\u001b[0;32m      9\u001b[0m         \u001b[0mnew_state\u001b[0m \u001b[1;33m=\u001b[0m \u001b[0msess\u001b[0m\u001b[1;33m.\u001b[0m\u001b[0mrun\u001b[0m\u001b[1;33m(\u001b[0m\u001b[0mmodel\u001b[0m\u001b[1;33m.\u001b[0m\u001b[0minitial_state\u001b[0m\u001b[1;33m)\u001b[0m\u001b[1;33m\u001b[0m\u001b[0m\n\u001b[0;32m     10\u001b[0m \u001b[1;33m\u001b[0m\u001b[0m\n",
      "\u001b[1;32mC:\\Program Files\\Anaconda\\envs\\ssds\\lib\\site-packages\\tensorflow\\python\\training\\saver.py\u001b[0m in \u001b[0;36mrestore\u001b[1;34m(self, sess, save_path)\u001b[0m\n\u001b[0;32m   1555\u001b[0m       \u001b[1;32mreturn\u001b[0m\u001b[1;33m\u001b[0m\u001b[0m\n\u001b[0;32m   1556\u001b[0m     \u001b[1;32mif\u001b[0m \u001b[0msave_path\u001b[0m \u001b[1;32mis\u001b[0m \u001b[1;32mNone\u001b[0m\u001b[1;33m:\u001b[0m\u001b[1;33m\u001b[0m\u001b[0m\n\u001b[1;32m-> 1557\u001b[1;33m       \u001b[1;32mraise\u001b[0m \u001b[0mValueError\u001b[0m\u001b[1;33m(\u001b[0m\u001b[1;34m\"Can't load save_path when it is None.\"\u001b[0m\u001b[1;33m)\u001b[0m\u001b[1;33m\u001b[0m\u001b[0m\n\u001b[0m\u001b[0;32m   1558\u001b[0m     \u001b[0mlogging\u001b[0m\u001b[1;33m.\u001b[0m\u001b[0minfo\u001b[0m\u001b[1;33m(\u001b[0m\u001b[1;34m\"Restoring parameters from %s\"\u001b[0m\u001b[1;33m,\u001b[0m \u001b[0msave_path\u001b[0m\u001b[1;33m)\u001b[0m\u001b[1;33m\u001b[0m\u001b[0m\n\u001b[0;32m   1559\u001b[0m     sess.run(self.saver_def.restore_op_name,\n",
      "\u001b[1;31mValueError\u001b[0m: Can't load save_path when it is None."
     ]
    }
   ],
   "source": [
    "checkpoint = tf.train.latest_checkpoint('assets/checkpoints/trump')\n",
    "samp, _ = sample_model(checkpoint, 160, lstm_size, len(vocab), prime=\"Obama\")\n",
    "print(samp)"
   ]
  },
  {
   "cell_type": "markdown",
   "metadata": {},
   "source": [
    "**Exercise**: Train the model again starting from the initial state for a few iterations and save a checkpoint, then load it and generate text using `sample_model` function."
   ]
  },
  {
   "cell_type": "code",
   "execution_count": null,
   "metadata": {
    "collapsed": true,
    "scrolled": true
   },
   "outputs": [],
   "source": [
    "checkpoint = 'assets/checkpoints/trump/EARLY_EPOCH_CHECKPOINT'\n",
    "samp, _ = sample_model(checkpoint, 1000, lstm_size, len(vocab), prime=\"Obama (\")\n",
    "print(samp)"
   ]
  },
  {
   "cell_type": "markdown",
   "metadata": {},
   "source": [
    "## 3.5 Visualization of memory cell activations"
   ]
  },
  {
   "cell_type": "code",
   "execution_count": 43,
   "metadata": {
    "collapsed": true
   },
   "outputs": [],
   "source": [
    "from IPython.core.display import display, HTML\n",
    "from utils import save_lstm_vis, make_colored_text"
   ]
  },
  {
   "cell_type": "markdown",
   "metadata": {},
   "source": [
    "**Exercise**: Load checkpoint `trump_tb_20_i3880_l512_1.327.ckpt` from `assets/checkpoints/ssds/` and generate some sample text using function `sample_model`. The use utility function `make_colored_text` to color each character by cell activations in certain layer."
   ]
  },
  {
   "cell_type": "code",
   "execution_count": 44,
   "metadata": {},
   "outputs": [
    {
     "name": "stdout",
     "output_type": "stream",
     "text": [
      "Obama (cont) http://t.co/SAB5500m\n",
      "The U.S. has a country and will be a begond that they're going to have a great pathing or the press condection. True to my community!\n",
      ".@BillMeach is an amazing participy won't top crowd. Watch @BarackObama has never been doing a great past release. We have allowed the best plant!\n",
      "The place of @MittRomney was great off and make the success of our money.\n",
      "Which is a star star on hell insured. He has not be people are going to think the people. We need sees. Will be the focus and start and and a sense trivele.\n",
      "I wele that the U.S. would say it on Trump Int'l Hotel &amp; Miss Universe Pageant were fantastic on @FoxNews that @MittRomney has spirad of their strength with the movement for mind.\n",
      "With the missing of offine and the press conversation is now if what is nuce and the fact that I will so they will stop incredible. Whenered it was great and worse. What will they surprysed it increases?...\n",
      "In all of my speech in Scotland's today's stall. Will be to be fantasti\n"
     ]
    }
   ],
   "source": [
    "checkpoint = 'assets/checkpoints/ssds/trump_tb_20_i3880_l512_1.327.ckpt'\n",
    "samp, states = sample_model(checkpoint, 1000, lstm_size, len(vocab), prime=\"Obama (\")\n",
    "print(samp)"
   ]
  },
  {
   "cell_type": "markdown",
   "metadata": {},
   "source": [
    "**Exercise**: Use utility funtion `make_colored_text` and Jupyter widget `HTML` to visualize cell activations for the text above. Here are some examples of interesting visualizations.\n",
    "\n",
    "`layer_id = 0`\n",
    "\n",
    "`cell_id`:\n",
    "- position in tweet - 4*\n",
    "- short urls - 10, 50*, 130, 160, 163, 164, 183, 218, 230\n",
    "- separate fixed and variable part of short url - 80, 152\n",
    "- just variable part of short url - 75, 84, 118, 273, 380\n",
    "- position in short url - 22*, 112, 206, 386\n",
    "- urls and references - 115, 403, 483\n",
    "\n",
    "`layer_id = 1`\n",
    "\n",
    "`cell_id`:\n",
    "- just variable part of short url - 21, 107, 250, 300, 420\n",
    "- beginning of a word - 22*, 112\n",
    "- urls and references - 51, 273, 438\n",
    "- position in short url - 202, 326\n",
    "- quotation marks - 252*\n",
    "- position in a sentence - 413"
   ]
  },
  {
   "cell_type": "code",
   "execution_count": 45,
   "metadata": {},
   "outputs": [
    {
     "data": {
      "text/html": [
       "<span style=\"white-space: per-line; font-family: Courier, Monaco, mono space\"><span style=\"background-color:#f7f7f7\">O</span><span style=\"background-color:#f7f7f7\">b</span><span style=\"background-color:#f7f7f7\">a</span><span style=\"background-color:#f7f7f7\">m</span><span style=\"background-color:#f7f7f7\">a</span><span style=\"background-color:#fddbc7\"> </span><span style=\"background-color:#fddbc7\">(</span><span style=\"background-color:#fddbc7\">c</span><span style=\"background-color:#fddbc7\">o</span><span style=\"background-color:#fddbc7\">n</span><span style=\"background-color:#fddbc7\">t</span><span style=\"background-color:#fddbc7\">)</span><span style=\"background-color:#fddbc7\"> </span><span style=\"background-color:#fddbc7\">h</span><span style=\"background-color:#fddbc7\">t</span><span style=\"background-color:#fddbc7\">t</span><span style=\"background-color:#fddbc7\">p</span><span style=\"background-color:#fddbc7\">:</span><span style=\"background-color:#fddbc7\">/</span><span style=\"background-color:#fddbc7\">/</span><span style=\"background-color:#fddbc7\">t</span><span style=\"background-color:#fddbc7\">.</span><span style=\"background-color:#fddbc7\">c</span><span style=\"background-color:#fddbc7\">o</span><span style=\"background-color:#fddbc7\">/</span><span style=\"background-color:#fddbc7\">S</span><span style=\"background-color:#fddbc7\">A</span><span style=\"background-color:#f7f7f7\">B</span><span style=\"background-color:#f7f7f7\">5</span><span style=\"background-color:#f7f7f7\">5</span><span style=\"background-color:#f7f7f7\">0</span><span style=\"background-color:#fddbc7\">0</span><span style=\"background-color:#fddbc7\">m</span><span style=\"background-color:#fddbc7\"><br></span><span style=\"background-color:#f7f7f7\">T</span><span style=\"background-color:#92c5de\">h</span><span style=\"background-color:#92c5de\">e</span><span style=\"background-color:#92c5de\"> </span><span style=\"background-color:#92c5de\">U</span><span style=\"background-color:#92c5de\">.</span><span style=\"background-color:#92c5de\">S</span><span style=\"background-color:#92c5de\">.</span><span style=\"background-color:#92c5de\"> </span><span style=\"background-color:#92c5de\">h</span><span style=\"background-color:#92c5de\">a</span><span style=\"background-color:#92c5de\">s</span><span style=\"background-color:#92c5de\"> </span><span style=\"background-color:#92c5de\">a</span><span style=\"background-color:#92c5de\"> </span><span style=\"background-color:#92c5de\">c</span><span style=\"background-color:#92c5de\">o</span><span style=\"background-color:#92c5de\">u</span><span style=\"background-color:#92c5de\">n</span><span style=\"background-color:#92c5de\">t</span><span style=\"background-color:#92c5de\">r</span><span style=\"background-color:#92c5de\">y</span><span style=\"background-color:#92c5de\"> </span><span style=\"background-color:#92c5de\">a</span><span style=\"background-color:#92c5de\">n</span><span style=\"background-color:#92c5de\">d</span><span style=\"background-color:#92c5de\"> </span><span style=\"background-color:#92c5de\">w</span><span style=\"background-color:#92c5de\">i</span><span style=\"background-color:#92c5de\">l</span><span style=\"background-color:#92c5de\">l</span><span style=\"background-color:#92c5de\"> </span><span style=\"background-color:#d1e5f0\">b</span><span style=\"background-color:#d1e5f0\">e</span><span style=\"background-color:#d1e5f0\"> </span><span style=\"background-color:#d1e5f0\">a</span><span style=\"background-color:#d1e5f0\"> </span><span style=\"background-color:#d1e5f0\">b</span><span style=\"background-color:#d1e5f0\">e</span><span style=\"background-color:#d1e5f0\">g</span><span style=\"background-color:#d1e5f0\">o</span><span style=\"background-color:#d1e5f0\">n</span><span style=\"background-color:#d1e5f0\">d</span><span style=\"background-color:#d1e5f0\"> </span><span style=\"background-color:#d1e5f0\">t</span><span style=\"background-color:#d1e5f0\">h</span><span style=\"background-color:#d1e5f0\">a</span><span style=\"background-color:#d1e5f0\">t</span><span style=\"background-color:#d1e5f0\"> </span><span style=\"background-color:#d1e5f0\">t</span><span style=\"background-color:#d1e5f0\">h</span><span style=\"background-color:#d1e5f0\">e</span><span style=\"background-color:#d1e5f0\">y</span><span style=\"background-color:#d1e5f0\">'</span><span style=\"background-color:#d1e5f0\">r</span><span style=\"background-color:#d1e5f0\">e</span><span style=\"background-color:#d1e5f0\"> </span><span style=\"background-color:#d1e5f0\">g</span><span style=\"background-color:#d1e5f0\">o</span><span style=\"background-color:#d1e5f0\">i</span><span style=\"background-color:#f7f7f7\">n</span><span style=\"background-color:#f7f7f7\">g</span><span style=\"background-color:#f7f7f7\"> </span><span style=\"background-color:#f7f7f7\">t</span><span style=\"background-color:#f7f7f7\">o</span><span style=\"background-color:#f7f7f7\"> </span><span style=\"background-color:#f7f7f7\">h</span><span style=\"background-color:#f7f7f7\">a</span><span style=\"background-color:#f7f7f7\">v</span><span style=\"background-color:#f7f7f7\">e</span><span style=\"background-color:#f7f7f7\"> </span><span style=\"background-color:#f7f7f7\">a</span><span style=\"background-color:#f7f7f7\"> </span><span style=\"background-color:#f7f7f7\">g</span><span style=\"background-color:#f7f7f7\">r</span><span style=\"background-color:#f7f7f7\">e</span><span style=\"background-color:#f7f7f7\">a</span><span style=\"background-color:#f7f7f7\">t</span><span style=\"background-color:#f7f7f7\"> </span><span style=\"background-color:#f7f7f7\">p</span><span style=\"background-color:#f7f7f7\">a</span><span style=\"background-color:#f7f7f7\">t</span><span style=\"background-color:#f7f7f7\">h</span><span style=\"background-color:#f7f7f7\">i</span><span style=\"background-color:#f7f7f7\">n</span><span style=\"background-color:#f7f7f7\">g</span><span style=\"background-color:#f7f7f7\"> </span><span style=\"background-color:#f7f7f7\">o</span><span style=\"background-color:#fddbc7\">r</span><span style=\"background-color:#fddbc7\"> </span><span style=\"background-color:#fddbc7\">t</span><span style=\"background-color:#fddbc7\">h</span><span style=\"background-color:#fddbc7\">e</span><span style=\"background-color:#fddbc7\"> </span><span style=\"background-color:#fddbc7\">p</span><span style=\"background-color:#fddbc7\">r</span><span style=\"background-color:#fddbc7\">e</span><span style=\"background-color:#fddbc7\">s</span><span style=\"background-color:#fddbc7\">s</span><span style=\"background-color:#fddbc7\"> </span><span style=\"background-color:#fddbc7\">c</span><span style=\"background-color:#fddbc7\">o</span><span style=\"background-color:#fddbc7\">n</span><span style=\"background-color:#fddbc7\">d</span><span style=\"background-color:#fddbc7\">e</span><span style=\"background-color:#fddbc7\">c</span><span style=\"background-color:#fddbc7\">t</span><span style=\"background-color:#fddbc7\">i</span><span style=\"background-color:#fddbc7\">o</span><span style=\"background-color:#f4a582\">n</span><span style=\"background-color:#f4a582\">.</span><span style=\"background-color:#f4a582\"> </span><span style=\"background-color:#f4a582\">T</span><span style=\"background-color:#f4a582\">r</span><span style=\"background-color:#f4a582\">u</span><span style=\"background-color:#f4a582\">e</span><span style=\"background-color:#f4a582\"> </span><span style=\"background-color:#f4a582\">t</span><span style=\"background-color:#f4a582\">o</span><span style=\"background-color:#f4a582\"> </span><span style=\"background-color:#f4a582\">m</span><span style=\"background-color:#f4a582\">y</span><span style=\"background-color:#f4a582\"> </span><span style=\"background-color:#f4a582\">c</span><span style=\"background-color:#f4a582\">o</span><span style=\"background-color:#f4a582\">m</span><span style=\"background-color:#f4a582\">m</span><span style=\"background-color:#f4a582\">u</span><span style=\"background-color:#d6604d\">n</span><span style=\"background-color:#d6604d\">i</span><span style=\"background-color:#d6604d\">t</span><span style=\"background-color:#d6604d\">y</span><span style=\"background-color:#d6604d\">!</span><span style=\"background-color:#d6604d\"><br></span><span style=\"background-color:#f4a582\">.</span><span style=\"background-color:#d1e5f0\">@</span><span style=\"background-color:#92c5de\">B</span><span style=\"background-color:#92c5de\">i</span><span style=\"background-color:#92c5de\">l</span><span style=\"background-color:#92c5de\">l</span><span style=\"background-color:#92c5de\">M</span><span style=\"background-color:#92c5de\">e</span><span style=\"background-color:#92c5de\">a</span><span style=\"background-color:#92c5de\">c</span><span style=\"background-color:#92c5de\">h</span><span style=\"background-color:#92c5de\"> </span><span style=\"background-color:#92c5de\">i</span><span style=\"background-color:#92c5de\">s</span><span style=\"background-color:#92c5de\"> </span><span style=\"background-color:#92c5de\">a</span><span style=\"background-color:#92c5de\">n</span><span style=\"background-color:#92c5de\"> </span><span style=\"background-color:#92c5de\">a</span><span style=\"background-color:#92c5de\">m</span><span style=\"background-color:#92c5de\">a</span><span style=\"background-color:#92c5de\">z</span><span style=\"background-color:#92c5de\">i</span><span style=\"background-color:#92c5de\">n</span><span style=\"background-color:#92c5de\">g</span><span style=\"background-color:#92c5de\"> </span><span style=\"background-color:#92c5de\">p</span><span style=\"background-color:#92c5de\">a</span><span style=\"background-color:#92c5de\">r</span><span style=\"background-color:#92c5de\">t</span><span style=\"background-color:#92c5de\">i</span><span style=\"background-color:#92c5de\">c</span><span style=\"background-color:#92c5de\">i</span><span style=\"background-color:#92c5de\">p</span><span style=\"background-color:#92c5de\">y</span><span style=\"background-color:#92c5de\"> </span><span style=\"background-color:#92c5de\">w</span><span style=\"background-color:#92c5de\">o</span><span style=\"background-color:#92c5de\">n</span><span style=\"background-color:#92c5de\">'</span><span style=\"background-color:#92c5de\">t</span><span style=\"background-color:#92c5de\"> </span><span style=\"background-color:#d1e5f0\">t</span><span style=\"background-color:#d1e5f0\">o</span><span style=\"background-color:#d1e5f0\">p</span><span style=\"background-color:#d1e5f0\"> </span><span style=\"background-color:#d1e5f0\">c</span><span style=\"background-color:#d1e5f0\">r</span><span style=\"background-color:#d1e5f0\">o</span><span style=\"background-color:#d1e5f0\">w</span><span style=\"background-color:#d1e5f0\">d</span><span style=\"background-color:#d1e5f0\">.</span><span style=\"background-color:#d1e5f0\"> </span><span style=\"background-color:#d1e5f0\">W</span><span style=\"background-color:#d1e5f0\">a</span><span style=\"background-color:#d1e5f0\">t</span><span style=\"background-color:#d1e5f0\">c</span><span style=\"background-color:#d1e5f0\">h</span><span style=\"background-color:#d1e5f0\"> </span><span style=\"background-color:#d1e5f0\">@</span><span style=\"background-color:#d1e5f0\">B</span><span style=\"background-color:#d1e5f0\">a</span><span style=\"background-color:#d1e5f0\">r</span><span style=\"background-color:#d1e5f0\">a</span><span style=\"background-color:#d1e5f0\">c</span><span style=\"background-color:#d1e5f0\">k</span><span style=\"background-color:#d1e5f0\">O</span><span style=\"background-color:#d1e5f0\">b</span><span style=\"background-color:#d1e5f0\">a</span><span style=\"background-color:#d1e5f0\">m</span><span style=\"background-color:#d1e5f0\">a</span><span style=\"background-color:#d1e5f0\"> </span><span style=\"background-color:#d1e5f0\">h</span><span style=\"background-color:#f7f7f7\">a</span><span style=\"background-color:#f7f7f7\">s</span><span style=\"background-color:#d1e5f0\"> </span><span style=\"background-color:#f7f7f7\">n</span><span style=\"background-color:#f7f7f7\">e</span><span style=\"background-color:#f7f7f7\">v</span><span style=\"background-color:#f7f7f7\">e</span><span style=\"background-color:#f7f7f7\">r</span><span style=\"background-color:#f7f7f7\"> </span><span style=\"background-color:#f7f7f7\">b</span><span style=\"background-color:#f7f7f7\">e</span><span style=\"background-color:#f7f7f7\">e</span><span style=\"background-color:#f7f7f7\">n</span><span style=\"background-color:#f7f7f7\"> </span><span style=\"background-color:#f7f7f7\">d</span><span style=\"background-color:#f7f7f7\">o</span><span style=\"background-color:#f7f7f7\">i</span><span style=\"background-color:#f7f7f7\">n</span><span style=\"background-color:#f7f7f7\">g</span><span style=\"background-color:#f7f7f7\"> </span><span style=\"background-color:#f7f7f7\">a</span><span style=\"background-color:#f7f7f7\"> </span><span style=\"background-color:#f7f7f7\">g</span><span style=\"background-color:#f7f7f7\">r</span><span style=\"background-color:#f7f7f7\">e</span><span style=\"background-color:#f7f7f7\">a</span><span style=\"background-color:#f7f7f7\">t</span><span style=\"background-color:#f7f7f7\"> </span><span style=\"background-color:#f7f7f7\">p</span><span style=\"background-color:#fddbc7\">a</span><span style=\"background-color:#fddbc7\">s</span><span style=\"background-color:#f7f7f7\">t</span><span style=\"background-color:#f7f7f7\"> </span><span style=\"background-color:#fddbc7\">r</span><span style=\"background-color:#fddbc7\">e</span><span style=\"background-color:#fddbc7\">l</span><span style=\"background-color:#fddbc7\">e</span><span style=\"background-color:#fddbc7\">a</span><span style=\"background-color:#fddbc7\">s</span><span style=\"background-color:#fddbc7\">e</span><span style=\"background-color:#fddbc7\">.</span><span style=\"background-color:#fddbc7\"> </span><span style=\"background-color:#fddbc7\">W</span><span style=\"background-color:#fddbc7\">e</span><span style=\"background-color:#fddbc7\"> </span><span style=\"background-color:#f4a582\">h</span><span style=\"background-color:#f4a582\">a</span><span style=\"background-color:#f4a582\">v</span><span style=\"background-color:#f4a582\">e</span><span style=\"background-color:#f4a582\"> </span><span style=\"background-color:#f4a582\">a</span><span style=\"background-color:#f4a582\">l</span><span style=\"background-color:#f4a582\">l</span><span style=\"background-color:#f4a582\">o</span><span style=\"background-color:#f4a582\">w</span><span style=\"background-color:#f4a582\">e</span><span style=\"background-color:#f4a582\">d</span><span style=\"background-color:#f4a582\"> </span><span style=\"background-color:#f4a582\">t</span><span style=\"background-color:#f4a582\">h</span><span style=\"background-color:#f4a582\">e</span><span style=\"background-color:#f4a582\"> </span><span style=\"background-color:#f4a582\">b</span><span style=\"background-color:#f4a582\">e</span><span style=\"background-color:#f4a582\">s</span><span style=\"background-color:#f4a582\">t</span><span style=\"background-color:#f4a582\"> </span><span style=\"background-color:#f4a582\">p</span><span style=\"background-color:#f4a582\">l</span><span style=\"background-color:#d6604d\">a</span><span style=\"background-color:#d6604d\">n</span><span style=\"background-color:#d6604d\">t</span><span style=\"background-color:#d6604d\">!</span><span style=\"background-color:#d6604d\"><br></span><span style=\"background-color:#f4a582\">T</span><span style=\"background-color:#92c5de\">h</span><span style=\"background-color:#92c5de\">e</span><span style=\"background-color:#92c5de\"> </span><span style=\"background-color:#92c5de\">p</span><span style=\"background-color:#92c5de\">l</span><span style=\"background-color:#92c5de\">a</span><span style=\"background-color:#92c5de\">c</span><span style=\"background-color:#92c5de\">e</span><span style=\"background-color:#92c5de\"> </span><span style=\"background-color:#92c5de\">o</span><span style=\"background-color:#92c5de\">f</span><span style=\"background-color:#92c5de\"> </span><span style=\"background-color:#92c5de\">@</span><span style=\"background-color:#92c5de\">M</span><span style=\"background-color:#92c5de\">i</span><span style=\"background-color:#92c5de\">t</span><span style=\"background-color:#92c5de\">t</span><span style=\"background-color:#92c5de\">R</span><span style=\"background-color:#92c5de\">o</span><span style=\"background-color:#92c5de\">m</span><span style=\"background-color:#92c5de\">n</span><span style=\"background-color:#92c5de\">e</span><span style=\"background-color:#92c5de\">y</span><span style=\"background-color:#92c5de\"> </span><span style=\"background-color:#92c5de\">w</span><span style=\"background-color:#92c5de\">a</span><span style=\"background-color:#92c5de\">s</span><span style=\"background-color:#92c5de\"> </span><span style=\"background-color:#d1e5f0\">g</span><span style=\"background-color:#d1e5f0\">r</span><span style=\"background-color:#d1e5f0\">e</span><span style=\"background-color:#d1e5f0\">a</span><span style=\"background-color:#d1e5f0\">t</span><span style=\"background-color:#d1e5f0\"> </span><span style=\"background-color:#d1e5f0\">o</span><span style=\"background-color:#d1e5f0\">f</span><span style=\"background-color:#d1e5f0\">f</span><span style=\"background-color:#d1e5f0\"> </span><span style=\"background-color:#d1e5f0\">a</span><span style=\"background-color:#d1e5f0\">n</span><span style=\"background-color:#d1e5f0\">d</span><span style=\"background-color:#d1e5f0\"> </span><span style=\"background-color:#d1e5f0\">m</span><span style=\"background-color:#d1e5f0\">a</span><span style=\"background-color:#d1e5f0\">k</span><span style=\"background-color:#d1e5f0\">e</span><span style=\"background-color:#d1e5f0\"> </span><span style=\"background-color:#d1e5f0\">t</span><span style=\"background-color:#d1e5f0\">h</span><span style=\"background-color:#d1e5f0\">e</span><span style=\"background-color:#d1e5f0\"> </span><span style=\"background-color:#d1e5f0\">s</span><span style=\"background-color:#d1e5f0\">u</span><span style=\"background-color:#d1e5f0\">c</span><span style=\"background-color:#d1e5f0\">c</span><span style=\"background-color:#d1e5f0\">e</span><span style=\"background-color:#d1e5f0\">s</span><span style=\"background-color:#d1e5f0\">s</span><span style=\"background-color:#d1e5f0\"> </span><span style=\"background-color:#d1e5f0\">o</span><span style=\"background-color:#d1e5f0\">f</span><span style=\"background-color:#d1e5f0\"> </span><span style=\"background-color:#d1e5f0\">o</span><span style=\"background-color:#d1e5f0\">u</span><span style=\"background-color:#d1e5f0\">r</span><span style=\"background-color:#d1e5f0\"> </span><span style=\"background-color:#d1e5f0\">m</span><span style=\"background-color:#d1e5f0\">o</span><span style=\"background-color:#d1e5f0\">n</span><span style=\"background-color:#f7f7f7\">e</span><span style=\"background-color:#d1e5f0\">y</span><span style=\"background-color:#d1e5f0\">.</span><span style=\"background-color:#f7f7f7\"><br></span><span style=\"background-color:#d1e5f0\">W</span><span style=\"background-color:#92c5de\">h</span><span style=\"background-color:#92c5de\">i</span><span style=\"background-color:#92c5de\">c</span><span style=\"background-color:#92c5de\">h</span><span style=\"background-color:#92c5de\"> </span><span style=\"background-color:#92c5de\">i</span><span style=\"background-color:#92c5de\">s</span><span style=\"background-color:#92c5de\"> </span><span style=\"background-color:#92c5de\">a</span><span style=\"background-color:#92c5de\"> </span><span style=\"background-color:#92c5de\">s</span><span style=\"background-color:#92c5de\">t</span><span style=\"background-color:#92c5de\">a</span><span style=\"background-color:#92c5de\">r</span><span style=\"background-color:#92c5de\"> </span><span style=\"background-color:#92c5de\">s</span><span style=\"background-color:#92c5de\">t</span><span style=\"background-color:#92c5de\">a</span><span style=\"background-color:#92c5de\">r</span><span style=\"background-color:#92c5de\"> </span><span style=\"background-color:#92c5de\">o</span><span style=\"background-color:#92c5de\">n</span><span style=\"background-color:#92c5de\"> </span><span style=\"background-color:#92c5de\">h</span><span style=\"background-color:#92c5de\">e</span><span style=\"background-color:#92c5de\">l</span><span style=\"background-color:#92c5de\">l</span><span style=\"background-color:#92c5de\"> </span><span style=\"background-color:#92c5de\">i</span><span style=\"background-color:#92c5de\">n</span><span style=\"background-color:#92c5de\">s</span><span style=\"background-color:#92c5de\">u</span><span style=\"background-color:#92c5de\">r</span><span style=\"background-color:#92c5de\">e</span><span style=\"background-color:#92c5de\">d</span><span style=\"background-color:#d1e5f0\">.</span><span style=\"background-color:#d1e5f0\"> </span><span style=\"background-color:#d1e5f0\">H</span><span style=\"background-color:#d1e5f0\">e</span><span style=\"background-color:#d1e5f0\"> </span><span style=\"background-color:#d1e5f0\">h</span><span style=\"background-color:#d1e5f0\">a</span><span style=\"background-color:#d1e5f0\">s</span><span style=\"background-color:#d1e5f0\"> </span><span style=\"background-color:#d1e5f0\">n</span><span style=\"background-color:#f7f7f7\">o</span><span style=\"background-color:#f7f7f7\">t</span><span style=\"background-color:#f7f7f7\"> </span><span style=\"background-color:#f7f7f7\">b</span><span style=\"background-color:#f7f7f7\">e</span><span style=\"background-color:#f7f7f7\"> </span><span style=\"background-color:#f7f7f7\">p</span><span style=\"background-color:#f7f7f7\">e</span><span style=\"background-color:#f7f7f7\">o</span><span style=\"background-color:#f7f7f7\">p</span><span style=\"background-color:#f7f7f7\">l</span><span style=\"background-color:#f7f7f7\">e</span><span style=\"background-color:#f7f7f7\"> </span><span style=\"background-color:#f7f7f7\">a</span><span style=\"background-color:#f7f7f7\">r</span><span style=\"background-color:#f7f7f7\">e</span><span style=\"background-color:#f7f7f7\"> </span><span style=\"background-color:#f7f7f7\">g</span><span style=\"background-color:#f7f7f7\">o</span><span style=\"background-color:#f7f7f7\">i</span><span style=\"background-color:#f7f7f7\">n</span><span style=\"background-color:#f7f7f7\">g</span><span style=\"background-color:#f7f7f7\"> </span><span style=\"background-color:#f7f7f7\">t</span><span style=\"background-color:#f7f7f7\">o</span><span style=\"background-color:#f7f7f7\"> </span><span style=\"background-color:#f7f7f7\">t</span><span style=\"background-color:#f7f7f7\">h</span><span style=\"background-color:#f7f7f7\">i</span><span style=\"background-color:#f7f7f7\">n</span><span style=\"background-color:#f7f7f7\">k</span><span style=\"background-color:#f7f7f7\"> </span><span style=\"background-color:#f7f7f7\">t</span><span style=\"background-color:#f7f7f7\">h</span><span style=\"background-color:#f7f7f7\">e</span><span style=\"background-color:#fddbc7\"> </span><span style=\"background-color:#fddbc7\">p</span><span style=\"background-color:#fddbc7\">e</span><span style=\"background-color:#fddbc7\">o</span><span style=\"background-color:#fddbc7\">p</span><span style=\"background-color:#fddbc7\">l</span><span style=\"background-color:#fddbc7\">e</span><span style=\"background-color:#fddbc7\">.</span><span style=\"background-color:#fddbc7\"> </span><span style=\"background-color:#fddbc7\">W</span><span style=\"background-color:#fddbc7\">e</span><span style=\"background-color:#fddbc7\"> </span><span style=\"background-color:#fddbc7\">n</span><span style=\"background-color:#fddbc7\">e</span><span style=\"background-color:#fddbc7\">e</span><span style=\"background-color:#fddbc7\">d</span><span style=\"background-color:#fddbc7\"> </span><span style=\"background-color:#fddbc7\">s</span><span style=\"background-color:#fddbc7\">e</span><span style=\"background-color:#fddbc7\">e</span><span style=\"background-color:#fddbc7\">s</span><span style=\"background-color:#fddbc7\">.</span><span style=\"background-color:#f4a582\"> </span><span style=\"background-color:#f4a582\">W</span><span style=\"background-color:#f4a582\">i</span><span style=\"background-color:#f4a582\">l</span><span style=\"background-color:#f4a582\">l</span><span style=\"background-color:#f4a582\"> </span><span style=\"background-color:#f4a582\">b</span><span style=\"background-color:#f4a582\">e</span><span style=\"background-color:#f4a582\"> </span><span style=\"background-color:#f4a582\">t</span><span style=\"background-color:#f4a582\">h</span><span style=\"background-color:#f4a582\">e</span><span style=\"background-color:#d6604d\"> </span><span style=\"background-color:#d6604d\">f</span><span style=\"background-color:#d6604d\">o</span><span style=\"background-color:#d6604d\">c</span><span style=\"background-color:#d6604d\">u</span><span style=\"background-color:#d6604d\">s</span><span style=\"background-color:#d6604d\"> </span><span style=\"background-color:#d6604d\">a</span><span style=\"background-color:#d6604d\">n</span><span style=\"background-color:#d6604d\">d</span><span style=\"background-color:#d6604d\"> </span><span style=\"background-color:#d6604d\">s</span><span style=\"background-color:#d6604d\">t</span><span style=\"background-color:#d6604d\">a</span><span style=\"background-color:#d6604d\">r</span><span style=\"background-color:#d6604d\">t</span><span style=\"background-color:#d6604d\"> </span><span style=\"background-color:#d6604d\">a</span><span style=\"background-color:#d6604d\">n</span><span style=\"background-color:#d6604d\">d</span><span style=\"background-color:#d6604d\"> </span><span style=\"background-color:#d6604d\">a</span><span style=\"background-color:#d6604d\">n</span><span style=\"background-color:#d6604d\">d</span><span style=\"background-color:#d6604d\"> </span><span style=\"background-color:#d6604d\">a</span><span style=\"background-color:#d6604d\"> </span><span style=\"background-color:#d6604d\">s</span><span style=\"background-color:#d6604d\">e</span><span style=\"background-color:#d6604d\">n</span><span style=\"background-color:#d6604d\">s</span><span style=\"background-color:#d6604d\">e</span><span style=\"background-color:#d6604d\"> </span><span style=\"background-color:#d6604d\">t</span><span style=\"background-color:#d6604d\">r</span><span style=\"background-color:#d6604d\">i</span><span style=\"background-color:#d6604d\">v</span><span style=\"background-color:#d6604d\">e</span><span style=\"background-color:#d6604d\">l</span><span style=\"background-color:#d6604d\">e</span><span style=\"background-color:#d6604d\">.</span><span style=\"background-color:#d6604d\"><br></span><span style=\"background-color:#f4a582\">I</span><span style=\"background-color:#92c5de\"> </span><span style=\"background-color:#92c5de\">w</span><span style=\"background-color:#92c5de\">e</span><span style=\"background-color:#92c5de\">l</span><span style=\"background-color:#92c5de\">e</span><span style=\"background-color:#92c5de\"> </span><span style=\"background-color:#92c5de\">t</span><span style=\"background-color:#92c5de\">h</span><span style=\"background-color:#92c5de\">a</span><span style=\"background-color:#92c5de\">t</span><span style=\"background-color:#92c5de\"> </span><span style=\"background-color:#92c5de\">t</span><span style=\"background-color:#92c5de\">h</span><span style=\"background-color:#92c5de\">e</span><span style=\"background-color:#92c5de\"> </span><span style=\"background-color:#92c5de\">U</span><span style=\"background-color:#92c5de\">.</span><span style=\"background-color:#92c5de\">S</span><span style=\"background-color:#92c5de\">.</span><span style=\"background-color:#92c5de\"> </span><span style=\"background-color:#92c5de\">w</span><span style=\"background-color:#92c5de\">o</span><span style=\"background-color:#92c5de\">u</span><span style=\"background-color:#92c5de\">l</span><span style=\"background-color:#92c5de\">d</span><span style=\"background-color:#92c5de\"> </span><span style=\"background-color:#92c5de\">s</span><span style=\"background-color:#92c5de\">a</span><span style=\"background-color:#92c5de\">y</span><span style=\"background-color:#92c5de\"> </span><span style=\"background-color:#92c5de\">i</span><span style=\"background-color:#92c5de\">t</span><span style=\"background-color:#d1e5f0\"> </span><span style=\"background-color:#d1e5f0\">o</span><span style=\"background-color:#d1e5f0\">n</span><span style=\"background-color:#d1e5f0\"> </span><span style=\"background-color:#d1e5f0\">T</span><span style=\"background-color:#d1e5f0\">r</span><span style=\"background-color:#d1e5f0\">u</span><span style=\"background-color:#d1e5f0\">m</span><span style=\"background-color:#d1e5f0\">p</span><span style=\"background-color:#d1e5f0\"> </span><span style=\"background-color:#d1e5f0\">I</span><span style=\"background-color:#d1e5f0\">n</span><span style=\"background-color:#d1e5f0\">t</span><span style=\"background-color:#d1e5f0\">'</span><span style=\"background-color:#d1e5f0\">l</span><span style=\"background-color:#d1e5f0\"> </span><span style=\"background-color:#d1e5f0\">H</span><span style=\"background-color:#d1e5f0\">o</span><span style=\"background-color:#d1e5f0\">t</span><span style=\"background-color:#d1e5f0\">e</span><span style=\"background-color:#d1e5f0\">l</span><span style=\"background-color:#d1e5f0\"> </span><span style=\"background-color:#d1e5f0\">&</span><span style=\"background-color:#d1e5f0\">a</span><span style=\"background-color:#d1e5f0\">m</span><span style=\"background-color:#d1e5f0\">p</span><span style=\"background-color:#d1e5f0\">;</span><span style=\"background-color:#d1e5f0\"> </span><span style=\"background-color:#d1e5f0\">M</span><span style=\"background-color:#d1e5f0\">i</span><span style=\"background-color:#d1e5f0\">s</span><span style=\"background-color:#d1e5f0\">s</span><span style=\"background-color:#d1e5f0\"> </span><span style=\"background-color:#d1e5f0\">U</span><span style=\"background-color:#d1e5f0\">n</span><span style=\"background-color:#d1e5f0\">i</span><span style=\"background-color:#d1e5f0\">v</span><span style=\"background-color:#d1e5f0\">e</span><span style=\"background-color:#d1e5f0\">r</span><span style=\"background-color:#d1e5f0\">s</span><span style=\"background-color:#d1e5f0\">e</span><span style=\"background-color:#d1e5f0\"> </span><span style=\"background-color:#d1e5f0\">P</span><span style=\"background-color:#d1e5f0\">a</span><span style=\"background-color:#d1e5f0\">g</span><span style=\"background-color:#d1e5f0\">e</span><span style=\"background-color:#d1e5f0\">a</span><span style=\"background-color:#d1e5f0\">n</span><span style=\"background-color:#d1e5f0\">t</span><span style=\"background-color:#d1e5f0\"> </span><span style=\"background-color:#d1e5f0\">w</span><span style=\"background-color:#d1e5f0\">e</span><span style=\"background-color:#d1e5f0\">r</span><span style=\"background-color:#d1e5f0\">e</span><span style=\"background-color:#d1e5f0\"> </span><span style=\"background-color:#d1e5f0\">f</span><span style=\"background-color:#d1e5f0\">a</span><span style=\"background-color:#d1e5f0\">n</span><span style=\"background-color:#d1e5f0\">t</span><span style=\"background-color:#d1e5f0\">a</span><span style=\"background-color:#d1e5f0\">s</span><span style=\"background-color:#d1e5f0\">t</span><span style=\"background-color:#d1e5f0\">i</span><span style=\"background-color:#d1e5f0\">c</span><span style=\"background-color:#f7f7f7\"> </span><span style=\"background-color:#f7f7f7\">o</span><span style=\"background-color:#f7f7f7\">n</span><span style=\"background-color:#f7f7f7\"> </span><span style=\"background-color:#f7f7f7\">@</span><span style=\"background-color:#f7f7f7\">F</span><span style=\"background-color:#f7f7f7\">o</span><span style=\"background-color:#f7f7f7\">x</span><span style=\"background-color:#f7f7f7\">N</span><span style=\"background-color:#f7f7f7\">e</span><span style=\"background-color:#f7f7f7\">w</span><span style=\"background-color:#f7f7f7\">s</span><span style=\"background-color:#f7f7f7\"> </span><span style=\"background-color:#f7f7f7\">t</span><span style=\"background-color:#f7f7f7\">h</span><span style=\"background-color:#f7f7f7\">a</span><span style=\"background-color:#f7f7f7\">t</span><span style=\"background-color:#f7f7f7\"> </span><span style=\"background-color:#f7f7f7\">@</span><span style=\"background-color:#fddbc7\">M</span><span style=\"background-color:#f7f7f7\">i</span><span style=\"background-color:#f7f7f7\">t</span><span style=\"background-color:#f7f7f7\">t</span><span style=\"background-color:#fddbc7\">R</span><span style=\"background-color:#fddbc7\">o</span><span style=\"background-color:#fddbc7\">m</span><span style=\"background-color:#fddbc7\">n</span><span style=\"background-color:#fddbc7\">e</span><span style=\"background-color:#fddbc7\">y</span><span style=\"background-color:#fddbc7\"> </span><span style=\"background-color:#fddbc7\">h</span><span style=\"background-color:#fddbc7\">a</span><span style=\"background-color:#fddbc7\">s</span><span style=\"background-color:#fddbc7\"> </span><span style=\"background-color:#fddbc7\">s</span><span style=\"background-color:#fddbc7\">p</span><span style=\"background-color:#fddbc7\">i</span><span style=\"background-color:#fddbc7\">r</span><span style=\"background-color:#fddbc7\">a</span><span style=\"background-color:#fddbc7\">d</span><span style=\"background-color:#fddbc7\"> </span><span style=\"background-color:#fddbc7\">o</span><span style=\"background-color:#fddbc7\">f</span><span style=\"background-color:#fddbc7\"> </span><span style=\"background-color:#fddbc7\">t</span><span style=\"background-color:#fddbc7\">h</span><span style=\"background-color:#fddbc7\">e</span><span style=\"background-color:#f4a582\">i</span><span style=\"background-color:#f4a582\">r</span><span style=\"background-color:#f4a582\"> </span><span style=\"background-color:#f4a582\">s</span><span style=\"background-color:#f4a582\">t</span><span style=\"background-color:#f4a582\">r</span><span style=\"background-color:#f4a582\">e</span><span style=\"background-color:#f4a582\">n</span><span style=\"background-color:#f4a582\">g</span><span style=\"background-color:#f4a582\">t</span><span style=\"background-color:#f4a582\">h</span><span style=\"background-color:#f4a582\"> </span><span style=\"background-color:#f4a582\">w</span><span style=\"background-color:#f4a582\">i</span><span style=\"background-color:#f4a582\">t</span><span style=\"background-color:#f4a582\">h</span><span style=\"background-color:#f4a582\"> </span><span style=\"background-color:#f4a582\">t</span><span style=\"background-color:#f4a582\">h</span><span style=\"background-color:#f4a582\">e</span><span style=\"background-color:#f4a582\"> </span><span style=\"background-color:#f4a582\">m</span><span style=\"background-color:#f4a582\">o</span><span style=\"background-color:#f4a582\">v</span><span style=\"background-color:#f4a582\">e</span><span style=\"background-color:#f4a582\">m</span><span style=\"background-color:#d6604d\">e</span><span style=\"background-color:#f4a582\">n</span><span style=\"background-color:#d6604d\">t</span><span style=\"background-color:#d6604d\"> </span><span style=\"background-color:#d6604d\">f</span><span style=\"background-color:#d6604d\">o</span><span style=\"background-color:#d6604d\">r</span><span style=\"background-color:#d6604d\"> </span><span style=\"background-color:#d6604d\">m</span><span style=\"background-color:#d6604d\">i</span><span style=\"background-color:#d6604d\">n</span><span style=\"background-color:#d6604d\">d</span><span style=\"background-color:#d6604d\">.</span><span style=\"background-color:#d6604d\"><br></span><span style=\"background-color:#fddbc7\">W</span><span style=\"background-color:#92c5de\">i</span><span style=\"background-color:#92c5de\">t</span><span style=\"background-color:#92c5de\">h</span><span style=\"background-color:#92c5de\"> </span><span style=\"background-color:#92c5de\">t</span><span style=\"background-color:#92c5de\">h</span><span style=\"background-color:#92c5de\">e</span><span style=\"background-color:#92c5de\"> </span><span style=\"background-color:#92c5de\">m</span><span style=\"background-color:#92c5de\">i</span><span style=\"background-color:#92c5de\">s</span><span style=\"background-color:#92c5de\">s</span><span style=\"background-color:#92c5de\">i</span><span style=\"background-color:#92c5de\">n</span><span style=\"background-color:#92c5de\">g</span><span style=\"background-color:#92c5de\"> </span><span style=\"background-color:#92c5de\">o</span><span style=\"background-color:#92c5de\">f</span><span style=\"background-color:#92c5de\"> </span><span style=\"background-color:#92c5de\">o</span><span style=\"background-color:#92c5de\">f</span><span style=\"background-color:#92c5de\">f</span><span style=\"background-color:#92c5de\">i</span><span style=\"background-color:#92c5de\">n</span><span style=\"background-color:#92c5de\">e</span><span style=\"background-color:#92c5de\"> </span><span style=\"background-color:#92c5de\">a</span><span style=\"background-color:#92c5de\">n</span><span style=\"background-color:#92c5de\">d</span><span style=\"background-color:#92c5de\"> </span><span style=\"background-color:#92c5de\">t</span><span style=\"background-color:#d1e5f0\">h</span><span style=\"background-color:#d1e5f0\">e</span><span style=\"background-color:#d1e5f0\"> </span><span style=\"background-color:#d1e5f0\">p</span><span style=\"background-color:#d1e5f0\">r</span><span style=\"background-color:#d1e5f0\">e</span><span style=\"background-color:#d1e5f0\">s</span><span style=\"background-color:#d1e5f0\">s</span><span style=\"background-color:#d1e5f0\"> </span><span style=\"background-color:#d1e5f0\">c</span><span style=\"background-color:#d1e5f0\">o</span><span style=\"background-color:#d1e5f0\">n</span><span style=\"background-color:#d1e5f0\">v</span><span style=\"background-color:#d1e5f0\">e</span><span style=\"background-color:#d1e5f0\">r</span><span style=\"background-color:#d1e5f0\">s</span><span style=\"background-color:#d1e5f0\">a</span><span style=\"background-color:#d1e5f0\">t</span><span style=\"background-color:#d1e5f0\">i</span><span style=\"background-color:#d1e5f0\">o</span><span style=\"background-color:#d1e5f0\">n</span><span style=\"background-color:#d1e5f0\"> </span><span style=\"background-color:#d1e5f0\">i</span><span style=\"background-color:#d1e5f0\">s</span><span style=\"background-color:#d1e5f0\"> </span><span style=\"background-color:#d1e5f0\">n</span><span style=\"background-color:#d1e5f0\">o</span><span style=\"background-color:#f7f7f7\">w</span><span style=\"background-color:#f7f7f7\"> </span><span style=\"background-color:#f7f7f7\">i</span><span style=\"background-color:#f7f7f7\">f</span><span style=\"background-color:#f7f7f7\"> </span><span style=\"background-color:#f7f7f7\">w</span><span style=\"background-color:#f7f7f7\">h</span><span style=\"background-color:#f7f7f7\">a</span><span style=\"background-color:#f7f7f7\">t</span><span style=\"background-color:#f7f7f7\"> </span><span style=\"background-color:#f7f7f7\">i</span><span style=\"background-color:#f7f7f7\">s</span><span style=\"background-color:#f7f7f7\"> </span><span style=\"background-color:#f7f7f7\">n</span><span style=\"background-color:#f7f7f7\">u</span><span style=\"background-color:#f7f7f7\">c</span><span style=\"background-color:#f7f7f7\">e</span><span style=\"background-color:#f7f7f7\"> </span><span style=\"background-color:#f7f7f7\">a</span><span style=\"background-color:#f7f7f7\">n</span><span style=\"background-color:#f7f7f7\">d</span><span style=\"background-color:#f7f7f7\"> </span><span style=\"background-color:#f7f7f7\">t</span><span style=\"background-color:#f7f7f7\">h</span><span style=\"background-color:#f7f7f7\">e</span><span style=\"background-color:#f7f7f7\"> </span><span style=\"background-color:#fddbc7\">f</span><span style=\"background-color:#fddbc7\">a</span><span style=\"background-color:#fddbc7\">c</span><span style=\"background-color:#f7f7f7\">t</span><span style=\"background-color:#fddbc7\"> </span><span style=\"background-color:#fddbc7\">t</span><span style=\"background-color:#fddbc7\">h</span><span style=\"background-color:#fddbc7\">a</span><span style=\"background-color:#fddbc7\">t</span><span style=\"background-color:#fddbc7\"> </span><span style=\"background-color:#fddbc7\">I</span><span style=\"background-color:#fddbc7\"> </span><span style=\"background-color:#fddbc7\">w</span><span style=\"background-color:#fddbc7\">i</span><span style=\"background-color:#f4a582\">l</span><span style=\"background-color:#f4a582\">l</span><span style=\"background-color:#f4a582\"> </span><span style=\"background-color:#f4a582\">s</span><span style=\"background-color:#f4a582\">o</span><span style=\"background-color:#f4a582\"> </span><span style=\"background-color:#f4a582\">t</span><span style=\"background-color:#f4a582\">h</span><span style=\"background-color:#f4a582\">e</span><span style=\"background-color:#f4a582\">y</span><span style=\"background-color:#f4a582\"> </span><span style=\"background-color:#f4a582\">w</span><span style=\"background-color:#f4a582\">i</span><span style=\"background-color:#f4a582\">l</span><span style=\"background-color:#f4a582\">l</span><span style=\"background-color:#f4a582\"> </span><span style=\"background-color:#d6604d\">s</span><span style=\"background-color:#d6604d\">t</span><span style=\"background-color:#d6604d\">o</span><span style=\"background-color:#d6604d\">p</span><span style=\"background-color:#d6604d\"> </span><span style=\"background-color:#d6604d\">i</span><span style=\"background-color:#d6604d\">n</span><span style=\"background-color:#d6604d\">c</span><span style=\"background-color:#d6604d\">r</span><span style=\"background-color:#d6604d\">e</span><span style=\"background-color:#d6604d\">d</span><span style=\"background-color:#d6604d\">i</span><span style=\"background-color:#d6604d\">b</span><span style=\"background-color:#d6604d\">l</span><span style=\"background-color:#d6604d\">e</span><span style=\"background-color:#d6604d\">.</span><span style=\"background-color:#d6604d\"> </span><span style=\"background-color:#d6604d\">W</span><span style=\"background-color:#d6604d\">h</span><span style=\"background-color:#d6604d\">e</span><span style=\"background-color:#d6604d\">n</span><span style=\"background-color:#d6604d\">e</span><span style=\"background-color:#d6604d\">r</span><span style=\"background-color:#d6604d\">e</span><span style=\"background-color:#d6604d\">d</span><span style=\"background-color:#d6604d\"> </span><span style=\"background-color:#d6604d\">i</span><span style=\"background-color:#d6604d\">t</span><span style=\"background-color:#d6604d\"> </span><span style=\"background-color:#d6604d\">w</span><span style=\"background-color:#d6604d\">a</span><span style=\"background-color:#d6604d\">s</span><span style=\"background-color:#d6604d\"> </span><span style=\"background-color:#d6604d\">g</span><span style=\"background-color:#d6604d\">r</span><span style=\"background-color:#d6604d\">e</span><span style=\"background-color:#d6604d\">a</span><span style=\"background-color:#d6604d\">t</span><span style=\"background-color:#d6604d\"> </span><span style=\"background-color:#d6604d\">a</span><span style=\"background-color:#d6604d\">n</span><span style=\"background-color:#d6604d\">d</span><span style=\"background-color:#d6604d\"> </span><span style=\"background-color:#d6604d\">w</span><span style=\"background-color:#d6604d\">o</span><span style=\"background-color:#d6604d\">r</span><span style=\"background-color:#d6604d\">s</span><span style=\"background-color:#d6604d\">e</span><span style=\"background-color:#d6604d\">.</span><span style=\"background-color:#d6604d\"> </span><span style=\"background-color:#d6604d\">W</span><span style=\"background-color:#d6604d\">h</span><span style=\"background-color:#d6604d\">a</span><span style=\"background-color:#d6604d\">t</span><span style=\"background-color:#d6604d\"> </span><span style=\"background-color:#d6604d\">w</span><span style=\"background-color:#d6604d\">i</span><span style=\"background-color:#d6604d\">l</span><span style=\"background-color:#d6604d\">l</span><span style=\"background-color:#d6604d\"> </span><span style=\"background-color:#d6604d\">t</span><span style=\"background-color:#d6604d\">h</span><span style=\"background-color:#d6604d\">e</span><span style=\"background-color:#d6604d\">y</span><span style=\"background-color:#d6604d\"> </span><span style=\"background-color:#d6604d\">s</span><span style=\"background-color:#d6604d\">u</span><span style=\"background-color:#d6604d\">r</span><span style=\"background-color:#d6604d\">p</span><span style=\"background-color:#d6604d\">r</span><span style=\"background-color:#d6604d\">y</span><span style=\"background-color:#d6604d\">s</span><span style=\"background-color:#d6604d\">e</span><span style=\"background-color:#d6604d\">d</span><span style=\"background-color:#d6604d\"> </span><span style=\"background-color:#d6604d\">i</span><span style=\"background-color:#d6604d\">t</span><span style=\"background-color:#d6604d\"> </span><span style=\"background-color:#d6604d\">i</span><span style=\"background-color:#d6604d\">n</span><span style=\"background-color:#d6604d\">c</span><span style=\"background-color:#d6604d\">r</span><span style=\"background-color:#d6604d\">e</span><span style=\"background-color:#d6604d\">a</span><span style=\"background-color:#d6604d\">s</span><span style=\"background-color:#d6604d\">e</span><span style=\"background-color:#d6604d\">s</span><span style=\"background-color:#d6604d\">?</span><span style=\"background-color:#d6604d\">.</span><span style=\"background-color:#d6604d\">.</span><span style=\"background-color:#d6604d\">.</span><span style=\"background-color:#d6604d\"><br></span><span style=\"background-color:#f4a582\">I</span><span style=\"background-color:#d1e5f0\">n</span><span style=\"background-color:#92c5de\"> </span><span style=\"background-color:#92c5de\">a</span><span style=\"background-color:#92c5de\">l</span><span style=\"background-color:#92c5de\">l</span><span style=\"background-color:#92c5de\"> </span><span style=\"background-color:#92c5de\">o</span><span style=\"background-color:#92c5de\">f</span><span style=\"background-color:#92c5de\"> </span><span style=\"background-color:#92c5de\">m</span><span style=\"background-color:#92c5de\">y</span><span style=\"background-color:#92c5de\"> </span><span style=\"background-color:#92c5de\">s</span><span style=\"background-color:#92c5de\">p</span><span style=\"background-color:#92c5de\">e</span><span style=\"background-color:#92c5de\">e</span><span style=\"background-color:#92c5de\">c</span><span style=\"background-color:#92c5de\">h</span><span style=\"background-color:#92c5de\"> </span><span style=\"background-color:#92c5de\">i</span><span style=\"background-color:#92c5de\">n</span><span style=\"background-color:#92c5de\"> </span><span style=\"background-color:#92c5de\">S</span><span style=\"background-color:#92c5de\">c</span><span style=\"background-color:#92c5de\">o</span><span style=\"background-color:#92c5de\">t</span><span style=\"background-color:#92c5de\">l</span><span style=\"background-color:#92c5de\">a</span><span style=\"background-color:#92c5de\">n</span><span style=\"background-color:#92c5de\">d</span><span style=\"background-color:#92c5de\">'</span><span style=\"background-color:#92c5de\">s</span><span style=\"background-color:#92c5de\"> </span><span style=\"background-color:#92c5de\">t</span><span style=\"background-color:#92c5de\">o</span><span style=\"background-color:#92c5de\">d</span><span style=\"background-color:#92c5de\">a</span><span style=\"background-color:#92c5de\">y</span><span style=\"background-color:#92c5de\">'</span><span style=\"background-color:#92c5de\">s</span><span style=\"background-color:#92c5de\"> </span><span style=\"background-color:#92c5de\">s</span><span style=\"background-color:#92c5de\">t</span><span style=\"background-color:#92c5de\">a</span><span style=\"background-color:#92c5de\">l</span><span style=\"background-color:#92c5de\">l</span><span style=\"background-color:#92c5de\">.</span><span style=\"background-color:#d1e5f0\"> </span><span style=\"background-color:#d1e5f0\">W</span><span style=\"background-color:#d1e5f0\">i</span><span style=\"background-color:#d1e5f0\">l</span><span style=\"background-color:#d1e5f0\">l</span><span style=\"background-color:#d1e5f0\"> </span><span style=\"background-color:#d1e5f0\">b</span><span style=\"background-color:#d1e5f0\">e</span><span style=\"background-color:#d1e5f0\"> </span><span style=\"background-color:#f7f7f7\">t</span><span style=\"background-color:#f7f7f7\">o</span><span style=\"background-color:#f7f7f7\"> </span><span style=\"background-color:#f7f7f7\">b</span><span style=\"background-color:#f7f7f7\">e</span><span style=\"background-color:#f7f7f7\"> </span><span style=\"background-color:#f7f7f7\">f</span><span style=\"background-color:#f7f7f7\">a</span><span style=\"background-color:#f7f7f7\">n</span><span style=\"background-color:#d1e5f0\">t</span><span style=\"background-color:#d1e5f0\">a</span><span style=\"background-color:#d1e5f0\">s</span><span style=\"background-color:#d1e5f0\">t</span><span style=\"background-color:#f7f7f7\">i</span></span>"
      ],
      "text/plain": [
       "<IPython.core.display.HTML object>"
      ]
     },
     "execution_count": 45,
     "metadata": {},
     "output_type": "execute_result"
    }
   ],
   "source": [
    "# Position in a tweet\n",
    "HTML(make_colored_text(samp, states, cell_id=4, layer_id=0))"
   ]
  },
  {
   "cell_type": "code",
   "execution_count": 49,
   "metadata": {},
   "outputs": [
    {
     "data": {
      "text/html": [
       "<span style=\"white-space: per-line; font-family: Courier, Monaco, mono space\"><span style=\"background-color:#d1e5f0\">O</span><span style=\"background-color:#d1e5f0\">b</span><span style=\"background-color:#d1e5f0\">a</span><span style=\"background-color:#f4a582\">m</span><span style=\"background-color:#d1e5f0\">a</span><span style=\"background-color:#d6604d\"> </span><span style=\"background-color:#d6604d\">(</span><span style=\"background-color:#d6604d\">c</span><span style=\"background-color:#d6604d\">o</span><span style=\"background-color:#92c5de\">n</span><span style=\"background-color:#92c5de\">t</span><span style=\"background-color:#f4a582\">)</span><span style=\"background-color:#92c5de\"> </span><span style=\"background-color:#d6604d\">h</span><span style=\"background-color:#f4a582\">t</span><span style=\"background-color:#92c5de\">t</span><span style=\"background-color:#f7f7f7\">p</span><span style=\"background-color:#92c5de\">:</span><span style=\"background-color:#92c5de\">/</span><span style=\"background-color:#f4a582\">/</span><span style=\"background-color:#d6604d\">t</span><span style=\"background-color:#d6604d\">.</span><span style=\"background-color:#d6604d\">c</span><span style=\"background-color:#d6604d\">o</span><span style=\"background-color:#d6604d\">/</span><span style=\"background-color:#d6604d\">S</span><span style=\"background-color:#f4a582\">A</span><span style=\"background-color:#f4a582\">B</span><span style=\"background-color:#f4a582\">5</span><span style=\"background-color:#fddbc7\">5</span><span style=\"background-color:#fddbc7\">0</span><span style=\"background-color:#fddbc7\">0</span><span style=\"background-color:#f7f7f7\">m</span><span style=\"background-color:#f7f7f7\"><br></span><span style=\"background-color:#d6604d\">T</span><span style=\"background-color:#d6604d\">h</span><span style=\"background-color:#f4a582\">e</span><span style=\"background-color:#92c5de\"> </span><span style=\"background-color:#d6604d\">U</span><span style=\"background-color:#92c5de\">.</span><span style=\"background-color:#f7f7f7\">S</span><span style=\"background-color:#fddbc7\">.</span><span style=\"background-color:#92c5de\"> </span><span style=\"background-color:#d6604d\">h</span><span style=\"background-color:#d6604d\">a</span><span style=\"background-color:#92c5de\">s</span><span style=\"background-color:#d1e5f0\"> </span><span style=\"background-color:#d6604d\">a</span><span style=\"background-color:#d1e5f0\"> </span><span style=\"background-color:#d6604d\">c</span><span style=\"background-color:#d6604d\">o</span><span style=\"background-color:#92c5de\">u</span><span style=\"background-color:#92c5de\">n</span><span style=\"background-color:#fddbc7\">t</span><span style=\"background-color:#d1e5f0\">r</span><span style=\"background-color:#92c5de\">y</span><span style=\"background-color:#92c5de\"> </span><span style=\"background-color:#d6604d\">a</span><span style=\"background-color:#d1e5f0\">n</span><span style=\"background-color:#92c5de\">d</span><span style=\"background-color:#92c5de\"> </span><span style=\"background-color:#d6604d\">w</span><span style=\"background-color:#d6604d\">i</span><span style=\"background-color:#92c5de\">l</span><span style=\"background-color:#92c5de\">l</span><span style=\"background-color:#92c5de\"> </span><span style=\"background-color:#d6604d\">b</span><span style=\"background-color:#92c5de\">e</span><span style=\"background-color:#92c5de\"> </span><span style=\"background-color:#d6604d\">a</span><span style=\"background-color:#d1e5f0\"> </span><span style=\"background-color:#d6604d\">b</span><span style=\"background-color:#92c5de\">e</span><span style=\"background-color:#92c5de\">g</span><span style=\"background-color:#d1e5f0\">o</span><span style=\"background-color:#92c5de\">n</span><span style=\"background-color:#92c5de\">d</span><span style=\"background-color:#92c5de\"> </span><span style=\"background-color:#d6604d\">t</span><span style=\"background-color:#d6604d\">h</span><span style=\"background-color:#f7f7f7\">a</span><span style=\"background-color:#92c5de\">t</span><span style=\"background-color:#d1e5f0\"> </span><span style=\"background-color:#d6604d\">t</span><span style=\"background-color:#d6604d\">h</span><span style=\"background-color:#f7f7f7\">e</span><span style=\"background-color:#92c5de\">y</span><span style=\"background-color:#92c5de\">'</span><span style=\"background-color:#d1e5f0\">r</span><span style=\"background-color:#92c5de\">e</span><span style=\"background-color:#92c5de\"> </span><span style=\"background-color:#d6604d\">g</span><span style=\"background-color:#f4a582\">o</span><span style=\"background-color:#92c5de\">i</span><span style=\"background-color:#92c5de\">n</span><span style=\"background-color:#92c5de\">g</span><span style=\"background-color:#f7f7f7\"> </span><span style=\"background-color:#d6604d\">t</span><span style=\"background-color:#d6604d\">o</span><span style=\"background-color:#92c5de\"> </span><span style=\"background-color:#d6604d\">h</span><span style=\"background-color:#d6604d\">a</span><span style=\"background-color:#92c5de\">v</span><span style=\"background-color:#d1e5f0\">e</span><span style=\"background-color:#92c5de\"> </span><span style=\"background-color:#d6604d\">a</span><span style=\"background-color:#d1e5f0\"> </span><span style=\"background-color:#d6604d\">g</span><span style=\"background-color:#d6604d\">r</span><span style=\"background-color:#d1e5f0\">e</span><span style=\"background-color:#92c5de\">a</span><span style=\"background-color:#d1e5f0\">t</span><span style=\"background-color:#fddbc7\"> </span><span style=\"background-color:#d6604d\">p</span><span style=\"background-color:#d6604d\">a</span><span style=\"background-color:#92c5de\">t</span><span style=\"background-color:#f4a582\">h</span><span style=\"background-color:#92c5de\">i</span><span style=\"background-color:#92c5de\">n</span><span style=\"background-color:#92c5de\">g</span><span style=\"background-color:#92c5de\"> </span><span style=\"background-color:#d6604d\">o</span><span style=\"background-color:#92c5de\">r</span><span style=\"background-color:#92c5de\"> </span><span style=\"background-color:#d6604d\">t</span><span style=\"background-color:#d6604d\">h</span><span style=\"background-color:#d1e5f0\">e</span><span style=\"background-color:#92c5de\"> </span><span style=\"background-color:#d6604d\">p</span><span style=\"background-color:#d6604d\">r</span><span style=\"background-color:#92c5de\">e</span><span style=\"background-color:#92c5de\">s</span><span style=\"background-color:#f4a582\">s</span><span style=\"background-color:#d1e5f0\"> </span><span style=\"background-color:#d6604d\">c</span><span style=\"background-color:#d6604d\">o</span><span style=\"background-color:#92c5de\">n</span><span style=\"background-color:#92c5de\">d</span><span style=\"background-color:#f7f7f7\">e</span><span style=\"background-color:#92c5de\">c</span><span style=\"background-color:#d1e5f0\">t</span><span style=\"background-color:#fddbc7\">i</span><span style=\"background-color:#92c5de\">o</span><span style=\"background-color:#92c5de\">n</span><span style=\"background-color:#92c5de\">.</span><span style=\"background-color:#d1e5f0\"> </span><span style=\"background-color:#d6604d\">T</span><span style=\"background-color:#d6604d\">r</span><span style=\"background-color:#d1e5f0\">u</span><span style=\"background-color:#92c5de\">e</span><span style=\"background-color:#d1e5f0\"> </span><span style=\"background-color:#d6604d\">t</span><span style=\"background-color:#d6604d\">o</span><span style=\"background-color:#92c5de\"> </span><span style=\"background-color:#f4a582\">m</span><span style=\"background-color:#d6604d\">y</span><span style=\"background-color:#92c5de\"> </span><span style=\"background-color:#d6604d\">c</span><span style=\"background-color:#d6604d\">o</span><span style=\"background-color:#92c5de\">m</span><span style=\"background-color:#92c5de\">m</span><span style=\"background-color:#f4a582\">u</span><span style=\"background-color:#d1e5f0\">n</span><span style=\"background-color:#92c5de\">i</span><span style=\"background-color:#92c5de\">t</span><span style=\"background-color:#92c5de\">y</span><span style=\"background-color:#92c5de\">!</span><span style=\"background-color:#92c5de\"><br></span><span style=\"background-color:#d6604d\">.</span><span style=\"background-color:#fddbc7\">@</span><span style=\"background-color:#d6604d\">B</span><span style=\"background-color:#fddbc7\">i</span><span style=\"background-color:#92c5de\">l</span><span style=\"background-color:#92c5de\">l</span><span style=\"background-color:#f4a582\">M</span><span style=\"background-color:#f7f7f7\">e</span><span style=\"background-color:#92c5de\">a</span><span style=\"background-color:#d1e5f0\">c</span><span style=\"background-color:#d6604d\">h</span><span style=\"background-color:#d1e5f0\"> </span><span style=\"background-color:#d6604d\">i</span><span style=\"background-color:#d1e5f0\">s</span><span style=\"background-color:#fddbc7\"> </span><span style=\"background-color:#d6604d\">a</span><span style=\"background-color:#92c5de\">n</span><span style=\"background-color:#92c5de\"> </span><span style=\"background-color:#d6604d\">a</span><span style=\"background-color:#d1e5f0\">m</span><span style=\"background-color:#d1e5f0\">a</span><span style=\"background-color:#92c5de\">z</span><span style=\"background-color:#fddbc7\">i</span><span style=\"background-color:#92c5de\">n</span><span style=\"background-color:#92c5de\">g</span><span style=\"background-color:#92c5de\"> </span><span style=\"background-color:#d6604d\">p</span><span style=\"background-color:#d6604d\">a</span><span style=\"background-color:#92c5de\">r</span><span style=\"background-color:#92c5de\">t</span><span style=\"background-color:#92c5de\">i</span><span style=\"background-color:#92c5de\">c</span><span style=\"background-color:#92c5de\">i</span><span style=\"background-color:#d1e5f0\">p</span><span style=\"background-color:#f7f7f7\">y</span><span style=\"background-color:#92c5de\"> </span><span style=\"background-color:#d6604d\">w</span><span style=\"background-color:#d6604d\">o</span><span style=\"background-color:#92c5de\">n</span><span style=\"background-color:#92c5de\">'</span><span style=\"background-color:#fddbc7\">t</span><span style=\"background-color:#92c5de\"> </span><span style=\"background-color:#d6604d\">t</span><span style=\"background-color:#d6604d\">o</span><span style=\"background-color:#92c5de\">p</span><span style=\"background-color:#92c5de\"> </span><span style=\"background-color:#d6604d\">c</span><span style=\"background-color:#d6604d\">r</span><span style=\"background-color:#92c5de\">o</span><span style=\"background-color:#92c5de\">w</span><span style=\"background-color:#f7f7f7\">d</span><span style=\"background-color:#92c5de\">.</span><span style=\"background-color:#d1e5f0\"> </span><span style=\"background-color:#d6604d\">W</span><span style=\"background-color:#d6604d\">a</span><span style=\"background-color:#92c5de\">t</span><span style=\"background-color:#f7f7f7\">c</span><span style=\"background-color:#d1e5f0\">h</span><span style=\"background-color:#92c5de\"> </span><span style=\"background-color:#d6604d\">@</span><span style=\"background-color:#d6604d\">B</span><span style=\"background-color:#d1e5f0\">a</span><span style=\"background-color:#92c5de\">r</span><span style=\"background-color:#92c5de\">a</span><span style=\"background-color:#92c5de\">c</span><span style=\"background-color:#f4a582\">k</span><span style=\"background-color:#d1e5f0\">O</span><span style=\"background-color:#92c5de\">b</span><span style=\"background-color:#92c5de\">a</span><span style=\"background-color:#92c5de\">m</span><span style=\"background-color:#d6604d\">a</span><span style=\"background-color:#92c5de\"> </span><span style=\"background-color:#d6604d\">h</span><span style=\"background-color:#d6604d\">a</span><span style=\"background-color:#92c5de\">s</span><span style=\"background-color:#92c5de\"> </span><span style=\"background-color:#d6604d\">n</span><span style=\"background-color:#d1e5f0\">e</span><span style=\"background-color:#92c5de\">v</span><span style=\"background-color:#92c5de\">e</span><span style=\"background-color:#92c5de\">r</span><span style=\"background-color:#92c5de\"> </span><span style=\"background-color:#d6604d\">b</span><span style=\"background-color:#d1e5f0\">e</span><span style=\"background-color:#92c5de\">e</span><span style=\"background-color:#92c5de\">n</span><span style=\"background-color:#92c5de\"> </span><span style=\"background-color:#d6604d\">d</span><span style=\"background-color:#d1e5f0\">o</span><span style=\"background-color:#92c5de\">i</span><span style=\"background-color:#92c5de\">n</span><span style=\"background-color:#d1e5f0\">g</span><span style=\"background-color:#d1e5f0\"> </span><span style=\"background-color:#d6604d\">a</span><span style=\"background-color:#d1e5f0\"> </span><span style=\"background-color:#d6604d\">g</span><span style=\"background-color:#d6604d\">r</span><span style=\"background-color:#d1e5f0\">e</span><span style=\"background-color:#92c5de\">a</span><span style=\"background-color:#d1e5f0\">t</span><span style=\"background-color:#f4a582\"> </span><span style=\"background-color:#d6604d\">p</span><span style=\"background-color:#d6604d\">a</span><span style=\"background-color:#92c5de\">s</span><span style=\"background-color:#f4a582\">t</span><span style=\"background-color:#92c5de\"> </span><span style=\"background-color:#d6604d\">r</span><span style=\"background-color:#d1e5f0\">e</span><span style=\"background-color:#92c5de\">l</span><span style=\"background-color:#92c5de\">e</span><span style=\"background-color:#92c5de\">a</span><span style=\"background-color:#d1e5f0\">s</span><span style=\"background-color:#d6604d\">e</span><span style=\"background-color:#92c5de\">.</span><span style=\"background-color:#92c5de\"> </span><span style=\"background-color:#d6604d\">W</span><span style=\"background-color:#d6604d\">e</span><span style=\"background-color:#92c5de\"> </span><span style=\"background-color:#d6604d\">h</span><span style=\"background-color:#d6604d\">a</span><span style=\"background-color:#92c5de\">v</span><span style=\"background-color:#f7f7f7\">e</span><span style=\"background-color:#92c5de\"> </span><span style=\"background-color:#d6604d\">a</span><span style=\"background-color:#d1e5f0\">l</span><span style=\"background-color:#92c5de\">l</span><span style=\"background-color:#92c5de\">o</span><span style=\"background-color:#92c5de\">w</span><span style=\"background-color:#92c5de\">e</span><span style=\"background-color:#92c5de\">d</span><span style=\"background-color:#92c5de\"> </span><span style=\"background-color:#d6604d\">t</span><span style=\"background-color:#d6604d\">h</span><span style=\"background-color:#d1e5f0\">e</span><span style=\"background-color:#92c5de\"> </span><span style=\"background-color:#d6604d\">b</span><span style=\"background-color:#92c5de\">e</span><span style=\"background-color:#92c5de\">s</span><span style=\"background-color:#fddbc7\">t</span><span style=\"background-color:#92c5de\"> </span><span style=\"background-color:#d6604d\">p</span><span style=\"background-color:#d6604d\">l</span><span style=\"background-color:#92c5de\">a</span><span style=\"background-color:#92c5de\">n</span><span style=\"background-color:#92c5de\">t</span><span style=\"background-color:#92c5de\">!</span><span style=\"background-color:#92c5de\"><br></span><span style=\"background-color:#d6604d\">T</span><span style=\"background-color:#d6604d\">h</span><span style=\"background-color:#f7f7f7\">e</span><span style=\"background-color:#92c5de\"> </span><span style=\"background-color:#d6604d\">p</span><span style=\"background-color:#d6604d\">l</span><span style=\"background-color:#92c5de\">a</span><span style=\"background-color:#92c5de\">c</span><span style=\"background-color:#fddbc7\">e</span><span style=\"background-color:#92c5de\"> </span><span style=\"background-color:#d6604d\">o</span><span style=\"background-color:#92c5de\">f</span><span style=\"background-color:#92c5de\"> </span><span style=\"background-color:#d6604d\">@</span><span style=\"background-color:#d6604d\">M</span><span style=\"background-color:#d6604d\">i</span><span style=\"background-color:#92c5de\">t</span><span style=\"background-color:#d6604d\">t</span><span style=\"background-color:#f7f7f7\">R</span><span style=\"background-color:#92c5de\">o</span><span style=\"background-color:#92c5de\">m</span><span style=\"background-color:#d1e5f0\">n</span><span style=\"background-color:#92c5de\">e</span><span style=\"background-color:#d1e5f0\">y</span><span style=\"background-color:#92c5de\"> </span><span style=\"background-color:#d6604d\">w</span><span style=\"background-color:#d6604d\">a</span><span style=\"background-color:#92c5de\">s</span><span style=\"background-color:#92c5de\"> </span><span style=\"background-color:#d6604d\">g</span><span style=\"background-color:#d6604d\">r</span><span style=\"background-color:#d1e5f0\">e</span><span style=\"background-color:#92c5de\">a</span><span style=\"background-color:#d1e5f0\">t</span><span style=\"background-color:#f4a582\"> </span><span style=\"background-color:#d6604d\">o</span><span style=\"background-color:#92c5de\">f</span><span style=\"background-color:#92c5de\">f</span><span style=\"background-color:#92c5de\"> </span><span style=\"background-color:#d6604d\">a</span><span style=\"background-color:#d1e5f0\">n</span><span style=\"background-color:#92c5de\">d</span><span style=\"background-color:#92c5de\"> </span><span style=\"background-color:#d6604d\">m</span><span style=\"background-color:#d6604d\">a</span><span style=\"background-color:#92c5de\">k</span><span style=\"background-color:#fddbc7\">e</span><span style=\"background-color:#92c5de\"> </span><span style=\"background-color:#d6604d\">t</span><span style=\"background-color:#d6604d\">h</span><span style=\"background-color:#d1e5f0\">e</span><span style=\"background-color:#92c5de\"> </span><span style=\"background-color:#d6604d\">s</span><span style=\"background-color:#d6604d\">u</span><span style=\"background-color:#92c5de\">c</span><span style=\"background-color:#f4a582\">c</span><span style=\"background-color:#d1e5f0\">e</span><span style=\"background-color:#92c5de\">s</span><span style=\"background-color:#f7f7f7\">s</span><span style=\"background-color:#f4a582\"> </span><span style=\"background-color:#d6604d\">o</span><span style=\"background-color:#92c5de\">f</span><span style=\"background-color:#92c5de\"> </span><span style=\"background-color:#d6604d\">o</span><span style=\"background-color:#92c5de\">u</span><span style=\"background-color:#92c5de\">r</span><span style=\"background-color:#92c5de\"> </span><span style=\"background-color:#d6604d\">m</span><span style=\"background-color:#d6604d\">o</span><span style=\"background-color:#92c5de\">n</span><span style=\"background-color:#92c5de\">e</span><span style=\"background-color:#92c5de\">y</span><span style=\"background-color:#92c5de\">.</span><span style=\"background-color:#d1e5f0\"><br></span><span style=\"background-color:#d6604d\">W</span><span style=\"background-color:#d6604d\">h</span><span style=\"background-color:#92c5de\">i</span><span style=\"background-color:#92c5de\">c</span><span style=\"background-color:#f4a582\">h</span><span style=\"background-color:#92c5de\"> </span><span style=\"background-color:#d6604d\">i</span><span style=\"background-color:#d1e5f0\">s</span><span style=\"background-color:#fddbc7\"> </span><span style=\"background-color:#d6604d\">a</span><span style=\"background-color:#92c5de\"> </span><span style=\"background-color:#d6604d\">s</span><span style=\"background-color:#d6604d\">t</span><span style=\"background-color:#92c5de\">a</span><span style=\"background-color:#92c5de\">r</span><span style=\"background-color:#92c5de\"> </span><span style=\"background-color:#d6604d\">s</span><span style=\"background-color:#d6604d\">t</span><span style=\"background-color:#d1e5f0\">a</span><span style=\"background-color:#92c5de\">r</span><span style=\"background-color:#92c5de\"> </span><span style=\"background-color:#d6604d\">o</span><span style=\"background-color:#92c5de\">n</span><span style=\"background-color:#92c5de\"> </span><span style=\"background-color:#d6604d\">h</span><span style=\"background-color:#d6604d\">e</span><span style=\"background-color:#92c5de\">l</span><span style=\"background-color:#92c5de\">l</span><span style=\"background-color:#92c5de\"> </span><span style=\"background-color:#d6604d\">i</span><span style=\"background-color:#f7f7f7\">n</span><span style=\"background-color:#92c5de\">s</span><span style=\"background-color:#d6604d\">u</span><span style=\"background-color:#92c5de\">r</span><span style=\"background-color:#d1e5f0\">e</span><span style=\"background-color:#92c5de\">d</span><span style=\"background-color:#92c5de\">.</span><span style=\"background-color:#d1e5f0\"> </span><span style=\"background-color:#d6604d\">H</span><span style=\"background-color:#d6604d\">e</span><span style=\"background-color:#92c5de\"> </span><span style=\"background-color:#d6604d\">h</span><span style=\"background-color:#d6604d\">a</span><span style=\"background-color:#92c5de\">s</span><span style=\"background-color:#d1e5f0\"> </span><span style=\"background-color:#d6604d\">n</span><span style=\"background-color:#d1e5f0\">o</span><span style=\"background-color:#92c5de\">t</span><span style=\"background-color:#92c5de\"> </span><span style=\"background-color:#d6604d\">b</span><span style=\"background-color:#d1e5f0\">e</span><span style=\"background-color:#92c5de\"> </span><span style=\"background-color:#d6604d\">p</span><span style=\"background-color:#d6604d\">e</span><span style=\"background-color:#92c5de\">o</span><span style=\"background-color:#92c5de\">p</span><span style=\"background-color:#92c5de\">l</span><span style=\"background-color:#92c5de\">e</span><span style=\"background-color:#92c5de\"> </span><span style=\"background-color:#d6604d\">a</span><span style=\"background-color:#d1e5f0\">r</span><span style=\"background-color:#92c5de\">e</span><span style=\"background-color:#92c5de\"> </span><span style=\"background-color:#d6604d\">g</span><span style=\"background-color:#d6604d\">o</span><span style=\"background-color:#92c5de\">i</span><span style=\"background-color:#92c5de\">n</span><span style=\"background-color:#92c5de\">g</span><span style=\"background-color:#d1e5f0\"> </span><span style=\"background-color:#d6604d\">t</span><span style=\"background-color:#d6604d\">o</span><span style=\"background-color:#92c5de\"> </span><span style=\"background-color:#f4a582\">t</span><span style=\"background-color:#d6604d\">h</span><span style=\"background-color:#d1e5f0\">i</span><span style=\"background-color:#92c5de\">n</span><span style=\"background-color:#92c5de\">k</span><span style=\"background-color:#f7f7f7\"> </span><span style=\"background-color:#d6604d\">t</span><span style=\"background-color:#d6604d\">h</span><span style=\"background-color:#d1e5f0\">e</span><span style=\"background-color:#92c5de\"> </span><span style=\"background-color:#d6604d\">p</span><span style=\"background-color:#d6604d\">e</span><span style=\"background-color:#92c5de\">o</span><span style=\"background-color:#92c5de\">p</span><span style=\"background-color:#92c5de\">l</span><span style=\"background-color:#92c5de\">e</span><span style=\"background-color:#92c5de\">.</span><span style=\"background-color:#f7f7f7\"> </span><span style=\"background-color:#d6604d\">W</span><span style=\"background-color:#d6604d\">e</span><span style=\"background-color:#92c5de\"> </span><span style=\"background-color:#d6604d\">n</span><span style=\"background-color:#92c5de\">e</span><span style=\"background-color:#92c5de\">e</span><span style=\"background-color:#d1e5f0\">d</span><span style=\"background-color:#d1e5f0\"> </span><span style=\"background-color:#d6604d\">s</span><span style=\"background-color:#d6604d\">e</span><span style=\"background-color:#92c5de\">e</span><span style=\"background-color:#d1e5f0\">s</span><span style=\"background-color:#d1e5f0\">.</span><span style=\"background-color:#92c5de\"> </span><span style=\"background-color:#d6604d\">W</span><span style=\"background-color:#d6604d\">i</span><span style=\"background-color:#92c5de\">l</span><span style=\"background-color:#92c5de\">l</span><span style=\"background-color:#92c5de\"> </span><span style=\"background-color:#d6604d\">b</span><span style=\"background-color:#92c5de\">e</span><span style=\"background-color:#92c5de\"> </span><span style=\"background-color:#d6604d\">t</span><span style=\"background-color:#d6604d\">h</span><span style=\"background-color:#f4a582\">e</span><span style=\"background-color:#92c5de\"> </span><span style=\"background-color:#d6604d\">f</span><span style=\"background-color:#f7f7f7\">o</span><span style=\"background-color:#92c5de\">c</span><span style=\"background-color:#92c5de\">u</span><span style=\"background-color:#92c5de\">s</span><span style=\"background-color:#f4a582\"> </span><span style=\"background-color:#d6604d\">a</span><span style=\"background-color:#d1e5f0\">n</span><span style=\"background-color:#92c5de\">d</span><span style=\"background-color:#92c5de\"> </span><span style=\"background-color:#d6604d\">s</span><span style=\"background-color:#d6604d\">t</span><span style=\"background-color:#92c5de\">a</span><span style=\"background-color:#92c5de\">r</span><span style=\"background-color:#92c5de\">t</span><span style=\"background-color:#92c5de\"> </span><span style=\"background-color:#d6604d\">a</span><span style=\"background-color:#d1e5f0\">n</span><span style=\"background-color:#92c5de\">d</span><span style=\"background-color:#92c5de\"> </span><span style=\"background-color:#d6604d\">a</span><span style=\"background-color:#d1e5f0\">n</span><span style=\"background-color:#92c5de\">d</span><span style=\"background-color:#92c5de\"> </span><span style=\"background-color:#d6604d\">a</span><span style=\"background-color:#d1e5f0\"> </span><span style=\"background-color:#d6604d\">s</span><span style=\"background-color:#d6604d\">e</span><span style=\"background-color:#92c5de\">n</span><span style=\"background-color:#d1e5f0\">s</span><span style=\"background-color:#d1e5f0\">e</span><span style=\"background-color:#92c5de\"> </span><span style=\"background-color:#d6604d\">t</span><span style=\"background-color:#d6604d\">r</span><span style=\"background-color:#d1e5f0\">i</span><span style=\"background-color:#92c5de\">v</span><span style=\"background-color:#d1e5f0\">e</span><span style=\"background-color:#d1e5f0\">l</span><span style=\"background-color:#92c5de\">e</span><span style=\"background-color:#92c5de\">.</span><span style=\"background-color:#d1e5f0\"><br></span><span style=\"background-color:#d6604d\">I</span><span style=\"background-color:#92c5de\"> </span><span style=\"background-color:#d6604d\">w</span><span style=\"background-color:#d6604d\">e</span><span style=\"background-color:#92c5de\">l</span><span style=\"background-color:#92c5de\">e</span><span style=\"background-color:#92c5de\"> </span><span style=\"background-color:#d6604d\">t</span><span style=\"background-color:#d6604d\">h</span><span style=\"background-color:#f7f7f7\">a</span><span style=\"background-color:#92c5de\">t</span><span style=\"background-color:#d1e5f0\"> </span><span style=\"background-color:#d6604d\">t</span><span style=\"background-color:#d6604d\">h</span><span style=\"background-color:#f7f7f7\">e</span><span style=\"background-color:#92c5de\"> </span><span style=\"background-color:#d6604d\">U</span><span style=\"background-color:#92c5de\">.</span><span style=\"background-color:#f7f7f7\">S</span><span style=\"background-color:#f7f7f7\">.</span><span style=\"background-color:#92c5de\"> </span><span style=\"background-color:#d6604d\">w</span><span style=\"background-color:#d6604d\">o</span><span style=\"background-color:#92c5de\">u</span><span style=\"background-color:#92c5de\">l</span><span style=\"background-color:#d1e5f0\">d</span><span style=\"background-color:#92c5de\"> </span><span style=\"background-color:#d6604d\">s</span><span style=\"background-color:#d6604d\">a</span><span style=\"background-color:#92c5de\">y</span><span style=\"background-color:#92c5de\"> </span><span style=\"background-color:#d6604d\">i</span><span style=\"background-color:#d1e5f0\">t</span><span style=\"background-color:#fddbc7\"> </span><span style=\"background-color:#d6604d\">o</span><span style=\"background-color:#92c5de\">n</span><span style=\"background-color:#92c5de\"> </span><span style=\"background-color:#d6604d\">T</span><span style=\"background-color:#d6604d\">r</span><span style=\"background-color:#92c5de\">u</span><span style=\"background-color:#92c5de\">m</span><span style=\"background-color:#d6604d\">p</span><span style=\"background-color:#fddbc7\"> </span><span style=\"background-color:#d6604d\">I</span><span style=\"background-color:#92c5de\">n</span><span style=\"background-color:#92c5de\">t</span><span style=\"background-color:#d6604d\">'</span><span style=\"background-color:#d1e5f0\">l</span><span style=\"background-color:#92c5de\"> </span><span style=\"background-color:#d6604d\">H</span><span style=\"background-color:#d6604d\">o</span><span style=\"background-color:#92c5de\">t</span><span style=\"background-color:#d1e5f0\">e</span><span style=\"background-color:#92c5de\">l</span><span style=\"background-color:#92c5de\"> </span><span style=\"background-color:#d6604d\">&</span><span style=\"background-color:#d1e5f0\">a</span><span style=\"background-color:#92c5de\">m</span><span style=\"background-color:#d6604d\">p</span><span style=\"background-color:#d6604d\">;</span><span style=\"background-color:#d1e5f0\"> </span><span style=\"background-color:#d6604d\">M</span><span style=\"background-color:#d6604d\">i</span><span style=\"background-color:#92c5de\">s</span><span style=\"background-color:#d6604d\">s</span><span style=\"background-color:#f7f7f7\"> </span><span style=\"background-color:#d6604d\">U</span><span style=\"background-color:#d1e5f0\">n</span><span style=\"background-color:#f7f7f7\">i</span><span style=\"background-color:#92c5de\">v</span><span style=\"background-color:#f7f7f7\">e</span><span style=\"background-color:#92c5de\">r</span><span style=\"background-color:#92c5de\">s</span><span style=\"background-color:#f4a582\">e</span><span style=\"background-color:#92c5de\"> </span><span style=\"background-color:#f4a582\">P</span><span style=\"background-color:#f4a582\">a</span><span style=\"background-color:#92c5de\">g</span><span style=\"background-color:#d6604d\">e</span><span style=\"background-color:#92c5de\">a</span><span style=\"background-color:#92c5de\">n</span><span style=\"background-color:#d1e5f0\">t</span><span style=\"background-color:#92c5de\"> </span><span style=\"background-color:#d6604d\">w</span><span style=\"background-color:#d6604d\">e</span><span style=\"background-color:#92c5de\">r</span><span style=\"background-color:#92c5de\">e</span><span style=\"background-color:#92c5de\"> </span><span style=\"background-color:#d6604d\">f</span><span style=\"background-color:#f4a582\">a</span><span style=\"background-color:#92c5de\">n</span><span style=\"background-color:#92c5de\">t</span><span style=\"background-color:#f4a582\">a</span><span style=\"background-color:#92c5de\">s</span><span style=\"background-color:#f4a582\">t</span><span style=\"background-color:#d1e5f0\">i</span><span style=\"background-color:#92c5de\">c</span><span style=\"background-color:#92c5de\"> </span><span style=\"background-color:#d6604d\">o</span><span style=\"background-color:#92c5de\">n</span><span style=\"background-color:#92c5de\"> </span><span style=\"background-color:#d6604d\">@</span><span style=\"background-color:#d6604d\">F</span><span style=\"background-color:#d6604d\">o</span><span style=\"background-color:#92c5de\">x</span><span style=\"background-color:#92c5de\">N</span><span style=\"background-color:#92c5de\">e</span><span style=\"background-color:#92c5de\">w</span><span style=\"background-color:#92c5de\">s</span><span style=\"background-color:#f4a582\"> </span><span style=\"background-color:#d6604d\">t</span><span style=\"background-color:#d6604d\">h</span><span style=\"background-color:#f4a582\">a</span><span style=\"background-color:#92c5de\">t</span><span style=\"background-color:#fddbc7\"> </span><span style=\"background-color:#d6604d\">@</span><span style=\"background-color:#d6604d\">M</span><span style=\"background-color:#d6604d\">i</span><span style=\"background-color:#92c5de\">t</span><span style=\"background-color:#d6604d\">t</span><span style=\"background-color:#f7f7f7\">R</span><span style=\"background-color:#92c5de\">o</span><span style=\"background-color:#92c5de\">m</span><span style=\"background-color:#f7f7f7\">n</span><span style=\"background-color:#92c5de\">e</span><span style=\"background-color:#d1e5f0\">y</span><span style=\"background-color:#92c5de\"> </span><span style=\"background-color:#d6604d\">h</span><span style=\"background-color:#d6604d\">a</span><span style=\"background-color:#92c5de\">s</span><span style=\"background-color:#d1e5f0\"> </span><span style=\"background-color:#d6604d\">s</span><span style=\"background-color:#d6604d\">p</span><span style=\"background-color:#d1e5f0\">i</span><span style=\"background-color:#92c5de\">r</span><span style=\"background-color:#92c5de\">a</span><span style=\"background-color:#92c5de\">d</span><span style=\"background-color:#d1e5f0\"> </span><span style=\"background-color:#d6604d\">o</span><span style=\"background-color:#92c5de\">f</span><span style=\"background-color:#92c5de\"> </span><span style=\"background-color:#d6604d\">t</span><span style=\"background-color:#d6604d\">h</span><span style=\"background-color:#d1e5f0\">e</span><span style=\"background-color:#92c5de\">i</span><span style=\"background-color:#92c5de\">r</span><span style=\"background-color:#92c5de\"> </span><span style=\"background-color:#d6604d\">s</span><span style=\"background-color:#d6604d\">t</span><span style=\"background-color:#92c5de\">r</span><span style=\"background-color:#92c5de\">e</span><span style=\"background-color:#92c5de\">n</span><span style=\"background-color:#92c5de\">g</span><span style=\"background-color:#92c5de\">t</span><span style=\"background-color:#f7f7f7\">h</span><span style=\"background-color:#92c5de\"> </span><span style=\"background-color:#d6604d\">w</span><span style=\"background-color:#d6604d\">i</span><span style=\"background-color:#92c5de\">t</span><span style=\"background-color:#f4a582\">h</span><span style=\"background-color:#92c5de\"> </span><span style=\"background-color:#d6604d\">t</span><span style=\"background-color:#d6604d\">h</span><span style=\"background-color:#d1e5f0\">e</span><span style=\"background-color:#92c5de\"> </span><span style=\"background-color:#d6604d\">m</span><span style=\"background-color:#d6604d\">o</span><span style=\"background-color:#92c5de\">v</span><span style=\"background-color:#f7f7f7\">e</span><span style=\"background-color:#92c5de\">m</span><span style=\"background-color:#d1e5f0\">e</span><span style=\"background-color:#92c5de\">n</span><span style=\"background-color:#d1e5f0\">t</span><span style=\"background-color:#92c5de\"> </span><span style=\"background-color:#d6604d\">f</span><span style=\"background-color:#f4a582\">o</span><span style=\"background-color:#92c5de\">r</span><span style=\"background-color:#92c5de\"> </span><span style=\"background-color:#d6604d\">m</span><span style=\"background-color:#d6604d\">i</span><span style=\"background-color:#92c5de\">n</span><span style=\"background-color:#92c5de\">d</span><span style=\"background-color:#92c5de\">.</span><span style=\"background-color:#f7f7f7\"><br></span><span style=\"background-color:#d6604d\">W</span><span style=\"background-color:#d6604d\">i</span><span style=\"background-color:#92c5de\">t</span><span style=\"background-color:#d6604d\">h</span><span style=\"background-color:#92c5de\"> </span><span style=\"background-color:#d6604d\">t</span><span style=\"background-color:#d6604d\">h</span><span style=\"background-color:#d1e5f0\">e</span><span style=\"background-color:#92c5de\"> </span><span style=\"background-color:#d6604d\">m</span><span style=\"background-color:#d6604d\">i</span><span style=\"background-color:#92c5de\">s</span><span style=\"background-color:#d6604d\">s</span><span style=\"background-color:#fddbc7\">i</span><span style=\"background-color:#92c5de\">n</span><span style=\"background-color:#92c5de\">g</span><span style=\"background-color:#f7f7f7\"> </span><span style=\"background-color:#d6604d\">o</span><span style=\"background-color:#92c5de\">f</span><span style=\"background-color:#92c5de\"> </span><span style=\"background-color:#d6604d\">o</span><span style=\"background-color:#92c5de\">f</span><span style=\"background-color:#92c5de\">f</span><span style=\"background-color:#92c5de\">i</span><span style=\"background-color:#92c5de\">n</span><span style=\"background-color:#92c5de\">e</span><span style=\"background-color:#92c5de\"> </span><span style=\"background-color:#d6604d\">a</span><span style=\"background-color:#d1e5f0\">n</span><span style=\"background-color:#92c5de\">d</span><span style=\"background-color:#92c5de\"> </span><span style=\"background-color:#d6604d\">t</span><span style=\"background-color:#d6604d\">h</span><span style=\"background-color:#d1e5f0\">e</span><span style=\"background-color:#92c5de\"> </span><span style=\"background-color:#d6604d\">p</span><span style=\"background-color:#d6604d\">r</span><span style=\"background-color:#92c5de\">e</span><span style=\"background-color:#92c5de\">s</span><span style=\"background-color:#f4a582\">s</span><span style=\"background-color:#d1e5f0\"> </span><span style=\"background-color:#d6604d\">c</span><span style=\"background-color:#d6604d\">o</span><span style=\"background-color:#92c5de\">n</span><span style=\"background-color:#92c5de\">v</span><span style=\"background-color:#d6604d\">e</span><span style=\"background-color:#92c5de\">r</span><span style=\"background-color:#92c5de\">s</span><span style=\"background-color:#d1e5f0\">a</span><span style=\"background-color:#92c5de\">t</span><span style=\"background-color:#d6604d\">i</span><span style=\"background-color:#92c5de\">o</span><span style=\"background-color:#92c5de\">n</span><span style=\"background-color:#92c5de\"> </span><span style=\"background-color:#d6604d\">i</span><span style=\"background-color:#d1e5f0\">s</span><span style=\"background-color:#f4a582\"> </span><span style=\"background-color:#d6604d\">n</span><span style=\"background-color:#92c5de\">o</span><span style=\"background-color:#92c5de\">w</span><span style=\"background-color:#92c5de\"> </span><span style=\"background-color:#d6604d\">i</span><span style=\"background-color:#d1e5f0\">f</span><span style=\"background-color:#f7f7f7\"> </span><span style=\"background-color:#d6604d\">w</span><span style=\"background-color:#d6604d\">h</span><span style=\"background-color:#92c5de\">a</span><span style=\"background-color:#92c5de\">t</span><span style=\"background-color:#fddbc7\"> </span><span style=\"background-color:#d6604d\">i</span><span style=\"background-color:#d1e5f0\">s</span><span style=\"background-color:#f7f7f7\"> </span><span style=\"background-color:#d6604d\">n</span><span style=\"background-color:#92c5de\">u</span><span style=\"background-color:#92c5de\">c</span><span style=\"background-color:#f4a582\">e</span><span style=\"background-color:#92c5de\"> </span><span style=\"background-color:#d6604d\">a</span><span style=\"background-color:#d1e5f0\">n</span><span style=\"background-color:#92c5de\">d</span><span style=\"background-color:#92c5de\"> </span><span style=\"background-color:#d6604d\">t</span><span style=\"background-color:#d6604d\">h</span><span style=\"background-color:#d1e5f0\">e</span><span style=\"background-color:#92c5de\"> </span><span style=\"background-color:#d6604d\">f</span><span style=\"background-color:#fddbc7\">a</span><span style=\"background-color:#92c5de\">c</span><span style=\"background-color:#fddbc7\">t</span><span style=\"background-color:#d1e5f0\"> </span><span style=\"background-color:#d6604d\">t</span><span style=\"background-color:#d6604d\">h</span><span style=\"background-color:#f7f7f7\">a</span><span style=\"background-color:#92c5de\">t</span><span style=\"background-color:#92c5de\"> </span><span style=\"background-color:#d6604d\">I</span><span style=\"background-color:#92c5de\"> </span><span style=\"background-color:#d6604d\">w</span><span style=\"background-color:#d6604d\">i</span><span style=\"background-color:#92c5de\">l</span><span style=\"background-color:#92c5de\">l</span><span style=\"background-color:#92c5de\"> </span><span style=\"background-color:#d6604d\">s</span><span style=\"background-color:#d6604d\">o</span><span style=\"background-color:#92c5de\"> </span><span style=\"background-color:#f4a582\">t</span><span style=\"background-color:#d6604d\">h</span><span style=\"background-color:#d1e5f0\">e</span><span style=\"background-color:#92c5de\">y</span><span style=\"background-color:#92c5de\"> </span><span style=\"background-color:#d6604d\">w</span><span style=\"background-color:#d6604d\">i</span><span style=\"background-color:#92c5de\">l</span><span style=\"background-color:#92c5de\">l</span><span style=\"background-color:#92c5de\"> </span><span style=\"background-color:#d6604d\">s</span><span style=\"background-color:#d6604d\">t</span><span style=\"background-color:#92c5de\">o</span><span style=\"background-color:#92c5de\">p</span><span style=\"background-color:#92c5de\"> </span><span style=\"background-color:#d6604d\">i</span><span style=\"background-color:#f7f7f7\">n</span><span style=\"background-color:#92c5de\">c</span><span style=\"background-color:#f4a582\">r</span><span style=\"background-color:#92c5de\">e</span><span style=\"background-color:#92c5de\">d</span><span style=\"background-color:#92c5de\">i</span><span style=\"background-color:#92c5de\">b</span><span style=\"background-color:#92c5de\">l</span><span style=\"background-color:#92c5de\">e</span><span style=\"background-color:#92c5de\">.</span><span style=\"background-color:#fddbc7\"> </span><span style=\"background-color:#d6604d\">W</span><span style=\"background-color:#d6604d\">h</span><span style=\"background-color:#92c5de\">e</span><span style=\"background-color:#92c5de\">n</span><span style=\"background-color:#92c5de\">e</span><span style=\"background-color:#92c5de\">r</span><span style=\"background-color:#92c5de\">e</span><span style=\"background-color:#92c5de\">d</span><span style=\"background-color:#92c5de\"> </span><span style=\"background-color:#d6604d\">i</span><span style=\"background-color:#f7f7f7\">t</span><span style=\"background-color:#fddbc7\"> </span><span style=\"background-color:#d6604d\">w</span><span style=\"background-color:#d6604d\">a</span><span style=\"background-color:#92c5de\">s</span><span style=\"background-color:#92c5de\"> </span><span style=\"background-color:#d6604d\">g</span><span style=\"background-color:#d6604d\">r</span><span style=\"background-color:#d1e5f0\">e</span><span style=\"background-color:#92c5de\">a</span><span style=\"background-color:#d1e5f0\">t</span><span style=\"background-color:#f4a582\"> </span><span style=\"background-color:#d6604d\">a</span><span style=\"background-color:#d1e5f0\">n</span><span style=\"background-color:#92c5de\">d</span><span style=\"background-color:#92c5de\"> </span><span style=\"background-color:#d6604d\">w</span><span style=\"background-color:#d6604d\">o</span><span style=\"background-color:#92c5de\">r</span><span style=\"background-color:#92c5de\">s</span><span style=\"background-color:#f4a582\">e</span><span style=\"background-color:#92c5de\">.</span><span style=\"background-color:#d1e5f0\"> </span><span style=\"background-color:#d6604d\">W</span><span style=\"background-color:#d6604d\">h</span><span style=\"background-color:#92c5de\">a</span><span style=\"background-color:#92c5de\">t</span><span style=\"background-color:#fddbc7\"> </span><span style=\"background-color:#d6604d\">w</span><span style=\"background-color:#d6604d\">i</span><span style=\"background-color:#92c5de\">l</span><span style=\"background-color:#92c5de\">l</span><span style=\"background-color:#92c5de\"> </span><span style=\"background-color:#d6604d\">t</span><span style=\"background-color:#d6604d\">h</span><span style=\"background-color:#d1e5f0\">e</span><span style=\"background-color:#92c5de\">y</span><span style=\"background-color:#92c5de\"> </span><span style=\"background-color:#d6604d\">s</span><span style=\"background-color:#d6604d\">u</span><span style=\"background-color:#92c5de\">r</span><span style=\"background-color:#92c5de\">p</span><span style=\"background-color:#d1e5f0\">r</span><span style=\"background-color:#f7f7f7\">y</span><span style=\"background-color:#92c5de\">s</span><span style=\"background-color:#fddbc7\">e</span><span style=\"background-color:#92c5de\">d</span><span style=\"background-color:#d1e5f0\"> </span><span style=\"background-color:#d6604d\">i</span><span style=\"background-color:#f7f7f7\">t</span><span style=\"background-color:#f4a582\"> </span><span style=\"background-color:#d6604d\">i</span><span style=\"background-color:#d1e5f0\">n</span><span style=\"background-color:#92c5de\">c</span><span style=\"background-color:#d6604d\">r</span><span style=\"background-color:#92c5de\">e</span><span style=\"background-color:#92c5de\">a</span><span style=\"background-color:#d1e5f0\">s</span><span style=\"background-color:#d6604d\">e</span><span style=\"background-color:#92c5de\">s</span><span style=\"background-color:#d1e5f0\">?</span><span style=\"background-color:#d1e5f0\">.</span><span style=\"background-color:#f4a582\">.</span><span style=\"background-color:#fddbc7\">.</span><span style=\"background-color:#d1e5f0\"><br></span><span style=\"background-color:#d6604d\">I</span><span style=\"background-color:#92c5de\">n</span><span style=\"background-color:#92c5de\"> </span><span style=\"background-color:#d6604d\">a</span><span style=\"background-color:#92c5de\">l</span><span style=\"background-color:#92c5de\">l</span><span style=\"background-color:#92c5de\"> </span><span style=\"background-color:#d6604d\">o</span><span style=\"background-color:#d1e5f0\">f</span><span style=\"background-color:#92c5de\"> </span><span style=\"background-color:#d6604d\">m</span><span style=\"background-color:#d6604d\">y</span><span style=\"background-color:#92c5de\"> </span><span style=\"background-color:#d6604d\">s</span><span style=\"background-color:#d6604d\">p</span><span style=\"background-color:#92c5de\">e</span><span style=\"background-color:#92c5de\">e</span><span style=\"background-color:#92c5de\">c</span><span style=\"background-color:#f7f7f7\">h</span><span style=\"background-color:#92c5de\"> </span><span style=\"background-color:#d6604d\">i</span><span style=\"background-color:#d1e5f0\">n</span><span style=\"background-color:#92c5de\"> </span><span style=\"background-color:#d6604d\">S</span><span style=\"background-color:#d6604d\">c</span><span style=\"background-color:#d1e5f0\">o</span><span style=\"background-color:#92c5de\">t</span><span style=\"background-color:#92c5de\">l</span><span style=\"background-color:#92c5de\">a</span><span style=\"background-color:#92c5de\">n</span><span style=\"background-color:#92c5de\">d</span><span style=\"background-color:#92c5de\">'</span><span style=\"background-color:#d1e5f0\">s</span><span style=\"background-color:#92c5de\"> </span><span style=\"background-color:#d6604d\">t</span><span style=\"background-color:#d6604d\">o</span><span style=\"background-color:#92c5de\">d</span><span style=\"background-color:#92c5de\">a</span><span style=\"background-color:#d1e5f0\">y</span><span style=\"background-color:#d1e5f0\">'</span><span style=\"background-color:#d1e5f0\">s</span><span style=\"background-color:#d1e5f0\"> </span><span style=\"background-color:#d6604d\">s</span><span style=\"background-color:#d6604d\">t</span><span style=\"background-color:#d1e5f0\">a</span><span style=\"background-color:#92c5de\">l</span><span style=\"background-color:#92c5de\">l</span><span style=\"background-color:#92c5de\">.</span><span style=\"background-color:#d1e5f0\"> </span><span style=\"background-color:#d6604d\">W</span><span style=\"background-color:#d6604d\">i</span><span style=\"background-color:#92c5de\">l</span><span style=\"background-color:#92c5de\">l</span><span style=\"background-color:#92c5de\"> </span><span style=\"background-color:#d6604d\">b</span><span style=\"background-color:#92c5de\">e</span><span style=\"background-color:#92c5de\"> </span><span style=\"background-color:#d6604d\">t</span><span style=\"background-color:#d6604d\">o</span><span style=\"background-color:#92c5de\"> </span><span style=\"background-color:#fddbc7\">b</span><span style=\"background-color:#92c5de\">e</span><span style=\"background-color:#92c5de\"> </span><span style=\"background-color:#d6604d\">f</span><span style=\"background-color:#d6604d\">a</span><span style=\"background-color:#92c5de\">n</span><span style=\"background-color:#92c5de\">t</span><span style=\"background-color:#fddbc7\">a</span><span style=\"background-color:#92c5de\">s</span><span style=\"background-color:#f4a582\">t</span><span style=\"background-color:#d1e5f0\">i</span></span>"
      ],
      "text/plain": [
       "<IPython.core.display.HTML object>"
      ]
     },
     "execution_count": 49,
     "metadata": {},
     "output_type": "execute_result"
    }
   ],
   "source": [
    "# Beggining of a word\n",
    "HTML(make_colored_text(samp, states, cell_id=22, layer_id=1))"
   ]
  },
  {
   "cell_type": "markdown",
   "metadata": {},
   "source": [
    "Use the code below to generate html file that contains colorings of the text above from all 512 cells."
   ]
  },
  {
   "cell_type": "code",
   "execution_count": 66,
   "metadata": {},
   "outputs": [
    {
     "name": "stdout",
     "output_type": "stream",
     "text": [
      "Number of layers: 2\n",
      "Number of memory cells (LSTM size): 512\n",
      "Saving assets/html/CA_trump_tb_20_i3880_l512_1.327_0.html...\n",
      "Saving assets/html/CA_trump_tb_20_i3880_l512_1.327_1.html...\n"
     ]
    }
   ],
   "source": [
    "save_lstm_vis(\"assets/html/CA_trump_tb_20_i3880_l512_1.327\", samp, states)"
   ]
  },
  {
   "cell_type": "markdown",
   "metadata": {},
   "source": [
    "## Guessing game\n",
    "\n",
    "In this section you will play a short game of guessing whether the tweet you are shown is real or generated."
   ]
  },
  {
   "cell_type": "code",
   "execution_count": 69,
   "metadata": {
    "collapsed": true
   },
   "outputs": [],
   "source": [
    "with open('assets/data/trump_tweets_ascii.txt') as f:\n",
    "    tweets_real = f.readlines()\n",
    "\n",
    "with open('assets/data/trump_tweets_fake.txt') as f:\n",
    "    tweets_fake = f.readlines()"
   ]
  },
  {
   "cell_type": "code",
   "execution_count": null,
   "metadata": {},
   "outputs": [
    {
     "name": "stdout",
     "output_type": "stream",
     "text": [
      "\n",
      "Tweet 1/10: @marklyvidell  If you're seeing they want to speech and many people and missed them another business and wasted. See anywoed.\n",
      "\n",
      "true (1) or fake (0): 1\n",
      "WRONG!\n",
      "\n",
      "Tweet 2/10: Hillary Clinton should not be given national security briefings in that she is a lose cannon with extraordinarily bad judgement &amp; insticts.\n",
      "\n"
     ]
    }
   ],
   "source": [
    "score = 0\n",
    "N = 10\n",
    "for i in range(N):\n",
    "    tweet_label = True\n",
    "    if random.random() <= 0.5:\n",
    "        tweet_text = random.choice(tweets_real)\n",
    "    else:\n",
    "        tweet_text = random.choice(tweets_fake)\n",
    "        tweet_label = False\n",
    "    print(\"\\nTweet \" + str(i+1) + \"/\" + str(N) + \": \" + tweet_text)\n",
    "    answer = bool(int(input(\"true (1) or fake (0): \")))\n",
    "    if answer^tweet_label:\n",
    "        print(\"WRONG!\")\n",
    "    else:\n",
    "        print(\"RIGHT!\")\n",
    "        score = score + 1\n",
    "\n",
    "print(\"\\nYour score: \" + str(score) + \"/\" + str(N))"
   ]
  }
 ],
 "metadata": {
  "anaconda-cloud": {},
  "kernelspec": {
   "display_name": "Python 3",
   "language": "python",
   "name": "python3"
  },
  "language_info": {
   "codemirror_mode": {
    "name": "ipython",
    "version": 3
   },
   "file_extension": ".py",
   "mimetype": "text/x-python",
   "name": "python",
   "nbconvert_exporter": "python",
   "pygments_lexer": "ipython3",
   "version": "3.6.1"
  }
 },
 "nbformat": 4,
 "nbformat_minor": 2
}
