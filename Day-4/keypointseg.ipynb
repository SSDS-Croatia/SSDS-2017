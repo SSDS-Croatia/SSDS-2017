{
 "cells": [
  {
   "cell_type": "markdown",
   "metadata": {},
   "source": [
    "# Face detection by finding facial keypoints\n",
    "\n",
    "In this tutorial, we will learn a network that segments approximate location of three facial landmarks on human faces: the eyes and mouth.\n",
    "This is illustarted here:\n",
    "\n",
    "input image | target\n",
    "-|-\n",
    "![image](img1.jpg) | ![image](lbl1.jpg)\n",
    "![image](img2.jpg) | ![image](lbl2.jpg)\n",
    "![image](img3.jpg) | ![image](lbl3.jpg)\n",
    "\n",
    "The output tensor has the shape $H\\times W\\times 3$ for an input image of $H\\times W$ pixels.\n",
    "Each channel is used as a heat map for a different facial landmark.\n",
    "If a facial landmark is on a coordinate $(x^*, y^*)$, then the heat map has the following form:\n",
    "$$\n",
    "    M(x, y)=\n",
    "    \\exp\\left(-\\frac{(x^* - x)^2 + (y^* - y)^2}{2\\cdot s\\cdot\\sigma}\\right)\n",
    "$$\n",
    "where $s$ is the scale of the face and $\\sigma$ is a constant.\n",
    "\n",
    "The L2 [hinge loss](https://en.wikipedia.org/wiki/Hinge_loss) is defined as follows for the value $\\delta\\in\\mathbb{R}$:\n",
    "$$\n",
    "    \\text{loss}(\\delta)=\n",
    "    \\begin{cases}\n",
    "        \\frac{1}{2}\\delta^2 & \\text{if $|\\delta|\\geq\\epsilon$}\\\\\n",
    "           0 & \\text{else}\n",
    "    \\end{cases}\n",
    "$$\n",
    "where $\\epsilon$ is a small positive number (e.g., $0.1$).\n",
    "This loss is applied on a per-element level to tensor\n",
    "$$\n",
    "    \\Delta=\n",
    "    \\mathbf{X} - \\mathbf{Y},\n",
    "$$\n",
    "where $\\mathbf{X}$ is the output of the network and $\\mathbf{Y}$ is the ground truth.\n",
    "Our learning criterion is obtained by averaging all the elements of $\\Delta$."
   ]
  }
 ],
 "metadata": {
  "kernelspec": {
   "display_name": "Python 3",
   "language": "python",
   "name": "python3"
  },
  "language_info": {
   "codemirror_mode": {
    "name": "ipython",
    "version": 3
   },
   "file_extension": ".py",
   "mimetype": "text/x-python",
   "name": "python",
   "nbconvert_exporter": "python",
   "pygments_lexer": "ipython3",
   "version": "3.6.1"
  }
 },
 "nbformat": 4,
 "nbformat_minor": 2
}
