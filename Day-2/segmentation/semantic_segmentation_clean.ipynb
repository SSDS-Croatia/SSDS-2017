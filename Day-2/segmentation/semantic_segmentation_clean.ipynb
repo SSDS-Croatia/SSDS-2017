{
 "cells": [
  {
   "cell_type": "markdown",
   "metadata": {},
   "source": [
    "# Semantic Segmentation\n",
    "\n",
    "In this exercise we will train an end-to-end convolutional neural network for semantic segmentation.\n",
    "The goal of semantic segmentation is to classify the image on the pixel level. For each pixel\n",
    "we want to determine the class of the object to which it belongs. This is different from image classification\n",
    "which classifies an image as a whole and doesn't tell us the location of the objects. This is why semantic segmentation goes into the category of [structured prediction](https://en.wikipedia.org/wiki/Structured_prediction) problems. It answers on both the 'what' and 'where' questions while classifcation tells us only 'what'. By classifying each pixel we are infering the structure of the whole scene. Typical examples of input image and target labels for this problem are shown below.\n",
    "\n",
    "Input image | Target image\n",
    "-|-\n",
    "![raw](assets/frankfurt_000000_014480.png) | ![raw](assets/frankfurt_000000_014480_labels.png)\n",
    "![raw](assets/frankfurt_000001_005898.png) | ![raw](assets/frankfurt_000001_005898_labels.png)"
   ]
  },
  {
   "cell_type": "markdown",
   "metadata": {},
   "source": [
    "## 1. Cityscapes dataset\n",
    "\n",
    "[Cityscapes dataset](https://www.cityscapes-dataset.com/dataset-overview/) contains a diverse set of stereo video sequences recorded in street scenes from 50 different cities, with high quality pixel-level annotations. Dataset contains 2975 training and 500 validation images of size 2048x1024. The test set of 1000 images is evaluated on the server and benchmark is available [here](https://www.cityscapes-dataset.com/benchmarks/#scene-labeling-task). Here we will use downsampled images of size 384x160. The original dataset has 19 classes but we lowered that to 7 by uniting similar classes into broader categories. This makes sense due to low visibility of very small objects in downsampled images. We also have ignore class which we need to ignore during training because those pixels don't belong to any class.\n",
    "\n",
    "* Download the prepared dataset [here](https://drive.google.com/uc?id=0B6NQEJnkignadEpsUUVxclBuRkU&export=download) and extract it to the current directory. \n",
    "\n",
    "ID | Class | Color\n",
    "-|-|-\n",
    "0 | road | purple\n",
    "1 | building | grey\n",
    "2 | infrastructure | yellow\n",
    "3 | nature | green\n",
    "4 | sky | light blue\n",
    "5 | person | red\n",
    "6 | vehicle | dark blue\n",
    "7 | ignore | black"
   ]
  },
  {
   "cell_type": "markdown",
   "metadata": {},
   "source": [
    "## 2. Building the graph\n",
    "\n",
    "Let's begin by importing all the modules and setting the fixed random seed."
   ]
  },
  {
   "cell_type": "code",
   "execution_count": 2,
   "metadata": {},
   "outputs": [],
   "source": [
    "%matplotlib inline\n",
    "\n",
    "import time\n",
    "from os.path import join\n",
    "\n",
    "import tensorflow as tf\n",
    "import numpy as np\n",
    "import matplotlib.pyplot as plt\n",
    "from sklearn.metrics import confusion_matrix\n",
    "\n",
    "import utils\n",
    "from data import Dataset\n",
    "\n",
    "tf.set_random_seed(31415)\n",
    "tf.logging.set_verbosity(tf.logging.ERROR)\n",
    "\n",
    "plt.rcParams[\"figure.figsize\"] = (15, 5)"
   ]
  },
  {
   "cell_type": "markdown",
   "metadata": {},
   "source": [
    "### Dataset\n",
    "\n",
    "The `Dataset` class implements an iterator which returns the next batch data in each iteration. Data is already normalized to have zero mean and unit variance. The iteration is terminated when we reach the end of the dataset (one epoch)."
   ]
  },
  {
   "cell_type": "code",
   "execution_count": null,
   "metadata": {},
   "outputs": [],
   "source": [
    "batch_size = 10\n",
    "num_classes = Dataset.num_classes\n",
    "# create the Dataset for training and validation\n",
    "train_data = Dataset('train', batch_size)\n",
    "val_data = Dataset('val', batch_size, shuffle=False)\n",
    "\n",
    "print('Train shape:', train_data.x.shape)\n",
    "print('Validation shape:', val_data.x.shape)\n",
    "\n",
    "#print('mean = ', train_data.x.mean((0,1,2)))\n",
    "#print('std = ', train_data.x.std((0,1,2)))"
   ]
  },
  {
   "cell_type": "markdown",
   "metadata": {},
   "source": [
    "### Inputs\n",
    "\n",
    "First, we will create input placeholders for Tensorflow computational graph of the model. For a supervised learning model, we need to declare placeholders which will hold input images (x) and target labels (y) of the mini-batches as we feed them to the network."
   ]
  },
  {
   "cell_type": "code",
   "execution_count": null,
   "metadata": {
    "collapsed": true
   },
   "outputs": [],
   "source": [
    "# store the input image dimensions\n",
    "height = train_data.height\n",
    "width = train_data.width\n",
    "channels = train_data.channels\n",
    "\n",
    "# create placeholders for inputs\n",
    "def build_inputs():\n",
    "    ..."
   ]
  },
  {
   "cell_type": "markdown",
   "metadata": {},
   "source": [
    "### Model\n",
    "\n",
    "Now we can define the computational graph. Here we will heavily use [`tf.layers`](https://www.tensorflow.org/api_docs/python/tf/layers) high level API which handles `tf.Variable` creation for us. The main difference here compared to the classification model is that the network is going to be fully convolutional without any fully connected layers. Brief sketch of the model we are going to define is given below.\n",
    "\n",
    "`conv3x3(32) -> 4 x (pool2x2 -> conv3x3(64) -> conv3x3(64)) -> conv1x1(7) -> resize_bilinear -> softmax() -> Loss`"
   ]
  },
  {
   "cell_type": "code",
   "execution_count": null,
   "metadata": {
    "collapsed": true
   },
   "outputs": [],
   "source": [
    "# helper function which applies conv2d + ReLU with filter size k\n",
    "def conv(x, num_maps, k=3):\n",
    "    ...\n",
    "\n",
    "# helper function for 2x2 max pooling with stride=2\n",
    "def pool(x):\n",
    "    ...\n",
    "    \n",
    "# this functions takes the input placeholder and the number of classes, builds the model and returns the logits\n",
    "def build_model(x, num_classes):\n",
    "    ..."
   ]
  },
  {
   "cell_type": "markdown",
   "metadata": {},
   "source": [
    "### Loss\n",
    "\n",
    "Now we are going to implement the `build_loss` function which will create nodes for loss computation and return the final `tf.Tensor` representing the scalar loss value.\n",
    "Because segmentation is just classification on a pixel level we can again use the cross entropy loss function \\\\(L\\\\) between the target one-hot distribution \\\\( \\mathbf{y} \\\\) and the predicted distribution from a softmax layer \\\\( \\mathbf{s} \\\\). But compared to the image classification here we need to define the loss at each pixel. Below are the equations describing the loss for just one example (one pixel in our case).\n",
    "$$\n",
    "L = - \\sum_{i=1}^{C} y_i log(s_j(\\mathbf{x})) \\\\\n",
    "s_i(\\mathbf{x}) = \\frac{e^{x_i}}{\\sum_{j=1}^{C} e^{x_j}} \\\\\n",
    "$$"
   ]
  },
  {
   "cell_type": "code",
   "execution_count": 4,
   "metadata": {
    "collapsed": true
   },
   "outputs": [],
   "source": [
    "# this funcions takes logits and targets (y) and builds the loss subgraph\n",
    "def build_loss(logits, y):\n",
    "    ..."
   ]
  },
  {
   "cell_type": "markdown",
   "metadata": {},
   "source": [
    "### Putting it all together\n",
    "\n",
    "Now we can use all the building blocks from above and construct the whole `forward pass` Tensorflow graph in just a couple of lines."
   ]
  },
  {
   "cell_type": "code",
   "execution_count": null,
   "metadata": {},
   "outputs": [],
   "source": [
    "# create inputs\n",
    "\n",
    "# create model\n",
    "\n",
    "# create loss\n",
    "\n",
    "# we will need argmax predictions for IoU\n"
   ]
  },
  {
   "cell_type": "markdown",
   "metadata": {},
   "source": [
    "## 3. Training the model"
   ]
  },
  {
   "cell_type": "markdown",
   "metadata": {},
   "source": [
    "### Training\n",
    "During training we are going to compute the `forward pass` first to get the value of the loss function.\n",
    "After that we are doing the `backward pass` and computing all gradients the loss wrt parameters at each layer with backpropagation."
   ]
  },
  {
   "cell_type": "code",
   "execution_count": null,
   "metadata": {
    "collapsed": true
   },
   "outputs": [],
   "source": [
    "# this functions trains the model\n",
    "def train(sess, x, y, y_pred, loss, checkpoint_dir):\n",
    "    num_epochs = 30\n",
    "    batch_size = 10\n",
    "    log_dir = 'local/logs'\n",
    "    utils.clear_dir(log_dir)\n",
    "    utils.clear_dir(checkpoint_dir)\n",
    "\n",
    "    learning_rate = 1e-3\n",
    "    decay_power = 1.0\n",
    "\n",
    "    global_step = tf.Variable(0, trainable=False)\n",
    "    decay_steps = num_epochs * train_data.num_batches\n",
    "    # usually SGD learning rate is decreased over time which enables us\n",
    "    # to better fine-tune the parameters when close to solution\n",
    "    lr = tf.train.polynomial_decay(learning_rate, global_step, decay_steps,\n",
    "                                   end_learning_rate=0, power=decay_power)\n",
    "    \n",
    "    ..."
   ]
  },
  {
   "cell_type": "code",
   "execution_count": null,
   "metadata": {},
   "outputs": [],
   "source": [
    "sess = tf.Session()\n",
    "train(sess, x, y, y_pred, loss, 'local/checkpoint1')"
   ]
  },
  {
   "cell_type": "markdown",
   "metadata": {},
   "source": [
    "### Validation\n",
    "\n",
    "We usually evaluate the semantic segmentation results with [Intersection over Union](https://en.wikipedia.org/wiki/Jaccard_index) measure (IoU aka Jaccard index). Note that accurracy we used on MNIST image classification problem is a bad measure in this case because semantic segmentation datasets are often heavily imbalanced. First we compute IoU for each class in one-vs-all fashion (shown below) and then take the mean IoU (mIoU) over all classes. By taking the mean we are treating all classes as equally important.\n",
    "In order to compute the IoU we are going to do the `forward pass` on validation data collect the [confusion matrix](https://en.wikipedia.org/wiki/Confusion_matrix) first.\n",
    "$$\n",
    "IOU = \\frac{TP}{TP + FN + FP}\n",
    "$$\n",
    "\n",
    "![iou](assets/iou.png)"
   ]
  },
  {
   "cell_type": "code",
   "execution_count": null,
   "metadata": {
    "collapsed": true
   },
   "outputs": [],
   "source": [
    "def validate(sess, data, x, y, y_pred, loss, draw_steps=0):\n",
    "    print('\\nValidation phase:')\n",
    "    ...\n",
    "    return utils.print_stats(conf_mat, 'Validation', Dataset.class_info)"
   ]
  },
  {
   "cell_type": "code",
   "execution_count": null,
   "metadata": {
    "collapsed": true
   },
   "outputs": [],
   "source": [
    "sess = tf.Session()\n",
    "train(sess, x, y, y_pred, loss, 'local/checkpoint1')"
   ]
  },
  {
   "cell_type": "markdown",
   "metadata": {},
   "source": [
    "### Tensorboard\n",
    "`$ tensorboard --logdir=local/logs/`"
   ]
  },
  {
   "cell_type": "markdown",
   "metadata": {},
   "source": [
    "## 4. Restoring the pretrained network"
   ]
  },
  {
   "cell_type": "code",
   "execution_count": null,
   "metadata": {},
   "outputs": [],
   "source": [
    "# restore the checkpoint\n",
    "..."
   ]
  },
  {
   "cell_type": "markdown",
   "metadata": {},
   "source": [
    "## Day 4"
   ]
  },
  {
   "cell_type": "markdown",
   "metadata": {
    "collapsed": true
   },
   "source": [
    "## 5. Improved model with skip connections\n",
    "\n",
    "In this part we are going to improve on the previous model by adding skip connections. The role of the skip connections will be to restore the information lost due to downsampling."
   ]
  },
  {
   "cell_type": "code",
   "execution_count": null,
   "metadata": {
    "collapsed": true
   },
   "outputs": [],
   "source": [
    "# upsampling layer\n",
    "def upsample(x, skip, num_maps):\n",
    "\n",
    "# this functions takes the input placeholder and the number of classes, builds the model and returns the logits\n",
    "def build_model(x, num_classes):"
   ]
  },
  {
   "cell_type": "code",
   "execution_count": null,
   "metadata": {},
   "outputs": [],
   "source": [
    "sess.close()\n",
    "tf.reset_default_graph()\n",
    "\n",
    "# create inputs\n",
    "\n",
    "# create model\n",
    "\n",
    "# create loss\n",
    "\n",
    "# we are going to need argmax predictions for IoU\n"
   ]
  },
  {
   "cell_type": "code",
   "execution_count": null,
   "metadata": {},
   "outputs": [],
   "source": [
    "sess = tf.Session()\n",
    "train(sess, x, y, y_pred, loss, 'local/checkpoint2')"
   ]
  },
  {
   "cell_type": "code",
   "execution_count": null,
   "metadata": {
    "collapsed": true
   },
   "outputs": [],
   "source": [
    "# restore the checkpoint\n",
    "..."
   ]
  },
  {
   "cell_type": "markdown",
   "metadata": {
    "collapsed": true
   },
   "source": [
    "## 5. Homework\n",
    "\n",
    "If you wish you can play with the model. Try to improve on the current IoU."
   ]
  },
  {
   "cell_type": "code",
   "execution_count": null,
   "metadata": {
    "collapsed": true
   },
   "outputs": [],
   "source": []
  }
 ],
 "metadata": {
  "kernelspec": {
   "display_name": "Python 3",
   "language": "python",
   "name": "python3"
  },
  "language_info": {
   "codemirror_mode": {
    "name": "ipython",
    "version": 3
   },
   "file_extension": ".py",
   "mimetype": "text/x-python",
   "name": "python",
   "nbconvert_exporter": "python",
   "pygments_lexer": "ipython3",
   "version": "3.6.2"
  }
 },
 "nbformat": 4,
 "nbformat_minor": 2
}
